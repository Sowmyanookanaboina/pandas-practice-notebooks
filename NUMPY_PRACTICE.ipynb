{
 "cells": [
  {
   "cell_type": "code",
   "execution_count": 17,
   "id": "0056e043-3042-4a66-95bf-b4a05c285cf3",
   "metadata": {},
   "outputs": [],
   "source": [
    "import numpy as np"
   ]
  },
  {
   "cell_type": "code",
   "execution_count": 18,
   "id": "842f08f8-e850-4dd9-bf9e-e359ab900221",
   "metadata": {},
   "outputs": [
    {
     "data": {
      "text/plain": [
       "array([10, 11, 12, 13, 14, 15, 16, 17, 18, 19, 20, 21, 22, 23, 24, 25, 26,\n",
       "       27, 28, 29, 30, 31, 32, 33, 34, 35, 36, 37, 38, 39, 40, 41, 42, 43,\n",
       "       44, 45, 46, 47, 48, 49, 50])"
      ]
     },
     "execution_count": 18,
     "metadata": {},
     "output_type": "execute_result"
    }
   ],
   "source": [
    "#create a 1D numpy array\n",
    "a = np.arange(10,51)\n",
    "a"
   ]
  },
  {
   "cell_type": "code",
   "execution_count": 19,
   "id": "373583e8-835a-4062-9399-c02402e9a23f",
   "metadata": {},
   "outputs": [
    {
     "data": {
      "text/plain": [
       "array([[1, 2, 3],\n",
       "       [4, 5, 6],\n",
       "       [7, 8, 9]])"
      ]
     },
     "execution_count": 19,
     "metadata": {},
     "output_type": "execute_result"
    }
   ],
   "source": [
    "#create a 3X3 matrix with values ranging from 1 to 9\n",
    "np.arange(1,10).reshape(3,3)"
   ]
  },
  {
   "cell_type": "code",
   "execution_count": 20,
   "id": "b8ab810e-1fcd-4324-8d10-ceaca56f9a13",
   "metadata": {},
   "outputs": [],
   "source": [
    "#a array with 10 zeros and replace 5th element with 99\n",
    "a=np.zeros(10)"
   ]
  },
  {
   "cell_type": "code",
   "execution_count": 21,
   "id": "3ef9aac5-8ebb-485b-8222-b71884e33caf",
   "metadata": {},
   "outputs": [],
   "source": [
    "a[4]=99"
   ]
  },
  {
   "cell_type": "code",
   "execution_count": 22,
   "id": "43a67594-e1b1-41bf-afcd-2dc9a6c04d22",
   "metadata": {},
   "outputs": [
    {
     "data": {
      "text/plain": [
       "array([ 0.,  0.,  0.,  0., 99.,  0.,  0.,  0.,  0.,  0.])"
      ]
     },
     "execution_count": 22,
     "metadata": {},
     "output_type": "execute_result"
    }
   ],
   "source": [
    "\n",
    "a"
   ]
  },
  {
   "cell_type": "code",
   "execution_count": 23,
   "id": "2ff57887-dd63-47d0-9c58-b83ef9d2291e",
   "metadata": {},
   "outputs": [
    {
     "data": {
      "text/plain": [
       "array([6, 5, 4, 3, 2, 1])"
      ]
     },
     "execution_count": 23,
     "metadata": {},
     "output_type": "execute_result"
    }
   ],
   "source": [
    "#reverse numpy array without slicing\n",
    "b=np.array([1,2,3,4,5,6])\n",
    "np.flip(b)"
   ]
  },
  {
   "cell_type": "code",
   "execution_count": 24,
   "id": "bb646814-c857-456e-b61f-a15171a9978a",
   "metadata": {},
   "outputs": [
    {
     "data": {
      "text/plain": [
       "array([False,  True, False,  True, False,  True])"
      ]
     },
     "execution_count": 24,
     "metadata": {},
     "output_type": "execute_result"
    }
   ],
   "source": [
    "#check for even numbers and return a boolean array\n",
    "b%2==0"
   ]
  },
  {
   "cell_type": "code",
   "execution_count": 109,
   "id": "cff48302-5e20-4756-9a0e-24729b63dbe2",
   "metadata": {},
   "outputs": [
    {
     "data": {
      "text/plain": [
       "array([[1., 0., 0., 0.],\n",
       "       [0., 1., 0., 0.],\n",
       "       [0., 0., 1., 0.],\n",
       "       [0., 0., 0., 1.]])"
      ]
     },
     "execution_count": 109,
     "metadata": {},
     "output_type": "execute_result"
    }
   ],
   "source": [
    "#4X4 identity matrix\n",
    "np.identity(4)\n",
    "np.eye(4)"
   ]
  },
  {
   "cell_type": "code",
   "execution_count": 37,
   "id": "f843961c-b6b0-4c1d-a4c8-6977fafd7fbc",
   "metadata": {},
   "outputs": [
    {
     "data": {
      "text/plain": [
       "array([[0.10710349, 0.86558084, 0.25263514, 0.93497467, 0.87916685],\n",
       "       [0.69603759, 0.49547374, 0.09304698, 0.06761306, 0.54810691],\n",
       "       [0.23584417, 0.82319438, 0.57878873, 0.90341021, 0.76187082],\n",
       "       [0.31672237, 0.70203227, 0.97509864, 0.16647398, 0.60696206],\n",
       "       [0.33853848, 0.87651684, 0.11931641, 0.90929551, 0.880195  ]])"
      ]
     },
     "execution_count": 37,
     "metadata": {},
     "output_type": "execute_result"
    }
   ],
   "source": [
    "#5X5 matrix with random values between 0 and 1\n",
    "# np.random.random((5,5))\n",
    "np.random.rand(5,5)\n",
    "# np.random.uniform(2,3,size=(5,5))"
   ]
  },
  {
   "cell_type": "code",
   "execution_count": 39,
   "id": "7522311a-3134-43c7-9fa4-1a6f019a6eb5",
   "metadata": {},
   "outputs": [
    {
     "data": {
      "text/plain": [
       "array([[2, 3, 3],\n",
       "       [2, 3, 2],\n",
       "       [3, 2, 3]])"
      ]
     },
     "execution_count": 39,
     "metadata": {},
     "output_type": "execute_result"
    }
   ],
   "source": [
    "np.random.randint(2,4,size=(3,3))"
   ]
  },
  {
   "cell_type": "code",
   "execution_count": 47,
   "id": "89cfef99-e674-43da-a26a-c207e98ee02a",
   "metadata": {},
   "outputs": [],
   "source": [
    "#Create a 1D array of 15 random integers between 1 and 100, then:\n",
    "#Find the mean,Replace all values > mean with the mean itself.\n",
    "a=np.random.randint(1,101,size=15)"
   ]
  },
  {
   "cell_type": "code",
   "execution_count": 50,
   "id": "89572f0a-4282-419c-8f0b-9cb69cb3224d",
   "metadata": {},
   "outputs": [
    {
     "data": {
      "text/plain": [
       "(15,)"
      ]
     },
     "execution_count": 50,
     "metadata": {},
     "output_type": "execute_result"
    }
   ],
   "source": [
    "a.shape"
   ]
  },
  {
   "cell_type": "code",
   "execution_count": 54,
   "id": "990795b6-391f-40b4-a4d2-7d85323aec67",
   "metadata": {},
   "outputs": [
    {
     "name": "stdout",
     "output_type": "stream",
     "text": [
      "58.266666666666666\n"
     ]
    }
   ],
   "source": [
    "#mean\n",
    "print(np.mean(a))\n"
   ]
  },
  {
   "cell_type": "code",
   "execution_count": 56,
   "id": "e9d6f5c1-f3dc-4f0e-a177-fddddbb1a69b",
   "metadata": {},
   "outputs": [
    {
     "name": "stdout",
     "output_type": "stream",
     "text": [
      "58.266666666666666\n"
     ]
    }
   ],
   "source": [
    "print(a.mean())"
   ]
  },
  {
   "cell_type": "code",
   "execution_count": 61,
   "id": "956193d6-7f93-4591-9ae9-7a2582633666",
   "metadata": {},
   "outputs": [
    {
     "data": {
      "text/plain": [
       "array([58.26666667, 19.        , 58.26666667, 31.        , 41.        ,\n",
       "       58.26666667, 58.26666667, 58.26666667, 58.26666667, 21.        ,\n",
       "       14.        , 58.26666667, 58.26666667, 44.        , 44.        ])"
      ]
     },
     "execution_count": 61,
     "metadata": {},
     "output_type": "execute_result"
    }
   ],
   "source": [
    "# Replace all values > mean with the mean itself.\n",
    "np.where(a>50,np.mean(a),a)"
   ]
  },
  {
   "cell_type": "code",
   "execution_count": 58,
   "id": "26f24336-8f03-43a5-8ed7-c151fa82b434",
   "metadata": {},
   "outputs": [
    {
     "data": {
      "text/plain": [
       "array([87, 19, 62, 31, 41, 86, 96, 56, 84, 21, 14, 92, 97, 44, 44])"
      ]
     },
     "execution_count": 58,
     "metadata": {},
     "output_type": "execute_result"
    }
   ],
   "source": [
    "a"
   ]
  },
  {
   "cell_type": "code",
   "execution_count": 63,
   "id": "01d218dd-d29a-4a63-92d6-b61e33841b9c",
   "metadata": {},
   "outputs": [
    {
     "data": {
      "text/plain": [
       "array([[ 1,  2,  3,  4,  5],\n",
       "       [ 6,  7,  8,  9, 10],\n",
       "       [11, 12, 13, 14, 15],\n",
       "       [16, 17, 18, 19, 20],\n",
       "       [21, 22, 23, 24, 25]])"
      ]
     },
     "execution_count": 63,
     "metadata": {},
     "output_type": "execute_result"
    }
   ],
   "source": [
    "# Given array arr = np.arange(1, 26).reshape(5, 5)\n",
    "b=np.arange(1,26).reshape(5,5)\n",
    "b"
   ]
  },
  {
   "cell_type": "code",
   "execution_count": 64,
   "id": "d3c09f2a-cf6b-4f84-8ce6-e46bd6e1c0cf",
   "metadata": {},
   "outputs": [
    {
     "data": {
      "text/plain": [
       "array([[12, 13],\n",
       "       [17, 18]])"
      ]
     },
     "execution_count": 64,
     "metadata": {},
     "output_type": "execute_result"
    }
   ],
   "source": [
    "# Extract the sub-matrix [[12,13],[17,18]]\n",
    "b[2:4,1:3]"
   ]
  },
  {
   "cell_type": "code",
   "execution_count": 67,
   "id": "f6a2e880-0845-44eb-a1e6-81957bbd054c",
   "metadata": {},
   "outputs": [
    {
     "data": {
      "text/plain": [
       "np.int64(115)"
      ]
     },
     "execution_count": 67,
     "metadata": {},
     "output_type": "execute_result"
    }
   ],
   "source": [
    "#Get the sum of all elements in the last row.\n",
    "b[-1].sum()"
   ]
  },
  {
   "cell_type": "code",
   "execution_count": 68,
   "id": "7f6f857d-95c7-4758-8520-3cd8f915a776",
   "metadata": {},
   "outputs": [
    {
     "data": {
      "text/plain": [
       "6"
      ]
     },
     "execution_count": 68,
     "metadata": {},
     "output_type": "execute_result"
    }
   ],
   "source": [
    "my_array = np.array([[1, 0, 3],\n",
    "                     [0, 5, 0],\n",
    "                     [7, 8, 9]])\n",
    "np.count_nonzero(my_array)"
   ]
  },
  {
   "cell_type": "code",
   "execution_count": 69,
   "id": "2db24cc3-1e21-412c-8dff-c3d570665e0f",
   "metadata": {},
   "outputs": [
    {
     "data": {
      "text/plain": [
       "array([[14,  3, 23, 10, 19, 10],\n",
       "       [21, 25, 10, 20,  5,  2],\n",
       "       [19, 32, 29, 32, 23, 21],\n",
       "       [24, 12, 21, 13, 26,  8],\n",
       "       [10, 26, 23,  4,  5, 14],\n",
       "       [19, 13, 25, 13, 24, 22]])"
      ]
     },
     "execution_count": 69,
     "metadata": {},
     "output_type": "execute_result"
    }
   ],
   "source": [
    "# Create an array of shape (6,6) with values from 0 to 35. Then:\n",
    "arr=np.random.randint(0,35,size=(6,6))\n",
    "arr"
   ]
  },
  {
   "cell_type": "code",
   "execution_count": 70,
   "id": "d443d7a3-084e-413d-814d-d650b08ce288",
   "metadata": {},
   "outputs": [
    {
     "data": {
      "text/plain": [
       "array([[25, 10, 20,  5],\n",
       "       [32, 29, 32, 23],\n",
       "       [12, 21, 13, 26],\n",
       "       [26, 23,  4,  5]])"
      ]
     },
     "execution_count": 70,
     "metadata": {},
     "output_type": "execute_result"
    }
   ],
   "source": [
    "# Slice the central 4x4 block.\n",
    "arr[1:5,1:5]"
   ]
  },
  {
   "cell_type": "code",
   "execution_count": 71,
   "id": "61296b70-b0d6-4333-b696-d6e0dbe0949c",
   "metadata": {},
   "outputs": [],
   "source": [
    "# Set the border values (edges) to -1.\n",
    "#first row,last row\n",
    "arr[0,:]=-1\n",
    "arr[-1,:]=-1\n",
    "#first col,last col\n",
    "arr[:,0]=-1\n",
    "arr[:,-1]=-1"
   ]
  },
  {
   "cell_type": "code",
   "execution_count": 72,
   "id": "5712d4af-6c92-4bce-a11e-bfc92d912e59",
   "metadata": {},
   "outputs": [
    {
     "data": {
      "text/plain": [
       "array([[-1, -1, -1, -1, -1, -1],\n",
       "       [-1, 25, 10, 20,  5, -1],\n",
       "       [-1, 32, 29, 32, 23, -1],\n",
       "       [-1, 12, 21, 13, 26, -1],\n",
       "       [-1, 26, 23,  4,  5, -1],\n",
       "       [-1, -1, -1, -1, -1, -1]])"
      ]
     },
     "execution_count": 72,
     "metadata": {},
     "output_type": "execute_result"
    }
   ],
   "source": [
    "arr"
   ]
  },
  {
   "cell_type": "code",
   "execution_count": 74,
   "id": "434bda31-cfbc-48f4-ac2f-09a6e9db973c",
   "metadata": {},
   "outputs": [
    {
     "data": {
      "text/plain": [
       "array([ 0.        ,  0.1010101 ,  0.2020202 ,  0.3030303 ,  0.4040404 ,\n",
       "        0.50505051,  0.60606061,  0.70707071,  0.80808081,  0.90909091,\n",
       "        1.01010101,  1.11111111,  1.21212121,  1.31313131,  1.41414141,\n",
       "        1.51515152,  1.61616162,  1.71717172,  1.81818182,  1.91919192,\n",
       "        2.02020202,  2.12121212,  2.22222222,  2.32323232,  2.42424242,\n",
       "        2.52525253,  2.62626263,  2.72727273,  2.82828283,  2.92929293,\n",
       "        3.03030303,  3.13131313,  3.23232323,  3.33333333,  3.43434343,\n",
       "        3.53535354,  3.63636364,  3.73737374,  3.83838384,  3.93939394,\n",
       "        4.04040404,  4.14141414,  4.24242424,  4.34343434,  4.44444444,\n",
       "        4.54545455,  4.64646465,  4.74747475,  4.84848485,  4.94949495,\n",
       "        5.05050505,  5.15151515,  5.25252525,  5.35353535,  5.45454545,\n",
       "        5.55555556,  5.65656566,  5.75757576,  5.85858586,  5.95959596,\n",
       "        6.06060606,  6.16161616,  6.26262626,  6.36363636,  6.46464646,\n",
       "        6.56565657,  6.66666667,  6.76767677,  6.86868687,  6.96969697,\n",
       "        7.07070707,  7.17171717,  7.27272727,  7.37373737,  7.47474747,\n",
       "        7.57575758,  7.67676768,  7.77777778,  7.87878788,  7.97979798,\n",
       "        8.08080808,  8.18181818,  8.28282828,  8.38383838,  8.48484848,\n",
       "        8.58585859,  8.68686869,  8.78787879,  8.88888889,  8.98989899,\n",
       "        9.09090909,  9.19191919,  9.29292929,  9.39393939,  9.49494949,\n",
       "        9.5959596 ,  9.6969697 ,  9.7979798 ,  9.8989899 , 10.        ])"
      ]
     },
     "execution_count": 74,
     "metadata": {},
     "output_type": "execute_result"
    }
   ],
   "source": [
    "# Create a 1D array of 100 values linearly spaced between 0 and 10.\n",
    "arr1=np.linspace(0,10,100)\n",
    "arr1"
   ]
  },
  {
   "cell_type": "code",
   "execution_count": 86,
   "id": "2d4fd681-9f54-45c7-9162-3ce27536c744",
   "metadata": {},
   "outputs": [],
   "source": [
    "# Reshape it to 10x10 and calculate the sum of diagonal elements.\n",
    "arr1=arr1.reshape(10,10)\n"
   ]
  },
  {
   "cell_type": "code",
   "execution_count": 91,
   "id": "e0ab0998-b021-43f4-91ac-d1c5aeceb60a",
   "metadata": {},
   "outputs": [
    {
     "data": {
      "text/plain": [
       "np.float64(50.0)"
      ]
     },
     "execution_count": 91,
     "metadata": {},
     "output_type": "execute_result"
    }
   ],
   "source": [
    "SUm=np.diagonal(arr1).sum()\n",
    "SUm"
   ]
  },
  {
   "cell_type": "code",
   "execution_count": 93,
   "id": "94b28108-807d-424a-8991-c6e87890efe0",
   "metadata": {},
   "outputs": [
    {
     "data": {
      "text/plain": [
       "np.float64(50.0)"
      ]
     },
     "execution_count": 93,
     "metadata": {},
     "output_type": "execute_result"
    }
   ],
   "source": [
    "Sum=np.trace(arr1)\n",
    "Sum"
   ]
  },
  {
   "cell_type": "code",
   "execution_count": 96,
   "id": "d79ccabd-8290-4f9e-a97b-59e672aecfda",
   "metadata": {},
   "outputs": [
    {
     "data": {
      "text/plain": [
       "array([[ 0,  0,  0,  0,  0,  0,  0,  0,  0,  0],\n",
       "       [ 0,  1,  2,  3,  4,  5,  6,  7,  8,  9],\n",
       "       [ 0,  2,  4,  6,  8, 10, 12, 14, 16, 18],\n",
       "       [ 0,  3,  6,  9, 12, 15, 18, 21, 24, 27],\n",
       "       [ 0,  4,  8, 12, 16, 20, 24, 28, 32, 36],\n",
       "       [ 0,  5, 10, 15, 20, 25, 30, 35, 40, 45],\n",
       "       [ 0,  6, 12, 18, 24, 30, 36, 42, 48, 54],\n",
       "       [ 0,  7, 14, 21, 28, 35, 42, 49, 56, 63],\n",
       "       [ 0,  8, 16, 24, 32, 40, 48, 56, 64, 72],\n",
       "       [ 0,  9, 18, 27, 36, 45, 54, 63, 72, 81]])"
      ]
     },
     "execution_count": 96,
     "metadata": {},
     "output_type": "execute_result"
    }
   ],
   "source": [
    "# Create a matrix of shape (10, 10) where the element at position (i, j) is i*j.\n",
    "arr=np.fromfunction(lambda i,j:i*j,(10,10),dtype=int)\n",
    "arr"
   ]
  },
  {
   "cell_type": "code",
   "execution_count": 112,
   "id": "8347867d-1259-43d7-b39d-407713c816d2",
   "metadata": {},
   "outputs": [
    {
     "data": {
      "text/plain": [
       "array([[ 0,  0,  0,  0,  0,  0,  0,  0,  0,  0],\n",
       "       [ 0,  1,  2,  3,  4,  5,  6,  7,  8,  9],\n",
       "       [ 0,  2,  4,  6,  8, 10, 12, 14, 16, 18],\n",
       "       [ 0,  3,  6,  9, 12, 15, 18, 21, 24, 27],\n",
       "       [ 0,  4,  8, 12, 16, 20, 24, 28, 32, 36],\n",
       "       [ 0,  5, 10, 15, 20, 25, 30, 35, 40, 45],\n",
       "       [ 0,  6, 12, 18, 24, 30, 36, 42, 48, 54],\n",
       "       [ 0,  7, 14, 21, 28, 35, 42, 49, 56, 63],\n",
       "       [ 0,  8, 16, 24, 32, 40, 48, 56, 64, 72],\n",
       "       [ 0,  9, 18, 27, 36, 45, 54, 63, 72, 81]])"
      ]
     },
     "execution_count": 112,
     "metadata": {},
     "output_type": "execute_result"
    }
   ],
   "source": [
    "i=np.arange(10).reshape(10,1)\n",
    "i\n",
    "j=np.arange(10)\n",
    "product_matrix=i*j\n",
    "product_matrix"
   ]
  },
  {
   "cell_type": "code",
   "execution_count": 99,
   "id": "79c323b3-badc-47cc-8369-21f4a3ba11f8",
   "metadata": {},
   "outputs": [
    {
     "data": {
      "text/plain": [
       "array([[1, 0, 0, 0, 0],\n",
       "       [0, 1, 0, 0, 0],\n",
       "       [0, 0, 1, 0, 0],\n",
       "       [0, 0, 0, 1, 0],\n",
       "       [0, 0, 0, 0, 1]])"
      ]
     },
     "execution_count": 99,
     "metadata": {},
     "output_type": "execute_result"
    }
   ],
   "source": [
    "#practice of fromfunction\n",
    "mat=np.fromfunction(lambda i,j:(i==j).astype(int),(5,5))\n",
    "mat"
   ]
  },
  {
   "cell_type": "code",
   "execution_count": 100,
   "id": "8343b1d9-15c3-42cb-972e-2865b95fdb48",
   "metadata": {},
   "outputs": [],
   "source": [
    "#You have a NumPy array:\n",
    "arr = np.array([np.nan, 1, 2, np.nan, 3, 4])"
   ]
  },
  {
   "cell_type": "code",
   "execution_count": 103,
   "id": "3ce12e8e-954f-4801-b164-9fb2527b27f9",
   "metadata": {},
   "outputs": [
    {
     "data": {
      "text/plain": [
       "array([1., 2., 3., 4.])"
      ]
     },
     "execution_count": 103,
     "metadata": {},
     "output_type": "execute_result"
    }
   ],
   "source": [
    "#remove all NaN values\n",
    "arr[~np.isnan(arr)]"
   ]
  },
  {
   "cell_type": "code",
   "execution_count": 105,
   "id": "4aed7248-24d9-48c9-8795-af39326918f0",
   "metadata": {},
   "outputs": [
    {
     "data": {
      "text/plain": [
       "array([2.5, 1. , 2. , 2.5, 3. , 4. ])"
      ]
     },
     "execution_count": 105,
     "metadata": {},
     "output_type": "execute_result"
    }
   ],
   "source": [
    "# Replace all NaN with the mean of the array (excluding NaN).\n",
    "np.where(np.isnan(arr),np.nanmean(arr),arr)"
   ]
  },
  {
   "cell_type": "code",
   "execution_count": 106,
   "id": "8a9022a9-0316-4514-8e83-badfe6e393ae",
   "metadata": {},
   "outputs": [
    {
     "data": {
      "text/plain": [
       "np.float64(2.5)"
      ]
     },
     "execution_count": 106,
     "metadata": {},
     "output_type": "execute_result"
    }
   ],
   "source": [
    "mean=np.nanmean(arr)\n",
    "mean"
   ]
  },
  {
   "cell_type": "code",
   "execution_count": 107,
   "id": "33b301bb-a602-4b68-9162-c97902228e64",
   "metadata": {},
   "outputs": [],
   "source": [
    "arr[np.isnan(arr)]=mean"
   ]
  },
  {
   "cell_type": "code",
   "execution_count": 108,
   "id": "5bd738e3-6bf2-4776-83fa-5dac5d492596",
   "metadata": {},
   "outputs": [
    {
     "data": {
      "text/plain": [
       "array([2.5, 1. , 2. , 2.5, 3. , 4. ])"
      ]
     },
     "execution_count": 108,
     "metadata": {},
     "output_type": "execute_result"
    }
   ],
   "source": [
    "arr"
   ]
  },
  {
   "cell_type": "code",
   "execution_count": 114,
   "id": "cd811ac7-4d51-4173-93be-177edacc8681",
   "metadata": {},
   "outputs": [
    {
     "data": {
      "text/plain": [
       "(1000,)"
      ]
     },
     "execution_count": 114,
     "metadata": {},
     "output_type": "execute_result"
    }
   ],
   "source": [
    "# Generate 1000 random numbers from a normal distribution, and:\n",
    "data=np.random.rand(1000)\n",
    "data.shape\n"
   ]
  },
  {
   "cell_type": "code",
   "execution_count": 115,
   "id": "23edd5e7-0c36-4c55-95a0-e9c9a984920d",
   "metadata": {},
   "outputs": [
    {
     "data": {
      "text/plain": [
       "np.int64(444)"
      ]
     },
     "execution_count": 115,
     "metadata": {},
     "output_type": "execute_result"
    }
   ],
   "source": [
    "# Find how many values are > 1 standard deviation from the mean.\n",
    "mean=data.mean()\n",
    "std=data.std()\n",
    "greater_than_1std = np.sum(np.abs(data - mean) > std)\n",
    "greater_than_1std"
   ]
  },
  {
   "cell_type": "code",
   "execution_count": 121,
   "id": "89a75dfc-4466-4014-b059-68189e79fa2b",
   "metadata": {},
   "outputs": [
    {
     "data": {
      "image/png": "[encoded data removed]",
      "text/plain": [
       "<Figure size 640x480 with 1 Axes>"
      ]
     },
     "metadata": {},
     "output_type": "display_data"
    }
   ],
   "source": [
    "# Plot a histogram \n",
    "import matplotlib.pyplot as plt\n",
    "plt.hist(data, bins=40)\n",
    "plt.show()"
   ]
  },
  {
   "cell_type": "code",
   "execution_count": 123,
   "id": "aeca9226-7722-472d-924a-dd4f0467b7ec",
   "metadata": {},
   "outputs": [
    {
     "data": {
      "text/plain": [
       "array([[0., 1., 0., 1., 0., 1.],\n",
       "       [1., 0., 1., 0., 1., 0.],\n",
       "       [0., 1., 0., 1., 0., 1.],\n",
       "       [1., 0., 1., 0., 1., 0.],\n",
       "       [0., 1., 0., 1., 0., 1.],\n",
       "       [1., 0., 1., 0., 1., 0.]])"
      ]
     },
     "execution_count": 123,
     "metadata": {},
     "output_type": "execute_result"
    }
   ],
   "source": [
    "# Create a 6×6 array with a checkerboard pattern of 0s and 1s like a chessboard.\n",
    "checkboard=np.zeros((6,6))\n",
    "checkboard[::2,1::2] =1\n",
    "checkboard[1::2,::2]=1\n",
    "checkboard"
   ]
  },
  {
   "cell_type": "code",
   "execution_count": 125,
   "id": "19fc5b12-c5f4-442f-99bb-1bc2c84622d9",
   "metadata": {},
   "outputs": [
    {
     "data": {
      "text/plain": [
       "array([[1., 0., 1., 0., 1., 0.],\n",
       "       [0., 1., 0., 1., 0., 1.],\n",
       "       [1., 0., 1., 0., 1., 0.],\n",
       "       [0., 1., 0., 1., 0., 1.],\n",
       "       [1., 0., 1., 0., 1., 0.],\n",
       "       [0., 1., 0., 1., 0., 1.]])"
      ]
     },
     "execution_count": 125,
     "metadata": {},
     "output_type": "execute_result"
    }
   ],
   "source": [
    "checkboard=np.zeros((6,6))\n",
    "checkboard[::2,::2] =1\n",
    "checkboard[1::2,1::2]=1\n",
    "checkboard"
   ]
  },
  {
   "cell_type": "code",
   "execution_count": 126,
   "id": "9eb83910-088b-492d-a4ca-fbbd25e1a406",
   "metadata": {},
   "outputs": [
    {
     "data": {
      "text/plain": [
       "array([ 0,  1,  2,  3,  4,  5,  6,  7,  8,  9, 10, 11, 12, 13, 14, 15, 16,\n",
       "       17, 18, 19])"
      ]
     },
     "execution_count": 126,
     "metadata": {},
     "output_type": "execute_result"
    }
   ],
   "source": [
    "# Replace all odd numbers in the array [0, 1, 2, ..., 19] with -1.\n",
    "a=np.arange(20)\n",
    "a"
   ]
  },
  {
   "cell_type": "code",
   "execution_count": 127,
   "id": "7c9447c1-2b91-4e07-b8f0-8e591d49f7de",
   "metadata": {},
   "outputs": [
    {
     "data": {
      "text/plain": [
       "array([ 0, -1,  2, -1,  4, -1,  6, -1,  8, -1, 10, -1, 12, -1, 14, -1, 16,\n",
       "       -1, 18, -1])"
      ]
     },
     "execution_count": 127,
     "metadata": {},
     "output_type": "execute_result"
    }
   ],
   "source": [
    "np.where(a%2!=0,-1,a)"
   ]
  },
  {
   "cell_type": "code",
   "execution_count": 128,
   "id": "ce9d9c5c-0fae-4272-82a2-4a6a1dcdb0be",
   "metadata": {},
   "outputs": [],
   "source": [
    "a[a%2!=0]=-1"
   ]
  },
  {
   "cell_type": "code",
   "execution_count": 129,
   "id": "3097bb8a-8cd2-41ee-bb32-d9cbca2d0cd8",
   "metadata": {},
   "outputs": [
    {
     "data": {
      "text/plain": [
       "array([ 0, -1,  2, -1,  4, -1,  6, -1,  8, -1, 10, -1, 12, -1, 14, -1, 16,\n",
       "       -1, 18, -1])"
      ]
     },
     "execution_count": 129,
     "metadata": {},
     "output_type": "execute_result"
    }
   ],
   "source": [
    "a"
   ]
  },
  {
   "cell_type": "code",
   "execution_count": 135,
   "id": "ab4cf93f-d468-42d0-989b-ad32b7d4a32e",
   "metadata": {},
   "outputs": [
    {
     "data": {
      "text/plain": [
       "array([83,  4, 81, 70, 70, 36, 62, 57, 32, 43])"
      ]
     },
     "execution_count": 135,
     "metadata": {},
     "output_type": "execute_result"
    }
   ],
   "source": [
    "# Find the positions of all elements greater than 50 in a random array of size 10.\n",
    "arr=np.random.randint(1,101,10)\n",
    "arr"
   ]
  },
  {
   "cell_type": "code",
   "execution_count": 136,
   "id": "5959d854-b605-4990-8ba5-75bf657bd581",
   "metadata": {},
   "outputs": [
    {
     "data": {
      "text/plain": [
       "(array([0, 2, 3, 4, 6, 7]),)"
      ]
     },
     "execution_count": 136,
     "metadata": {},
     "output_type": "execute_result"
    }
   ],
   "source": [
    "pos=np.where(arr>50)\n",
    "pos"
   ]
  },
  {
   "cell_type": "code",
   "execution_count": 139,
   "id": "cbecce36-165c-4eb9-837d-6d0d32a1392b",
   "metadata": {},
   "outputs": [
    {
     "data": {
      "text/plain": [
       "array([ 0,  1,  2,  3,  4,  5,  6,  7,  8,  9, 10, 11])"
      ]
     },
     "execution_count": 139,
     "metadata": {},
     "output_type": "execute_result"
    }
   ],
   "source": [
    "# Split a 1D array of 12 values into 4 equal parts (3 elements in each).\n",
    "a=np.arange(12)\n",
    "a"
   ]
  },
  {
   "cell_type": "code",
   "execution_count": 141,
   "id": "7a77a573-c0ad-4612-a81f-0a4b0940c27f",
   "metadata": {},
   "outputs": [
    {
     "data": {
      "text/plain": [
       "[array([0, 1, 2]), array([3, 4, 5]), array([6, 7, 8]), array([ 9, 10, 11])]"
      ]
     },
     "execution_count": 141,
     "metadata": {},
     "output_type": "execute_result"
    }
   ],
   "source": [
    "np.hsplit(a,4)"
   ]
  },
  {
   "cell_type": "code",
   "execution_count": 143,
   "id": "01cd3f1c-3bdd-4051-b1f8-de4d2a21508e",
   "metadata": {},
   "outputs": [
    {
     "data": {
      "text/plain": [
       "array([ 0,  1,  2,  3,  4,  5,  6,  7,  8,  9, 10])"
      ]
     },
     "execution_count": 143,
     "metadata": {},
     "output_type": "execute_result"
    }
   ],
   "source": [
    "# Create a 2D array where each row is [1, 2, 3, ..., 10] repeated 5 times.\n",
    "a=np.arange(11)\n",
    "a"
   ]
  },
  {
   "cell_type": "code",
   "execution_count": 146,
   "id": "285d3a1e-6bb1-452c-9b2d-e40c75b683c1",
   "metadata": {},
   "outputs": [
    {
     "data": {
      "text/plain": [
       "array([[ 0,  1,  2,  3,  4,  5,  6,  7,  8,  9, 10],\n",
       "       [ 0,  1,  2,  3,  4,  5,  6,  7,  8,  9, 10],\n",
       "       [ 0,  1,  2,  3,  4,  5,  6,  7,  8,  9, 10],\n",
       "       [ 0,  1,  2,  3,  4,  5,  6,  7,  8,  9, 10],\n",
       "       [ 0,  1,  2,  3,  4,  5,  6,  7,  8,  9, 10]])"
      ]
     },
     "execution_count": 146,
     "metadata": {},
     "output_type": "execute_result"
    }
   ],
   "source": [
    "np.tile(a,(5,1))"
   ]
  },
  {
   "cell_type": "code",
   "execution_count": 153,
   "id": "6377d82f-4158-4a5b-9cbe-dd3de4c6d186",
   "metadata": {},
   "outputs": [],
   "source": [
    "# Generate a random array of shape (5, 5) and normalize it (scale between 0 and 1).\n",
    "a=np.random.randint(1,101,(5,5))"
   ]
  },
  {
   "cell_type": "code",
   "execution_count": 155,
   "id": "f7cf8248-8f32-4527-856e-2e2c2602f5c9",
   "metadata": {},
   "outputs": [
    {
     "data": {
      "text/plain": [
       "array([0.91111111, 0.03333333, 0.88888889, 0.76666667, 0.76666667,\n",
       "       0.38888889, 0.67777778, 0.62222222, 0.34444444, 0.46666667])"
      ]
     },
     "execution_count": 155,
     "metadata": {},
     "output_type": "execute_result"
    }
   ],
   "source": [
    "Min=a.min()\n",
    "Max=a.max()\n",
    "if Max-Min !=0:\n",
    "    normal=(arr-Min)/(Max-Min)\n",
    "else:\n",
    "    normal=np.full_like(a,0.5)\n",
    "normal"
   ]
  },
  {
   "cell_type": "code",
   "execution_count": null,
   "id": "c5059192-9b3f-4a50-ac8b-bc0371d008bc",
   "metadata": {},
   "outputs": [],
   "source": [
    "# Create a 10×10 array where the values represent a distance from the center (4.5, 4.5).\n",
    "x_centre=4.5\n",
    "y_centre=4.5\n"
   ]
  },
  {
   "cell_type": "code",
   "execution_count": 156,
   "id": "91b762a6-10ea-4610-a6a7-4d6b337cbd65",
   "metadata": {},
   "outputs": [
    {
     "data": {
      "text/plain": [
       "array([[ 9, 88, 15],\n",
       "       [81, 24, 77],\n",
       "       [64, 91, 67]])"
      ]
     },
     "execution_count": 156,
     "metadata": {},
     "output_type": "execute_result"
    }
   ],
   "source": [
    "# Given a 2D array, subtract the mean of each row from that row.\n",
    "a=np.random.randint(1,100,size=(3,3))\n",
    "a"
   ]
  },
  {
   "cell_type": "code",
   "execution_count": 158,
   "id": "969dcfa3-2aff-47ab-8e39-53f9ee993e76",
   "metadata": {},
   "outputs": [],
   "source": [
    "mean_Row=np.mean(a,axis=1,keepdims=True)"
   ]
  },
  {
   "cell_type": "code",
   "execution_count": 160,
   "id": "831d2f21-9755-4338-a6ad-9cbb46e11757",
   "metadata": {},
   "outputs": [
    {
     "data": {
      "text/plain": [
       "array([[37.33333333],\n",
       "       [60.66666667],\n",
       "       [74.        ]])"
      ]
     },
     "execution_count": 160,
     "metadata": {},
     "output_type": "execute_result"
    }
   ],
   "source": [
    "mean_Row"
   ]
  },
  {
   "cell_type": "code",
   "execution_count": 161,
   "id": "37376187-ae22-4fe7-bea7-355bc48b5a5c",
   "metadata": {},
   "outputs": [
    {
     "data": {
      "text/plain": [
       "array([[-28.33333333,  50.66666667, -22.33333333],\n",
       "       [ 20.33333333, -36.66666667,  16.33333333],\n",
       "       [-10.        ,  17.        ,  -7.        ]])"
      ]
     },
     "execution_count": 161,
     "metadata": {},
     "output_type": "execute_result"
    }
   ],
   "source": [
    "a-mean_Row"
   ]
  },
  {
   "cell_type": "code",
   "execution_count": 162,
   "id": "95ea8ed6-a22c-4a33-8c54-dc8662b4cdf5",
   "metadata": {},
   "outputs": [
    {
     "data": {
      "text/plain": [
       "array([5, 7, 0, 4, 3, 1, 0, 9, 4, 5, 0, 3, 1, 6, 6, 6, 3, 0, 0, 0, 2, 4,\n",
       "       2, 8, 5, 7, 8, 4, 5, 8, 4, 9, 0, 9, 0, 0, 4, 5, 3, 2, 5, 8, 2, 2,\n",
       "       1, 7, 3, 5, 8, 3, 4, 2, 6, 3, 0, 6, 4, 9, 0, 3, 8, 1, 7, 9, 6, 4,\n",
       "       2, 4, 2, 3, 4, 4, 2, 6, 1, 9, 2, 7, 3, 6, 9, 6, 3, 2, 4, 5, 6, 0,\n",
       "       2, 0, 9, 5, 7, 8, 9, 9, 0, 9, 2, 6, 2, 9, 1, 5, 7, 6, 8, 6, 0, 8,\n",
       "       3, 6, 1, 5, 1, 0, 7, 3, 0, 6, 0, 3, 5, 7, 8, 1, 8, 7, 8, 9, 1, 8,\n",
       "       4, 4, 2, 0, 0, 2, 5, 2, 8, 7, 3, 3, 3, 7, 2, 0, 6, 1, 6, 4, 3, 3,\n",
       "       6, 1, 4, 6, 7, 1, 8, 3, 0, 6, 9, 3, 5, 3, 4, 0, 6, 3, 7, 0, 5, 5,\n",
       "       6, 4, 2, 1, 7, 0, 7, 4, 0, 1, 2, 9, 8, 1, 7, 2, 6, 6, 8, 9, 4, 8,\n",
       "       3, 0, 6, 2, 7, 4, 9, 3, 9, 3, 0, 2, 3, 6, 7, 9, 7, 7, 8, 4, 7, 3,\n",
       "       9, 3, 4, 0, 9, 5, 4, 6, 7, 0, 5, 6, 2, 9, 7, 7, 0, 4, 4, 8, 8, 0,\n",
       "       4, 1, 2, 2, 2, 8, 6, 0, 1, 5, 2, 0, 6, 8, 6, 1, 8, 1, 0, 1, 0, 3,\n",
       "       4, 4, 4, 8, 0, 8, 0, 5, 8, 3, 5, 2, 4, 6, 2, 5, 3, 5, 9, 4, 7, 7,\n",
       "       4, 5, 2, 4, 5, 2, 5, 7, 1, 8, 9, 7, 3, 5, 1, 6, 8, 6, 3, 3, 8, 0,\n",
       "       8, 2, 2, 9, 8, 7, 9, 4, 6, 7, 4, 9, 0, 3, 2, 8, 2, 8, 7, 9, 2, 7,\n",
       "       9, 6, 6, 8, 3, 8, 4, 9, 3, 7, 1, 3, 5, 2, 2, 1, 4, 0, 9, 4, 4, 7,\n",
       "       8, 0, 2, 1, 7, 6, 7, 5, 9, 3, 6, 1, 7, 9, 8, 5, 2, 0, 9, 9, 5, 8,\n",
       "       1, 8, 2, 3, 6, 2, 7, 0, 0, 3, 9, 9, 8, 0, 5, 0, 5, 7, 5, 7, 5, 7,\n",
       "       8, 1, 8, 1, 8, 3, 1, 8, 0, 2, 3, 0, 7, 8, 5, 1, 3, 9, 3, 2, 9, 8,\n",
       "       7, 8, 9, 1, 6, 4, 1, 3, 1, 3, 5, 8, 2, 7, 7, 6, 5, 7, 0, 9, 9, 8,\n",
       "       6, 7, 3, 3, 3, 4, 7, 6, 2, 5, 6, 0, 1, 2, 4, 0, 5, 2, 2, 6, 9, 6,\n",
       "       7, 4, 1, 1, 7, 0, 3, 4, 2, 9, 1, 1, 2, 6, 2, 7, 4, 8, 4, 0, 0, 1,\n",
       "       3, 5, 2, 7, 1, 6, 0, 7, 6, 0, 9, 2, 4, 3, 3, 2, 2, 0, 8, 7, 4, 8,\n",
       "       8, 0, 2, 0, 4, 3, 6, 5, 4, 5, 3, 7, 6, 5, 8, 6, 5, 2, 5, 8, 4, 8,\n",
       "       3, 0, 5, 7, 2, 5, 0, 4, 1, 2, 6, 9, 2, 9, 6, 3, 4, 4, 4, 1, 0, 9,\n",
       "       1, 2, 0, 4, 3, 6, 0, 0, 3, 1, 5, 1, 1, 7, 6, 1, 9, 4, 2, 7, 0, 6,\n",
       "       3, 6, 9, 2, 8, 1, 5, 6, 8, 2, 0, 9, 7, 4, 1, 9, 0, 6, 3, 5, 2, 7,\n",
       "       2, 1, 5, 6, 8, 1, 9, 5, 6, 4, 7, 2, 8, 7, 6, 5, 4, 8, 4, 7, 5, 5,\n",
       "       8, 3, 1, 8, 7, 0, 7, 6, 7, 6, 5, 6, 8, 1, 3, 6, 2, 5, 5, 5, 1, 0,\n",
       "       8, 1, 8, 8, 9, 3, 6, 2, 9, 1, 2, 9, 5, 3, 7, 7, 3, 6, 7, 5, 0, 4,\n",
       "       2, 2, 8, 2, 5, 0, 0, 6, 5, 5, 0, 3, 7, 1, 2, 1, 7, 2, 1, 1, 0, 3,\n",
       "       7, 1, 2, 1, 3, 4, 0, 2, 3, 7, 0, 4, 9, 6, 0, 3, 5, 4, 8, 6, 2, 6,\n",
       "       0, 6, 6, 2, 7, 4, 8, 4, 1, 3, 8, 9, 4, 0, 8, 0, 8, 5, 6, 3, 7, 4,\n",
       "       8, 4, 4, 0, 9, 3, 2, 1, 3, 8, 7, 3, 8, 2, 6, 3, 7, 9, 9, 5, 5, 2,\n",
       "       5, 7, 0, 1, 7, 6, 8, 3, 6, 2, 7, 7, 9, 3, 5, 5, 1, 8, 2, 4, 9, 4,\n",
       "       3, 8, 7, 0, 4, 4, 6, 6, 1, 4, 5, 2, 3, 3, 1, 2, 7, 0, 4, 1, 5, 2,\n",
       "       8, 0, 1, 9, 7, 3, 1, 3, 2, 4, 9, 4, 9, 0, 8, 5, 0, 4, 0, 9, 2, 7,\n",
       "       9, 7, 7, 9, 0, 4, 0, 9, 3, 3, 7, 0, 7, 8, 1, 6, 6, 8, 2, 8, 2, 1,\n",
       "       7, 5, 7, 5, 2, 6, 4, 4, 3, 1, 0, 3, 9, 4, 9, 5, 2, 6, 1, 0, 2, 4,\n",
       "       5, 2, 7, 0, 4, 0, 7, 7, 7, 0, 2, 6, 2, 9, 1, 5, 8, 7, 2, 4, 2, 8,\n",
       "       5, 5, 2, 5, 8, 9, 5, 8, 6, 5, 7, 7, 2, 6, 5, 6, 7, 9, 0, 2, 7, 4,\n",
       "       8, 5, 8, 0, 8, 6, 9, 5, 4, 5, 8, 5, 7, 0, 0, 4, 5, 7, 1, 1, 9, 4,\n",
       "       0, 3, 9, 8, 6, 7, 0, 2, 3, 3, 0, 6, 1, 8, 5, 0, 6, 4, 5, 0, 4, 0,\n",
       "       3, 3, 2, 0, 7, 7, 1, 1, 6, 5, 7, 0, 0, 3, 8, 4, 8, 0, 7, 0, 0, 1,\n",
       "       5, 7, 6, 6, 9, 7, 2, 3, 4, 2, 3, 9, 0, 0, 0, 3, 0, 9, 1, 0, 9, 7,\n",
       "       1, 8, 9, 4, 8, 2, 7, 3, 2, 8])"
      ]
     },
     "execution_count": 162,
     "metadata": {},
     "output_type": "execute_result"
    }
   ],
   "source": [
    "# Find the most frequent value in a random array of integers (0 to 9, size 1000).\n",
    "a=np.random.randint(0,10,1000)\n",
    "a"
   ]
  },
  {
   "cell_type": "code",
   "execution_count": 167,
   "id": "936e6d0d-4e15-4be1-949c-27e0f26c1afd",
   "metadata": {},
   "outputs": [
    {
     "data": {
      "text/plain": [
       "array([119,  86, 110, 100,  98,  95,  97, 112, 100,  83])"
      ]
     },
     "execution_count": 167,
     "metadata": {},
     "output_type": "execute_result"
    }
   ],
   "source": [
    "count=np.bincount(a)\n",
    "count\n",
    "#here bincount the index is specifi element in an array and value is count of the occurence of that element.e.g at 0 index 119 is value so 0 appeared 119 times"
   ]
  },
  {
   "cell_type": "code",
   "execution_count": 172,
   "id": "f038b310-0d09-49e0-8f4b-3dd723210cc6",
   "metadata": {},
   "outputs": [
    {
     "name": "stdout",
     "output_type": "stream",
     "text": [
      "0\n"
     ]
    }
   ],
   "source": [
    "high_freq=np.argmax(count)#argmax return the index of highes number\n",
    "print(high_freq)"
   ]
  },
  {
   "cell_type": "code",
   "execution_count": null,
   "id": "41f3f0c1-2cb8-412e-87c6-39124e9330d0",
   "metadata": {},
   "outputs": [],
   "source": [
    "# Given two arrays, return only the unique rows that are common to both."
   ]
  },
  {
   "cell_type": "code",
   "execution_count": 177,
   "id": "b9989691-328a-452d-bcba-d3b86bd5268c",
   "metadata": {},
   "outputs": [],
   "source": [
    "# Given a 1D array with duplicates:\n",
    "# Remove duplicates and sort it.\n",
    "arr = np.array([5, 2, 3, 5, 2, 1])\n",
    "unique=np.unique(arr)"
   ]
  },
  {
   "cell_type": "code",
   "execution_count": 178,
   "id": "3be5159d-52d3-4451-914e-9b9741670ef3",
   "metadata": {},
   "outputs": [],
   "source": [
    "unique.sort()"
   ]
  },
  {
   "cell_type": "code",
   "execution_count": 179,
   "id": "eb602acb-25ce-46ef-85e3-1457e017c766",
   "metadata": {},
   "outputs": [
    {
     "data": {
      "text/plain": [
       "array([1, 2, 3, 5])"
      ]
     },
     "execution_count": 179,
     "metadata": {},
     "output_type": "execute_result"
    }
   ],
   "source": [
    "unique"
   ]
  },
  {
   "cell_type": "code",
   "execution_count": 180,
   "id": "fae5965d-397b-4284-aed2-c756f7000de7",
   "metadata": {},
   "outputs": [
    {
     "data": {
      "text/plain": [
       "array([[1, 2],\n",
       "       [3, 4]])"
      ]
     },
     "execution_count": 180,
     "metadata": {},
     "output_type": "execute_result"
    }
   ],
   "source": [
    "# Convert a NumPy array to a column vector (reshape 1D to 2D column).\n",
    "\n",
    "arr = np.array([1, 2, 3, 4])\n",
    "arr.reshape(2,2)"
   ]
  },
  {
   "cell_type": "code",
   "execution_count": 181,
   "id": "ba5a0dc1-1054-4e45-aaf3-218063947037",
   "metadata": {},
   "outputs": [
    {
     "data": {
      "text/plain": [
       "array([[15,  8,  8, 16, 19],\n",
       "       [ 7,  7,  7, 12,  8],\n",
       "       [13, 10, 11, 16, 14],\n",
       "       [12, 14, 16,  9, 16],\n",
       "       [16, 18, 18, 10,  6]])"
      ]
     },
     "execution_count": 181,
     "metadata": {},
     "output_type": "execute_result"
    }
   ],
   "source": [
    "# Standardize a numeric array (z-score normalization).\n",
    "a=np.random.randint(1,20,(5,5))\n",
    "a"
   ]
  },
  {
   "cell_type": "code",
   "execution_count": 182,
   "id": "47330e26-3f25-4f33-89d9-be132df56074",
   "metadata": {},
   "outputs": [],
   "source": [
    "z_score = (a-np.mean(a))/(np.std(a))"
   ]
  },
  {
   "cell_type": "code",
   "execution_count": 183,
   "id": "d5f064ca-fe6f-4975-84d7-459717164faa",
   "metadata": {},
   "outputs": [
    {
     "data": {
      "text/plain": [
       "array([[ 0.69474041, -1.06728236, -1.06728236,  0.94645795,  1.70161056],\n",
       "       [-1.3189999 , -1.3189999 , -1.3189999 , -0.06041221, -1.06728236],\n",
       "       [ 0.19130533, -0.56384729, -0.31212975,  0.94645795,  0.44302287],\n",
       "       [-0.06041221,  0.44302287,  0.94645795, -0.81556483,  0.94645795],\n",
       "       [ 0.94645795,  1.44989302,  1.44989302, -0.56384729, -1.57071744]])"
      ]
     },
     "execution_count": 183,
     "metadata": {},
     "output_type": "execute_result"
    }
   ],
   "source": [
    "z_score"
   ]
  },
  {
   "cell_type": "code",
   "execution_count": 195,
   "id": "b8f65474-7b74-4397-b750-439d88ca8497",
   "metadata": {},
   "outputs": [
    {
     "data": {
      "text/plain": [
       "array([nan,  1.,  2., nan,  3.,  4.,  5., nan,  6.])"
      ]
     },
     "execution_count": 195,
     "metadata": {},
     "output_type": "execute_result"
    }
   ],
   "source": [
    "# Find missing values (np.nan) and replace them with the column mean.\n",
    "a=np.array([np.nan,1,2,np.nan,3,4,5,np.nan,6])\n",
    "a"
   ]
  },
  {
   "cell_type": "code",
   "execution_count": 199,
   "id": "d9b9a98f-5c1d-4b0b-94ae-1c9f20e55f5f",
   "metadata": {},
   "outputs": [
    {
     "data": {
      "text/plain": [
       "np.float64(nan)"
      ]
     },
     "execution_count": 199,
     "metadata": {},
     "output_type": "execute_result"
    }
   ],
   "source": [
    "np.mean(a)"
   ]
  },
  {
   "cell_type": "code",
   "execution_count": 198,
   "id": "45eb74fd-0602-4f9b-9b0a-a1c73f924e53",
   "metadata": {},
   "outputs": [
    {
     "data": {
      "text/plain": [
       "np.float64(3.5)"
      ]
     },
     "execution_count": 198,
     "metadata": {},
     "output_type": "execute_result"
    }
   ],
   "source": [
    "np.nanmean(a)"
   ]
  },
  {
   "cell_type": "code",
   "execution_count": 202,
   "id": "f118ff10-26d2-4196-a362-a6447fb74598",
   "metadata": {},
   "outputs": [
    {
     "data": {
      "text/plain": [
       "array([[ 1.        ,  2.        ,  5.        ,  4.        ],\n",
       "       [ 5.        ,  8.66666667,  7.        ,  8.        ],\n",
       "       [ 9.        , 10.        , 11.        , 11.        ],\n",
       "       [ 9.33333333, 14.        , 15.        , 16.        ]])"
      ]
     },
     "execution_count": 202,
     "metadata": {},
     "output_type": "execute_result"
    }
   ],
   "source": [
    "my_array"
   ]
  },
  {
   "cell_type": "code",
   "execution_count": 204,
   "id": "ddfcc268-8863-408e-ab64-7d4a5132ad7a",
   "metadata": {},
   "outputs": [
    {
     "data": {
      "text/plain": [
       "array([[ 1.        ,  2.        , 11.        ,  4.        ],\n",
       "       [ 5.        ,  8.66666667,  7.        ,  8.        ],\n",
       "       [ 9.        , 10.        , 11.        ,  9.33333333],\n",
       "       [ 5.        , 14.        , 15.        , 16.        ]])"
      ]
     },
     "execution_count": 204,
     "metadata": {},
     "output_type": "execute_result"
    }
   ],
   "source": [
    "my_array = np.array([[1.0, 2.0, np.nan, 4.0],\n",
    "                     [5.0, np.nan, 7.0, 8.0],\n",
    "                     [9.0, 10.0, 11.0, np.nan],\n",
    "                     [np.nan, 14.0, 15.0, 16.0]])\n",
    "np.where(np.isnan(my_array),np.nanmean(my_array,axis=0),my_array)"
   ]
  },
  {
   "cell_type": "code",
   "execution_count": 205,
   "id": "26df7b7c-70a7-4859-a4e8-9bb975c3311e",
   "metadata": {},
   "outputs": [
    {
     "data": {
      "text/plain": [
       "(array([0, 1, 2, 3]), array([2, 1, 3, 0]))"
      ]
     },
     "execution_count": 205,
     "metadata": {},
     "output_type": "execute_result"
    }
   ],
   "source": [
    "np.where(np.isnan(my_array))"
   ]
  },
  {
   "cell_type": "code",
   "execution_count": 206,
   "id": "27bb1440-b089-4ff2-b3eb-4d1a82871d35",
   "metadata": {},
   "outputs": [
    {
     "data": {
      "text/plain": [
       "array([ 5.        ,  8.66666667, 11.        ,  9.33333333])"
      ]
     },
     "execution_count": 206,
     "metadata": {},
     "output_type": "execute_result"
    }
   ],
   "source": [
    "column_means = np.nanmean(my_array, axis=0)\n",
    "column_means"
   ]
  },
  {
   "cell_type": "code",
   "execution_count": 207,
   "id": "7b262f8b-c341-4e00-bc54-e92ffe00eff1",
   "metadata": {},
   "outputs": [
    {
     "data": {
      "text/plain": [
       "array([0, 1, 2, 3])"
      ]
     },
     "execution_count": 207,
     "metadata": {},
     "output_type": "execute_result"
    }
   ],
   "source": [
    "nan_rows,nan_cols=np.where(np.isnan(my_array))\n",
    "nan_rows"
   ]
  },
  {
   "cell_type": "code",
   "execution_count": 208,
   "id": "57afd44c-0220-48cb-9ad6-a9657b4bb4c4",
   "metadata": {},
   "outputs": [
    {
     "data": {
      "text/plain": [
       "array([2, 1, 3, 0])"
      ]
     },
     "execution_count": 208,
     "metadata": {},
     "output_type": "execute_result"
    }
   ],
   "source": [
    "nan_cols"
   ]
  },
  {
   "cell_type": "code",
   "execution_count": 210,
   "id": "6b0350e8-6afa-4e3a-85f1-a3d319a89c57",
   "metadata": {},
   "outputs": [],
   "source": [
    "my_array[nan_rows,nan_cols]=column_means[nan_cols]"
   ]
  },
  {
   "cell_type": "code",
   "execution_count": 211,
   "id": "3dafe08f-f374-4331-b684-2285fa8e55f7",
   "metadata": {},
   "outputs": [
    {
     "data": {
      "text/plain": [
       "array([[ 1.        ,  2.        , 11.        ,  4.        ],\n",
       "       [ 5.        ,  8.66666667,  7.        ,  8.        ],\n",
       "       [ 9.        , 10.        , 11.        ,  9.33333333],\n",
       "       [ 5.        , 14.        , 15.        , 16.        ]])"
      ]
     },
     "execution_count": 211,
     "metadata": {},
     "output_type": "execute_result"
    }
   ],
   "source": [
    "my_array"
   ]
  },
  {
   "cell_type": "code",
   "execution_count": 212,
   "id": "dd720383-1e6e-466b-a25e-6c4aac8ecfd3",
   "metadata": {},
   "outputs": [
    {
     "data": {
      "text/plain": [
       "np.float64(176.00000000000009)"
      ]
     },
     "execution_count": 212,
     "metadata": {},
     "output_type": "execute_result"
    }
   ],
   "source": [
    "# Cap values above 90th percentile to that percentile (for outlier handling).\n",
    "data = np.array([10, 20, 30, 40, 50, 60, 70, 80, 90, 100, 110, 120, 200, 500])\n",
    "ninety_perc=np.percentile(data,90)\n",
    "ninety_perc"
   ]
  },
  {
   "cell_type": "code",
   "execution_count": 214,
   "id": "8f006615-8030-49b5-8f33-2b10dd62393c",
   "metadata": {},
   "outputs": [
    {
     "data": {
      "text/plain": [
       "array([ 10.,  20.,  30.,  40.,  50.,  60.,  70.,  80.,  90., 100., 110.,\n",
       "       120., 176., 176.])"
      ]
     },
     "execution_count": 214,
     "metadata": {},
     "output_type": "execute_result"
    }
   ],
   "source": [
    "np.clip(data,a_min=None,a_max=ninety_perc)"
   ]
  },
  {
   "cell_type": "code",
   "execution_count": 215,
   "id": "dce61da1-510f-4b24-937e-a582134e4b7f",
   "metadata": {},
   "outputs": [
    {
     "data": {
      "text/plain": [
       "array([20, 25, 30])"
      ]
     },
     "execution_count": 215,
     "metadata": {},
     "output_type": "execute_result"
    }
   ],
   "source": [
    "# Given arr = np.array([10, 15, 20, 25, 30]), get all values:\n",
    "#Greater than 15\n",
    "# Between 10 and 25 (inclusive)\n",
    "arr = np.array([10, 15, 20, 25, 30])\n",
    "arr[arr>15]"
   ]
  },
  {
   "cell_type": "code",
   "execution_count": 216,
   "id": "cb275b5b-593d-4415-941c-30903c67a268",
   "metadata": {},
   "outputs": [
    {
     "data": {
      "text/plain": [
       "array([15, 20, 25])"
      ]
     },
     "execution_count": 216,
     "metadata": {},
     "output_type": "execute_result"
    }
   ],
   "source": [
    "arr[(arr>10) & (arr<=25)]"
   ]
  },
  {
   "cell_type": "code",
   "execution_count": 217,
   "id": "7216dbd9-34da-44d7-b582-e62644e37665",
   "metadata": {},
   "outputs": [
    {
     "data": {
      "text/plain": [
       "array([ 0,  5,  0,  0,  8,  0, 12,  0])"
      ]
     },
     "execution_count": 217,
     "metadata": {},
     "output_type": "execute_result"
    }
   ],
   "source": [
    "# Replace all negative values in an array with 0.\n",
    "my_array = np.array([-2, 5, -1, 0, 8, -4, 12, -7])\n",
    "np.where(my_array<0,0,my_array)"
   ]
  },
  {
   "cell_type": "code",
   "execution_count": 218,
   "id": "f0534f94-e731-4483-a86c-8d2bd8efb60a",
   "metadata": {},
   "outputs": [],
   "source": [
    "my_array = np.array([-2, 5, -1, 0, 8, -4, 12, -7])\n",
    "my_array[my_array<0]=0"
   ]
  },
  {
   "cell_type": "code",
   "execution_count": 219,
   "id": "e08efbb8-f4f1-4e90-8ed5-ae5dcba5a9b1",
   "metadata": {},
   "outputs": [
    {
     "data": {
      "text/plain": [
       "array([ 0,  5,  0,  0,  8,  0, 12,  0])"
      ]
     },
     "execution_count": 219,
     "metadata": {},
     "output_type": "execute_result"
    }
   ],
   "source": [
    "my_array"
   ]
  },
  {
   "cell_type": "code",
   "execution_count": 222,
   "id": "59612df2-be0f-4661-a581-1a271ae5e37b",
   "metadata": {},
   "outputs": [
    {
     "data": {
      "text/plain": [
       "array([False,  True, False,  True, False,  True, False,  True])"
      ]
     },
     "execution_count": 222,
     "metadata": {},
     "output_type": "execute_result"
    }
   ],
   "source": [
    "# Count how many values are greater than the mean.\n",
    "my_array = np.array([10, 20, 5, 30, 15, 25, 8, 40])\n",
    "mean=np.mean(my_array)\n",
    "# count=(my_array>mean).sum()\n",
    "mask=my_array>mean\n",
    "mask"
   ]
  },
  {
   "cell_type": "code",
   "execution_count": 223,
   "id": "91e1e040-f039-422d-a81b-9ace34e94da2",
   "metadata": {},
   "outputs": [
    {
     "data": {
      "text/plain": [
       "np.int64(4)"
      ]
     },
     "execution_count": 223,
     "metadata": {},
     "output_type": "execute_result"
    }
   ],
   "source": [
    "mask.sum()"
   ]
  },
  {
   "cell_type": "code",
   "execution_count": 231,
   "id": "899dd24c-016e-4d76-aa0c-5a8cbde4cfc2",
   "metadata": {},
   "outputs": [
    {
     "name": "stdout",
     "output_type": "stream",
     "text": [
      "Index 3\n",
      "Value 40\n"
     ]
    }
   ],
   "source": [
    "# Find the positions (indices) of maximum and minimum values.\n",
    "my_array = np.array([10, 20, 5, 40, 15, 40, 2, 30])\n",
    "pos=np.argmax(my_array)\n",
    "print(\"Index\",pos)\n",
    "print(\"Value\",my_array[pos])"
   ]
  },
  {
   "cell_type": "code",
   "execution_count": 230,
   "id": "74752c66-140c-46fc-81fd-f8cc335bc03d",
   "metadata": {},
   "outputs": [
    {
     "name": "stdout",
     "output_type": "stream",
     "text": [
      "Index 6\n",
      "Value 2\n"
     ]
    }
   ],
   "source": [
    "pos=np.argmin(my_array)\n",
    "print(\"Index\",pos)\n",
    "print(\"Value\",my_array[pos])"
   ]
  },
  {
   "cell_type": "code",
   "execution_count": 235,
   "id": "4fbe6bf0-1590-4d5c-b58f-32f339db09c3",
   "metadata": {},
   "outputs": [
    {
     "name": "stdout",
     "output_type": "stream",
     "text": [
      "Indices: [1 2 0]\n"
     ]
    }
   ],
   "source": [
    "#column wise\n",
    "my_matrix = np.array([[10, 17, 25],\n",
    "                      [15, 11, 22],\n",
    "                      [11, 19, 20]])\n",
    "col_ind=np.argmax(my_matrix,axis=0)\n",
    "print(\"Indices:\",col_ind)\n"
   ]
  },
  {
   "cell_type": "code",
   "execution_count": 236,
   "id": "4ed6505f-b6ca-4916-87a6-618c46843f8a",
   "metadata": {},
   "outputs": [
    {
     "name": "stdout",
     "output_type": "stream",
     "text": [
      "Indices: [0 1 2]\n"
     ]
    }
   ],
   "source": [
    "my_matrix = np.array([[10, 17, 25],\n",
    "                      [15, 11, 22],\n",
    "                      [11, 19, 20]])\n",
    "col_ind=np.argmin(my_matrix,axis=0)\n",
    "print(\"Indices:\",col_ind)"
   ]
  },
  {
   "cell_type": "code",
   "execution_count": 237,
   "id": "3a6707dc-a41e-42f4-a549-2037f3a13816",
   "metadata": {},
   "outputs": [
    {
     "name": "stdout",
     "output_type": "stream",
     "text": [
      "Indices: [2 2 2]\n"
     ]
    }
   ],
   "source": [
    "#row wise\n",
    "my_matrix = np.array([[10, 17, 25],\n",
    "                      [15, 11, 22],\n",
    "                      [11, 19, 20]])\n",
    "col_ind=np.argmax(my_matrix,axis=1)\n",
    "print(\"Indices:\",col_ind)"
   ]
  },
  {
   "cell_type": "code",
   "execution_count": 238,
   "id": "351c48b3-a407-4c32-9af1-740e871f7bf4",
   "metadata": {},
   "outputs": [
    {
     "name": "stdout",
     "output_type": "stream",
     "text": [
      "Indices: [0 1 0]\n"
     ]
    }
   ],
   "source": [
    "my_matrix = np.array([[10, 17, 25],\n",
    "                      [15, 11, 22],\n",
    "                      [11, 19, 20]])\n",
    "col_ind=np.argmin(my_matrix,axis=1)\n",
    "print(\"Indices:\",col_ind)"
   ]
  },
  {
   "cell_type": "code",
   "execution_count": 240,
   "id": "f4413b6c-eede-49a3-90f8-5bffb829b0b2",
   "metadata": {},
   "outputs": [],
   "source": [
    "# Check if two arrays have exactly the same values in the same order.\n",
    "array1 = np.array([1, 2, 3, 4, 5])\n",
    "array2 = np.array([1, 2, 3, 4, 5])\n",
    "array3 = np.array([1, 2, 3, 5, 4]) # Different order\n",
    "array4 = np.array([1, 2, 3])  "
   ]
  },
  {
   "cell_type": "code",
   "execution_count": 241,
   "id": "071345b6-b9e5-41da-99e9-4b3e25a5f83f",
   "metadata": {},
   "outputs": [
    {
     "data": {
      "text/plain": [
       "True"
      ]
     },
     "execution_count": 241,
     "metadata": {},
     "output_type": "execute_result"
    }
   ],
   "source": [
    "np.array_equal(array1,array2)"
   ]
  },
  {
   "cell_type": "code",
   "execution_count": 242,
   "id": "afb1d09d-5301-4334-9b80-3abf96d7a97c",
   "metadata": {},
   "outputs": [
    {
     "data": {
      "text/plain": [
       "False"
      ]
     },
     "execution_count": 242,
     "metadata": {},
     "output_type": "execute_result"
    }
   ],
   "source": [
    "np.array_equal(array2,array3)"
   ]
  },
  {
   "cell_type": "code",
   "execution_count": 243,
   "id": "a58c40cc-dfda-4d66-b5fb-5a71e31cb585",
   "metadata": {},
   "outputs": [
    {
     "data": {
      "text/plain": [
       "False"
      ]
     },
     "execution_count": 243,
     "metadata": {},
     "output_type": "execute_result"
    }
   ],
   "source": [
    "np.array_equal(array2,array4)"
   ]
  },
  {
   "cell_type": "code",
   "execution_count": 244,
   "id": "c348e982-09ce-4c4c-9d7f-8ef5cd2e2dab",
   "metadata": {},
   "outputs": [],
   "source": [
    "array5 = np.array([1, 2, np.nan])\n",
    "array6 = np.array([1, 2, np.nan])\n"
   ]
  },
  {
   "cell_type": "code",
   "execution_count": 245,
   "id": "9282fa5d-ac64-41da-a622-67201ac43058",
   "metadata": {},
   "outputs": [
    {
     "data": {
      "text/plain": [
       "False"
      ]
     },
     "execution_count": 245,
     "metadata": {},
     "output_type": "execute_result"
    }
   ],
   "source": [
    "np.array_equal(array5,array6)"
   ]
  },
  {
   "cell_type": "code",
   "execution_count": 246,
   "id": "64854772-d0e9-42e0-b07a-ced8474b8d55",
   "metadata": {},
   "outputs": [
    {
     "data": {
      "text/plain": [
       "True"
      ]
     },
     "execution_count": 246,
     "metadata": {},
     "output_type": "execute_result"
    }
   ],
   "source": [
    "np.array_equal(array5,array6,equal_nan=True)"
   ]
  },
  {
   "cell_type": "code",
   "execution_count": 249,
   "id": "dbbcf2a2-c477-4a4c-86b3-eba34bc38f6e",
   "metadata": {},
   "outputs": [
    {
     "data": {
      "text/plain": [
       "array([7770, 1360, 5890, 5691, 6234])"
      ]
     },
     "execution_count": 249,
     "metadata": {},
     "output_type": "execute_result"
    }
   ],
   "source": [
    "# Create a random 1000-element array simulating daily sales in ₹\n",
    "\n",
    "    # Find top 10% days (highest sales)\n",
    "\n",
    "    # Find average of bottom 25% sales\n",
    "\n",
    "#assume daily sales from 500 to 10000\n",
    "\n",
    "np.random.seed(42)\n",
    "arr=np.random.randint(500,10000,1000)\n",
    "arr[:5]\n"
   ]
  },
  {
   "cell_type": "code",
   "execution_count": 252,
   "id": "5d9a6a93-b9fc-4ace-baee-e69fc6bc0ff6",
   "metadata": {},
   "outputs": [
    {
     "data": {
      "text/plain": [
       "np.float64(9066.3)"
      ]
     },
     "execution_count": 252,
     "metadata": {},
     "output_type": "execute_result"
    }
   ],
   "source": [
    "ninety_percentile = np.percentile(arr,90)\n",
    "ninety_percentile"
   ]
  },
  {
   "cell_type": "code",
   "execution_count": 259,
   "id": "2f682d2c-cc74-4287-a206-80ae8554e8f1",
   "metadata": {},
   "outputs": [
    {
     "data": {
      "text/plain": [
       "array([9148, 9574, 9091, 9300, 9511, 9511, 9592, 9156, 9237, 9116, 9812,\n",
       "       9480, 9406, 9547, 9723, 9099, 9254, 9464, 9654, 9069, 9343, 9214,\n",
       "       9627, 9289, 9353, 9152, 9206, 9394, 9996, 9976, 9614, 9735, 9824,\n",
       "       9123, 9898, 9167, 9090, 9528, 9191, 9238, 9395, 9567, 9935, 9532,\n",
       "       9635, 9116, 9586, 9869, 9783, 9759, 9703, 9176, 9304, 9266, 9846,\n",
       "       9677, 9933, 9672, 9587, 9622, 9415, 9627, 9762, 9546, 9331, 9531,\n",
       "       9287, 9835, 9777, 9991, 9750, 9668, 9270, 9802, 9421, 9905, 9824,\n",
       "       9111, 9601, 9928, 9842, 9267, 9870, 9949, 9488, 9993, 9995, 9826,\n",
       "       9929, 9690, 9348, 9668, 9594, 9634, 9233, 9105, 9601, 9665, 9742,\n",
       "       9996])"
      ]
     },
     "execution_count": 259,
     "metadata": {},
     "output_type": "execute_result"
    }
   ],
   "source": [
    "# Find top 10% days (highest sales)\n",
    "top_ten_sale=arr[arr>=ninety_percentile]\n",
    "top_ten_sale"
   ]
  },
  {
   "cell_type": "code",
   "execution_count": 255,
   "id": "3062cf9a-6498-435d-9662-26cda2d5c1d7",
   "metadata": {},
   "outputs": [
    {
     "data": {
      "text/plain": [
       "np.float64(2677.25)"
      ]
     },
     "execution_count": 255,
     "metadata": {},
     "output_type": "execute_result"
    }
   ],
   "source": [
    "# Find average of bottom 25% sales\n",
    "twentyfive_percentile = np.percentile(arr,25)\n",
    "twentyfive_percentile"
   ]
  },
  {
   "cell_type": "code",
   "execution_count": 258,
   "id": "af02b03c-5dee-4c84-a0ce-a887809d2375",
   "metadata": {},
   "outputs": [
    {
     "data": {
      "text/plain": [
       "np.float64(1626.228)"
      ]
     },
     "execution_count": 258,
     "metadata": {},
     "output_type": "execute_result"
    }
   ],
   "source": [
    "below_twentyfive = arr[arr<=twentyfive_percentile]\n",
    "# below_twentyfive\n",
    "np.mean(below_twentyfive)"
   ]
  },
  {
   "cell_type": "code",
   "execution_count": 260,
   "id": "1f73fb1f-6220-4dea-be0f-83d2ddabd049",
   "metadata": {},
   "outputs": [],
   "source": [
    "# A 2D array represents test scores (students × subjects).\n",
    "\n",
    "    # Find the student with the highest average score.\n",
    "\n",
    "    # Find subject-wise averages.\n",
    "\n",
    "scores = np.array([\n",
    "    [85, 90, 78, 92],   # Student 0\n",
    "    [88, 76, 85, 80],   # Student 1\n",
    "    [90, 91, 92, 89],   # Student 2\n",
    "    [70, 65, 72, 68],   # Student 3\n",
    "    [95, 89, 94, 96]    # Student 4\n",
    "])"
   ]
  },
  {
   "cell_type": "code",
   "execution_count": 261,
   "id": "c5186005-3121-440d-8f72-20a129859990",
   "metadata": {},
   "outputs": [
    {
     "data": {
      "text/plain": [
       "array([[85, 90, 78, 92],\n",
       "       [88, 76, 85, 80],\n",
       "       [90, 91, 92, 89],\n",
       "       [70, 65, 72, 68],\n",
       "       [95, 89, 94, 96]])"
      ]
     },
     "execution_count": 261,
     "metadata": {},
     "output_type": "execute_result"
    }
   ],
   "source": [
    "scores"
   ]
  },
  {
   "cell_type": "code",
   "execution_count": 262,
   "id": "57044ae7-453e-4900-b0c8-705a637725d1",
   "metadata": {},
   "outputs": [
    {
     "data": {
      "text/plain": [
       "(5, 4)"
      ]
     },
     "execution_count": 262,
     "metadata": {},
     "output_type": "execute_result"
    }
   ],
   "source": [
    "scores.shape"
   ]
  },
  {
   "cell_type": "code",
   "execution_count": 263,
   "id": "74830a92-10ae-46b4-884f-95dd0186a99a",
   "metadata": {},
   "outputs": [
    {
     "data": {
      "text/plain": [
       "array([86.25, 82.25, 90.5 , 68.75, 93.5 ])"
      ]
     },
     "execution_count": 263,
     "metadata": {},
     "output_type": "execute_result"
    }
   ],
   "source": [
    "students_average = np.mean(scores,axis=1)#average of each student\n",
    "students_average"
   ]
  },
  {
   "cell_type": "code",
   "execution_count": 264,
   "id": "baa0c6ab-107d-440a-9914-fb88eea65618",
   "metadata": {},
   "outputs": [
    {
     "data": {
      "text/plain": [
       "np.int64(4)"
      ]
     },
     "execution_count": 264,
     "metadata": {},
     "output_type": "execute_result"
    }
   ],
   "source": [
    "index_top_average = np.argmax(students_average)\n",
    "index_top_average"
   ]
  },
  {
   "cell_type": "code",
   "execution_count": 265,
   "id": "a883b198-2832-4ddc-b711-cda48a52a9df",
   "metadata": {},
   "outputs": [
    {
     "name": "stdout",
     "output_type": "stream",
     "text": [
      "Top avarge score is for 4 with average of 93.5\n"
     ]
    }
   ],
   "source": [
    "print(f\"Top avarge score is for {index_top_average} with average of {students_average[index_top_average]}\")"
   ]
  },
  {
   "cell_type": "code",
   "execution_count": 266,
   "id": "00b111a4-4356-4752-95f5-89e453a03903",
   "metadata": {},
   "outputs": [],
   "source": [
    "# Find subject-wise averages.\n",
    "subject_averages = np.mean(scores, axis=0)"
   ]
  },
  {
   "cell_type": "code",
   "execution_count": 267,
   "id": "9d386ad9-1fd2-474d-980f-982cd62f6d80",
   "metadata": {},
   "outputs": [
    {
     "data": {
      "text/plain": [
       "array([85.6, 82.2, 84.2, 85. ])"
      ]
     },
     "execution_count": 267,
     "metadata": {},
     "output_type": "execute_result"
    }
   ],
   "source": [
    "subject_averages"
   ]
  },
  {
   "cell_type": "code",
   "execution_count": 268,
   "id": "fa4e94a0-9661-485e-95e4-51ba171c1871",
   "metadata": {},
   "outputs": [
    {
     "data": {
      "text/plain": [
       "array([10, 10,  4,  8, 18, 14, 18, 14, 15,  4, 13,  8])"
      ]
     },
     "execution_count": 268,
     "metadata": {},
     "output_type": "execute_result"
    }
   ],
   "source": [
    "# Reshape an array of 12 elements into a 3x4 matrix, then transpose it.\n",
    "arr=np.random.randint(1,20,12)\n",
    "arr"
   ]
  },
  {
   "cell_type": "code",
   "execution_count": 270,
   "id": "e0f90843-5c53-4856-a5b4-9f244c7e6a1b",
   "metadata": {},
   "outputs": [
    {
     "data": {
      "text/plain": [
       "array([[10, 10,  4,  8],\n",
       "       [18, 14, 18, 14],\n",
       "       [15,  4, 13,  8]])"
      ]
     },
     "execution_count": 270,
     "metadata": {},
     "output_type": "execute_result"
    }
   ],
   "source": [
    "arr=arr.reshape(3,4)\n",
    "arr"
   ]
  },
  {
   "cell_type": "code",
   "execution_count": 271,
   "id": "e3ae802e-ff83-45c9-a8c7-f4c2c4d9608c",
   "metadata": {},
   "outputs": [
    {
     "data": {
      "text/plain": [
       "array([[10, 18, 15],\n",
       "       [10, 14,  4],\n",
       "       [ 4, 18, 13],\n",
       "       [ 8, 14,  8]])"
      ]
     },
     "execution_count": 271,
     "metadata": {},
     "output_type": "execute_result"
    }
   ],
   "source": [
    "arr.T"
   ]
  },
  {
   "cell_type": "code",
   "execution_count": 284,
   "id": "5618ade1-e6be-457c-a0ef-3e9b4620f01e",
   "metadata": {},
   "outputs": [
    {
     "name": "stdout",
     "output_type": "stream",
     "text": [
      "Array: ['apple' 'banana' 'apple' 'cherry']\n",
      "Unique Values ['apple' 'banana' 'cherry']\n",
      "[2 1 1]\n",
      "\n",
      "\n",
      "apple     2\n",
      "banana    1\n",
      "cherry    1\n",
      "Name: count, dtype: int64\n",
      "\n",
      "\n",
      "Counter({'apple': 2, 'banana': 1, 'cherry': 1})\n"
     ]
    }
   ],
   "source": [
    "# Given arr = np.array(['apple', 'banana', 'apple', 'cherry']), get:\n",
    "import pandas as pd\n",
    "from collections import Counter\n",
    "arr = np.array(['apple', 'banana', 'apple', 'cherry'])\n",
    "print(\"Array:\",arr)\n",
    "\n",
    "\n",
    "    # Unique values\n",
    "unique_values, count=np.unique(arr, return_counts=True)\n",
    "print(\"Unique Values\",unique_values)\n",
    "\n",
    "    # Count frequency of each fruit\n",
    "print(count)\n",
    "print(\"\\n\")\n",
    "print(pd.Series(arr).value_counts())\n",
    "print(\"\\n\")\n",
    "count=Counter(arr.tolist())\n",
    "print(count)"
   ]
  },
  {
   "cell_type": "code",
   "execution_count": 287,
   "id": "dc70e97f-0485-4d4c-9c6a-59e9cabed84e",
   "metadata": {},
   "outputs": [
    {
     "name": "stdout",
     "output_type": "stream",
     "text": [
      "{np.str_('Maybe'): np.int64(350), np.str_('No'): np.int64(329), np.str_('Yes'): np.int64(321)}\n"
     ]
    }
   ],
   "source": [
    "# How would you simulate survey results with responses from 1000 people:\n",
    "\n",
    "    # Options: \"Yes\", \"No\", \"Maybe\"\n",
    "options =[\"Yes\", \"No\", \"Maybe\"]\n",
    "results = np.random.choice(options, 1000)\n",
    "# results[:5]\n",
    "\n",
    "    # Use NumPy to generate random choices and count each response\n",
    "unique, count=np.unique(results, return_counts=True)\n",
    "ans=dict(zip(unique,count))\n",
    "print(ans)"
   ]
  },
  {
   "cell_type": "code",
   "execution_count": 288,
   "id": "c1da7aec-9d15-4d12-9197-27f37a6ca614",
   "metadata": {},
   "outputs": [
    {
     "name": "stdout",
     "output_type": "stream",
     "text": [
      "Maybe    350\n",
      "No       329\n",
      "Yes      321\n",
      "Name: count, dtype: int64\n"
     ]
    }
   ],
   "source": [
    "ans=pd.Series(results).value_counts()\n",
    "print(ans)"
   ]
  },
  {
   "cell_type": "code",
   "execution_count": 290,
   "id": "2b9d768d-0c65-450d-8f7e-4291e208234b",
   "metadata": {},
   "outputs": [
    {
     "data": {
      "text/plain": [
       "Counter({'Maybe': 350, 'No': 329, 'Yes': 321})"
      ]
     },
     "execution_count": 290,
     "metadata": {},
     "output_type": "execute_result"
    }
   ],
   "source": [
    "Counter(results.tolist())"
   ]
  },
  {
   "cell_type": "code",
   "execution_count": null,
   "id": "57481160-4b2e-4fb0-a342-7391f85a8356",
   "metadata": {},
   "outputs": [],
   "source": []
  }
 ],
 "metadata": {
  "kernelspec": {
   "display_name": "Python 3 (ipykernel)",
   "language": "python",
   "name": "python3"
  },
  "language_info": {
   "codemirror_mode": {
    "name": "ipython",
    "version": 3
   },
   "file_extension": ".py",
   "mimetype": "text/x-python",
   "name": "python",
   "nbconvert_exporter": "python",
   "pygments_lexer": "ipython3",
   "version": "3.10.12"
  }
 },
 "nbformat": 4,
 "nbformat_minor": 5
}
