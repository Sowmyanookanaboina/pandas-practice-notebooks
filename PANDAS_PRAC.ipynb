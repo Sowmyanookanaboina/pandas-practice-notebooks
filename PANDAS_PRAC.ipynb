{
 "cells": [
  {
   "cell_type": "code",
   "execution_count": 1,
   "id": "15015fb3-c0c1-41cf-b58b-959980bc9e82",
   "metadata": {},
   "outputs": [],
   "source": [
    "import pandas as pd"
   ]
  },
  {
   "cell_type": "code",
   "execution_count": 172,
   "id": "6115086d-ed9c-472d-be44-943a861f1a96",
   "metadata": {},
   "outputs": [],
   "source": [
    "sales=pd.read_csv(r\"/home/rgukt/Downloads/SuperMarket Analysis.csv\")"
   ]
  },
  {
   "cell_type": "code",
   "execution_count": 173,
   "id": "52c2aea3-abe4-4e0e-8a6a-2911df027604",
   "metadata": {},
   "outputs": [
    {
     "data": {
      "text/html": [
       "<div>\n",
       "<style scoped>\n",
       "    .dataframe tbody tr th:only-of-type {\n",
       "        vertical-align: middle;\n",
       "    }\n",
       "\n",
       "    .dataframe tbody tr th {\n",
       "        vertical-align: top;\n",
       "    }\n",
       "\n",
       "    .dataframe thead th {\n",
       "        text-align: right;\n",
       "    }\n",
       "</style>\n",
       "<table border=\"1\" class=\"dataframe\">\n",
       "  <thead>\n",
       "    <tr style=\"text-align: right;\">\n",
       "      <th></th>\n",
       "      <th>Invoice ID</th>\n",
       "      <th>Branch</th>\n",
       "      <th>City</th>\n",
       "      <th>Customer type</th>\n",
       "      <th>Gender</th>\n",
       "      <th>Product line</th>\n",
       "      <th>Unit price</th>\n",
       "      <th>Quantity</th>\n",
       "      <th>Tax 5%</th>\n",
       "      <th>Sales</th>\n",
       "      <th>Date</th>\n",
       "      <th>Time</th>\n",
       "      <th>Payment</th>\n",
       "      <th>cogs</th>\n",
       "      <th>gross margin percentage</th>\n",
       "      <th>gross income</th>\n",
       "      <th>Rating</th>\n",
       "    </tr>\n",
       "  </thead>\n",
       "  <tbody>\n",
       "    <tr>\n",
       "      <th>0</th>\n",
       "      <td>750-67-8428</td>\n",
       "      <td>Alex</td>\n",
       "      <td>Yangon</td>\n",
       "      <td>Member</td>\n",
       "      <td>Female</td>\n",
       "      <td>Health and beauty</td>\n",
       "      <td>74.69</td>\n",
       "      <td>7</td>\n",
       "      <td>26.1415</td>\n",
       "      <td>548.9715</td>\n",
       "      <td>1/5/2019</td>\n",
       "      <td>1:08:00 PM</td>\n",
       "      <td>Ewallet</td>\n",
       "      <td>522.83</td>\n",
       "      <td>4.761905</td>\n",
       "      <td>26.1415</td>\n",
       "      <td>9.1</td>\n",
       "    </tr>\n",
       "    <tr>\n",
       "      <th>1</th>\n",
       "      <td>226-31-3081</td>\n",
       "      <td>Giza</td>\n",
       "      <td>Naypyitaw</td>\n",
       "      <td>Normal</td>\n",
       "      <td>Female</td>\n",
       "      <td>Electronic accessories</td>\n",
       "      <td>15.28</td>\n",
       "      <td>5</td>\n",
       "      <td>3.8200</td>\n",
       "      <td>80.2200</td>\n",
       "      <td>3/8/2019</td>\n",
       "      <td>10:29:00 AM</td>\n",
       "      <td>Cash</td>\n",
       "      <td>76.40</td>\n",
       "      <td>4.761905</td>\n",
       "      <td>3.8200</td>\n",
       "      <td>9.6</td>\n",
       "    </tr>\n",
       "    <tr>\n",
       "      <th>2</th>\n",
       "      <td>631-41-3108</td>\n",
       "      <td>Alex</td>\n",
       "      <td>Yangon</td>\n",
       "      <td>Normal</td>\n",
       "      <td>Female</td>\n",
       "      <td>Home and lifestyle</td>\n",
       "      <td>46.33</td>\n",
       "      <td>7</td>\n",
       "      <td>16.2155</td>\n",
       "      <td>340.5255</td>\n",
       "      <td>3/3/2019</td>\n",
       "      <td>1:23:00 PM</td>\n",
       "      <td>Credit card</td>\n",
       "      <td>324.31</td>\n",
       "      <td>4.761905</td>\n",
       "      <td>16.2155</td>\n",
       "      <td>7.4</td>\n",
       "    </tr>\n",
       "    <tr>\n",
       "      <th>3</th>\n",
       "      <td>123-19-1176</td>\n",
       "      <td>Alex</td>\n",
       "      <td>Yangon</td>\n",
       "      <td>Member</td>\n",
       "      <td>Female</td>\n",
       "      <td>Health and beauty</td>\n",
       "      <td>58.22</td>\n",
       "      <td>8</td>\n",
       "      <td>23.2880</td>\n",
       "      <td>489.0480</td>\n",
       "      <td>1/27/2019</td>\n",
       "      <td>8:33:00 PM</td>\n",
       "      <td>Ewallet</td>\n",
       "      <td>465.76</td>\n",
       "      <td>4.761905</td>\n",
       "      <td>23.2880</td>\n",
       "      <td>8.4</td>\n",
       "    </tr>\n",
       "    <tr>\n",
       "      <th>4</th>\n",
       "      <td>373-73-7910</td>\n",
       "      <td>Alex</td>\n",
       "      <td>Yangon</td>\n",
       "      <td>Member</td>\n",
       "      <td>Female</td>\n",
       "      <td>Sports and travel</td>\n",
       "      <td>86.31</td>\n",
       "      <td>7</td>\n",
       "      <td>30.2085</td>\n",
       "      <td>634.3785</td>\n",
       "      <td>2/8/2019</td>\n",
       "      <td>10:37:00 AM</td>\n",
       "      <td>Ewallet</td>\n",
       "      <td>604.17</td>\n",
       "      <td>4.761905</td>\n",
       "      <td>30.2085</td>\n",
       "      <td>5.3</td>\n",
       "    </tr>\n",
       "  </tbody>\n",
       "</table>\n",
       "</div>"
      ],
      "text/plain": [
       "    Invoice ID Branch       City Customer type  Gender  \\\n",
       "0  750-67-8428   Alex     Yangon        Member  Female   \n",
       "1  226-31-3081   Giza  Naypyitaw        Normal  Female   \n",
       "2  631-41-3108   Alex     Yangon        Normal  Female   \n",
       "3  123-19-1176   Alex     Yangon        Member  Female   \n",
       "4  373-73-7910   Alex     Yangon        Member  Female   \n",
       "\n",
       "             Product line  Unit price  Quantity   Tax 5%     Sales       Date  \\\n",
       "0       Health and beauty       74.69         7  26.1415  548.9715   1/5/2019   \n",
       "1  Electronic accessories       15.28         5   3.8200   80.2200   3/8/2019   \n",
       "2      Home and lifestyle       46.33         7  16.2155  340.5255   3/3/2019   \n",
       "3       Health and beauty       58.22         8  23.2880  489.0480  1/27/2019   \n",
       "4       Sports and travel       86.31         7  30.2085  634.3785   2/8/2019   \n",
       "\n",
       "          Time      Payment    cogs  gross margin percentage  gross income  \\\n",
       "0   1:08:00 PM      Ewallet  522.83                 4.761905       26.1415   \n",
       "1  10:29:00 AM         Cash   76.40                 4.761905        3.8200   \n",
       "2   1:23:00 PM  Credit card  324.31                 4.761905       16.2155   \n",
       "3   8:33:00 PM      Ewallet  465.76                 4.761905       23.2880   \n",
       "4  10:37:00 AM      Ewallet  604.17                 4.761905       30.2085   \n",
       "\n",
       "   Rating  \n",
       "0     9.1  \n",
       "1     9.6  \n",
       "2     7.4  \n",
       "3     8.4  \n",
       "4     5.3  "
      ]
     },
     "execution_count": 173,
     "metadata": {},
     "output_type": "execute_result"
    }
   ],
   "source": [
    "sales.head()"
   ]
  },
  {
   "cell_type": "code",
   "execution_count": 38,
   "id": "ac6ae6b0-b965-4109-9d8e-8c1a4c1a2d90",
   "metadata": {},
   "outputs": [
    {
     "data": {
      "text/plain": [
       "'Food and beverages'"
      ]
     },
     "execution_count": 38,
     "metadata": {},
     "output_type": "execute_result"
    }
   ],
   "source": [
    "# Which product line generates the highest total revenue?\n",
    "# sales.groupby(\"Product line\")[\"Sales\"].sum().sort_values(ascending=False).head(1)\n",
    "sales.groupby(\"Product line\")[\"Sales\"].sum().sort_values(ascending=False).index[0]"
   ]
  },
  {
   "cell_type": "code",
   "execution_count": 39,
   "id": "7ec001a3-2c6c-4d7c-8d12-9f205139c34c",
   "metadata": {},
   "outputs": [
    {
     "data": {
      "text/plain": [
       "dtype('O')"
      ]
     },
     "execution_count": 39,
     "metadata": {},
     "output_type": "execute_result"
    }
   ],
   "source": [
    "# What are the busiest hours of the day?\n",
    "sales[\"Time\"].dtype"
   ]
  },
  {
   "cell_type": "code",
   "execution_count": 40,
   "id": "4e020dbf-5e71-425e-8ff6-e691e7401b0c",
   "metadata": {},
   "outputs": [],
   "source": [
    "sales[\"Time\"]=pd.to_datetime(sales[\"Time\"], format=\"%I:%M:%S %p\")"
   ]
  },
  {
   "cell_type": "code",
   "execution_count": 24,
   "id": "82d524b4-9417-4455-bb0b-ba4bb490a0e4",
   "metadata": {},
   "outputs": [
    {
     "data": {
      "text/plain": [
       "0      13:08:00\n",
       "1      10:29:00\n",
       "2      13:23:00\n",
       "3      20:33:00\n",
       "4      10:37:00\n",
       "         ...   \n",
       "995    13:46:00\n",
       "996    17:16:00\n",
       "997    13:22:00\n",
       "998    15:33:00\n",
       "999    13:28:00\n",
       "Name: Time, Length: 1000, dtype: object"
      ]
     },
     "execution_count": 24,
     "metadata": {},
     "output_type": "execute_result"
    }
   ],
   "source": [
    "# sales[\"Time\"] = sales['Time'].dt.strftime('%H:%M:%S')\n",
    "# sales[\"Time\"]"
   ]
  },
  {
   "cell_type": "code",
   "execution_count": 33,
   "id": "559de534-1779-46a3-b87f-120cde608b43",
   "metadata": {},
   "outputs": [
    {
     "data": {
      "text/plain": [
       "0      13:08:00\n",
       "1      10:29:00\n",
       "2      13:23:00\n",
       "3      20:33:00\n",
       "4      10:37:00\n",
       "         ...   \n",
       "995    13:46:00\n",
       "996    17:16:00\n",
       "997    13:22:00\n",
       "998    15:33:00\n",
       "999    13:28:00\n",
       "Name: Time, Length: 1000, dtype: object"
      ]
     },
     "execution_count": 33,
     "metadata": {},
     "output_type": "execute_result"
    }
   ],
   "source": [
    "sales[\"Time\"]"
   ]
  },
  {
   "cell_type": "code",
   "execution_count": 43,
   "id": "f616bb9a-41cc-443c-ba25-811940798661",
   "metadata": {},
   "outputs": [
    {
     "data": {
      "text/plain": [
       "dtype('int32')"
      ]
     },
     "execution_count": 43,
     "metadata": {},
     "output_type": "execute_result"
    }
   ],
   "source": [
    "sales[\"Hours\"]=sales[\"Time\"].dt.hour\n",
    "sales[\"Hours\"].dtype"
   ]
  },
  {
   "cell_type": "code",
   "execution_count": 50,
   "id": "24d4119b-ced2-44f8-a12d-adaed30aecdc",
   "metadata": {},
   "outputs": [
    {
     "data": {
      "text/plain": [
       "Hours\n",
       "19    113\n",
       "13    103\n",
       "15    102\n",
       "10    101\n",
       "18     93\n",
       "Name: count, dtype: int64"
      ]
     },
     "execution_count": 50,
     "metadata": {},
     "output_type": "execute_result"
    }
   ],
   "source": [
    "busiest_hours=sales[\"Hours\"].value_counts().sort_values(ascending=False).head(5)\n",
    "busiest_hours"
   ]
  },
  {
   "cell_type": "code",
   "execution_count": 51,
   "id": "8f3be5df-af3e-46a5-bf31-1ace35334c83",
   "metadata": {},
   "outputs": [
    {
     "data": {
      "text/plain": [
       "Hours\n",
       "10    101\n",
       "11     90\n",
       "12     89\n",
       "13    103\n",
       "14     83\n",
       "15    102\n",
       "16     77\n",
       "17     74\n",
       "18     93\n",
       "19    113\n",
       "20     75\n",
       "Name: count, dtype: int64"
      ]
     },
     "execution_count": 51,
     "metadata": {},
     "output_type": "execute_result"
    }
   ],
   "source": [
    "busiest_hours=sales[\"Hours\"].value_counts().sort_index()\n",
    "busiest_hours"
   ]
  },
  {
   "cell_type": "code",
   "execution_count": 54,
   "id": "76ea9b32-92a8-4fb3-af24-6bb9e87ab60b",
   "metadata": {},
   "outputs": [
    {
     "data": {
      "image/png": "[encoded data removed]",
      "text/plain": [
       "<Figure size 640x480 with 1 Axes>"
      ]
     },
     "metadata": {},
     "output_type": "display_data"
    }
   ],
   "source": [
    "import matplotlib.pyplot as plt\n",
    "%matplotlib inline\n",
    "busiest_hours.plot(kind=\"bar\")\n",
    "plt.xlabel(\"Hours in 24hr format\")\n",
    "plt.ylabel(\"Total Transactions\")\n",
    "plt.title(\"Busiest Hours of the day\")\n",
    "plt.xticks(rotation=0)\n",
    "plt.grid(axis='y')\n",
    "\n",
    "plt.show()"
   ]
  },
  {
   "cell_type": "code",
   "execution_count": 56,
   "id": "cb0275ab-67e0-44ed-8cfa-baa95671be89",
   "metadata": {},
   "outputs": [
    {
     "data": {
      "text/plain": [
       "Branch\n",
       "Giza     16.052367\n",
       "Cairo    15.232024\n",
       "Alex     14.874001\n",
       "Name: gross income, dtype: float64"
      ]
     },
     "execution_count": 56,
     "metadata": {},
     "output_type": "execute_result"
    }
   ],
   "source": [
    "# Which branch gives the highest gross income on average?\n",
    "sales.groupby(\"Branch\")[\"gross income\"].mean().sort_values(ascending=False)"
   ]
  },
  {
   "cell_type": "code",
   "execution_count": 57,
   "id": "f5a5369a-2e7a-4a0d-8ca2-d3566492f55d",
   "metadata": {},
   "outputs": [
    {
     "data": {
      "text/plain": [
       "<Axes: xlabel='Branch'>"
      ]
     },
     "execution_count": 57,
     "metadata": {},
     "output_type": "execute_result"
    },
    {
     "data": {
      "image/png": "[encoded data removed]",
      "text/plain": [
       "<Figure size 640x480 with 1 Axes>"
      ]
     },
     "metadata": {},
     "output_type": "display_data"
    }
   ],
   "source": [
    "sales.groupby(\"Branch\")[\"gross income\"].mean().plot(kind=\"bar\")"
   ]
  },
  {
   "cell_type": "code",
   "execution_count": 60,
   "id": "35957b25-71fc-4772-9eae-2b6a680b753a",
   "metadata": {},
   "outputs": [
    {
     "data": {
      "text/plain": [
       "'Female'"
      ]
     },
     "execution_count": 60,
     "metadata": {},
     "output_type": "execute_result"
    }
   ],
   "source": [
    "# Do males or females spend more?\n",
    "sales.groupby(\"Gender\")[\"Sales\"].sum().sort_values(ascending=False).index[0]"
   ]
  },
  {
   "cell_type": "code",
   "execution_count": 64,
   "id": "528523f2-b29d-4af3-9934-2661df10d84f",
   "metadata": {},
   "outputs": [
    {
     "data": {
      "text/plain": [
       "'Ewallet'"
      ]
     },
     "execution_count": 64,
     "metadata": {},
     "output_type": "execute_result"
    }
   ],
   "source": [
    "# Which payment method is used most often?\n",
    "sales[\"Payment\"].value_counts().sort_values(ascending=False).index[0]"
   ]
  },
  {
   "cell_type": "code",
   "execution_count": 66,
   "id": "34f63f39-1603-45bf-9f10-2e8be77be76f",
   "metadata": {},
   "outputs": [
    {
     "data": {
      "text/plain": [
       "Text(0, 0.5, 'Frequency of Usage')"
      ]
     },
     "execution_count": 66,
     "metadata": {},
     "output_type": "execute_result"
    },
    {
     "data": {
      "image/png": "[encoded data removed]",
      "text/plain": [
       "<Figure size 640x480 with 1 Axes>"
      ]
     },
     "metadata": {},
     "output_type": "display_data"
    }
   ],
   "source": [
    "sales[\"Payment\"].value_counts().plot(kind=\"bar\")\n",
    "plt.xticks(rotation=0)\n",
    "plt.xlabel(\"Payment Mode\")\n",
    "plt.ylabel(\"Frequency of Usage\")"
   ]
  },
  {
   "cell_type": "code",
   "execution_count": 71,
   "id": "a4ec3aac-263a-455b-b789-063e3abaf44d",
   "metadata": {},
   "outputs": [
    {
     "data": {
      "text/plain": [
       "np.float64(-0.03644170499701835)"
      ]
     },
     "execution_count": 71,
     "metadata": {},
     "output_type": "execute_result"
    }
   ],
   "source": [
    "# Is there a relationship between rating and total bill?\n",
    "sales[\"Sales\"].corr(sales[\"Rating\"])"
   ]
  },
  {
   "cell_type": "code",
   "execution_count": 73,
   "id": "22e5920a-9acb-4094-8edd-7b27320f25ad",
   "metadata": {},
   "outputs": [
    {
     "data": {
      "text/plain": [
       "<matplotlib.collections.PathCollection at 0x7f306c1efc70>"
      ]
     },
     "execution_count": 73,
     "metadata": {},
     "output_type": "execute_result"
    },
    {
     "data": {
      "image/png": "[encoded data removed]",
      "text/plain": [
       "<Figure size 640x480 with 1 Axes>"
      ]
     },
     "metadata": {},
     "output_type": "display_data"
    }
   ],
   "source": [
    "plt.scatter(sales[\"Sales\"],sales[\"Rating\"])\n"
   ]
  },
  {
   "cell_type": "code",
   "execution_count": 75,
   "id": "80eccacc-9ce0-46b8-bfe3-9a2cadf9e91c",
   "metadata": {},
   "outputs": [
    {
     "data": {
      "text/plain": [
       "City\n",
       "Mandalay     15.232024\n",
       "Naypyitaw    16.052367\n",
       "Yangon       14.874001\n",
       "Name: gross income, dtype: float64"
      ]
     },
     "execution_count": 75,
     "metadata": {},
     "output_type": "execute_result"
    }
   ],
   "source": [
    "# What’s the average gross income per city?\n",
    "sales.groupby(\"City\")[\"gross income\"].mean()"
   ]
  },
  {
   "cell_type": "code",
   "execution_count": 78,
   "id": "ee57674c-8069-4a0b-9f5b-6bcb022f6494",
   "metadata": {},
   "outputs": [
    {
     "data": {
      "text/plain": [
       "'Food and beverages'"
      ]
     },
     "execution_count": 78,
     "metadata": {},
     "output_type": "execute_result"
    }
   ],
   "source": [
    "# Which product line has the highest average rating?\n",
    "sales.groupby(\"Product line\")[\"Rating\"].mean().sort_values(ascending=False).index[0]"
   ]
  },
  {
   "cell_type": "markdown",
   "id": "1ef869bb-1957-48bf-a63d-4ec2f27d3f66",
   "metadata": {},
   "source": [
    "**TITANIC DATASET**"
   ]
  },
  {
   "cell_type": "code",
   "execution_count": 84,
   "id": "9471fa30-aca6-4177-8a0f-6a30fe2b41e5",
   "metadata": {},
   "outputs": [],
   "source": [
    "import seaborn as sns\n"
   ]
  },
  {
   "cell_type": "code",
   "execution_count": 86,
   "id": "07de288c-cf4f-43dc-b3e8-910ed618f3d0",
   "metadata": {},
   "outputs": [
    {
     "data": {
      "text/html": [
       "<div>\n",
       "<style scoped>\n",
       "    .dataframe tbody tr th:only-of-type {\n",
       "        vertical-align: middle;\n",
       "    }\n",
       "\n",
       "    .dataframe tbody tr th {\n",
       "        vertical-align: top;\n",
       "    }\n",
       "\n",
       "    .dataframe thead th {\n",
       "        text-align: right;\n",
       "    }\n",
       "</style>\n",
       "<table border=\"1\" class=\"dataframe\">\n",
       "  <thead>\n",
       "    <tr style=\"text-align: right;\">\n",
       "      <th></th>\n",
       "      <th>survived</th>\n",
       "      <th>pclass</th>\n",
       "      <th>sex</th>\n",
       "      <th>age</th>\n",
       "      <th>sibsp</th>\n",
       "      <th>parch</th>\n",
       "      <th>fare</th>\n",
       "      <th>embarked</th>\n",
       "      <th>class</th>\n",
       "      <th>who</th>\n",
       "      <th>adult_male</th>\n",
       "      <th>deck</th>\n",
       "      <th>embark_town</th>\n",
       "      <th>alive</th>\n",
       "      <th>alone</th>\n",
       "    </tr>\n",
       "  </thead>\n",
       "  <tbody>\n",
       "    <tr>\n",
       "      <th>0</th>\n",
       "      <td>0</td>\n",
       "      <td>3</td>\n",
       "      <td>male</td>\n",
       "      <td>22.0</td>\n",
       "      <td>1</td>\n",
       "      <td>0</td>\n",
       "      <td>7.2500</td>\n",
       "      <td>S</td>\n",
       "      <td>Third</td>\n",
       "      <td>man</td>\n",
       "      <td>True</td>\n",
       "      <td>NaN</td>\n",
       "      <td>Southampton</td>\n",
       "      <td>no</td>\n",
       "      <td>False</td>\n",
       "    </tr>\n",
       "    <tr>\n",
       "      <th>1</th>\n",
       "      <td>1</td>\n",
       "      <td>1</td>\n",
       "      <td>female</td>\n",
       "      <td>38.0</td>\n",
       "      <td>1</td>\n",
       "      <td>0</td>\n",
       "      <td>71.2833</td>\n",
       "      <td>C</td>\n",
       "      <td>First</td>\n",
       "      <td>woman</td>\n",
       "      <td>False</td>\n",
       "      <td>C</td>\n",
       "      <td>Cherbourg</td>\n",
       "      <td>yes</td>\n",
       "      <td>False</td>\n",
       "    </tr>\n",
       "  </tbody>\n",
       "</table>\n",
       "</div>"
      ],
      "text/plain": [
       "   survived  pclass     sex   age  sibsp  parch     fare embarked  class  \\\n",
       "0         0       3    male  22.0      1      0   7.2500        S  Third   \n",
       "1         1       1  female  38.0      1      0  71.2833        C  First   \n",
       "\n",
       "     who  adult_male deck  embark_town alive  alone  \n",
       "0    man        True  NaN  Southampton    no  False  \n",
       "1  woman       False    C    Cherbourg   yes  False  "
      ]
     },
     "execution_count": 86,
     "metadata": {},
     "output_type": "execute_result"
    }
   ],
   "source": [
    "df=sns.load_dataset(\"titanic\")\n",
    "df.head(2)"
   ]
  },
  {
   "cell_type": "code",
   "execution_count": 94,
   "id": "3f6b1d46-67cd-4bbc-a597-10d49254a823",
   "metadata": {},
   "outputs": [
    {
     "data": {
      "text/plain": [
       "38.38383838383838"
      ]
     },
     "execution_count": 94,
     "metadata": {},
     "output_type": "execute_result"
    }
   ],
   "source": [
    "# What is the overall survival rate?\n",
    "(df[df[\"survived\"]==1].shape[0]/df.shape[0])*100"
   ]
  },
  {
   "cell_type": "code",
   "execution_count": 99,
   "id": "e57cd15b-4cf5-4961-8540-d21d402e378d",
   "metadata": {},
   "outputs": [
    {
     "data": {
      "text/plain": [
       "who\n",
       "child    0.590361\n",
       "man      0.163873\n",
       "woman    0.756458\n",
       "Name: survived, dtype: float64"
      ]
     },
     "execution_count": 99,
     "metadata": {},
     "output_type": "execute_result"
    }
   ],
   "source": [
    "# Does gender influence survival?\n",
    "df.groupby(\"who\")[\"survived\"].mean()"
   ]
  },
  {
   "cell_type": "code",
   "execution_count": 100,
   "id": "666ca92a-2db9-44bd-8428-7b3c74cfcab4",
   "metadata": {},
   "outputs": [
    {
     "data": {
      "text/plain": [
       "<Axes: xlabel='who', ylabel='survived'>"
      ]
     },
     "execution_count": 100,
     "metadata": {},
     "output_type": "execute_result"
    },
    {
     "data": {
      "image/png": "[encoded data removed]",
      "text/plain": [
       "<Figure size 640x480 with 1 Axes>"
      ]
     },
     "metadata": {},
     "output_type": "display_data"
    }
   ],
   "source": [
    "sns.barplot(data=df,x=\"who\",y=\"survived\")"
   ]
  },
  {
   "cell_type": "code",
   "execution_count": 101,
   "id": "33198b50-19ef-4cab-af00-35adce4c11d7",
   "metadata": {},
   "outputs": [
    {
     "data": {
      "text/plain": [
       "pclass\n",
       "3    491\n",
       "1    216\n",
       "2    184\n",
       "Name: count, dtype: int64"
      ]
     },
     "execution_count": 101,
     "metadata": {},
     "output_type": "execute_result"
    }
   ],
   "source": [
    "# Does class (pclass) affect survival rate?\n",
    "df[\"pclass\"].value_counts()"
   ]
  },
  {
   "cell_type": "code",
   "execution_count": 105,
   "id": "95cf0f27-7b0c-404a-bc12-f9492d35747e",
   "metadata": {},
   "outputs": [
    {
     "data": {
      "text/plain": [
       "Text(0.5, 1.0, 'Survival Rate by Pclass')"
      ]
     },
     "execution_count": 105,
     "metadata": {},
     "output_type": "execute_result"
    },
    {
     "data": {
      "image/png": "[encoded data removed]",
      "text/plain": [
       "<Figure size 640x480 with 1 Axes>"
      ]
     },
     "metadata": {},
     "output_type": "display_data"
    }
   ],
   "source": [
    "# df.groupby(\"pclass\")[\"survived\"].mean().plot(kind=\"bar\")\n",
    "sns.barplot(data=df,x=\"pclass\",y=\"survived\")\n",
    "plt.xlabel(\"Sex\")\n",
    "plt.ylabel(\"Survival Rate\")\n",
    "plt.title(\"Survival Rate by Pclass\")"
   ]
  },
  {
   "cell_type": "code",
   "execution_count": 109,
   "id": "bd6aacda-e951-495e-bcc7-290d171c299d",
   "metadata": {},
   "outputs": [
    {
     "data": {
      "text/plain": [
       "np.float64(28.343689655172415)"
      ]
     },
     "execution_count": 109,
     "metadata": {},
     "output_type": "execute_result"
    }
   ],
   "source": [
    "# What is the average age of passengers who survived?\n",
    "df[df[\"survived\"]==1][\"age\"].mean()"
   ]
  },
  {
   "cell_type": "code",
   "execution_count": 115,
   "id": "05ad6ed8-b0c4-40dc-8b66-36ac851060c0",
   "metadata": {},
   "outputs": [
    {
     "data": {
      "text/plain": [
       "embarked\n",
       "C     93\n",
       "Q     30\n",
       "S    217\n",
       "Name: survived, dtype: int64"
      ]
     },
     "execution_count": 115,
     "metadata": {},
     "output_type": "execute_result"
    }
   ],
   "source": [
    "# Which embarkation point had the highest number of survivors?\n",
    "df[df[\"survived\"]==1].groupby(\"embarked\")[\"survived\"].count()"
   ]
  },
  {
   "cell_type": "code",
   "execution_count": 117,
   "id": "66f061ae-9736-4dbd-8c73-6bc2e0a012e0",
   "metadata": {},
   "outputs": [
    {
     "data": {
      "text/html": [
       "<div>\n",
       "<style scoped>\n",
       "    .dataframe tbody tr th:only-of-type {\n",
       "        vertical-align: middle;\n",
       "    }\n",
       "\n",
       "    .dataframe tbody tr th {\n",
       "        vertical-align: top;\n",
       "    }\n",
       "\n",
       "    .dataframe thead th {\n",
       "        text-align: right;\n",
       "    }\n",
       "</style>\n",
       "<table border=\"1\" class=\"dataframe\">\n",
       "  <thead>\n",
       "    <tr style=\"text-align: right;\">\n",
       "      <th></th>\n",
       "      <th>count</th>\n",
       "      <th>mean</th>\n",
       "      <th>std</th>\n",
       "      <th>min</th>\n",
       "      <th>25%</th>\n",
       "      <th>50%</th>\n",
       "      <th>75%</th>\n",
       "      <th>max</th>\n",
       "    </tr>\n",
       "    <tr>\n",
       "      <th>survived</th>\n",
       "      <th></th>\n",
       "      <th></th>\n",
       "      <th></th>\n",
       "      <th></th>\n",
       "      <th></th>\n",
       "      <th></th>\n",
       "      <th></th>\n",
       "      <th></th>\n",
       "    </tr>\n",
       "  </thead>\n",
       "  <tbody>\n",
       "    <tr>\n",
       "      <th>0</th>\n",
       "      <td>424.0</td>\n",
       "      <td>30.626179</td>\n",
       "      <td>14.172110</td>\n",
       "      <td>1.00</td>\n",
       "      <td>21.0</td>\n",
       "      <td>28.0</td>\n",
       "      <td>39.0</td>\n",
       "      <td>74.0</td>\n",
       "    </tr>\n",
       "    <tr>\n",
       "      <th>1</th>\n",
       "      <td>290.0</td>\n",
       "      <td>28.343690</td>\n",
       "      <td>14.950952</td>\n",
       "      <td>0.42</td>\n",
       "      <td>19.0</td>\n",
       "      <td>28.0</td>\n",
       "      <td>36.0</td>\n",
       "      <td>80.0</td>\n",
       "    </tr>\n",
       "  </tbody>\n",
       "</table>\n",
       "</div>"
      ],
      "text/plain": [
       "          count       mean        std   min   25%   50%   75%   max\n",
       "survived                                                           \n",
       "0         424.0  30.626179  14.172110  1.00  21.0  28.0  39.0  74.0\n",
       "1         290.0  28.343690  14.950952  0.42  19.0  28.0  36.0  80.0"
      ]
     },
     "execution_count": 117,
     "metadata": {},
     "output_type": "execute_result"
    }
   ],
   "source": [
    "# What is the distribution of age by survival status?\n",
    "df.groupby(\"survived\")[\"age\"].describe()"
   ]
  },
  {
   "cell_type": "code",
   "execution_count": 121,
   "id": "540fc3b5-8256-49b1-ad5d-aa405a5ed88d",
   "metadata": {},
   "outputs": [
    {
     "data": {
      "text/plain": [
       "<Axes: xlabel='age', ylabel='Count'>"
      ]
     },
     "execution_count": 121,
     "metadata": {},
     "output_type": "execute_result"
    },
    {
     "data": {
      "image/png": "[encoded data removed]",
      "text/plain": [
       "<Figure size 640x480 with 1 Axes>"
      ]
     },
     "metadata": {},
     "output_type": "display_data"
    }
   ],
   "source": [
    "sns.histplot(data=df,x=\"age\",hue=\"survived\",kde=False,palette=\"Set1\")"
   ]
  },
  {
   "cell_type": "code",
   "execution_count": 125,
   "id": "716dd0b8-7b5d-4e25-8374-a78f95e90794",
   "metadata": {},
   "outputs": [
    {
     "data": {
      "text/plain": [
       "<Axes: xlabel='age', ylabel='Density'>"
      ]
     },
     "execution_count": 125,
     "metadata": {},
     "output_type": "execute_result"
    },
    {
     "data": {
      "image/png": "[encoded data removed]",
      "text/plain": [
       "<Figure size 640x480 with 1 Axes>"
      ]
     },
     "metadata": {},
     "output_type": "display_data"
    }
   ],
   "source": [
    "sns.kdeplot(data=df,x=\"age\",hue=\"survived\")"
   ]
  },
  {
   "cell_type": "code",
   "execution_count": 126,
   "id": "8e1ae966-4d69-47e7-9ef3-1065e9e5bc1c",
   "metadata": {},
   "outputs": [
    {
     "data": {
      "text/plain": [
       "age\n",
       "0.42     1.0\n",
       "0.67     1.0\n",
       "0.75     1.0\n",
       "0.83     1.0\n",
       "0.92     1.0\n",
       "        ... \n",
       "70.00    0.0\n",
       "70.50    0.0\n",
       "71.00    0.0\n",
       "74.00    0.0\n",
       "80.00    1.0\n",
       "Name: survived, Length: 88, dtype: float64"
      ]
     },
     "execution_count": 126,
     "metadata": {},
     "output_type": "execute_result"
    }
   ],
   "source": [
    "# Which age group had the highest survival rate?\n",
    "df.groupby(\"age\")[\"survived\"].mean()"
   ]
  },
  {
   "cell_type": "code",
   "execution_count": 128,
   "id": "75ec9e8e-9a4e-424f-86e1-2775c6e70982",
   "metadata": {},
   "outputs": [],
   "source": [
    "bins = [0, 12, 18, 35, 60, 120]\n",
    "labels = ['Child', 'Teen', 'Young Adult', 'Adult', 'Senior']\n",
    "df['AgeGroup'] = pd.cut(df['age'], bins=bins, labels=labels, right=False)"
   ]
  },
  {
   "cell_type": "code",
   "execution_count": 130,
   "id": "2ece9baf-71c3-4516-a1ad-42c13275d16a",
   "metadata": {},
   "outputs": [
    {
     "name": "stderr",
     "output_type": "stream",
     "text": [
      "/tmp/ipykernel_108519/3523027246.py:1: FutureWarning: The default of observed=False is deprecated and will be changed to True in a future version of pandas. Pass observed=False to retain current behavior or observed=True to adopt the future default and silence this warning.\n",
      "  survival_age_group=df.groupby(\"AgeGroup\")[\"survived\"].mean()\n"
     ]
    },
    {
     "data": {
      "text/plain": [
       "AgeGroup\n",
       "Child          0.573529\n",
       "Teen           0.488889\n",
       "Young Adult    0.368852\n",
       "Adult          0.416268\n",
       "Senior         0.269231\n",
       "Name: survived, dtype: float64"
      ]
     },
     "execution_count": 130,
     "metadata": {},
     "output_type": "execute_result"
    }
   ],
   "source": [
    "survival_age_group=df.groupby(\"AgeGroup\")[\"survived\"].mean()\n",
    "survival_age_group"
   ]
  },
  {
   "cell_type": "code",
   "execution_count": 131,
   "id": "2a9b68bf-acf0-4d10-93ab-8de08f65f89d",
   "metadata": {},
   "outputs": [
    {
     "data": {
      "text/plain": [
       "<Axes: xlabel='AgeGroup'>"
      ]
     },
     "execution_count": 131,
     "metadata": {},
     "output_type": "execute_result"
    },
    {
     "data": {
      "image/png": "[encoded data removed]",
      "text/plain": [
       "<Figure size 640x480 with 1 Axes>"
      ]
     },
     "metadata": {},
     "output_type": "display_data"
    }
   ],
   "source": [
    "sns.barplot(x=survival_age_group.index,y=survival_age_group.values)"
   ]
  },
  {
   "cell_type": "code",
   "execution_count": 136,
   "id": "d543a292-2b3b-4a9c-a55b-76018b18ef2a",
   "metadata": {},
   "outputs": [
    {
     "data": {
      "text/plain": [
       "(array([0, 1, 2, 3, 4]),\n",
       " [Text(0, 0, 'Child'),\n",
       "  Text(1, 0, 'Teen'),\n",
       "  Text(2, 0, 'Young Adult'),\n",
       "  Text(3, 0, 'Adult'),\n",
       "  Text(4, 0, 'Senior')])"
      ]
     },
     "execution_count": 136,
     "metadata": {},
     "output_type": "execute_result"
    },
    {
     "data": {
      "image/png": "[encoded data removed]",
      "text/plain": [
       "<Figure size 640x480 with 1 Axes>"
      ]
     },
     "metadata": {},
     "output_type": "display_data"
    }
   ],
   "source": [
    "survival_age_group.plot(kind=\"bar\")\n",
    "plt.xlabel(\"Age Group\")\n",
    "plt.ylabel(\"Survival Rate\")\n",
    "plt.title(\"Survival by age group\")\n",
    "plt.xticks(rotation=50)"
   ]
  },
  {
   "cell_type": "code",
   "execution_count": 137,
   "id": "af2900aa-317e-4f6f-a416-6ab210ab45d9",
   "metadata": {},
   "outputs": [
    {
     "data": {
      "text/plain": [
       "np.float64(0.2573065223849625)"
      ]
     },
     "execution_count": 137,
     "metadata": {},
     "output_type": "execute_result"
    }
   ],
   "source": [
    "# Does fare correlate with survival?\n",
    "df[\"fare\"].corr(df[\"survived\"])"
   ]
  },
  {
   "cell_type": "code",
   "execution_count": 142,
   "id": "84f9d997-d985-4137-8268-7ab6ce5f08d1",
   "metadata": {},
   "outputs": [
    {
     "data": {
      "image/png": "[encoded data removed]",
      "text/plain": [
       "<Figure size 640x480 with 1 Axes>"
      ]
     },
     "metadata": {},
     "output_type": "display_data"
    }
   ],
   "source": [
    "sns.boxplot(x='survived', y='fare', data=df)\n",
    "plt.title('Fare Distribution by Survival Status')\n",
    "plt.xlabel('Survived')\n",
    "plt.ylabel('Fare')\n",
    "plt.show()"
   ]
  },
  {
   "cell_type": "markdown",
   "id": "8edaaebe-b6a8-47ab-ae85-1c4a3df83901",
   "metadata": {},
   "source": [
    "**NETFLIX DATASET PRACTICE**"
   ]
  },
  {
   "cell_type": "code",
   "execution_count": 174,
   "id": "4af0b6e9-f00b-48cc-93c7-9e7bd084dbde",
   "metadata": {},
   "outputs": [
    {
     "data": {
      "text/html": [
       "<div>\n",
       "<style scoped>\n",
       "    .dataframe tbody tr th:only-of-type {\n",
       "        vertical-align: middle;\n",
       "    }\n",
       "\n",
       "    .dataframe tbody tr th {\n",
       "        vertical-align: top;\n",
       "    }\n",
       "\n",
       "    .dataframe thead th {\n",
       "        text-align: right;\n",
       "    }\n",
       "</style>\n",
       "<table border=\"1\" class=\"dataframe\">\n",
       "  <thead>\n",
       "    <tr style=\"text-align: right;\">\n",
       "      <th></th>\n",
       "      <th>show_id</th>\n",
       "      <th>type</th>\n",
       "      <th>title</th>\n",
       "      <th>director</th>\n",
       "      <th>cast</th>\n",
       "      <th>country</th>\n",
       "      <th>date_added</th>\n",
       "      <th>release_year</th>\n",
       "      <th>rating</th>\n",
       "      <th>duration</th>\n",
       "      <th>listed_in</th>\n",
       "      <th>description</th>\n",
       "    </tr>\n",
       "  </thead>\n",
       "  <tbody>\n",
       "    <tr>\n",
       "      <th>0</th>\n",
       "      <td>s1</td>\n",
       "      <td>Movie</td>\n",
       "      <td>Dick Johnson Is Dead</td>\n",
       "      <td>Kirsten Johnson</td>\n",
       "      <td>NaN</td>\n",
       "      <td>United States</td>\n",
       "      <td>September 25, 2021</td>\n",
       "      <td>2020</td>\n",
       "      <td>PG-13</td>\n",
       "      <td>90 min</td>\n",
       "      <td>Documentaries</td>\n",
       "      <td>As her father nears the end of his life, filmm...</td>\n",
       "    </tr>\n",
       "    <tr>\n",
       "      <th>1</th>\n",
       "      <td>s2</td>\n",
       "      <td>TV Show</td>\n",
       "      <td>Blood &amp; Water</td>\n",
       "      <td>NaN</td>\n",
       "      <td>Ama Qamata, Khosi Ngema, Gail Mabalane, Thaban...</td>\n",
       "      <td>South Africa</td>\n",
       "      <td>September 24, 2021</td>\n",
       "      <td>2021</td>\n",
       "      <td>TV-MA</td>\n",
       "      <td>2 Seasons</td>\n",
       "      <td>International TV Shows, TV Dramas, TV Mysteries</td>\n",
       "      <td>After crossing paths at a party, a Cape Town t...</td>\n",
       "    </tr>\n",
       "    <tr>\n",
       "      <th>2</th>\n",
       "      <td>s3</td>\n",
       "      <td>TV Show</td>\n",
       "      <td>Ganglands</td>\n",
       "      <td>Julien Leclercq</td>\n",
       "      <td>Sami Bouajila, Tracy Gotoas, Samuel Jouy, Nabi...</td>\n",
       "      <td>NaN</td>\n",
       "      <td>September 24, 2021</td>\n",
       "      <td>2021</td>\n",
       "      <td>TV-MA</td>\n",
       "      <td>1 Season</td>\n",
       "      <td>Crime TV Shows, International TV Shows, TV Act...</td>\n",
       "      <td>To protect his family from a powerful drug lor...</td>\n",
       "    </tr>\n",
       "    <tr>\n",
       "      <th>3</th>\n",
       "      <td>s4</td>\n",
       "      <td>TV Show</td>\n",
       "      <td>Jailbirds New Orleans</td>\n",
       "      <td>NaN</td>\n",
       "      <td>NaN</td>\n",
       "      <td>NaN</td>\n",
       "      <td>September 24, 2021</td>\n",
       "      <td>2021</td>\n",
       "      <td>TV-MA</td>\n",
       "      <td>1 Season</td>\n",
       "      <td>Docuseries, Reality TV</td>\n",
       "      <td>Feuds, flirtations and toilet talk go down amo...</td>\n",
       "    </tr>\n",
       "    <tr>\n",
       "      <th>4</th>\n",
       "      <td>s5</td>\n",
       "      <td>TV Show</td>\n",
       "      <td>Kota Factory</td>\n",
       "      <td>NaN</td>\n",
       "      <td>Mayur More, Jitendra Kumar, Ranjan Raj, Alam K...</td>\n",
       "      <td>India</td>\n",
       "      <td>September 24, 2021</td>\n",
       "      <td>2021</td>\n",
       "      <td>TV-MA</td>\n",
       "      <td>2 Seasons</td>\n",
       "      <td>International TV Shows, Romantic TV Shows, TV ...</td>\n",
       "      <td>In a city of coaching centers known to train I...</td>\n",
       "    </tr>\n",
       "  </tbody>\n",
       "</table>\n",
       "</div>"
      ],
      "text/plain": [
       "  show_id     type                  title         director  \\\n",
       "0      s1    Movie   Dick Johnson Is Dead  Kirsten Johnson   \n",
       "1      s2  TV Show          Blood & Water              NaN   \n",
       "2      s3  TV Show              Ganglands  Julien Leclercq   \n",
       "3      s4  TV Show  Jailbirds New Orleans              NaN   \n",
       "4      s5  TV Show           Kota Factory              NaN   \n",
       "\n",
       "                                                cast        country  \\\n",
       "0                                                NaN  United States   \n",
       "1  Ama Qamata, Khosi Ngema, Gail Mabalane, Thaban...   South Africa   \n",
       "2  Sami Bouajila, Tracy Gotoas, Samuel Jouy, Nabi...            NaN   \n",
       "3                                                NaN            NaN   \n",
       "4  Mayur More, Jitendra Kumar, Ranjan Raj, Alam K...          India   \n",
       "\n",
       "           date_added  release_year rating   duration  \\\n",
       "0  September 25, 2021          2020  PG-13     90 min   \n",
       "1  September 24, 2021          2021  TV-MA  2 Seasons   \n",
       "2  September 24, 2021          2021  TV-MA   1 Season   \n",
       "3  September 24, 2021          2021  TV-MA   1 Season   \n",
       "4  September 24, 2021          2021  TV-MA  2 Seasons   \n",
       "\n",
       "                                           listed_in  \\\n",
       "0                                      Documentaries   \n",
       "1    International TV Shows, TV Dramas, TV Mysteries   \n",
       "2  Crime TV Shows, International TV Shows, TV Act...   \n",
       "3                             Docuseries, Reality TV   \n",
       "4  International TV Shows, Romantic TV Shows, TV ...   \n",
       "\n",
       "                                         description  \n",
       "0  As her father nears the end of his life, filmm...  \n",
       "1  After crossing paths at a party, a Cape Town t...  \n",
       "2  To protect his family from a powerful drug lor...  \n",
       "3  Feuds, flirtations and toilet talk go down amo...  \n",
       "4  In a city of coaching centers known to train I...  "
      ]
     },
     "execution_count": 174,
     "metadata": {},
     "output_type": "execute_result"
    }
   ],
   "source": [
    "netflix=pd.read_csv(r\"/home/rgukt/Downloads/netflix_titles.csv\")\n",
    "netflix.head()"
   ]
  },
  {
   "cell_type": "code",
   "execution_count": 175,
   "id": "f96ff576-d244-4775-928a-e0297042e0a4",
   "metadata": {},
   "outputs": [
    {
     "data": {
      "text/plain": [
       "type\n",
       "Movie      6131\n",
       "TV Show    2676\n",
       "Name: count, dtype: int64"
      ]
     },
     "execution_count": 175,
     "metadata": {},
     "output_type": "execute_result"
    }
   ],
   "source": [
    "# What type of content (Movie or TV Show) is more common?\n",
    "netflix[\"type\"].value_counts()"
   ]
  },
  {
   "cell_type": "code",
   "execution_count": 176,
   "id": "dc8433fc-fdf7-4055-aa94-104a790784b6",
   "metadata": {},
   "outputs": [
    {
     "data": {
      "text/plain": [
       "country\n",
       "United States                                                      2818\n",
       "India                                                               972\n",
       "United Kingdom                                                      419\n",
       "Japan                                                               245\n",
       "South Korea                                                         199\n",
       "                                                                   ... \n",
       "Mexico, United States, Spain, Colombia                                1\n",
       "Canada, Norway                                                        1\n",
       "Finland, Germany, Belgium                                             1\n",
       "Argentina, United States, Mexico                                      1\n",
       "United Kingdom, United States, Germany, Denmark, Belgium, Japan       1\n",
       "Name: count, Length: 748, dtype: int64"
      ]
     },
     "execution_count": 176,
     "metadata": {},
     "output_type": "execute_result"
    }
   ],
   "source": [
    "# Which country has the most content?\n",
    "netflix[\"country\"].value_counts()"
   ]
  },
  {
   "cell_type": "code",
   "execution_count": 209,
   "id": "46c42a40-643d-420e-97ff-b4915ce4e204",
   "metadata": {},
   "outputs": [
    {
     "data": {
      "text/plain": [
       "0                                           Documentaries\n",
       "1         International TV Shows, TV Dramas, TV Mysteries\n",
       "2       Crime TV Shows, International TV Shows, TV Act...\n",
       "3                                  Docuseries, Reality TV\n",
       "4       International TV Shows, Romantic TV Shows, TV ...\n",
       "                              ...                        \n",
       "8802                       Cult Movies, Dramas, Thrillers\n",
       "8803               Kids' TV, Korean TV Shows, TV Comedies\n",
       "8804                              Comedies, Horror Movies\n",
       "8805                   Children & Family Movies, Comedies\n",
       "8806       Dramas, International Movies, Music & Musicals\n",
       "Name: listed_in, Length: 8807, dtype: object"
      ]
     },
     "execution_count": 209,
     "metadata": {},
     "output_type": "execute_result"
    }
   ],
   "source": [
    "# What are the most common genres on Netflix?\n",
    "netflix[\"listed_in\"]"
   ]
  },
  {
   "cell_type": "code",
   "execution_count": 211,
   "id": "93cf6ab8-90d9-4810-9c75-2fc84b921801",
   "metadata": {},
   "outputs": [
    {
     "data": {
      "text/plain": [
       "0                                         [Documentaries]\n",
       "1       [International TV Shows,  TV Dramas,  TV Myste...\n",
       "2       [Crime TV Shows,  International TV Shows,  TV ...\n",
       "3                               [Docuseries,  Reality TV]\n",
       "4       [International TV Shows,  Romantic TV Shows,  ...\n",
       "                              ...                        \n",
       "8802                   [Cult Movies,  Dramas,  Thrillers]\n",
       "8803           [Kids' TV,  Korean TV Shows,  TV Comedies]\n",
       "8804                           [Comedies,  Horror Movies]\n",
       "8805                [Children & Family Movies,  Comedies]\n",
       "8806    [Dramas,  International Movies,  Music & Music...\n",
       "Name: listed_in, Length: 8807, dtype: object"
      ]
     },
     "execution_count": 211,
     "metadata": {},
     "output_type": "execute_result"
    }
   ],
   "source": [
    "genres=netflix[\"listed_in\"].dropna().str.split(\",\")\n",
    "genres"
   ]
  },
  {
   "cell_type": "code",
   "execution_count": 213,
   "id": "a90dcabd-0769-4f01-965d-46ae0e71d15a",
   "metadata": {},
   "outputs": [
    {
     "data": {
      "text/plain": [
       "['Documentaries',\n",
       " 'International TV Shows',\n",
       " ' TV Dramas',\n",
       " ' TV Mysteries',\n",
       " 'Crime TV Shows',\n",
       " ' International TV Shows',\n",
       " ' TV Action & Adventure',\n",
       " 'Docuseries',\n",
       " ' Reality TV',\n",
       " 'International TV Shows',\n",
       " ' Romantic TV Shows',\n",
       " ' TV Comedies',\n",
       " 'TV Dramas',\n",
       " ' TV Horror',\n",
       " ' TV Mysteries',\n",
       " 'Children & Family Movies',\n",
       " 'Dramas',\n",
       " ' Independent Movies',\n",
       " ' International Movies',\n",
       " 'British TV Shows',\n",
       " ' Reality TV',\n",
       " 'Comedies',\n",
       " ' Dramas',\n",
       " 'Crime TV Shows',\n",
       " ' Docuseries',\n",
       " ' International TV Shows',\n",
       " 'Crime TV Shows',\n",
       " ' International TV Shows',\n",
       " ' TV Action & Adventure',\n",
       " 'Dramas',\n",
       " ' International Movies',\n",
       " 'Children & Family Movies',\n",
       " ' Comedies',\n",
       " 'British TV Shows',\n",
       " ' Crime TV Shows',\n",
       " ' Docuseries',\n",
       " 'TV Comedies',\n",
       " ' TV Dramas',\n",
       " 'Documentaries',\n",
       " ' International Movies',\n",
       " 'Crime TV Shows',\n",
       " ' Spanish-Language TV Shows',\n",
       " ' TV Dramas',\n",
       " 'Thrillers',\n",
       " 'International TV Shows',\n",
       " ' Spanish-Language TV Shows',\n",
       " ' TV Action & Adventure',\n",
       " 'Crime TV Shows',\n",
       " ' Docuseries',\n",
       " ' International TV Shows',\n",
       " 'International TV Shows',\n",
       " ' TV Action & Adventure',\n",
       " ' TV Dramas',\n",
       " 'Comedies',\n",
       " ' International Movies',\n",
       " 'Children & Family Movies',\n",
       " 'Comedies',\n",
       " ' International Movies',\n",
       " ' Romantic Movies',\n",
       " 'Docuseries',\n",
       " ' International TV Shows',\n",
       " ' Reality TV',\n",
       " 'Comedies',\n",
       " ' International Movies',\n",
       " ' Music & Musicals',\n",
       " 'Comedies',\n",
       " 'Horror Movies',\n",
       " ' Sci-Fi & Fantasy',\n",
       " 'Thrillers',\n",
       " 'Dramas',\n",
       " ' Independent Movies',\n",
       " ' International Movies',\n",
       " 'TV Comedies',\n",
       " 'British TV Shows',\n",
       " ' International TV Shows',\n",
       " ' TV Comedies',\n",
       " 'International TV Shows',\n",
       " ' TV Dramas',\n",
       " ' TV Thrillers',\n",
       " \"Kids' TV\",\n",
       " 'Dramas',\n",
       " ' International Movies',\n",
       " ' Thrillers',\n",
       " 'Action & Adventure',\n",
       " ' Dramas',\n",
       " ' International Movies',\n",
       " \"Kids' TV\",\n",
       " ' TV Comedies',\n",
       " 'Action & Adventure',\n",
       " ' Dramas',\n",
       " \"Kids' TV\",\n",
       " \"Kids' TV\",\n",
       " ' TV Sci-Fi & Fantasy',\n",
       " 'Action & Adventure',\n",
       " ' Classic Movies',\n",
       " ' Dramas',\n",
       " 'Dramas',\n",
       " ' Horror Movies',\n",
       " ' Thrillers',\n",
       " 'Action & Adventure',\n",
       " ' Horror Movies',\n",
       " ' Thrillers',\n",
       " 'Action & Adventure',\n",
       " ' Horror Movies',\n",
       " ' Thrillers',\n",
       " 'Documentaries',\n",
       " 'Action & Adventure',\n",
       " 'International TV Shows',\n",
       " ' Romantic TV Shows',\n",
       " ' TV Comedies',\n",
       " 'Dramas',\n",
       " ' Thrillers',\n",
       " 'International TV Shows',\n",
       " ' TV Dramas',\n",
       " 'International TV Shows',\n",
       " ' TV Dramas',\n",
       " ' TV Sci-Fi & Fantasy',\n",
       " 'Action & Adventure',\n",
       " ' Anime Features',\n",
       " ' International Movies',\n",
       " 'Action & Adventure',\n",
       " ' Anime Features',\n",
       " ' International Movies',\n",
       " 'Action & Adventure',\n",
       " ' Anime Features',\n",
       " ' International Movies',\n",
       " 'Action & Adventure',\n",
       " ' Anime Features',\n",
       " ' International Movies',\n",
       " 'Reality TV',\n",
       " 'Action & Adventure',\n",
       " ' Anime Features',\n",
       " ' International Movies',\n",
       " 'Action & Adventure',\n",
       " ' Anime Features',\n",
       " ' International Movies',\n",
       " 'Action & Adventure',\n",
       " ' Anime Features',\n",
       " ' International Movies',\n",
       " 'Action & Adventure',\n",
       " ' Anime Features',\n",
       " ' International Movies',\n",
       " 'Action & Adventure',\n",
       " ' Anime Features',\n",
       " ' International Movies',\n",
       " 'Action & Adventure',\n",
       " ' Anime Features',\n",
       " ' International Movies',\n",
       " 'Action & Adventure',\n",
       " ' Anime Features',\n",
       " ' International Movies',\n",
       " 'Action & Adventure',\n",
       " ' Anime Features',\n",
       " ' International Movies',\n",
       " 'Children & Family Movies',\n",
       " \"Kids' TV\",\n",
       " 'Docuseries',\n",
       " ' International TV Shows',\n",
       " \"Kids' TV\",\n",
       " ' TV Comedies',\n",
       " 'Documentaries',\n",
       " ' International Movies',\n",
       " ' Sports Movies',\n",
       " 'International TV Shows',\n",
       " ' TV Dramas',\n",
       " 'International TV Shows',\n",
       " ' Reality TV',\n",
       " ' Romantic TV Shows',\n",
       " 'Children & Family Movies',\n",
       " 'British TV Shows',\n",
       " ' Docuseries',\n",
       " ' International TV Shows',\n",
       " 'Dramas',\n",
       " ' International Movies',\n",
       " 'Reality TV',\n",
       " 'Children & Family Movies',\n",
       " 'Anime Series',\n",
       " ' International TV Shows',\n",
       " 'Children & Family Movies',\n",
       " ' Comedies',\n",
       " 'Comedies',\n",
       " ' Dramas',\n",
       " ' International Movies',\n",
       " 'Comedies',\n",
       " ' Dramas',\n",
       " ' International Movies',\n",
       " 'Children & Family Movies',\n",
       " 'Action & Adventure',\n",
       " 'Crime TV Shows',\n",
       " ' TV Comedies',\n",
       " ' TV Dramas',\n",
       " 'Reality TV',\n",
       " 'Action & Adventure',\n",
       " ' Comedies',\n",
       " ' Dramas',\n",
       " 'Anime Series',\n",
       " \" Kids' TV\",\n",
       " 'International Movies',\n",
       " ' Thrillers',\n",
       " \"Kids' TV\",\n",
       " ' Korean TV Shows',\n",
       " 'Documentaries',\n",
       " ' Sports Movies',\n",
       " \"Kids' TV\",\n",
       " 'Sci-Fi & Fantasy',\n",
       " ' Thrillers',\n",
       " 'Documentaries',\n",
       " ' International Movies',\n",
       " 'International TV Shows',\n",
       " ' TV Dramas',\n",
       " ' TV Mysteries',\n",
       " 'Dramas',\n",
       " ' International Movies',\n",
       " ' Romantic Movies',\n",
       " 'Children & Family Movies',\n",
       " ' Comedies',\n",
       " 'Reality TV',\n",
       " 'Documentaries',\n",
       " ' Music & Musicals',\n",
       " \"Kids' TV\",\n",
       " ' TV Comedies',\n",
       " ' TV Sci-Fi & Fantasy',\n",
       " 'British TV Shows',\n",
       " \" Kids' TV\",\n",
       " 'TV Comedies',\n",
       " ' TV Dramas',\n",
       " \"Kids' TV\",\n",
       " 'Documentaries',\n",
       " ' Sports Movies',\n",
       " 'Docuseries',\n",
       " ' Science & Nature TV',\n",
       " 'Dramas',\n",
       " ' International Movies',\n",
       " ' Thrillers',\n",
       " \"Kids' TV\",\n",
       " ' Korean TV Shows',\n",
       " 'Action & Adventure',\n",
       " ' Comedies',\n",
       " ' Dramas',\n",
       " \"Kids' TV\",\n",
       " ' TV Comedies',\n",
       " 'Children & Family Movies',\n",
       " ' Dramas',\n",
       " \"Kids' TV\",\n",
       " ' TV Dramas',\n",
       " ' Teen TV Shows',\n",
       " 'Crime TV Shows',\n",
       " ' International TV Shows',\n",
       " ' Spanish-Language TV Shows',\n",
       " 'Docuseries',\n",
       " ' International TV Shows',\n",
       " ' Spanish-Language TV Shows',\n",
       " \"Kids' TV\",\n",
       " 'Dramas',\n",
       " 'Comedies',\n",
       " ' Romantic Movies',\n",
       " 'Dramas',\n",
       " ' International Movies',\n",
       " ' Thrillers',\n",
       " 'Dramas',\n",
       " ' Romantic Movies',\n",
       " 'Comedies',\n",
       " ' Dramas',\n",
       " ' Independent Movies',\n",
       " 'Documentaries',\n",
       " 'Dramas',\n",
       " ' International Movies',\n",
       " ' Thrillers',\n",
       " 'Dramas',\n",
       " ' International Movies',\n",
       " ' Romantic Movies',\n",
       " \"Kids' TV\",\n",
       " ' TV Comedies',\n",
       " 'International TV Shows',\n",
       " ' Romantic TV Shows',\n",
       " ' TV Comedies',\n",
       " 'Thrillers',\n",
       " \"Kids' TV\",\n",
       " \"Kids' TV\",\n",
       " ' Korean TV Shows',\n",
       " 'Crime TV Shows',\n",
       " ' TV Action & Adventure',\n",
       " ' TV Comedies',\n",
       " 'Dramas',\n",
       " ' International Movies',\n",
       " ' Romantic Movies',\n",
       " 'Children & Family Movies',\n",
       " ' Comedies',\n",
       " 'Dramas',\n",
       " ' International Movies',\n",
       " ' Thrillers',\n",
       " 'Dramas',\n",
       " 'Children & Family Movies',\n",
       " ' Music & Musicals',\n",
       " 'Action & Adventure',\n",
       " ' Classic Movies',\n",
       " ' Cult Movies',\n",
       " 'International TV Shows',\n",
       " ' TV Action & Adventure',\n",
       " ' TV Comedies',\n",
       " 'Action & Adventure',\n",
       " ' Sci-Fi & Fantasy',\n",
       " 'Action & Adventure',\n",
       " ' Dramas',\n",
       " 'Action & Adventure',\n",
       " 'Dramas',\n",
       " ' Romantic Movies',\n",
       " 'Action & Adventure',\n",
       " ' Comedies',\n",
       " 'Dramas',\n",
       " ' Romantic Movies',\n",
       " 'Classic Movies',\n",
       " ' Comedies',\n",
       " ' Dramas',\n",
       " 'Dramas',\n",
       " ' International Movies',\n",
       " ' Thrillers',\n",
       " 'Action & Adventure',\n",
       " 'Dramas',\n",
       " 'Action & Adventure',\n",
       " ' Sci-Fi & Fantasy',\n",
       " 'Comedies',\n",
       " ' Cult Movies',\n",
       " 'Comedies',\n",
       " ' Cult Movies',\n",
       " ' Music & Musicals',\n",
       " 'Comedies',\n",
       " ' Music & Musicals',\n",
       " 'Reality TV',\n",
       " 'TV Shows',\n",
       " 'Action & Adventure',\n",
       " ' Comedies',\n",
       " 'Thrillers',\n",
       " 'Action & Adventure',\n",
       " ' International Movies',\n",
       " 'Comedies',\n",
       " \"Kids' TV\",\n",
       " 'Anime Series',\n",
       " ' International TV Shows',\n",
       " ' Teen TV Shows',\n",
       " 'Action & Adventure',\n",
       " ' Children & Family Movies',\n",
       " ' Cult Movies',\n",
       " 'Comedies',\n",
       " ' Dramas',\n",
       " ' Romantic Movies',\n",
       " 'Sci-Fi & Fantasy',\n",
       " ' Thrillers',\n",
       " 'Comedies',\n",
       " ' Romantic Movies',\n",
       " 'Comedies',\n",
       " ' Dramas',\n",
       " ' International Movies',\n",
       " 'TV Comedies',\n",
       " 'Comedies',\n",
       " ' Cult Movies',\n",
       " ' Sci-Fi & Fantasy',\n",
       " 'Dramas',\n",
       " 'Comedies',\n",
       " ' Romantic Movies',\n",
       " 'Action & Adventure',\n",
       " ' Comedies',\n",
       " 'Crime TV Shows',\n",
       " ' International TV Shows',\n",
       " ' Spanish-Language TV Shows',\n",
       " 'Classic Movies',\n",
       " ' Dramas',\n",
       " 'Children & Family Movies',\n",
       " ' Comedies',\n",
       " 'Action & Adventure',\n",
       " ' Children & Family Movies',\n",
       " ' Comedies',\n",
       " 'Action & Adventure',\n",
       " ' Dramas',\n",
       " 'Documentaries',\n",
       " ' Music & Musicals',\n",
       " 'Dramas',\n",
       " ' Faith & Spirituality',\n",
       " 'Comedies',\n",
       " ' Music & Musicals',\n",
       " 'Documentaries',\n",
       " ' LGBTQ Movies',\n",
       " 'Action & Adventure',\n",
       " ' Dramas',\n",
       " 'Dramas',\n",
       " ' Romantic Movies',\n",
       " 'Action & Adventure',\n",
       " ' Comedies',\n",
       " 'Action & Adventure',\n",
       " ' Classic Movies',\n",
       " 'Action & Adventure',\n",
       " ' Comedies',\n",
       " 'Comedies',\n",
       " ' Romantic Movies',\n",
       " 'Comedies',\n",
       " ' Romantic Movies',\n",
       " 'Docuseries',\n",
       " 'Comedies',\n",
       " 'Action & Adventure',\n",
       " ' Classic Movies',\n",
       " 'Reality TV',\n",
       " 'Documentaries',\n",
       " ' Sports Movies',\n",
       " 'International TV Shows',\n",
       " ' Romantic TV Shows',\n",
       " ' TV Comedies',\n",
       " 'International TV Shows',\n",
       " ' TV Comedies',\n",
       " 'Comedies',\n",
       " ' International Movies',\n",
       " \"Kids' TV\",\n",
       " ' TV Comedies',\n",
       " 'Dramas',\n",
       " ' International Movies',\n",
       " 'Dramas',\n",
       " ' Independent Movies',\n",
       " 'Action & Adventure',\n",
       " ' Comedies',\n",
       " ' International Movies',\n",
       " 'International TV Shows',\n",
       " ' TV Dramas',\n",
       " 'International TV Shows',\n",
       " ' Spanish-Language TV Shows',\n",
       " ' TV Dramas',\n",
       " 'Comedies',\n",
       " ' Dramas',\n",
       " ' International Movies',\n",
       " 'Comedies',\n",
       " ' Romantic Movies',\n",
       " \"Kids' TV\",\n",
       " ' TV Comedies',\n",
       " 'Crime TV Shows',\n",
       " ' International TV Shows',\n",
       " ' TV Dramas',\n",
       " 'Comedies',\n",
       " ' Dramas',\n",
       " ' International Movies',\n",
       " 'Action & Adventure',\n",
       " ' Horror Movies',\n",
       " ' International Movies',\n",
       " 'Dramas',\n",
       " ' International Movies',\n",
       " ' Thrillers',\n",
       " 'Comedies',\n",
       " ' International Movies',\n",
       " ' Music & Musicals',\n",
       " 'Comedies',\n",
       " ' International Movies',\n",
       " 'Comedies',\n",
       " ' International Movies',\n",
       " 'Comedies',\n",
       " ' International Movies',\n",
       " ' Sci-Fi & Fantasy',\n",
       " 'Dramas',\n",
       " ' Independent Movies',\n",
       " ' International Movies',\n",
       " 'Action & Adventure',\n",
       " ' International Movies',\n",
       " ' Music & Musicals',\n",
       " 'Dramas',\n",
       " ' International Movies',\n",
       " ' Music & Musicals',\n",
       " 'Dramas',\n",
       " ' International Movies',\n",
       " ' Music & Musicals',\n",
       " 'Horror Movies',\n",
       " ' International Movies',\n",
       " 'Horror Movies',\n",
       " ' International Movies',\n",
       " 'International TV Shows',\n",
       " ' TV Dramas',\n",
       " 'Docuseries',\n",
       " ' International TV Shows',\n",
       " 'Action & Adventure',\n",
       " ' International Movies',\n",
       " 'Action & Adventure',\n",
       " ' Dramas',\n",
       " ' International Movies',\n",
       " 'Comedies',\n",
       " ' Dramas',\n",
       " ' Independent Movies',\n",
       " 'Comedies',\n",
       " ' Dramas',\n",
       " ' International Movies',\n",
       " 'Reality TV',\n",
       " ' Teen TV Shows',\n",
       " 'Anime Series',\n",
       " ' International TV Shows',\n",
       " \"Kids' TV\",\n",
       " ' TV Comedies',\n",
       " 'Documentaries',\n",
       " 'Crime TV Shows',\n",
       " ' TV Dramas',\n",
       " ' TV Mysteries',\n",
       " 'Crime TV Shows',\n",
       " ' Docuseries',\n",
       " ' International TV Shows',\n",
       " 'International TV Shows',\n",
       " ' Reality TV',\n",
       " 'International TV Shows',\n",
       " ' TV Dramas',\n",
       " ' TV Mysteries',\n",
       " 'International TV Shows',\n",
       " ' TV Comedies',\n",
       " ' TV Dramas',\n",
       " 'Dramas',\n",
       " ' Independent Movies',\n",
       " ' Romantic Movies',\n",
       " 'Action & Adventure',\n",
       " 'Horror Movies',\n",
       " 'Documentaries',\n",
       " ' Sports Movies',\n",
       " 'Children & Family Movies',\n",
       " ' Dramas',\n",
       " 'Reality TV',\n",
       " 'Documentaries',\n",
       " ' Music & Musicals',\n",
       " \"Kids' TV\",\n",
       " ' TV Comedies',\n",
       " 'Documentaries',\n",
       " ' LGBTQ Movies',\n",
       " ' Sports Movies',\n",
       " 'Horror Movies',\n",
       " ' International Movies',\n",
       " ' Thrillers',\n",
       " 'Horror Movies',\n",
       " ' International Movies',\n",
       " ' Thrillers',\n",
       " 'Horror Movies',\n",
       " ' International Movies',\n",
       " ' Thrillers',\n",
       " 'Horror Movies',\n",
       " ' International Movies',\n",
       " ' Thrillers',\n",
       " 'Action & Adventure',\n",
       " ' Anime Features',\n",
       " 'TV Dramas',\n",
       " ' TV Mysteries',\n",
       " ' TV Sci-Fi & Fantasy',\n",
       " 'International TV Shows',\n",
       " ' TV Comedies',\n",
       " 'International TV Shows',\n",
       " ' Spanish-Language TV Shows',\n",
       " ' TV Comedies',\n",
       " 'Dramas',\n",
       " ' International Movies',\n",
       " ' Thrillers',\n",
       " 'Docuseries',\n",
       " ' International TV Shows',\n",
       " 'Dramas',\n",
       " ' International Movies',\n",
       " ' Romantic Movies',\n",
       " 'Action & Adventure',\n",
       " ' Dramas',\n",
       " 'TV Comedies',\n",
       " ' TV Dramas',\n",
       " 'Children & Family Movies',\n",
       " ' Comedies',\n",
       " ' Music & Musicals',\n",
       " 'Dramas',\n",
       " ' International Movies',\n",
       " ' Romantic Movies',\n",
       " 'Dramas',\n",
       " ' Independent Movies',\n",
       " ' Romantic Movies',\n",
       " 'International Movies',\n",
       " ' Thrillers',\n",
       " 'Dramas',\n",
       " ' International Movies',\n",
       " ' Romantic Movies',\n",
       " \"Kids' TV\",\n",
       " 'Documentaries',\n",
       " ' International Movies',\n",
       " 'Dramas',\n",
       " ' International Movies',\n",
       " 'Dramas',\n",
       " ' International Movies',\n",
       " ' Romantic Movies',\n",
       " 'Comedies',\n",
       " ' Dramas',\n",
       " ' International Movies',\n",
       " 'Comedies',\n",
       " ' Dramas',\n",
       " ' International Movies',\n",
       " 'Crime TV Shows',\n",
       " ' International TV Shows',\n",
       " ' TV Dramas',\n",
       " 'Comedies',\n",
       " ' International Movies',\n",
       " ' Romantic Movies',\n",
       " 'Documentaries',\n",
       " ' LGBTQ Movies',\n",
       " ' Sports Movies',\n",
       " \"Kids' TV\",\n",
       " 'Comedies',\n",
       " ' Independent Movies',\n",
       " 'Anime Series',\n",
       " ' International TV Shows',\n",
       " ' Romantic TV Shows',\n",
       " 'Docuseries',\n",
       " ' International TV Shows',\n",
       " 'Classic Movies',\n",
       " ' Dramas',\n",
       " ' Independent Movies',\n",
       " 'Dramas',\n",
       " ' International Movies',\n",
       " \"Kids' TV\",\n",
       " 'Action & Adventure',\n",
       " 'TV Dramas',\n",
       " ' TV Horror',\n",
       " ' TV Mysteries',\n",
       " \"Kids' TV\",\n",
       " 'Crime TV Shows',\n",
       " ' International TV Shows',\n",
       " ' TV Dramas',\n",
       " 'TV Comedies',\n",
       " ' TV Dramas',\n",
       " 'Crime TV Shows',\n",
       " ' International TV Shows',\n",
       " ' Spanish-Language TV Shows',\n",
       " 'International TV Shows',\n",
       " ' Romantic TV Shows',\n",
       " ' Spanish-Language TV Shows',\n",
       " 'International TV Shows',\n",
       " ' TV Dramas',\n",
       " ' Teen TV Shows',\n",
       " 'Stand-Up Comedy',\n",
       " 'Action & Adventure',\n",
       " ' Anime Features',\n",
       " ' Children & Family Movies',\n",
       " 'Reality TV',\n",
       " 'Comedies',\n",
       " ' International Movies',\n",
       " 'Dramas',\n",
       " ' Independent Movies',\n",
       " ' International Movies',\n",
       " 'Documentaries',\n",
       " ' International Movies',\n",
       " 'Comedies',\n",
       " ' Romantic Movies',\n",
       " 'Dramas',\n",
       " ' International Movies',\n",
       " \"Kids' TV\",\n",
       " 'International TV Shows',\n",
       " ' Romantic TV Shows',\n",
       " ' TV Comedies',\n",
       " 'Crime TV Shows',\n",
       " ' International TV Shows',\n",
       " ' Spanish-Language TV Shows',\n",
       " 'International TV Shows',\n",
       " ' Romantic TV Shows',\n",
       " ' TV Dramas',\n",
       " 'Documentaries',\n",
       " ' Sports Movies',\n",
       " 'Anime Series',\n",
       " ' International TV Shows',\n",
       " 'Comedies',\n",
       " ' Dramas',\n",
       " ' Independent Movies',\n",
       " 'Comedies',\n",
       " ' International Movies',\n",
       " ' Romantic Movies',\n",
       " 'International Movies',\n",
       " ' Music & Musicals',\n",
       " 'Action & Adventure',\n",
       " ' Comedies',\n",
       " 'TV Action & Adventure',\n",
       " ' TV Dramas',\n",
       " ' TV Mysteries',\n",
       " 'TV Shows',\n",
       " 'Comedies',\n",
       " ' Dramas',\n",
       " ' International Movies',\n",
       " 'Horror Movies',\n",
       " ' Independent Movies',\n",
       " ' International Movies',\n",
       " 'Children & Family Movies',\n",
       " ' Music & Musicals',\n",
       " 'Action & Adventure',\n",
       " ' Comedies',\n",
       " ' International Movies',\n",
       " 'Documentaries',\n",
       " ' International Movies',\n",
       " 'Comedies',\n",
       " ' Cult Movies',\n",
       " ' International Movies',\n",
       " 'Documentaries',\n",
       " 'Classic Movies',\n",
       " ' Dramas',\n",
       " ' International Movies',\n",
       " 'Dramas',\n",
       " ' International Movies',\n",
       " 'Horror Movies',\n",
       " 'Movies',\n",
       " 'Reality TV',\n",
       " 'Crime TV Shows',\n",
       " ' Docuseries',\n",
       " 'International TV Shows',\n",
       " ' Spanish-Language TV Shows',\n",
       " ' TV Dramas',\n",
       " 'Reality TV',\n",
       " 'International TV Shows',\n",
       " ' Romantic TV Shows',\n",
       " ' TV Dramas',\n",
       " 'Dramas',\n",
       " ' Independent Movies',\n",
       " ' Romantic Movies',\n",
       " 'Dramas',\n",
       " ' International Movies',\n",
       " 'International TV Shows',\n",
       " ' Romantic TV Shows',\n",
       " ' TV Comedies',\n",
       " 'Documentaries',\n",
       " ' LGBTQ Movies',\n",
       " 'Documentaries',\n",
       " ' International Movies',\n",
       " 'International TV Shows',\n",
       " ' Romantic TV Shows',\n",
       " ' TV Comedies',\n",
       " 'Docuseries',\n",
       " 'International TV Shows',\n",
       " ' Romantic TV Shows',\n",
       " ' TV Comedies',\n",
       " 'International TV Shows',\n",
       " ' Romantic TV Shows',\n",
       " ' TV Comedies',\n",
       " 'TV Comedies',\n",
       " \"Kids' TV\",\n",
       " 'Children & Family Movies',\n",
       " ' Comedies',\n",
       " 'Children & Family Movies',\n",
       " ' Comedies',\n",
       " 'Action & Adventure',\n",
       " ' Sci-Fi & Fantasy',\n",
       " 'Action & Adventure',\n",
       " 'Dramas',\n",
       " 'Children & Family Movies',\n",
       " ' Comedies',\n",
       " ' Sci-Fi & Fantasy',\n",
       " 'Anime Series',\n",
       " ' International TV Shows',\n",
       " ' TV Thrillers',\n",
       " 'Action & Adventure',\n",
       " ' Horror Movies',\n",
       " ' Sci-Fi & Fantasy',\n",
       " 'Classic Movies',\n",
       " ' Comedies',\n",
       " ' Cult Movies',\n",
       " 'Dramas',\n",
       " ' Romantic Movies',\n",
       " 'Dramas',\n",
       " ' Thrillers',\n",
       " 'TV Dramas',\n",
       " ' Teen TV Shows',\n",
       " 'Comedies',\n",
       " ' Romantic Movies',\n",
       " 'Anime Series',\n",
       " ' International TV Shows',\n",
       " 'Dramas',\n",
       " ' Independent Movies',\n",
       " ' International Movies',\n",
       " 'Action & Adventure',\n",
       " ' Sci-Fi & Fantasy',\n",
       " ' Thrillers',\n",
       " 'Dramas',\n",
       " ' Independent Movies',\n",
       " 'Comedies',\n",
       " 'Dramas',\n",
       " 'Children & Family Movies',\n",
       " ' Comedies',\n",
       " ' Dramas',\n",
       " 'Children & Family Movies',\n",
       " ' Comedies',\n",
       " 'Action & Adventure',\n",
       " ' Comedies',\n",
       " 'Children & Family Movies',\n",
       " ' Comedies',\n",
       " ' Sci-Fi & Fantasy',\n",
       " 'Comedies',\n",
       " 'Dramas',\n",
       " ' Sports Movies',\n",
       " 'Action & Adventure',\n",
       " ' Dramas',\n",
       " ' Sci-Fi & Fantasy',\n",
       " 'Action & Adventure',\n",
       " ' Comedies',\n",
       " ' Cult Movies',\n",
       " 'Comedies',\n",
       " ' Dramas',\n",
       " 'Horror Movies',\n",
       " 'Action & Adventure',\n",
       " ' Comedies',\n",
       " 'Dramas',\n",
       " ' Thrillers',\n",
       " 'Action & Adventure',\n",
       " 'Dramas',\n",
       " ' Independent Movies',\n",
       " ' Thrillers',\n",
       " 'Thrillers',\n",
       " 'Stand-Up Comedy',\n",
       " 'Comedies',\n",
       " ' Romantic Movies',\n",
       " 'TV Dramas',\n",
       " ' TV Sci-Fi & Fantasy',\n",
       " 'Dramas',\n",
       " ' International Movies',\n",
       " 'Action & Adventure',\n",
       " ' International Movies',\n",
       " ' Thrillers',\n",
       " \"Kids' TV\",\n",
       " ' TV Comedies',\n",
       " 'Dramas',\n",
       " ' Independent Movies',\n",
       " ' International Movies',\n",
       " 'British TV Shows',\n",
       " ' International TV Shows',\n",
       " ' Reality TV',\n",
       " 'Documentaries',\n",
       " ' International Movies',\n",
       " 'International TV Shows',\n",
       " ' Reality TV',\n",
       " 'British TV Shows',\n",
       " ' Crime TV Shows',\n",
       " ' Docuseries',\n",
       " 'TV Action & Adventure',\n",
       " ' TV Dramas',\n",
       " ' Teen TV Shows',\n",
       " 'Dramas',\n",
       " ' Independent Movies',\n",
       " ' International Movies',\n",
       " 'Action & Adventure',\n",
       " ' International Movies',\n",
       " 'Action & Adventure',\n",
       " ' Comedies',\n",
       " ' International Movies',\n",
       " 'Comedies',\n",
       " ' International Movies',\n",
       " ' Romantic Movies',\n",
       " 'Comedies',\n",
       " ' Romantic Movies',\n",
       " 'Anime Series',\n",
       " 'Action & Adventure',\n",
       " ' International Movies',\n",
       " 'Documentaries',\n",
       " 'Reality TV',\n",
       " 'Crime TV Shows',\n",
       " ' TV Action & Adventure',\n",
       " ' TV Sci-Fi & Fantasy',\n",
       " 'Crime TV Shows',\n",
       " ' International TV Shows',\n",
       " ' Spanish-Language TV Shows',\n",
       " 'TV Dramas',\n",
       " ' Teen TV Shows',\n",
       " 'Action & Adventure',\n",
       " ' International Movies',\n",
       " 'Thrillers',\n",
       " 'Crime TV Shows',\n",
       " ' International TV Shows',\n",
       " ' TV Comedies',\n",
       " \"Kids' TV\",\n",
       " 'Comedies',\n",
       " ' Dramas',\n",
       " ' International Movies',\n",
       " 'Stand-Up Comedy & Talk Shows',\n",
       " ' TV Comedies',\n",
       " 'Dramas',\n",
       " ' International Movies',\n",
       " ' Thrillers',\n",
       " 'Classic & Cult TV',\n",
       " ' TV Action & Adventure',\n",
       " ' TV Dramas',\n",
       " 'International TV Shows',\n",
       " ' TV Action & Adventure',\n",
       " ' TV Dramas',\n",
       " 'Action & Adventure',\n",
       " ' Dramas',\n",
       " 'Children & Family Movies',\n",
       " ' Sports Movies',\n",
       " 'Dramas',\n",
       " ' Independent Movies',\n",
       " ' International Movies',\n",
       " 'Comedies',\n",
       " ' International Movies',\n",
       " 'Action & Adventure',\n",
       " ' Horror Movies',\n",
       " ' International Movies',\n",
       " 'International TV Shows',\n",
       " ' Romantic TV Shows',\n",
       " ' TV Comedies',\n",
       " 'Horror Movies',\n",
       " ' International Movies',\n",
       " ' Thrillers',\n",
       " 'TV Action & Adventure',\n",
       " ' TV Sci-Fi & Fantasy',\n",
       " 'Anime Series',\n",
       " ' Stand-Up Comedy & Talk Shows',\n",
       " 'International TV Shows',\n",
       " ' Spanish-Language TV Shows',\n",
       " ' TV Action & Adventure',\n",
       " 'Dramas',\n",
       " ' Romantic Movies',\n",
       " 'Docuseries',\n",
       " 'Documentaries',\n",
       " 'Children & Family Movies',\n",
       " 'Children & Family Movies',\n",
       " 'Children & Family Movies',\n",
       " 'Children & Family Movies',\n",
       " 'Children & Family Movies',\n",
       " 'Children & Family Movies',\n",
       " 'Children & Family Movies',\n",
       " 'Children & Family Movies',\n",
       " 'Children & Family Movies',\n",
       " 'Children & Family Movies',\n",
       " 'Children & Family Movies',\n",
       " 'Children & Family Movies',\n",
       " 'Children & Family Movies',\n",
       " 'Children & Family Movies',\n",
       " 'Children & Family Movies',\n",
       " ' Sports Movies',\n",
       " 'Children & Family Movies',\n",
       " 'Children & Family Movies',\n",
       " 'Children & Family Movies',\n",
       " 'Children & Family Movies',\n",
       " 'Children & Family Movies',\n",
       " 'TV Dramas',\n",
       " 'Dramas',\n",
       " 'Comedies',\n",
       " ' International Movies',\n",
       " 'Anime Features',\n",
       " ' Children & Family Movies',\n",
       " ' International Movies',\n",
       " 'Dramas',\n",
       " ' International Movies',\n",
       " ' Thrillers',\n",
       " 'British TV Shows',\n",
       " ' International TV Shows',\n",
       " ' Reality TV',\n",
       " 'International TV Shows',\n",
       " ' Reality TV',\n",
       " ' Romantic TV Shows',\n",
       " 'Children & Family Movies',\n",
       " 'Comedies',\n",
       " ' Dramas',\n",
       " ' Independent Movies',\n",
       " 'Classic & Cult TV',\n",
       " ' Crime TV Shows',\n",
       " ' International TV Shows',\n",
       " 'Crime TV Shows',\n",
       " ' International TV Shows',\n",
       " ' Romantic TV Shows',\n",
       " 'Dramas',\n",
       " ' International Movies',\n",
       " ' Romantic Movies',\n",
       " 'Action & Adventure',\n",
       " 'Dramas',\n",
       " ' International Movies',\n",
       " ' Romantic Movies',\n",
       " 'Dramas',\n",
       " ' International Movies',\n",
       " ' Thrillers',\n",
       " 'Docuseries',\n",
       " ' Science & Nature TV',\n",
       " 'Horror Movies',\n",
       " ' LGBTQ Movies',\n",
       " \"Kids' TV\",\n",
       " ' TV Comedies',\n",
       " 'Comedies',\n",
       " ' International Movies',\n",
       " 'Docuseries',\n",
       " 'Dramas',\n",
       " ' Independent Movies',\n",
       " ' Thrillers',\n",
       " 'Dramas',\n",
       " 'Dramas',\n",
       " ' Romantic Movies',\n",
       " 'Dramas',\n",
       " ' Romantic Movies',\n",
       " 'Dramas',\n",
       " ' Romantic Movies',\n",
       " 'Dramas',\n",
       " ' Romantic Movies',\n",
       " 'Action & Adventure',\n",
       " ' Dramas',\n",
       " ' Romantic Movies',\n",
       " 'Comedies',\n",
       " ' Dramas',\n",
       " ' International Movies',\n",
       " 'Anime Series',\n",
       " ' International TV Shows',\n",
       " 'Comedies',\n",
       " ' Cult Movies',\n",
       " 'Documentaries',\n",
       " ' International Movies',\n",
       " ' Music & Musicals',\n",
       " 'International TV Shows',\n",
       " ' Romantic TV Shows',\n",
       " ' TV Comedies',\n",
       " 'Documentaries',\n",
       " ' International Movies',\n",
       " ' Sports Movies',\n",
       " ...]"
      ]
     },
     "execution_count": 213,
     "metadata": {},
     "output_type": "execute_result"
    }
   ],
   "source": [
    "flat_genres=[genre for sublist in genres for genre in sublist]\n",
    "flat_genres"
   ]
  },
  {
   "cell_type": "code",
   "execution_count": 218,
   "id": "35b1c6b4-5eee-46f3-bff0-08ccaead39e1",
   "metadata": {},
   "outputs": [
    {
     "data": {
      "text/plain": [
       " International Movies        2624\n",
       "Dramas                       1600\n",
       "Comedies                     1210\n",
       "Action & Adventure            859\n",
       "Documentaries                 829\n",
       "                             ... \n",
       "Romantic Movies                 3\n",
       "Spanish-Language TV Shows       2\n",
       "LGBTQ Movies                    1\n",
       "TV Sci-Fi & Fantasy             1\n",
       "Sports Movies                   1\n",
       "Length: 73, dtype: int64"
      ]
     },
     "execution_count": 218,
     "metadata": {},
     "output_type": "execute_result"
    }
   ],
   "source": [
    "from collections import Counter\n",
    "pd.Series(Counter(flat_genres)).sort_values(ascending=False)"
   ]
  },
  {
   "cell_type": "code",
   "execution_count": 179,
   "id": "510aed21-008c-41c0-9730-2494eda2e18f",
   "metadata": {},
   "outputs": [
    {
     "data": {
      "text/plain": [
       "release_year\n",
       "1925       1\n",
       "1942       2\n",
       "1943       3\n",
       "1944       3\n",
       "1945       4\n",
       "        ... \n",
       "2017    1032\n",
       "2018    1147\n",
       "2019    1030\n",
       "2020     953\n",
       "2021     592\n",
       "Name: title, Length: 74, dtype: int64"
      ]
     },
     "execution_count": 179,
     "metadata": {},
     "output_type": "execute_result"
    }
   ],
   "source": [
    "# How many movies were released each year?\n",
    "netflix.head(2)\n",
    "netflix[\"release_year\"].value_counts()\n",
    "netflix.groupby(\"release_year\")[\"title\"].count()"
   ]
  },
  {
   "cell_type": "code",
   "execution_count": 180,
   "id": "26d479d6-7347-4642-b518-755e6c894c7f",
   "metadata": {},
   "outputs": [
    {
     "data": {
      "text/plain": [
       "<Axes: xlabel='release_year', ylabel='Count'>"
      ]
     },
     "execution_count": 180,
     "metadata": {},
     "output_type": "execute_result"
    },
    {
     "data": {
      "image/png": "[encoded data removed]",
      "text/plain": [
       "<Figure size 640x480 with 1 Axes>"
      ]
     },
     "metadata": {},
     "output_type": "display_data"
    }
   ],
   "source": [
    "sns.histplot(data=netflix,x=\"release_year\",bins=10)"
   ]
  },
  {
   "cell_type": "code",
   "execution_count": 181,
   "id": "cd4c37b2-8efe-4a42-a755-d2e55d38e3d7",
   "metadata": {},
   "outputs": [],
   "source": [
    "# What is the average duration of TV shows?\n",
    "netflix.head(2)\n",
    "duration=pd.to_numeric(netflix[netflix[\"type\"]==\"TV Show\"][\"duration\"].str.extract(r\"(\\d+)\")[0],errors='coerce')"
   ]
  },
  {
   "cell_type": "code",
   "execution_count": 182,
   "id": "494d7f98-1262-4724-99d9-f4c89756e373",
   "metadata": {},
   "outputs": [
    {
     "data": {
      "text/plain": [
       "np.float64(1.764947683109118)"
      ]
     },
     "execution_count": 182,
     "metadata": {},
     "output_type": "execute_result"
    }
   ],
   "source": [
    "duration.mean()"
   ]
  },
  {
   "cell_type": "code",
   "execution_count": 183,
   "id": "68f7bfe7-9e64-4b19-b1fc-c428062e528e",
   "metadata": {},
   "outputs": [],
   "source": [
    "# What is the average duration of Movies?\n",
    "netflix.head(2)\n",
    "duration=pd.to_numeric(netflix[netflix[\"type\"]==\"Movie\"][\"duration\"].str.extract(r\"(\\d+)\")[0],errors='coerce')"
   ]
  },
  {
   "cell_type": "code",
   "execution_count": 184,
   "id": "3439b640-0d1c-4ae0-a4c1-6643ef6feb5d",
   "metadata": {},
   "outputs": [
    {
     "data": {
      "text/plain": [
       "np.float64(99.57718668407311)"
      ]
     },
     "execution_count": 184,
     "metadata": {},
     "output_type": "execute_result"
    }
   ],
   "source": [
    "duration.mean()"
   ]
  },
  {
   "cell_type": "code",
   "execution_count": 185,
   "id": "167a1f0c-e337-4735-a16d-e9578317c439",
   "metadata": {},
   "outputs": [
    {
     "data": {
      "text/html": [
       "<div>\n",
       "<style scoped>\n",
       "    .dataframe tbody tr th:only-of-type {\n",
       "        vertical-align: middle;\n",
       "    }\n",
       "\n",
       "    .dataframe tbody tr th {\n",
       "        vertical-align: top;\n",
       "    }\n",
       "\n",
       "    .dataframe thead th {\n",
       "        text-align: right;\n",
       "    }\n",
       "</style>\n",
       "<table border=\"1\" class=\"dataframe\">\n",
       "  <thead>\n",
       "    <tr style=\"text-align: right;\">\n",
       "      <th></th>\n",
       "      <th>show_id</th>\n",
       "      <th>type</th>\n",
       "      <th>title</th>\n",
       "      <th>director</th>\n",
       "      <th>cast</th>\n",
       "      <th>country</th>\n",
       "      <th>date_added</th>\n",
       "      <th>release_year</th>\n",
       "      <th>rating</th>\n",
       "      <th>duration</th>\n",
       "      <th>listed_in</th>\n",
       "      <th>description</th>\n",
       "    </tr>\n",
       "  </thead>\n",
       "  <tbody>\n",
       "    <tr>\n",
       "      <th>0</th>\n",
       "      <td>s1</td>\n",
       "      <td>Movie</td>\n",
       "      <td>Dick Johnson Is Dead</td>\n",
       "      <td>Kirsten Johnson</td>\n",
       "      <td>NaN</td>\n",
       "      <td>United States</td>\n",
       "      <td>September 25, 2021</td>\n",
       "      <td>2020</td>\n",
       "      <td>PG-13</td>\n",
       "      <td>90 min</td>\n",
       "      <td>Documentaries</td>\n",
       "      <td>As her father nears the end of his life, filmm...</td>\n",
       "    </tr>\n",
       "    <tr>\n",
       "      <th>6</th>\n",
       "      <td>s7</td>\n",
       "      <td>Movie</td>\n",
       "      <td>My Little Pony: A New Generation</td>\n",
       "      <td>Robert Cullen, José Luis Ucha</td>\n",
       "      <td>Vanessa Hudgens, Kimiko Glenn, James Marsden, ...</td>\n",
       "      <td>NaN</td>\n",
       "      <td>September 24, 2021</td>\n",
       "      <td>2021</td>\n",
       "      <td>PG</td>\n",
       "      <td>91 min</td>\n",
       "      <td>Children &amp; Family Movies</td>\n",
       "      <td>Equestria's divided. But a bright-eyed hero be...</td>\n",
       "    </tr>\n",
       "    <tr>\n",
       "      <th>7</th>\n",
       "      <td>s8</td>\n",
       "      <td>Movie</td>\n",
       "      <td>Sankofa</td>\n",
       "      <td>Haile Gerima</td>\n",
       "      <td>Kofi Ghanaba, Oyafunmike Ogunlano, Alexandra D...</td>\n",
       "      <td>United States, Ghana, Burkina Faso, United Kin...</td>\n",
       "      <td>September 24, 2021</td>\n",
       "      <td>1993</td>\n",
       "      <td>TV-MA</td>\n",
       "      <td>125 min</td>\n",
       "      <td>Dramas, Independent Movies, International Movies</td>\n",
       "      <td>On a photo shoot in Ghana, an American model s...</td>\n",
       "    </tr>\n",
       "    <tr>\n",
       "      <th>9</th>\n",
       "      <td>s10</td>\n",
       "      <td>Movie</td>\n",
       "      <td>The Starling</td>\n",
       "      <td>Theodore Melfi</td>\n",
       "      <td>Melissa McCarthy, Chris O'Dowd, Kevin Kline, T...</td>\n",
       "      <td>United States</td>\n",
       "      <td>September 24, 2021</td>\n",
       "      <td>2021</td>\n",
       "      <td>PG-13</td>\n",
       "      <td>104 min</td>\n",
       "      <td>Comedies, Dramas</td>\n",
       "      <td>A woman adjusting to life after a loss contend...</td>\n",
       "    </tr>\n",
       "    <tr>\n",
       "      <th>12</th>\n",
       "      <td>s13</td>\n",
       "      <td>Movie</td>\n",
       "      <td>Je Suis Karl</td>\n",
       "      <td>Christian Schwochow</td>\n",
       "      <td>Luna Wedler, Jannis Niewöhner, Milan Peschel, ...</td>\n",
       "      <td>Germany, Czech Republic</td>\n",
       "      <td>September 23, 2021</td>\n",
       "      <td>2021</td>\n",
       "      <td>TV-MA</td>\n",
       "      <td>127 min</td>\n",
       "      <td>Dramas, International Movies</td>\n",
       "      <td>After most of her family is murdered in a terr...</td>\n",
       "    </tr>\n",
       "    <tr>\n",
       "      <th>...</th>\n",
       "      <td>...</td>\n",
       "      <td>...</td>\n",
       "      <td>...</td>\n",
       "      <td>...</td>\n",
       "      <td>...</td>\n",
       "      <td>...</td>\n",
       "      <td>...</td>\n",
       "      <td>...</td>\n",
       "      <td>...</td>\n",
       "      <td>...</td>\n",
       "      <td>...</td>\n",
       "      <td>...</td>\n",
       "    </tr>\n",
       "    <tr>\n",
       "      <th>8801</th>\n",
       "      <td>s8802</td>\n",
       "      <td>Movie</td>\n",
       "      <td>Zinzana</td>\n",
       "      <td>Majid Al Ansari</td>\n",
       "      <td>Ali Suliman, Saleh Bakri, Yasa, Ali Al-Jabri, ...</td>\n",
       "      <td>United Arab Emirates, Jordan</td>\n",
       "      <td>March 9, 2016</td>\n",
       "      <td>2015</td>\n",
       "      <td>TV-MA</td>\n",
       "      <td>96 min</td>\n",
       "      <td>Dramas, International Movies, Thrillers</td>\n",
       "      <td>Recovering alcoholic Talal wakes up inside a s...</td>\n",
       "    </tr>\n",
       "    <tr>\n",
       "      <th>8802</th>\n",
       "      <td>s8803</td>\n",
       "      <td>Movie</td>\n",
       "      <td>Zodiac</td>\n",
       "      <td>David Fincher</td>\n",
       "      <td>Mark Ruffalo, Jake Gyllenhaal, Robert Downey J...</td>\n",
       "      <td>United States</td>\n",
       "      <td>November 20, 2019</td>\n",
       "      <td>2007</td>\n",
       "      <td>R</td>\n",
       "      <td>158 min</td>\n",
       "      <td>Cult Movies, Dramas, Thrillers</td>\n",
       "      <td>A political cartoonist, a crime reporter and a...</td>\n",
       "    </tr>\n",
       "    <tr>\n",
       "      <th>8804</th>\n",
       "      <td>s8805</td>\n",
       "      <td>Movie</td>\n",
       "      <td>Zombieland</td>\n",
       "      <td>Ruben Fleischer</td>\n",
       "      <td>Jesse Eisenberg, Woody Harrelson, Emma Stone, ...</td>\n",
       "      <td>United States</td>\n",
       "      <td>November 1, 2019</td>\n",
       "      <td>2009</td>\n",
       "      <td>R</td>\n",
       "      <td>88 min</td>\n",
       "      <td>Comedies, Horror Movies</td>\n",
       "      <td>Looking to survive in a world taken over by zo...</td>\n",
       "    </tr>\n",
       "    <tr>\n",
       "      <th>8805</th>\n",
       "      <td>s8806</td>\n",
       "      <td>Movie</td>\n",
       "      <td>Zoom</td>\n",
       "      <td>Peter Hewitt</td>\n",
       "      <td>Tim Allen, Courteney Cox, Chevy Chase, Kate Ma...</td>\n",
       "      <td>United States</td>\n",
       "      <td>January 11, 2020</td>\n",
       "      <td>2006</td>\n",
       "      <td>PG</td>\n",
       "      <td>88 min</td>\n",
       "      <td>Children &amp; Family Movies, Comedies</td>\n",
       "      <td>Dragged from civilian life, a former superhero...</td>\n",
       "    </tr>\n",
       "    <tr>\n",
       "      <th>8806</th>\n",
       "      <td>s8807</td>\n",
       "      <td>Movie</td>\n",
       "      <td>Zubaan</td>\n",
       "      <td>Mozez Singh</td>\n",
       "      <td>Vicky Kaushal, Sarah-Jane Dias, Raaghav Chanan...</td>\n",
       "      <td>India</td>\n",
       "      <td>March 2, 2019</td>\n",
       "      <td>2015</td>\n",
       "      <td>TV-14</td>\n",
       "      <td>111 min</td>\n",
       "      <td>Dramas, International Movies, Music &amp; Musicals</td>\n",
       "      <td>A scrappy but poor boy worms his way into a ty...</td>\n",
       "    </tr>\n",
       "  </tbody>\n",
       "</table>\n",
       "<p>6131 rows × 12 columns</p>\n",
       "</div>"
      ],
      "text/plain": [
       "     show_id   type                             title  \\\n",
       "0         s1  Movie              Dick Johnson Is Dead   \n",
       "6         s7  Movie  My Little Pony: A New Generation   \n",
       "7         s8  Movie                           Sankofa   \n",
       "9        s10  Movie                      The Starling   \n",
       "12       s13  Movie                      Je Suis Karl   \n",
       "...      ...    ...                               ...   \n",
       "8801   s8802  Movie                           Zinzana   \n",
       "8802   s8803  Movie                            Zodiac   \n",
       "8804   s8805  Movie                        Zombieland   \n",
       "8805   s8806  Movie                              Zoom   \n",
       "8806   s8807  Movie                            Zubaan   \n",
       "\n",
       "                           director  \\\n",
       "0                   Kirsten Johnson   \n",
       "6     Robert Cullen, José Luis Ucha   \n",
       "7                      Haile Gerima   \n",
       "9                    Theodore Melfi   \n",
       "12              Christian Schwochow   \n",
       "...                             ...   \n",
       "8801                Majid Al Ansari   \n",
       "8802                  David Fincher   \n",
       "8804                Ruben Fleischer   \n",
       "8805                   Peter Hewitt   \n",
       "8806                    Mozez Singh   \n",
       "\n",
       "                                                   cast  \\\n",
       "0                                                   NaN   \n",
       "6     Vanessa Hudgens, Kimiko Glenn, James Marsden, ...   \n",
       "7     Kofi Ghanaba, Oyafunmike Ogunlano, Alexandra D...   \n",
       "9     Melissa McCarthy, Chris O'Dowd, Kevin Kline, T...   \n",
       "12    Luna Wedler, Jannis Niewöhner, Milan Peschel, ...   \n",
       "...                                                 ...   \n",
       "8801  Ali Suliman, Saleh Bakri, Yasa, Ali Al-Jabri, ...   \n",
       "8802  Mark Ruffalo, Jake Gyllenhaal, Robert Downey J...   \n",
       "8804  Jesse Eisenberg, Woody Harrelson, Emma Stone, ...   \n",
       "8805  Tim Allen, Courteney Cox, Chevy Chase, Kate Ma...   \n",
       "8806  Vicky Kaushal, Sarah-Jane Dias, Raaghav Chanan...   \n",
       "\n",
       "                                                country          date_added  \\\n",
       "0                                         United States  September 25, 2021   \n",
       "6                                                   NaN  September 24, 2021   \n",
       "7     United States, Ghana, Burkina Faso, United Kin...  September 24, 2021   \n",
       "9                                         United States  September 24, 2021   \n",
       "12                              Germany, Czech Republic  September 23, 2021   \n",
       "...                                                 ...                 ...   \n",
       "8801                       United Arab Emirates, Jordan       March 9, 2016   \n",
       "8802                                      United States   November 20, 2019   \n",
       "8804                                      United States    November 1, 2019   \n",
       "8805                                      United States    January 11, 2020   \n",
       "8806                                              India       March 2, 2019   \n",
       "\n",
       "      release_year rating duration  \\\n",
       "0             2020  PG-13   90 min   \n",
       "6             2021     PG   91 min   \n",
       "7             1993  TV-MA  125 min   \n",
       "9             2021  PG-13  104 min   \n",
       "12            2021  TV-MA  127 min   \n",
       "...            ...    ...      ...   \n",
       "8801          2015  TV-MA   96 min   \n",
       "8802          2007      R  158 min   \n",
       "8804          2009      R   88 min   \n",
       "8805          2006     PG   88 min   \n",
       "8806          2015  TV-14  111 min   \n",
       "\n",
       "                                             listed_in  \\\n",
       "0                                        Documentaries   \n",
       "6                             Children & Family Movies   \n",
       "7     Dramas, Independent Movies, International Movies   \n",
       "9                                     Comedies, Dramas   \n",
       "12                        Dramas, International Movies   \n",
       "...                                                ...   \n",
       "8801           Dramas, International Movies, Thrillers   \n",
       "8802                    Cult Movies, Dramas, Thrillers   \n",
       "8804                           Comedies, Horror Movies   \n",
       "8805                Children & Family Movies, Comedies   \n",
       "8806    Dramas, International Movies, Music & Musicals   \n",
       "\n",
       "                                            description  \n",
       "0     As her father nears the end of his life, filmm...  \n",
       "6     Equestria's divided. But a bright-eyed hero be...  \n",
       "7     On a photo shoot in Ghana, an American model s...  \n",
       "9     A woman adjusting to life after a loss contend...  \n",
       "12    After most of her family is murdered in a terr...  \n",
       "...                                                 ...  \n",
       "8801  Recovering alcoholic Talal wakes up inside a s...  \n",
       "8802  A political cartoonist, a crime reporter and a...  \n",
       "8804  Looking to survive in a world taken over by zo...  \n",
       "8805  Dragged from civilian life, a former superhero...  \n",
       "8806  A scrappy but poor boy worms his way into a ty...  \n",
       "\n",
       "[6131 rows x 12 columns]"
      ]
     },
     "execution_count": 185,
     "metadata": {},
     "output_type": "execute_result"
    }
   ],
   "source": [
    "# Which countries produce the longest movies?\n",
    "movies=netflix[netflix[\"type\"]==\"Movie\"].copy()\n",
    "movies"
   ]
  },
  {
   "cell_type": "code",
   "execution_count": 186,
   "id": "fa3c26c9-b680-4c51-8ab6-802682e495b5",
   "metadata": {},
   "outputs": [
    {
     "data": {
      "text/plain": [
       "0        90.0\n",
       "6        91.0\n",
       "7       125.0\n",
       "9       104.0\n",
       "12      127.0\n",
       "        ...  \n",
       "8801     96.0\n",
       "8802    158.0\n",
       "8804     88.0\n",
       "8805     88.0\n",
       "8806    111.0\n",
       "Name: duration, Length: 6131, dtype: float64"
      ]
     },
     "execution_count": 186,
     "metadata": {},
     "output_type": "execute_result"
    }
   ],
   "source": [
    "movies[\"duration\"]=pd.to_numeric(movies[\"duration\"].str.extract(r\"(\\d+)\")[0], errors=\"coerce\")\n",
    "movies[\"duration\"]"
   ]
  },
  {
   "cell_type": "code",
   "execution_count": 188,
   "id": "bad496d7-d8a1-427f-9e31-7df8dd38ff3c",
   "metadata": {},
   "outputs": [
    {
     "data": {
      "text/plain": [
       "country\n",
       "United Kingdom, United States, Japan                   208.0\n",
       "United States, United Kingdom, Morocco                 205.0\n",
       "United States, Italy, United Kingdom, Liechtenstein    200.0\n",
       "New Zealand, United States                             190.0\n",
       "Romania, France, Switzerland, Germany                  186.0\n",
       "                                                       ...  \n",
       "Namibia                                                 29.0\n",
       "United Kingdom, Kenya                                   28.0\n",
       "Georgia                                                 24.0\n",
       "France, South Korea, Japan                              22.0\n",
       "Lebanon, Syria                                          13.0\n",
       "Name: duration, Length: 651, dtype: float64"
      ]
     },
     "execution_count": 188,
     "metadata": {},
     "output_type": "execute_result"
    }
   ],
   "source": [
    "movies.groupby(\"country\")[\"duration\"].mean().sort_values(ascending=False)"
   ]
  },
  {
   "cell_type": "code",
   "execution_count": 190,
   "id": "60ea75bf-4977-43e9-bc59-212a3fc9bd71",
   "metadata": {},
   "outputs": [
    {
     "data": {
      "text/html": [
       "<div>\n",
       "<style scoped>\n",
       "    .dataframe tbody tr th:only-of-type {\n",
       "        vertical-align: middle;\n",
       "    }\n",
       "\n",
       "    .dataframe tbody tr th {\n",
       "        vertical-align: top;\n",
       "    }\n",
       "\n",
       "    .dataframe thead th {\n",
       "        text-align: right;\n",
       "    }\n",
       "</style>\n",
       "<table border=\"1\" class=\"dataframe\">\n",
       "  <thead>\n",
       "    <tr style=\"text-align: right;\">\n",
       "      <th></th>\n",
       "      <th>show_id</th>\n",
       "      <th>type</th>\n",
       "      <th>title</th>\n",
       "      <th>director</th>\n",
       "      <th>cast</th>\n",
       "      <th>country</th>\n",
       "      <th>date_added</th>\n",
       "      <th>release_year</th>\n",
       "      <th>rating</th>\n",
       "      <th>duration</th>\n",
       "      <th>listed_in</th>\n",
       "      <th>description</th>\n",
       "    </tr>\n",
       "  </thead>\n",
       "  <tbody>\n",
       "    <tr>\n",
       "      <th>0</th>\n",
       "      <td>s1</td>\n",
       "      <td>Movie</td>\n",
       "      <td>Dick Johnson Is Dead</td>\n",
       "      <td>Kirsten Johnson</td>\n",
       "      <td>NaN</td>\n",
       "      <td>United States</td>\n",
       "      <td>September 25, 2021</td>\n",
       "      <td>2020</td>\n",
       "      <td>PG-13</td>\n",
       "      <td>90 min</td>\n",
       "      <td>Documentaries</td>\n",
       "      <td>As her father nears the end of his life, filmm...</td>\n",
       "    </tr>\n",
       "    <tr>\n",
       "      <th>1</th>\n",
       "      <td>s2</td>\n",
       "      <td>TV Show</td>\n",
       "      <td>Blood &amp; Water</td>\n",
       "      <td>NaN</td>\n",
       "      <td>Ama Qamata, Khosi Ngema, Gail Mabalane, Thaban...</td>\n",
       "      <td>South Africa</td>\n",
       "      <td>September 24, 2021</td>\n",
       "      <td>2021</td>\n",
       "      <td>TV-MA</td>\n",
       "      <td>2 Seasons</td>\n",
       "      <td>International TV Shows, TV Dramas, TV Mysteries</td>\n",
       "      <td>After crossing paths at a party, a Cape Town t...</td>\n",
       "    </tr>\n",
       "  </tbody>\n",
       "</table>\n",
       "</div>"
      ],
      "text/plain": [
       "  show_id     type                 title         director  \\\n",
       "0      s1    Movie  Dick Johnson Is Dead  Kirsten Johnson   \n",
       "1      s2  TV Show         Blood & Water              NaN   \n",
       "\n",
       "                                                cast        country  \\\n",
       "0                                                NaN  United States   \n",
       "1  Ama Qamata, Khosi Ngema, Gail Mabalane, Thaban...   South Africa   \n",
       "\n",
       "           date_added  release_year rating   duration  \\\n",
       "0  September 25, 2021          2020  PG-13     90 min   \n",
       "1  September 24, 2021          2021  TV-MA  2 Seasons   \n",
       "\n",
       "                                         listed_in  \\\n",
       "0                                    Documentaries   \n",
       "1  International TV Shows, TV Dramas, TV Mysteries   \n",
       "\n",
       "                                         description  \n",
       "0  As her father nears the end of his life, filmm...  \n",
       "1  After crossing paths at a party, a Cape Town t...  "
      ]
     },
     "execution_count": 190,
     "metadata": {},
     "output_type": "execute_result"
    }
   ],
   "source": [
    "# How has the content type ratio changed over the years?\n",
    "netflix.head(2)"
   ]
  },
  {
   "cell_type": "code",
   "execution_count": 194,
   "id": "1de5c3a2-e6e3-4740-b404-ff4caf4003d8",
   "metadata": {},
   "outputs": [
    {
     "data": {
      "text/plain": [
       "0      2021-09-25\n",
       "1      2021-09-24\n",
       "2      2021-09-24\n",
       "3      2021-09-24\n",
       "4      2021-09-24\n",
       "          ...    \n",
       "8802   2019-11-20\n",
       "8803   2019-07-01\n",
       "8804   2019-11-01\n",
       "8805   2020-01-11\n",
       "8806   2019-03-02\n",
       "Name: date_added, Length: 8807, dtype: datetime64[ns]"
      ]
     },
     "execution_count": 194,
     "metadata": {},
     "output_type": "execute_result"
    }
   ],
   "source": [
    "netflix[\"date_added\"]=pd.to_datetime(netflix[\"date_added\"], errors=\"coerce\")\n",
    "netflix[\"date_added\"]"
   ]
  },
  {
   "cell_type": "code",
   "execution_count": 195,
   "id": "64e37343-6fe9-424b-b87a-a6cbe67ed841",
   "metadata": {},
   "outputs": [
    {
     "data": {
      "text/plain": [
       "0       2021.0\n",
       "1       2021.0\n",
       "2       2021.0\n",
       "3       2021.0\n",
       "4       2021.0\n",
       "         ...  \n",
       "8802    2019.0\n",
       "8803    2019.0\n",
       "8804    2019.0\n",
       "8805    2020.0\n",
       "8806    2019.0\n",
       "Name: year, Length: 8807, dtype: float64"
      ]
     },
     "execution_count": 195,
     "metadata": {},
     "output_type": "execute_result"
    }
   ],
   "source": [
    "netflix[\"year\"]=netflix[\"date_added\"].dt.year\n",
    "netflix[\"year\"]"
   ]
  },
  {
   "cell_type": "code",
   "execution_count": 200,
   "id": "8b136bcc-d0c7-4f3e-8138-2b38335f21e4",
   "metadata": {},
   "outputs": [
    {
     "data": {
      "text/html": [
       "<div>\n",
       "<style scoped>\n",
       "    .dataframe tbody tr th:only-of-type {\n",
       "        vertical-align: middle;\n",
       "    }\n",
       "\n",
       "    .dataframe tbody tr th {\n",
       "        vertical-align: top;\n",
       "    }\n",
       "\n",
       "    .dataframe thead th {\n",
       "        text-align: right;\n",
       "    }\n",
       "</style>\n",
       "<table border=\"1\" class=\"dataframe\">\n",
       "  <thead>\n",
       "    <tr style=\"text-align: right;\">\n",
       "      <th>type</th>\n",
       "      <th>Movie</th>\n",
       "      <th>TV Show</th>\n",
       "    </tr>\n",
       "    <tr>\n",
       "      <th>year</th>\n",
       "      <th></th>\n",
       "      <th></th>\n",
       "    </tr>\n",
       "  </thead>\n",
       "  <tbody>\n",
       "    <tr>\n",
       "      <th>2008.0</th>\n",
       "      <td>1.0</td>\n",
       "      <td>1.0</td>\n",
       "    </tr>\n",
       "    <tr>\n",
       "      <th>2009.0</th>\n",
       "      <td>2.0</td>\n",
       "      <td>0.0</td>\n",
       "    </tr>\n",
       "    <tr>\n",
       "      <th>2010.0</th>\n",
       "      <td>1.0</td>\n",
       "      <td>0.0</td>\n",
       "    </tr>\n",
       "    <tr>\n",
       "      <th>2011.0</th>\n",
       "      <td>13.0</td>\n",
       "      <td>0.0</td>\n",
       "    </tr>\n",
       "    <tr>\n",
       "      <th>2012.0</th>\n",
       "      <td>3.0</td>\n",
       "      <td>0.0</td>\n",
       "    </tr>\n",
       "    <tr>\n",
       "      <th>2013.0</th>\n",
       "      <td>6.0</td>\n",
       "      <td>4.0</td>\n",
       "    </tr>\n",
       "    <tr>\n",
       "      <th>2014.0</th>\n",
       "      <td>19.0</td>\n",
       "      <td>4.0</td>\n",
       "    </tr>\n",
       "    <tr>\n",
       "      <th>2015.0</th>\n",
       "      <td>56.0</td>\n",
       "      <td>17.0</td>\n",
       "    </tr>\n",
       "    <tr>\n",
       "      <th>2016.0</th>\n",
       "      <td>253.0</td>\n",
       "      <td>165.0</td>\n",
       "    </tr>\n",
       "    <tr>\n",
       "      <th>2017.0</th>\n",
       "      <td>839.0</td>\n",
       "      <td>325.0</td>\n",
       "    </tr>\n",
       "    <tr>\n",
       "      <th>2018.0</th>\n",
       "      <td>1237.0</td>\n",
       "      <td>388.0</td>\n",
       "    </tr>\n",
       "    <tr>\n",
       "      <th>2019.0</th>\n",
       "      <td>1424.0</td>\n",
       "      <td>575.0</td>\n",
       "    </tr>\n",
       "    <tr>\n",
       "      <th>2020.0</th>\n",
       "      <td>1284.0</td>\n",
       "      <td>594.0</td>\n",
       "    </tr>\n",
       "    <tr>\n",
       "      <th>2021.0</th>\n",
       "      <td>993.0</td>\n",
       "      <td>505.0</td>\n",
       "    </tr>\n",
       "  </tbody>\n",
       "</table>\n",
       "</div>"
      ],
      "text/plain": [
       "type     Movie  TV Show\n",
       "year                   \n",
       "2008.0     1.0      1.0\n",
       "2009.0     2.0      0.0\n",
       "2010.0     1.0      0.0\n",
       "2011.0    13.0      0.0\n",
       "2012.0     3.0      0.0\n",
       "2013.0     6.0      4.0\n",
       "2014.0    19.0      4.0\n",
       "2015.0    56.0     17.0\n",
       "2016.0   253.0    165.0\n",
       "2017.0   839.0    325.0\n",
       "2018.0  1237.0    388.0\n",
       "2019.0  1424.0    575.0\n",
       "2020.0  1284.0    594.0\n",
       "2021.0   993.0    505.0"
      ]
     },
     "execution_count": 200,
     "metadata": {},
     "output_type": "execute_result"
    }
   ],
   "source": [
    "netflix.groupby([\"year\",\"type\"]).size().unstack().fillna(0)"
   ]
  },
  {
   "cell_type": "code",
   "execution_count": 203,
   "id": "ea6077ed-7a6a-4ce1-81d2-f08c209a216e",
   "metadata": {},
   "outputs": [
    {
     "data": {
      "text/plain": [
       "<Axes: xlabel='year'>"
      ]
     },
     "execution_count": 203,
     "metadata": {},
     "output_type": "execute_result"
    },
    {
     "data": {
      "image/png": "[encoded data removed]",
      "text/plain": [
       "<Figure size 640x480 with 1 Axes>"
      ]
     },
     "metadata": {},
     "output_type": "display_data"
    }
   ],
   "source": [
    "netflix.groupby([\"year\",\"type\"]).size().unstack().fillna(0).plot(kind=\"bar\")"
   ]
  },
  {
   "cell_type": "code",
   "execution_count": 204,
   "id": "e09cc3ac-0c82-4da0-9f1b-6253c004f421",
   "metadata": {},
   "outputs": [
    {
     "data": {
      "text/html": [
       "<div>\n",
       "<style scoped>\n",
       "    .dataframe tbody tr th:only-of-type {\n",
       "        vertical-align: middle;\n",
       "    }\n",
       "\n",
       "    .dataframe tbody tr th {\n",
       "        vertical-align: top;\n",
       "    }\n",
       "\n",
       "    .dataframe thead th {\n",
       "        text-align: right;\n",
       "    }\n",
       "</style>\n",
       "<table border=\"1\" class=\"dataframe\">\n",
       "  <thead>\n",
       "    <tr style=\"text-align: right;\">\n",
       "      <th></th>\n",
       "      <th>show_id</th>\n",
       "      <th>type</th>\n",
       "      <th>title</th>\n",
       "      <th>director</th>\n",
       "      <th>cast</th>\n",
       "      <th>country</th>\n",
       "      <th>date_added</th>\n",
       "      <th>release_year</th>\n",
       "      <th>rating</th>\n",
       "      <th>duration</th>\n",
       "      <th>listed_in</th>\n",
       "      <th>description</th>\n",
       "      <th>year</th>\n",
       "    </tr>\n",
       "  </thead>\n",
       "  <tbody>\n",
       "    <tr>\n",
       "      <th>0</th>\n",
       "      <td>s1</td>\n",
       "      <td>Movie</td>\n",
       "      <td>Dick Johnson Is Dead</td>\n",
       "      <td>Kirsten Johnson</td>\n",
       "      <td>NaN</td>\n",
       "      <td>United States</td>\n",
       "      <td>2021-09-25</td>\n",
       "      <td>2020</td>\n",
       "      <td>PG-13</td>\n",
       "      <td>90 min</td>\n",
       "      <td>Documentaries</td>\n",
       "      <td>As her father nears the end of his life, filmm...</td>\n",
       "      <td>2021.0</td>\n",
       "    </tr>\n",
       "    <tr>\n",
       "      <th>1</th>\n",
       "      <td>s2</td>\n",
       "      <td>TV Show</td>\n",
       "      <td>Blood &amp; Water</td>\n",
       "      <td>NaN</td>\n",
       "      <td>Ama Qamata, Khosi Ngema, Gail Mabalane, Thaban...</td>\n",
       "      <td>South Africa</td>\n",
       "      <td>2021-09-24</td>\n",
       "      <td>2021</td>\n",
       "      <td>TV-MA</td>\n",
       "      <td>2 Seasons</td>\n",
       "      <td>International TV Shows, TV Dramas, TV Mysteries</td>\n",
       "      <td>After crossing paths at a party, a Cape Town t...</td>\n",
       "      <td>2021.0</td>\n",
       "    </tr>\n",
       "  </tbody>\n",
       "</table>\n",
       "</div>"
      ],
      "text/plain": [
       "  show_id     type                 title         director  \\\n",
       "0      s1    Movie  Dick Johnson Is Dead  Kirsten Johnson   \n",
       "1      s2  TV Show         Blood & Water              NaN   \n",
       "\n",
       "                                                cast        country  \\\n",
       "0                                                NaN  United States   \n",
       "1  Ama Qamata, Khosi Ngema, Gail Mabalane, Thaban...   South Africa   \n",
       "\n",
       "  date_added  release_year rating   duration  \\\n",
       "0 2021-09-25          2020  PG-13     90 min   \n",
       "1 2021-09-24          2021  TV-MA  2 Seasons   \n",
       "\n",
       "                                         listed_in  \\\n",
       "0                                    Documentaries   \n",
       "1  International TV Shows, TV Dramas, TV Mysteries   \n",
       "\n",
       "                                         description    year  \n",
       "0  As her father nears the end of his life, filmm...  2021.0  \n",
       "1  After crossing paths at a party, a Cape Town t...  2021.0  "
      ]
     },
     "execution_count": 204,
     "metadata": {},
     "output_type": "execute_result"
    }
   ],
   "source": [
    "# Top 5 directors with the most content?\n",
    "netflix.head(2)"
   ]
  },
  {
   "cell_type": "code",
   "execution_count": 207,
   "id": "4df1811c-6381-4d0b-b3a7-b74be79926d9",
   "metadata": {},
   "outputs": [
    {
     "data": {
      "text/plain": [
       "director\n",
       "Rajiv Chilaka             19\n",
       "Raúl Campos, Jan Suter    18\n",
       "Suhas Kadav               16\n",
       "Marcus Raboy              16\n",
       "Jay Karas                 14\n",
       "Cathy Garcia-Molina       13\n",
       "Youssef Chahine           12\n",
       "Martin Scorsese           12\n",
       "Jay Chapman               12\n",
       "Steven Spielberg          11\n",
       "Name: title, dtype: int64"
      ]
     },
     "execution_count": 207,
     "metadata": {},
     "output_type": "execute_result"
    }
   ],
   "source": [
    "netflix.groupby(\"director\")[\"title\"].count().sort_values(ascending=False).head(10)"
   ]
  },
  {
   "cell_type": "code",
   "execution_count": 208,
   "id": "27e9c9de-6f37-4847-a8fc-34c626a8d9c6",
   "metadata": {},
   "outputs": [
    {
     "data": {
      "text/plain": [
       "0                                           Documentaries\n",
       "1         International TV Shows, TV Dramas, TV Mysteries\n",
       "2       Crime TV Shows, International TV Shows, TV Act...\n",
       "3                                  Docuseries, Reality TV\n",
       "4       International TV Shows, Romantic TV Shows, TV ...\n",
       "                              ...                        \n",
       "8802                       Cult Movies, Dramas, Thrillers\n",
       "8803               Kids' TV, Korean TV Shows, TV Comedies\n",
       "8804                              Comedies, Horror Movies\n",
       "8805                   Children & Family Movies, Comedies\n",
       "8806       Dramas, International Movies, Music & Musicals\n",
       "Name: listed_in, Length: 8807, dtype: object"
      ]
     },
     "execution_count": 208,
     "metadata": {},
     "output_type": "execute_result"
    }
   ],
   "source": []
  },
  {
   "cell_type": "markdown",
   "id": "bba52725-0874-40c9-a747-844647ce1be4",
   "metadata": {},
   "source": [
    "**IPL DATASET**"
   ]
  },
  {
   "cell_type": "code",
   "execution_count": 219,
   "id": "3ae93561-2eb9-461d-900b-5abc5fba61b1",
   "metadata": {},
   "outputs": [
    {
     "name": "stderr",
     "output_type": "stream",
     "text": [
      "/tmp/ipykernel_108519/3781939704.py:1: DtypeWarning: Columns (28,29,30,31,43,46,47,48,51) have mixed types. Specify dtype option on import or set low_memory=False.\n",
      "  ipl = pd.read_csv(r\"/home/rgukt/Downloads/IPL.csv\")\n"
     ]
    },
    {
     "data": {
      "text/html": [
       "<div>\n",
       "<style scoped>\n",
       "    .dataframe tbody tr th:only-of-type {\n",
       "        vertical-align: middle;\n",
       "    }\n",
       "\n",
       "    .dataframe tbody tr th {\n",
       "        vertical-align: top;\n",
       "    }\n",
       "\n",
       "    .dataframe thead th {\n",
       "        text-align: right;\n",
       "    }\n",
       "</style>\n",
       "<table border=\"1\" class=\"dataframe\">\n",
       "  <thead>\n",
       "    <tr style=\"text-align: right;\">\n",
       "      <th></th>\n",
       "      <th>Unnamed: 0</th>\n",
       "      <th>match_id</th>\n",
       "      <th>date</th>\n",
       "      <th>match_type</th>\n",
       "      <th>event_name</th>\n",
       "      <th>innings</th>\n",
       "      <th>batting_team</th>\n",
       "      <th>bowling_team</th>\n",
       "      <th>over</th>\n",
       "      <th>ball</th>\n",
       "      <th>...</th>\n",
       "      <th>team_runs</th>\n",
       "      <th>team_balls</th>\n",
       "      <th>team_wicket</th>\n",
       "      <th>new_batter</th>\n",
       "      <th>batter_runs</th>\n",
       "      <th>batter_balls</th>\n",
       "      <th>bowler_wicket</th>\n",
       "      <th>batting_partners</th>\n",
       "      <th>next_batter</th>\n",
       "      <th>striker_out</th>\n",
       "    </tr>\n",
       "  </thead>\n",
       "  <tbody>\n",
       "    <tr>\n",
       "      <th>0</th>\n",
       "      <td>131970</td>\n",
       "      <td>335982</td>\n",
       "      <td>2008-04-18</td>\n",
       "      <td>T20</td>\n",
       "      <td>Indian Premier League</td>\n",
       "      <td>1</td>\n",
       "      <td>Kolkata Knight Riders</td>\n",
       "      <td>Royal Challengers Bangalore</td>\n",
       "      <td>0</td>\n",
       "      <td>1</td>\n",
       "      <td>...</td>\n",
       "      <td>1</td>\n",
       "      <td>1</td>\n",
       "      <td>0</td>\n",
       "      <td>NaN</td>\n",
       "      <td>0</td>\n",
       "      <td>1</td>\n",
       "      <td>0</td>\n",
       "      <td>('BB McCullum', 'SC Ganguly')</td>\n",
       "      <td>NaN</td>\n",
       "      <td>False</td>\n",
       "    </tr>\n",
       "    <tr>\n",
       "      <th>1</th>\n",
       "      <td>131971</td>\n",
       "      <td>335982</td>\n",
       "      <td>2008-04-18</td>\n",
       "      <td>T20</td>\n",
       "      <td>Indian Premier League</td>\n",
       "      <td>1</td>\n",
       "      <td>Kolkata Knight Riders</td>\n",
       "      <td>Royal Challengers Bangalore</td>\n",
       "      <td>0</td>\n",
       "      <td>2</td>\n",
       "      <td>...</td>\n",
       "      <td>1</td>\n",
       "      <td>2</td>\n",
       "      <td>0</td>\n",
       "      <td>NaN</td>\n",
       "      <td>0</td>\n",
       "      <td>1</td>\n",
       "      <td>0</td>\n",
       "      <td>('BB McCullum', 'SC Ganguly')</td>\n",
       "      <td>NaN</td>\n",
       "      <td>False</td>\n",
       "    </tr>\n",
       "    <tr>\n",
       "      <th>2</th>\n",
       "      <td>131972</td>\n",
       "      <td>335982</td>\n",
       "      <td>2008-04-18</td>\n",
       "      <td>T20</td>\n",
       "      <td>Indian Premier League</td>\n",
       "      <td>1</td>\n",
       "      <td>Kolkata Knight Riders</td>\n",
       "      <td>Royal Challengers Bangalore</td>\n",
       "      <td>0</td>\n",
       "      <td>3</td>\n",
       "      <td>...</td>\n",
       "      <td>2</td>\n",
       "      <td>2</td>\n",
       "      <td>0</td>\n",
       "      <td>NaN</td>\n",
       "      <td>0</td>\n",
       "      <td>1</td>\n",
       "      <td>0</td>\n",
       "      <td>('BB McCullum', 'SC Ganguly')</td>\n",
       "      <td>NaN</td>\n",
       "      <td>False</td>\n",
       "    </tr>\n",
       "  </tbody>\n",
       "</table>\n",
       "<p>3 rows × 64 columns</p>\n",
       "</div>"
      ],
      "text/plain": [
       "   Unnamed: 0  match_id        date match_type             event_name  \\\n",
       "0      131970    335982  2008-04-18        T20  Indian Premier League   \n",
       "1      131971    335982  2008-04-18        T20  Indian Premier League   \n",
       "2      131972    335982  2008-04-18        T20  Indian Premier League   \n",
       "\n",
       "   innings           batting_team                 bowling_team  over  ball  \\\n",
       "0        1  Kolkata Knight Riders  Royal Challengers Bangalore     0     1   \n",
       "1        1  Kolkata Knight Riders  Royal Challengers Bangalore     0     2   \n",
       "2        1  Kolkata Knight Riders  Royal Challengers Bangalore     0     3   \n",
       "\n",
       "   ...  team_runs team_balls  team_wicket  new_batter  batter_runs  \\\n",
       "0  ...          1          1            0         NaN            0   \n",
       "1  ...          1          2            0         NaN            0   \n",
       "2  ...          2          2            0         NaN            0   \n",
       "\n",
       "  batter_balls  bowler_wicket               batting_partners  next_batter  \\\n",
       "0            1              0  ('BB McCullum', 'SC Ganguly')          NaN   \n",
       "1            1              0  ('BB McCullum', 'SC Ganguly')          NaN   \n",
       "2            1              0  ('BB McCullum', 'SC Ganguly')          NaN   \n",
       "\n",
       "   striker_out  \n",
       "0        False  \n",
       "1        False  \n",
       "2        False  \n",
       "\n",
       "[3 rows x 64 columns]"
      ]
     },
     "execution_count": 219,
     "metadata": {},
     "output_type": "execute_result"
    }
   ],
   "source": [
    "ipl = pd.read_csv(r\"/home/rgukt/Downloads/IPL.csv\")\n",
    "ipl.head(3)"
   ]
  },
  {
   "cell_type": "code",
   "execution_count": 220,
   "id": "dc59ab45-5719-476a-98b9-ded6e26231fd",
   "metadata": {},
   "outputs": [
    {
     "data": {
      "text/plain": [
       "Index(['Unnamed: 0', 'match_id', 'date', 'match_type', 'event_name', 'innings',\n",
       "       'batting_team', 'bowling_team', 'over', 'ball', 'ball_no', 'batter',\n",
       "       'bat_pos', 'runs_batter', 'balls_faced', 'bowler', 'valid_ball',\n",
       "       'runs_extras', 'runs_total', 'runs_bowler', 'runs_not_boundary',\n",
       "       'extra_type', 'non_striker', 'non_striker_pos', 'wicket_kind',\n",
       "       'player_out', 'fielders', 'runs_target', 'review_batter',\n",
       "       'team_reviewed', 'review_decision', 'umpire', 'umpires_call',\n",
       "       'player_of_match', 'match_won_by', 'win_outcome', 'toss_winner',\n",
       "       'toss_decision', 'venue', 'city', 'day', 'month', 'year', 'season',\n",
       "       'gender', 'team_type', 'superover_winner', 'result_type', 'method',\n",
       "       'balls_per_over', 'overs', 'event_match_no', 'stage', 'match_number',\n",
       "       'team_runs', 'team_balls', 'team_wicket', 'new_batter', 'batter_runs',\n",
       "       'batter_balls', 'bowler_wicket', 'batting_partners', 'next_batter',\n",
       "       'striker_out'],\n",
       "      dtype='object')"
      ]
     },
     "execution_count": 220,
     "metadata": {},
     "output_type": "execute_result"
    }
   ],
   "source": [
    "ipl.columns"
   ]
  },
  {
   "cell_type": "code",
   "execution_count": 224,
   "id": "20749fe1-2569-4ffe-b920-670b2ee990bc",
   "metadata": {},
   "outputs": [
    {
     "name": "stdout",
     "output_type": "stream",
     "text": [
      "0    131970\n",
      "1    131971\n",
      "2    131972\n",
      "3    131973\n",
      "4    131974\n",
      "Name: Unnamed: 0, dtype: int64\n",
      "False\n",
      "True\n"
     ]
    }
   ],
   "source": [
    "print(ipl['Unnamed: 0'].head())\n",
    "print(ipl['Unnamed: 0'].is_monotonic_increasing)\n",
    "print(ipl['Unnamed: 0'].is_unique)"
   ]
  },
  {
   "cell_type": "code",
   "execution_count": 225,
   "id": "aca36075-687a-45f5-8bef-79accb3cc64f",
   "metadata": {},
   "outputs": [],
   "source": [
    "ipl = ipl.drop(columns='Unnamed: 0')\n"
   ]
  },
  {
   "cell_type": "code",
   "execution_count": 226,
   "id": "abc7652e-2588-4df0-8eca-b7f85252b7b7",
   "metadata": {},
   "outputs": [
    {
     "data": {
      "text/html": [
       "<div>\n",
       "<style scoped>\n",
       "    .dataframe tbody tr th:only-of-type {\n",
       "        vertical-align: middle;\n",
       "    }\n",
       "\n",
       "    .dataframe tbody tr th {\n",
       "        vertical-align: top;\n",
       "    }\n",
       "\n",
       "    .dataframe thead th {\n",
       "        text-align: right;\n",
       "    }\n",
       "</style>\n",
       "<table border=\"1\" class=\"dataframe\">\n",
       "  <thead>\n",
       "    <tr style=\"text-align: right;\">\n",
       "      <th></th>\n",
       "      <th>match_id</th>\n",
       "      <th>date</th>\n",
       "      <th>match_type</th>\n",
       "      <th>event_name</th>\n",
       "      <th>innings</th>\n",
       "      <th>batting_team</th>\n",
       "      <th>bowling_team</th>\n",
       "      <th>over</th>\n",
       "      <th>ball</th>\n",
       "      <th>ball_no</th>\n",
       "      <th>...</th>\n",
       "      <th>team_runs</th>\n",
       "      <th>team_balls</th>\n",
       "      <th>team_wicket</th>\n",
       "      <th>new_batter</th>\n",
       "      <th>batter_runs</th>\n",
       "      <th>batter_balls</th>\n",
       "      <th>bowler_wicket</th>\n",
       "      <th>batting_partners</th>\n",
       "      <th>next_batter</th>\n",
       "      <th>striker_out</th>\n",
       "    </tr>\n",
       "  </thead>\n",
       "  <tbody>\n",
       "    <tr>\n",
       "      <th>0</th>\n",
       "      <td>335982</td>\n",
       "      <td>2008-04-18</td>\n",
       "      <td>T20</td>\n",
       "      <td>Indian Premier League</td>\n",
       "      <td>1</td>\n",
       "      <td>Kolkata Knight Riders</td>\n",
       "      <td>Royal Challengers Bangalore</td>\n",
       "      <td>0</td>\n",
       "      <td>1</td>\n",
       "      <td>0.1</td>\n",
       "      <td>...</td>\n",
       "      <td>1</td>\n",
       "      <td>1</td>\n",
       "      <td>0</td>\n",
       "      <td>NaN</td>\n",
       "      <td>0</td>\n",
       "      <td>1</td>\n",
       "      <td>0</td>\n",
       "      <td>('BB McCullum', 'SC Ganguly')</td>\n",
       "      <td>NaN</td>\n",
       "      <td>False</td>\n",
       "    </tr>\n",
       "    <tr>\n",
       "      <th>1</th>\n",
       "      <td>335982</td>\n",
       "      <td>2008-04-18</td>\n",
       "      <td>T20</td>\n",
       "      <td>Indian Premier League</td>\n",
       "      <td>1</td>\n",
       "      <td>Kolkata Knight Riders</td>\n",
       "      <td>Royal Challengers Bangalore</td>\n",
       "      <td>0</td>\n",
       "      <td>2</td>\n",
       "      <td>0.2</td>\n",
       "      <td>...</td>\n",
       "      <td>1</td>\n",
       "      <td>2</td>\n",
       "      <td>0</td>\n",
       "      <td>NaN</td>\n",
       "      <td>0</td>\n",
       "      <td>1</td>\n",
       "      <td>0</td>\n",
       "      <td>('BB McCullum', 'SC Ganguly')</td>\n",
       "      <td>NaN</td>\n",
       "      <td>False</td>\n",
       "    </tr>\n",
       "    <tr>\n",
       "      <th>2</th>\n",
       "      <td>335982</td>\n",
       "      <td>2008-04-18</td>\n",
       "      <td>T20</td>\n",
       "      <td>Indian Premier League</td>\n",
       "      <td>1</td>\n",
       "      <td>Kolkata Knight Riders</td>\n",
       "      <td>Royal Challengers Bangalore</td>\n",
       "      <td>0</td>\n",
       "      <td>3</td>\n",
       "      <td>0.3</td>\n",
       "      <td>...</td>\n",
       "      <td>2</td>\n",
       "      <td>2</td>\n",
       "      <td>0</td>\n",
       "      <td>NaN</td>\n",
       "      <td>0</td>\n",
       "      <td>1</td>\n",
       "      <td>0</td>\n",
       "      <td>('BB McCullum', 'SC Ganguly')</td>\n",
       "      <td>NaN</td>\n",
       "      <td>False</td>\n",
       "    </tr>\n",
       "  </tbody>\n",
       "</table>\n",
       "<p>3 rows × 63 columns</p>\n",
       "</div>"
      ],
      "text/plain": [
       "   match_id        date match_type             event_name  innings  \\\n",
       "0    335982  2008-04-18        T20  Indian Premier League        1   \n",
       "1    335982  2008-04-18        T20  Indian Premier League        1   \n",
       "2    335982  2008-04-18        T20  Indian Premier League        1   \n",
       "\n",
       "            batting_team                 bowling_team  over  ball  ball_no  \\\n",
       "0  Kolkata Knight Riders  Royal Challengers Bangalore     0     1      0.1   \n",
       "1  Kolkata Knight Riders  Royal Challengers Bangalore     0     2      0.2   \n",
       "2  Kolkata Knight Riders  Royal Challengers Bangalore     0     3      0.3   \n",
       "\n",
       "   ... team_runs  team_balls  team_wicket  new_batter batter_runs  \\\n",
       "0  ...         1           1            0         NaN           0   \n",
       "1  ...         1           2            0         NaN           0   \n",
       "2  ...         2           2            0         NaN           0   \n",
       "\n",
       "   batter_balls  bowler_wicket               batting_partners  next_batter  \\\n",
       "0             1              0  ('BB McCullum', 'SC Ganguly')          NaN   \n",
       "1             1              0  ('BB McCullum', 'SC Ganguly')          NaN   \n",
       "2             1              0  ('BB McCullum', 'SC Ganguly')          NaN   \n",
       "\n",
       "   striker_out  \n",
       "0        False  \n",
       "1        False  \n",
       "2        False  \n",
       "\n",
       "[3 rows x 63 columns]"
      ]
     },
     "execution_count": 226,
     "metadata": {},
     "output_type": "execute_result"
    }
   ],
   "source": [
    "ipl.head(3)"
   ]
  },
  {
   "cell_type": "code",
   "execution_count": 227,
   "id": "07a39337-b8b7-4988-b646-7c8df2714012",
   "metadata": {},
   "outputs": [
    {
     "data": {
      "text/plain": [
       "1169"
      ]
     },
     "execution_count": 227,
     "metadata": {},
     "output_type": "execute_result"
    }
   ],
   "source": [
    "# Q1: How many unique matches are there?\n",
    "ipl[\"match_id\"].nunique()"
   ]
  },
  {
   "cell_type": "code",
   "execution_count": 228,
   "id": "9bcd013c-1bb8-41f9-a01e-157218dcdad0",
   "metadata": {},
   "outputs": [
    {
     "name": "stdout",
     "output_type": "stream",
     "text": [
      "<class 'pandas.core.frame.DataFrame'>\n",
      "RangeIndex: 278205 entries, 0 to 278204\n",
      "Data columns (total 63 columns):\n",
      " #   Column             Non-Null Count   Dtype  \n",
      "---  ------             --------------   -----  \n",
      " 0   match_id           278205 non-null  int64  \n",
      " 1   date               278205 non-null  object \n",
      " 2   match_type         278205 non-null  object \n",
      " 3   event_name         278205 non-null  object \n",
      " 4   innings            278205 non-null  int64  \n",
      " 5   batting_team       278205 non-null  object \n",
      " 6   bowling_team       278205 non-null  object \n",
      " 7   over               278205 non-null  int64  \n",
      " 8   ball               278205 non-null  int64  \n",
      " 9   ball_no            278205 non-null  float64\n",
      " 10  batter             278205 non-null  object \n",
      " 11  bat_pos            278205 non-null  int64  \n",
      " 12  runs_batter        278205 non-null  int64  \n",
      " 13  balls_faced        278205 non-null  int64  \n",
      " 14  bowler             278205 non-null  object \n",
      " 15  valid_ball         278205 non-null  int64  \n",
      " 16  runs_extras        278205 non-null  int64  \n",
      " 17  runs_total         278205 non-null  int64  \n",
      " 18  runs_bowler        278205 non-null  int64  \n",
      " 19  runs_not_boundary  278205 non-null  bool   \n",
      " 20  extra_type         15133 non-null   object \n",
      " 21  non_striker        278205 non-null  object \n",
      " 22  non_striker_pos    278205 non-null  int64  \n",
      " 23  wicket_kind        13823 non-null   object \n",
      " 24  player_out         13823 non-null   object \n",
      " 25  fielders           10013 non-null   object \n",
      " 26  runs_target        133903 non-null  float64\n",
      " 27  review_batter      872 non-null     object \n",
      " 28  team_reviewed      872 non-null     object \n",
      " 29  review_decision    872 non-null     object \n",
      " 30  umpire             872 non-null     object \n",
      " 31  umpires_call       278205 non-null  bool   \n",
      " 32  player_of_match    278205 non-null  object \n",
      " 33  match_won_by       278205 non-null  object \n",
      " 34  win_outcome        273503 non-null  object \n",
      " 35  toss_winner        278205 non-null  object \n",
      " 36  toss_decision      278205 non-null  object \n",
      " 37  venue              278205 non-null  object \n",
      " 38  city               278205 non-null  object \n",
      " 39  day                278205 non-null  int64  \n",
      " 40  month              278205 non-null  int64  \n",
      " 41  year               278205 non-null  int64  \n",
      " 42  season             278205 non-null  object \n",
      " 43  gender             278205 non-null  object \n",
      " 44  team_type          278205 non-null  object \n",
      " 45  superover_winner   3896 non-null    object \n",
      " 46  result_type        4702 non-null    object \n",
      " 47  method             3890 non-null    object \n",
      " 48  balls_per_over     278205 non-null  int64  \n",
      " 49  overs              278205 non-null  int64  \n",
      " 50  event_match_no     278205 non-null  object \n",
      " 51  stage              278205 non-null  object \n",
      " 52  match_number       278205 non-null  object \n",
      " 53  team_runs          278205 non-null  int64  \n",
      " 54  team_balls         278205 non-null  int64  \n",
      " 55  team_wicket        278205 non-null  int64  \n",
      " 56  new_batter         13321 non-null   object \n",
      " 57  batter_runs        278205 non-null  int64  \n",
      " 58  batter_balls       278205 non-null  int64  \n",
      " 59  bowler_wicket      278205 non-null  int64  \n",
      " 60  batting_partners   278205 non-null  object \n",
      " 61  next_batter        13321 non-null   object \n",
      " 62  striker_out        278205 non-null  bool   \n",
      "dtypes: bool(3), float64(2), int64(23), object(35)\n",
      "memory usage: 128.1+ MB\n"
     ]
    }
   ],
   "source": [
    "ipl.info()"
   ]
  },
  {
   "cell_type": "code",
   "execution_count": 232,
   "id": "10bafd1d-7155-43cb-8fc6-fde941a7f158",
   "metadata": {},
   "outputs": [
    {
     "data": {
      "text/plain": [
       "match_won_by\n",
       "Mumbai Indians                 36185\n",
       "Chennai Super Kings            34371\n",
       "Kolkata Knight Riders          31729\n",
       "Rajasthan Royals               27466\n",
       "Royal Challengers Bangalore    26801\n",
       "Sunrisers Hyderabad            22183\n",
       "Kings XI Punjab                20162\n",
       "Delhi Daredevils               15709\n",
       "Delhi Capitals                 12296\n",
       "Gujarat Titans                  9000\n",
       "Name: count, dtype: int64"
      ]
     },
     "execution_count": 232,
     "metadata": {},
     "output_type": "execute_result"
    }
   ],
   "source": [
    "# Q2: Which teams have won the most matches?\n",
    "ipl.head(3)\n",
    "ipl.columns\n",
    "ipl[\"match_won_by\"].value_counts().head(10)"
   ]
  },
  {
   "cell_type": "code",
   "execution_count": 244,
   "id": "c3e0e79a-bbaf-47d7-a9d4-2d0b25ce08a9",
   "metadata": {},
   "outputs": [
    {
     "data": {
      "text/plain": [
       "np.float64(11957.9127459367)"
      ]
     },
     "execution_count": 244,
     "metadata": {},
     "output_type": "execute_result"
    }
   ],
   "source": [
    "# 🔸 Q3: Toss winner vs Match winner\n",
    "# (ipl[ipl[\"toss_winner\"]==ipl[\"match_won_by\"]]).count()\n",
    "\n",
    "# Count when toss_winner == match_won_by\n",
    "(ipl['toss_winner'] == ipl['match_won_by']).sum()\n",
    "\n",
    "# Percent of matches where toss winner won\n",
    "((ipl['toss_winner'] == ipl['match_won_by']).sum() / ipl['match_id'].nunique()) * 100\n"
   ]
  },
  {
   "cell_type": "code",
   "execution_count": 233,
   "id": "9d44d5bf-fa06-402e-b111-0f47c24165ad",
   "metadata": {},
   "outputs": [
    {
     "data": {
      "text/plain": [
       "Index(['match_id', 'date', 'match_type', 'event_name', 'innings',\n",
       "       'batting_team', 'bowling_team', 'over', 'ball', 'ball_no', 'batter',\n",
       "       'bat_pos', 'runs_batter', 'balls_faced', 'bowler', 'valid_ball',\n",
       "       'runs_extras', 'runs_total', 'runs_bowler', 'runs_not_boundary',\n",
       "       'extra_type', 'non_striker', 'non_striker_pos', 'wicket_kind',\n",
       "       'player_out', 'fielders', 'runs_target', 'review_batter',\n",
       "       'team_reviewed', 'review_decision', 'umpire', 'umpires_call',\n",
       "       'player_of_match', 'match_won_by', 'win_outcome', 'toss_winner',\n",
       "       'toss_decision', 'venue', 'city', 'day', 'month', 'year', 'season',\n",
       "       'gender', 'team_type', 'superover_winner', 'result_type', 'method',\n",
       "       'balls_per_over', 'overs', 'event_match_no', 'stage', 'match_number',\n",
       "       'team_runs', 'team_balls', 'team_wicket', 'new_batter', 'batter_runs',\n",
       "       'batter_balls', 'bowler_wicket', 'batting_partners', 'next_batter',\n",
       "       'striker_out'],\n",
       "      dtype='object')"
      ]
     },
     "execution_count": 233,
     "metadata": {},
     "output_type": "execute_result"
    }
   ],
   "source": [
    "ipl.columns"
   ]
  },
  {
   "cell_type": "code",
   "execution_count": 245,
   "id": "f9b70e87-955b-48aa-bd61-5c833e7195d1",
   "metadata": {},
   "outputs": [
    {
     "data": {
      "text/plain": [
       "venue\n",
       "Eden Gardens                                  17988\n",
       "Wankhede Stadium                              17591\n",
       "M Chinnaswamy Stadium                         14907\n",
       "Feroz Shah Kotla                              13950\n",
       "Wankhede Stadium, Mumbai                      12547\n",
       "MA Chidambaram Stadium, Chepauk               11760\n",
       "Rajiv Gandhi International Stadium, Uppal     11604\n",
       "Dubai International Cricket Stadium           11229\n",
       "Sawai Mansingh Stadium                        11150\n",
       "Punjab Cricket Association Stadium, Mohali     8266\n",
       "Name: count, dtype: int64"
      ]
     },
     "execution_count": 245,
     "metadata": {},
     "output_type": "execute_result"
    }
   ],
   "source": [
    " # Q4: Most common venues\n",
    "ipl[\"venue\"].value_counts().head(10)"
   ]
  },
  {
   "cell_type": "code",
   "execution_count": 247,
   "id": "e3d59e02-bf6d-4c7e-a0bd-0b91e49dea11",
   "metadata": {},
   "outputs": [
    {
     "data": {
      "text/plain": [
       "season\n",
       "2013       76\n",
       "2012       74\n",
       "2022       74\n",
       "2025       74\n",
       "2023       74\n",
       "2024       71\n",
       "2018       60\n",
       "2020/21    60\n",
       "2009/10    60\n",
       "2014       60\n",
       "2016       60\n",
       "2017       59\n",
       "2015       59\n",
       "2007/08    58\n",
       "2021       48\n",
       "2011       42\n",
       "2009       35\n",
       "2011       32\n",
       "2019       31\n",
       "2019       30\n",
       "2009       24\n",
       "2021       13\n",
       "Name: match_id, dtype: int64"
      ]
     },
     "execution_count": 247,
     "metadata": {},
     "output_type": "execute_result"
    }
   ],
   "source": [
    "# 🔸 Q5: Matches per season\n",
    "ipl.groupby(\"season\")[\"match_id\"].nunique().sort_values(ascending=False)"
   ]
  },
  {
   "cell_type": "code",
   "execution_count": 248,
   "id": "2e339d08-776f-4585-8dc6-da2345d6c4b2",
   "metadata": {},
   "outputs": [
    {
     "data": {
      "text/plain": [
       "player_of_match\n",
       "AB de Villiers    6170\n",
       "CH Gayle          5186\n",
       "RG Sharma         5134\n",
       "MS Dhoni          4384\n",
       "DA Warner         4329\n",
       "                  ... \n",
       "WD Parnell         189\n",
       "Ashwani Kumar      182\n",
       "M Jansen           154\n",
       "Suyash Sharma      147\n",
       "DL Vettori         108\n",
       "Name: count, Length: 309, dtype: int64"
      ]
     },
     "execution_count": 248,
     "metadata": {},
     "output_type": "execute_result"
    }
   ],
   "source": [
    "# 🔸 Q6: Player of the Match frequency\n",
    "ipl[\"player_of_match\"].value_counts()"
   ]
  },
  {
   "cell_type": "markdown",
   "id": "85386757-11fa-4331-99e1-1a07c6c2362f",
   "metadata": {},
   "source": [
    "**Practicing Pivot,Melt,stck & unstack**"
   ]
  },
  {
   "cell_type": "code",
   "execution_count": 264,
   "id": "f657bdc2-e5ec-4fcb-aaa5-57884c65392e",
   "metadata": {},
   "outputs": [
    {
     "data": {
      "text/html": [
       "<div>\n",
       "<style scoped>\n",
       "    .dataframe tbody tr th:only-of-type {\n",
       "        vertical-align: middle;\n",
       "    }\n",
       "\n",
       "    .dataframe tbody tr th {\n",
       "        vertical-align: top;\n",
       "    }\n",
       "\n",
       "    .dataframe thead th {\n",
       "        text-align: right;\n",
       "    }\n",
       "</style>\n",
       "<table border=\"1\" class=\"dataframe\">\n",
       "  <thead>\n",
       "    <tr style=\"text-align: right;\">\n",
       "      <th></th>\n",
       "      <th>Invoice ID</th>\n",
       "      <th>Branch</th>\n",
       "      <th>City</th>\n",
       "      <th>Customer type</th>\n",
       "      <th>Gender</th>\n",
       "      <th>Product line</th>\n",
       "      <th>Unit price</th>\n",
       "      <th>Quantity</th>\n",
       "      <th>Tax 5%</th>\n",
       "      <th>Sales</th>\n",
       "      <th>Date</th>\n",
       "      <th>Time</th>\n",
       "      <th>Payment</th>\n",
       "      <th>cogs</th>\n",
       "      <th>gross margin percentage</th>\n",
       "      <th>gross income</th>\n",
       "      <th>Rating</th>\n",
       "    </tr>\n",
       "  </thead>\n",
       "  <tbody>\n",
       "    <tr>\n",
       "      <th>0</th>\n",
       "      <td>750-67-8428</td>\n",
       "      <td>Alex</td>\n",
       "      <td>Yangon</td>\n",
       "      <td>Member</td>\n",
       "      <td>Female</td>\n",
       "      <td>Health and beauty</td>\n",
       "      <td>74.69</td>\n",
       "      <td>7</td>\n",
       "      <td>26.1415</td>\n",
       "      <td>548.9715</td>\n",
       "      <td>1/5/2019</td>\n",
       "      <td>1:08:00 PM</td>\n",
       "      <td>Ewallet</td>\n",
       "      <td>522.83</td>\n",
       "      <td>4.761905</td>\n",
       "      <td>26.1415</td>\n",
       "      <td>9.1</td>\n",
       "    </tr>\n",
       "    <tr>\n",
       "      <th>1</th>\n",
       "      <td>226-31-3081</td>\n",
       "      <td>Giza</td>\n",
       "      <td>Naypyitaw</td>\n",
       "      <td>Normal</td>\n",
       "      <td>Female</td>\n",
       "      <td>Electronic accessories</td>\n",
       "      <td>15.28</td>\n",
       "      <td>5</td>\n",
       "      <td>3.8200</td>\n",
       "      <td>80.2200</td>\n",
       "      <td>3/8/2019</td>\n",
       "      <td>10:29:00 AM</td>\n",
       "      <td>Cash</td>\n",
       "      <td>76.40</td>\n",
       "      <td>4.761905</td>\n",
       "      <td>3.8200</td>\n",
       "      <td>9.6</td>\n",
       "    </tr>\n",
       "  </tbody>\n",
       "</table>\n",
       "</div>"
      ],
      "text/plain": [
       "    Invoice ID Branch       City Customer type  Gender  \\\n",
       "0  750-67-8428   Alex     Yangon        Member  Female   \n",
       "1  226-31-3081   Giza  Naypyitaw        Normal  Female   \n",
       "\n",
       "             Product line  Unit price  Quantity   Tax 5%     Sales      Date  \\\n",
       "0       Health and beauty       74.69         7  26.1415  548.9715  1/5/2019   \n",
       "1  Electronic accessories       15.28         5   3.8200   80.2200  3/8/2019   \n",
       "\n",
       "          Time  Payment    cogs  gross margin percentage  gross income  Rating  \n",
       "0   1:08:00 PM  Ewallet  522.83                 4.761905       26.1415     9.1  \n",
       "1  10:29:00 AM     Cash   76.40                 4.761905        3.8200     9.6  "
      ]
     },
     "execution_count": 264,
     "metadata": {},
     "output_type": "execute_result"
    }
   ],
   "source": [
    "df=pd.read_csv(r\"/home/rgukt/Downloads/SuperMarket Analysis.csv\")\n",
    "df.head(2)"
   ]
  },
  {
   "cell_type": "code",
   "execution_count": 263,
   "id": "a35b313a-97af-4ae5-b7d3-572937096f5b",
   "metadata": {},
   "outputs": [
    {
     "data": {
      "text/plain": [
       "Payment_Type\n",
       "Cash              164311\n",
       "ATM card           61192\n",
       "Mobile payment      5908\n",
       "Gift card           3035\n",
       "Check                479\n",
       "Name: count, dtype: int64"
      ]
     },
     "execution_count": 263,
     "metadata": {},
     "output_type": "execute_result"
    }
   ],
   "source": [
    "df[\"Payment_Type\"].value_counts()"
   ]
  },
  {
   "cell_type": "code",
   "execution_count": 265,
   "id": "d95e7363-6529-42ec-b0ee-ae783b74b1ef",
   "metadata": {},
   "outputs": [
    {
     "data": {
      "text/plain": [
       "Index(['Invoice ID', 'Branch', 'City', 'Customer type', 'Gender',\n",
       "       'Product line', 'Unit price', 'Quantity', 'Tax 5%', 'Sales', 'Date',\n",
       "       'Time', 'Payment', 'cogs', 'gross margin percentage', 'gross income',\n",
       "       'Rating'],\n",
       "      dtype='object')"
      ]
     },
     "execution_count": 265,
     "metadata": {},
     "output_type": "execute_result"
    }
   ],
   "source": [
    "df.columns"
   ]
  },
  {
   "cell_type": "code",
   "execution_count": 268,
   "id": "ebfd6186-63fa-4e09-8620-b1c8752b5bfa",
   "metadata": {},
   "outputs": [
    {
     "data": {
      "text/html": [
       "<div>\n",
       "<style scoped>\n",
       "    .dataframe tbody tr th:only-of-type {\n",
       "        vertical-align: middle;\n",
       "    }\n",
       "\n",
       "    .dataframe tbody tr th {\n",
       "        vertical-align: top;\n",
       "    }\n",
       "\n",
       "    .dataframe thead th {\n",
       "        text-align: right;\n",
       "    }\n",
       "</style>\n",
       "<table border=\"1\" class=\"dataframe\">\n",
       "  <thead>\n",
       "    <tr style=\"text-align: right;\">\n",
       "      <th>Product line</th>\n",
       "      <th>Electronic accessories</th>\n",
       "      <th>Fashion accessories</th>\n",
       "      <th>Food and beverages</th>\n",
       "      <th>Health and beauty</th>\n",
       "      <th>Home and lifestyle</th>\n",
       "      <th>Sports and travel</th>\n",
       "    </tr>\n",
       "    <tr>\n",
       "      <th>Gender</th>\n",
       "      <th></th>\n",
       "      <th></th>\n",
       "      <th></th>\n",
       "      <th></th>\n",
       "      <th></th>\n",
       "      <th></th>\n",
       "    </tr>\n",
       "  </thead>\n",
       "  <tbody>\n",
       "    <tr>\n",
       "      <th>Female</th>\n",
       "      <td>332.199000</td>\n",
       "      <td>314.07075</td>\n",
       "      <td>372.099964</td>\n",
       "      <td>304.139318</td>\n",
       "      <td>370.555846</td>\n",
       "      <td>348.741597</td>\n",
       "    </tr>\n",
       "    <tr>\n",
       "      <th>Male</th>\n",
       "      <td>304.089809</td>\n",
       "      <td>291.23220</td>\n",
       "      <td>258.934836</td>\n",
       "      <td>343.666820</td>\n",
       "      <td>291.903348</td>\n",
       "      <td>304.800667</td>\n",
       "    </tr>\n",
       "  </tbody>\n",
       "</table>\n",
       "</div>"
      ],
      "text/plain": [
       "Product line  Electronic accessories  Fashion accessories  Food and beverages  \\\n",
       "Gender                                                                          \n",
       "Female                    332.199000            314.07075          372.099964   \n",
       "Male                      304.089809            291.23220          258.934836   \n",
       "\n",
       "Product line  Health and beauty  Home and lifestyle  Sports and travel  \n",
       "Gender                                                                  \n",
       "Female               304.139318          370.555846         348.741597  \n",
       "Male                 343.666820          291.903348         304.800667  "
      ]
     },
     "execution_count": 268,
     "metadata": {},
     "output_type": "execute_result"
    }
   ],
   "source": [
    "# Q1. Average Sales by Gender and Product line\n",
    "df.pivot_table(index=\"Gender\",columns=\"Product line\",values=\"Sales\",aggfunc=\"mean\")"
   ]
  },
  {
   "cell_type": "code",
   "execution_count": 273,
   "id": "a80aa923-97e5-4963-9382-318152d6134d",
   "metadata": {},
   "outputs": [
    {
     "data": {
      "text/html": [
       "<div>\n",
       "<style scoped>\n",
       "    .dataframe tbody tr th:only-of-type {\n",
       "        vertical-align: middle;\n",
       "    }\n",
       "\n",
       "    .dataframe tbody tr th {\n",
       "        vertical-align: top;\n",
       "    }\n",
       "\n",
       "    .dataframe thead th {\n",
       "        text-align: right;\n",
       "    }\n",
       "</style>\n",
       "<table border=\"1\" class=\"dataframe\">\n",
       "  <thead>\n",
       "    <tr style=\"text-align: right;\">\n",
       "      <th>Payment</th>\n",
       "      <th>Cash</th>\n",
       "      <th>Credit card</th>\n",
       "      <th>Ewallet</th>\n",
       "    </tr>\n",
       "    <tr>\n",
       "      <th>City</th>\n",
       "      <th></th>\n",
       "      <th></th>\n",
       "      <th></th>\n",
       "    </tr>\n",
       "  </thead>\n",
       "  <tbody>\n",
       "    <tr>\n",
       "      <th>Mandalay</th>\n",
       "      <td>628</td>\n",
       "      <td>599</td>\n",
       "      <td>593</td>\n",
       "    </tr>\n",
       "    <tr>\n",
       "      <th>Naypyitaw</th>\n",
       "      <td>696</td>\n",
       "      <td>543</td>\n",
       "      <td>592</td>\n",
       "    </tr>\n",
       "    <tr>\n",
       "      <th>Yangon</th>\n",
       "      <td>572</td>\n",
       "      <td>580</td>\n",
       "      <td>707</td>\n",
       "    </tr>\n",
       "  </tbody>\n",
       "</table>\n",
       "</div>"
      ],
      "text/plain": [
       "Payment    Cash  Credit card  Ewallet\n",
       "City                                 \n",
       "Mandalay    628          599      593\n",
       "Naypyitaw   696          543      592\n",
       "Yangon      572          580      707"
      ]
     },
     "execution_count": 273,
     "metadata": {},
     "output_type": "execute_result"
    }
   ],
   "source": [
    "# Q2. Total Quantity by City and Payment\n",
    "df[\"City\"].value_counts()\n",
    "df.pivot_table(index=\"City\", columns=\"Payment\",values=\"Quantity\",aggfunc=\"sum\")"
   ]
  },
  {
   "cell_type": "code",
   "execution_count": 278,
   "id": "e4991b64-53b9-461e-900f-54ed13c735ce",
   "metadata": {},
   "outputs": [
    {
     "data": {
      "text/html": [
       "<div>\n",
       "<style scoped>\n",
       "    .dataframe tbody tr th:only-of-type {\n",
       "        vertical-align: middle;\n",
       "    }\n",
       "\n",
       "    .dataframe tbody tr th {\n",
       "        vertical-align: top;\n",
       "    }\n",
       "\n",
       "    .dataframe thead th {\n",
       "        text-align: right;\n",
       "    }\n",
       "</style>\n",
       "<table border=\"1\" class=\"dataframe\">\n",
       "  <thead>\n",
       "    <tr style=\"text-align: right;\">\n",
       "      <th>Payment</th>\n",
       "      <th>Cash</th>\n",
       "      <th>Credit card</th>\n",
       "      <th>Ewallet</th>\n",
       "    </tr>\n",
       "    <tr>\n",
       "      <th>City</th>\n",
       "      <th></th>\n",
       "      <th></th>\n",
       "      <th></th>\n",
       "    </tr>\n",
       "  </thead>\n",
       "  <tbody>\n",
       "    <tr>\n",
       "      <th>Mandalay</th>\n",
       "      <td>628</td>\n",
       "      <td>599</td>\n",
       "      <td>593</td>\n",
       "    </tr>\n",
       "    <tr>\n",
       "      <th>Naypyitaw</th>\n",
       "      <td>696</td>\n",
       "      <td>543</td>\n",
       "      <td>592</td>\n",
       "    </tr>\n",
       "    <tr>\n",
       "      <th>Yangon</th>\n",
       "      <td>572</td>\n",
       "      <td>580</td>\n",
       "      <td>707</td>\n",
       "    </tr>\n",
       "  </tbody>\n",
       "</table>\n",
       "</div>"
      ],
      "text/plain": [
       "Payment    Cash  Credit card  Ewallet\n",
       "City                                 \n",
       "Mandalay    628          599      593\n",
       "Naypyitaw   696          543      592\n",
       "Yangon      572          580      707"
      ]
     },
     "execution_count": 278,
     "metadata": {},
     "output_type": "execute_result"
    }
   ],
   "source": [
    "df.groupby([\"City\",\"Payment\"])[\"Quantity\"].sum().unstack()"
   ]
  },
  {
   "cell_type": "code",
   "execution_count": 272,
   "id": "71fde716-428d-40f4-90c7-5ecd5485d7c7",
   "metadata": {},
   "outputs": [
    {
     "data": {
      "text/html": [
       "<div>\n",
       "<style scoped>\n",
       "    .dataframe tbody tr th:only-of-type {\n",
       "        vertical-align: middle;\n",
       "    }\n",
       "\n",
       "    .dataframe tbody tr th {\n",
       "        vertical-align: top;\n",
       "    }\n",
       "\n",
       "    .dataframe thead th {\n",
       "        text-align: right;\n",
       "    }\n",
       "</style>\n",
       "<table border=\"1\" class=\"dataframe\">\n",
       "  <thead>\n",
       "    <tr style=\"text-align: right;\">\n",
       "      <th></th>\n",
       "      <th>Invoice ID</th>\n",
       "      <th>Branch</th>\n",
       "      <th>City</th>\n",
       "      <th>Customer type</th>\n",
       "      <th>Gender</th>\n",
       "      <th>Product line</th>\n",
       "      <th>Unit price</th>\n",
       "      <th>Quantity</th>\n",
       "      <th>Tax 5%</th>\n",
       "      <th>Sales</th>\n",
       "      <th>Date</th>\n",
       "      <th>Time</th>\n",
       "      <th>Payment</th>\n",
       "      <th>cogs</th>\n",
       "      <th>gross margin percentage</th>\n",
       "      <th>gross income</th>\n",
       "      <th>Rating</th>\n",
       "    </tr>\n",
       "  </thead>\n",
       "  <tbody>\n",
       "    <tr>\n",
       "      <th>0</th>\n",
       "      <td>750-67-8428</td>\n",
       "      <td>Alex</td>\n",
       "      <td>Yangon</td>\n",
       "      <td>Member</td>\n",
       "      <td>Female</td>\n",
       "      <td>Health and beauty</td>\n",
       "      <td>74.69</td>\n",
       "      <td>7</td>\n",
       "      <td>26.1415</td>\n",
       "      <td>548.9715</td>\n",
       "      <td>1/5/2019</td>\n",
       "      <td>1:08:00 PM</td>\n",
       "      <td>Ewallet</td>\n",
       "      <td>522.83</td>\n",
       "      <td>4.761905</td>\n",
       "      <td>26.1415</td>\n",
       "      <td>9.1</td>\n",
       "    </tr>\n",
       "    <tr>\n",
       "      <th>1</th>\n",
       "      <td>226-31-3081</td>\n",
       "      <td>Giza</td>\n",
       "      <td>Naypyitaw</td>\n",
       "      <td>Normal</td>\n",
       "      <td>Female</td>\n",
       "      <td>Electronic accessories</td>\n",
       "      <td>15.28</td>\n",
       "      <td>5</td>\n",
       "      <td>3.8200</td>\n",
       "      <td>80.2200</td>\n",
       "      <td>3/8/2019</td>\n",
       "      <td>10:29:00 AM</td>\n",
       "      <td>Cash</td>\n",
       "      <td>76.40</td>\n",
       "      <td>4.761905</td>\n",
       "      <td>3.8200</td>\n",
       "      <td>9.6</td>\n",
       "    </tr>\n",
       "  </tbody>\n",
       "</table>\n",
       "</div>"
      ],
      "text/plain": [
       "    Invoice ID Branch       City Customer type  Gender  \\\n",
       "0  750-67-8428   Alex     Yangon        Member  Female   \n",
       "1  226-31-3081   Giza  Naypyitaw        Normal  Female   \n",
       "\n",
       "             Product line  Unit price  Quantity   Tax 5%     Sales      Date  \\\n",
       "0       Health and beauty       74.69         7  26.1415  548.9715  1/5/2019   \n",
       "1  Electronic accessories       15.28         5   3.8200   80.2200  3/8/2019   \n",
       "\n",
       "          Time  Payment    cogs  gross margin percentage  gross income  Rating  \n",
       "0   1:08:00 PM  Ewallet  522.83                 4.761905       26.1415     9.1  \n",
       "1  10:29:00 AM     Cash   76.40                 4.761905        3.8200     9.6  "
      ]
     },
     "execution_count": 272,
     "metadata": {},
     "output_type": "execute_result"
    }
   ],
   "source": [
    "df.head(2)"
   ]
  },
  {
   "cell_type": "code",
   "execution_count": 276,
   "id": "c474b7eb-1cbd-4d09-b1ef-5c2b3e2b95f3",
   "metadata": {},
   "outputs": [
    {
     "data": {
      "text/html": [
       "<div>\n",
       "<style scoped>\n",
       "    .dataframe tbody tr th:only-of-type {\n",
       "        vertical-align: middle;\n",
       "    }\n",
       "\n",
       "    .dataframe tbody tr th {\n",
       "        vertical-align: top;\n",
       "    }\n",
       "\n",
       "    .dataframe thead th {\n",
       "        text-align: right;\n",
       "    }\n",
       "</style>\n",
       "<table border=\"1\" class=\"dataframe\">\n",
       "  <thead>\n",
       "    <tr style=\"text-align: right;\">\n",
       "      <th>Product line</th>\n",
       "      <th>Electronic accessories</th>\n",
       "      <th>Fashion accessories</th>\n",
       "      <th>Food and beverages</th>\n",
       "      <th>Health and beauty</th>\n",
       "      <th>Home and lifestyle</th>\n",
       "      <th>Sports and travel</th>\n",
       "    </tr>\n",
       "    <tr>\n",
       "      <th>Gender</th>\n",
       "      <th></th>\n",
       "      <th></th>\n",
       "      <th></th>\n",
       "      <th></th>\n",
       "      <th></th>\n",
       "      <th></th>\n",
       "    </tr>\n",
       "  </thead>\n",
       "  <tbody>\n",
       "    <tr>\n",
       "      <th>Female</th>\n",
       "      <td>332.199000</td>\n",
       "      <td>314.07075</td>\n",
       "      <td>372.099964</td>\n",
       "      <td>304.139318</td>\n",
       "      <td>370.555846</td>\n",
       "      <td>348.741597</td>\n",
       "    </tr>\n",
       "    <tr>\n",
       "      <th>Male</th>\n",
       "      <td>304.089809</td>\n",
       "      <td>291.23220</td>\n",
       "      <td>258.934836</td>\n",
       "      <td>343.666820</td>\n",
       "      <td>291.903348</td>\n",
       "      <td>304.800667</td>\n",
       "    </tr>\n",
       "  </tbody>\n",
       "</table>\n",
       "</div>"
      ],
      "text/plain": [
       "Product line  Electronic accessories  Fashion accessories  Food and beverages  \\\n",
       "Gender                                                                          \n",
       "Female                    332.199000            314.07075          372.099964   \n",
       "Male                      304.089809            291.23220          258.934836   \n",
       "\n",
       "Product line  Health and beauty  Home and lifestyle  Sports and travel  \n",
       "Gender                                                                  \n",
       "Female               304.139318          370.555846         348.741597  \n",
       "Male                 343.666820          291.903348         304.800667  "
      ]
     },
     "execution_count": 276,
     "metadata": {},
     "output_type": "execute_result"
    }
   ],
   "source": [
    "df.groupby([\"Gender\",\"Product line\"])[\"Sales\"].mean().unstack()"
   ]
  },
  {
   "cell_type": "code",
   "execution_count": 280,
   "id": "b53ba218-68bd-499a-9ac8-f54e4311fd71",
   "metadata": {},
   "outputs": [
    {
     "data": {
      "text/html": [
       "<div>\n",
       "<style scoped>\n",
       "    .dataframe tbody tr th:only-of-type {\n",
       "        vertical-align: middle;\n",
       "    }\n",
       "\n",
       "    .dataframe tbody tr th {\n",
       "        vertical-align: top;\n",
       "    }\n",
       "\n",
       "    .dataframe thead th {\n",
       "        text-align: right;\n",
       "    }\n",
       "</style>\n",
       "<table border=\"1\" class=\"dataframe\">\n",
       "  <thead>\n",
       "    <tr style=\"text-align: right;\">\n",
       "      <th></th>\n",
       "      <th>Sales</th>\n",
       "      <th>gross income</th>\n",
       "    </tr>\n",
       "    <tr>\n",
       "      <th>Branch</th>\n",
       "      <th></th>\n",
       "      <th></th>\n",
       "    </tr>\n",
       "  </thead>\n",
       "  <tbody>\n",
       "    <tr>\n",
       "      <th>Alex</th>\n",
       "      <td>312.354031</td>\n",
       "      <td>14.874001</td>\n",
       "    </tr>\n",
       "    <tr>\n",
       "      <th>Cairo</th>\n",
       "      <td>319.872506</td>\n",
       "      <td>15.232024</td>\n",
       "    </tr>\n",
       "    <tr>\n",
       "      <th>Giza</th>\n",
       "      <td>337.099715</td>\n",
       "      <td>16.052367</td>\n",
       "    </tr>\n",
       "  </tbody>\n",
       "</table>\n",
       "</div>"
      ],
      "text/plain": [
       "             Sales  gross income\n",
       "Branch                          \n",
       "Alex    312.354031     14.874001\n",
       "Cairo   319.872506     15.232024\n",
       "Giza    337.099715     16.052367"
      ]
     },
     "execution_count": 280,
     "metadata": {},
     "output_type": "execute_result"
    }
   ],
   "source": [
    "# Q3. Average gross income and Sales by Branch\n",
    "df.pivot_table(index=\"Branch\",values=[\"gross income\",\"Sales\"],aggfunc=\"mean\")"
   ]
  },
  {
   "cell_type": "code",
   "execution_count": 281,
   "id": "5f97a8b6-fce8-42e3-86f4-413d7584900a",
   "metadata": {},
   "outputs": [
    {
     "data": {
      "text/html": [
       "<div>\n",
       "<style scoped>\n",
       "    .dataframe tbody tr th:only-of-type {\n",
       "        vertical-align: middle;\n",
       "    }\n",
       "\n",
       "    .dataframe tbody tr th {\n",
       "        vertical-align: top;\n",
       "    }\n",
       "\n",
       "    .dataframe thead th {\n",
       "        text-align: right;\n",
       "    }\n",
       "</style>\n",
       "<table border=\"1\" class=\"dataframe\">\n",
       "  <thead>\n",
       "    <tr style=\"text-align: right;\">\n",
       "      <th></th>\n",
       "      <th>Sales</th>\n",
       "      <th>gross income</th>\n",
       "    </tr>\n",
       "    <tr>\n",
       "      <th>Branch</th>\n",
       "      <th></th>\n",
       "      <th></th>\n",
       "    </tr>\n",
       "  </thead>\n",
       "  <tbody>\n",
       "    <tr>\n",
       "      <th>Alex</th>\n",
       "      <td>312.354031</td>\n",
       "      <td>14.874001</td>\n",
       "    </tr>\n",
       "    <tr>\n",
       "      <th>Cairo</th>\n",
       "      <td>319.872506</td>\n",
       "      <td>15.232024</td>\n",
       "    </tr>\n",
       "    <tr>\n",
       "      <th>Giza</th>\n",
       "      <td>337.099715</td>\n",
       "      <td>16.052367</td>\n",
       "    </tr>\n",
       "  </tbody>\n",
       "</table>\n",
       "</div>"
      ],
      "text/plain": [
       "             Sales  gross income\n",
       "Branch                          \n",
       "Alex    312.354031     14.874001\n",
       "Cairo   319.872506     15.232024\n",
       "Giza    337.099715     16.052367"
      ]
     },
     "execution_count": 281,
     "metadata": {},
     "output_type": "execute_result"
    }
   ],
   "source": [
    "df.groupby(\"Branch\")[[\"Sales\",\"gross income\"]].mean()"
   ]
  },
  {
   "cell_type": "code",
   "execution_count": 283,
   "id": "8b82bf70-c6f0-458f-af2d-d465466ca804",
   "metadata": {},
   "outputs": [
    {
     "data": {
      "text/html": [
       "<div>\n",
       "<style scoped>\n",
       "    .dataframe tbody tr th:only-of-type {\n",
       "        vertical-align: middle;\n",
       "    }\n",
       "\n",
       "    .dataframe tbody tr th {\n",
       "        vertical-align: top;\n",
       "    }\n",
       "\n",
       "    .dataframe thead th {\n",
       "        text-align: right;\n",
       "    }\n",
       "</style>\n",
       "<table border=\"1\" class=\"dataframe\">\n",
       "  <thead>\n",
       "    <tr style=\"text-align: right;\">\n",
       "      <th></th>\n",
       "      <th>Invoice ID</th>\n",
       "      <th>Product line</th>\n",
       "      <th>Metric</th>\n",
       "      <th>Value</th>\n",
       "    </tr>\n",
       "  </thead>\n",
       "  <tbody>\n",
       "    <tr>\n",
       "      <th>0</th>\n",
       "      <td>750-67-8428</td>\n",
       "      <td>Health and beauty</td>\n",
       "      <td>Unit price</td>\n",
       "      <td>74.6900</td>\n",
       "    </tr>\n",
       "    <tr>\n",
       "      <th>1</th>\n",
       "      <td>226-31-3081</td>\n",
       "      <td>Electronic accessories</td>\n",
       "      <td>Unit price</td>\n",
       "      <td>15.2800</td>\n",
       "    </tr>\n",
       "    <tr>\n",
       "      <th>2</th>\n",
       "      <td>631-41-3108</td>\n",
       "      <td>Home and lifestyle</td>\n",
       "      <td>Unit price</td>\n",
       "      <td>46.3300</td>\n",
       "    </tr>\n",
       "    <tr>\n",
       "      <th>3</th>\n",
       "      <td>123-19-1176</td>\n",
       "      <td>Health and beauty</td>\n",
       "      <td>Unit price</td>\n",
       "      <td>58.2200</td>\n",
       "    </tr>\n",
       "    <tr>\n",
       "      <th>4</th>\n",
       "      <td>373-73-7910</td>\n",
       "      <td>Sports and travel</td>\n",
       "      <td>Unit price</td>\n",
       "      <td>86.3100</td>\n",
       "    </tr>\n",
       "    <tr>\n",
       "      <th>...</th>\n",
       "      <td>...</td>\n",
       "      <td>...</td>\n",
       "      <td>...</td>\n",
       "      <td>...</td>\n",
       "    </tr>\n",
       "    <tr>\n",
       "      <th>2995</th>\n",
       "      <td>233-67-5758</td>\n",
       "      <td>Health and beauty</td>\n",
       "      <td>Sales</td>\n",
       "      <td>42.3675</td>\n",
       "    </tr>\n",
       "    <tr>\n",
       "      <th>2996</th>\n",
       "      <td>303-96-2227</td>\n",
       "      <td>Home and lifestyle</td>\n",
       "      <td>Sales</td>\n",
       "      <td>1022.4900</td>\n",
       "    </tr>\n",
       "    <tr>\n",
       "      <th>2997</th>\n",
       "      <td>727-02-1313</td>\n",
       "      <td>Food and beverages</td>\n",
       "      <td>Sales</td>\n",
       "      <td>33.4320</td>\n",
       "    </tr>\n",
       "    <tr>\n",
       "      <th>2998</th>\n",
       "      <td>347-56-2442</td>\n",
       "      <td>Home and lifestyle</td>\n",
       "      <td>Sales</td>\n",
       "      <td>69.1110</td>\n",
       "    </tr>\n",
       "    <tr>\n",
       "      <th>2999</th>\n",
       "      <td>849-09-3807</td>\n",
       "      <td>Fashion accessories</td>\n",
       "      <td>Sales</td>\n",
       "      <td>649.2990</td>\n",
       "    </tr>\n",
       "  </tbody>\n",
       "</table>\n",
       "<p>3000 rows × 4 columns</p>\n",
       "</div>"
      ],
      "text/plain": [
       "       Invoice ID            Product line      Metric      Value\n",
       "0     750-67-8428       Health and beauty  Unit price    74.6900\n",
       "1     226-31-3081  Electronic accessories  Unit price    15.2800\n",
       "2     631-41-3108      Home and lifestyle  Unit price    46.3300\n",
       "3     123-19-1176       Health and beauty  Unit price    58.2200\n",
       "4     373-73-7910       Sports and travel  Unit price    86.3100\n",
       "...           ...                     ...         ...        ...\n",
       "2995  233-67-5758       Health and beauty       Sales    42.3675\n",
       "2996  303-96-2227      Home and lifestyle       Sales  1022.4900\n",
       "2997  727-02-1313      Food and beverages       Sales    33.4320\n",
       "2998  347-56-2442      Home and lifestyle       Sales    69.1110\n",
       "2999  849-09-3807     Fashion accessories       Sales   649.2990\n",
       "\n",
       "[3000 rows x 4 columns]"
      ]
     },
     "execution_count": 283,
     "metadata": {},
     "output_type": "execute_result"
    }
   ],
   "source": [
    "melted=df.melt(id_vars=[\"Invoice ID\",\"Product line\"], value_vars=[\"Unit price\",\"Quantity\",\"Sales\"],var_name=\"Metric\",value_name=\"Value\")\n",
    "melted"
   ]
  },
  {
   "cell_type": "code",
   "execution_count": 285,
   "id": "4deb4457-ab72-4cec-8d4b-f851d0cfe61e",
   "metadata": {},
   "outputs": [
    {
     "data": {
      "text/html": [
       "<div>\n",
       "<style scoped>\n",
       "    .dataframe tbody tr th:only-of-type {\n",
       "        vertical-align: middle;\n",
       "    }\n",
       "\n",
       "    .dataframe tbody tr th {\n",
       "        vertical-align: top;\n",
       "    }\n",
       "\n",
       "    .dataframe thead th {\n",
       "        text-align: right;\n",
       "    }\n",
       "</style>\n",
       "<table border=\"1\" class=\"dataframe\">\n",
       "  <thead>\n",
       "    <tr style=\"text-align: right;\">\n",
       "      <th></th>\n",
       "      <th>Metric</th>\n",
       "      <th>Value</th>\n",
       "    </tr>\n",
       "  </thead>\n",
       "  <tbody>\n",
       "    <tr>\n",
       "      <th>0</th>\n",
       "      <td>Quantity</td>\n",
       "      <td>5.510000</td>\n",
       "    </tr>\n",
       "    <tr>\n",
       "      <th>1</th>\n",
       "      <td>Sales</td>\n",
       "      <td>322.966749</td>\n",
       "    </tr>\n",
       "    <tr>\n",
       "      <th>2</th>\n",
       "      <td>Unit price</td>\n",
       "      <td>55.672130</td>\n",
       "    </tr>\n",
       "  </tbody>\n",
       "</table>\n",
       "</div>"
      ],
      "text/plain": [
       "       Metric       Value\n",
       "0    Quantity    5.510000\n",
       "1       Sales  322.966749\n",
       "2  Unit price   55.672130"
      ]
     },
     "execution_count": 285,
     "metadata": {},
     "output_type": "execute_result"
    }
   ],
   "source": [
    "# Q5. After melt, show average of each metric\n",
    "melted.groupby(\"Metric\")[\"Value\"].mean().reset_index()"
   ]
  },
  {
   "cell_type": "code",
   "execution_count": 288,
   "id": "21bad921-7d1e-4b56-a0a6-3aaa970eb951",
   "metadata": {},
   "outputs": [
    {
     "data": {
      "text/html": [
       "<div>\n",
       "<style scoped>\n",
       "    .dataframe tbody tr th:only-of-type {\n",
       "        vertical-align: middle;\n",
       "    }\n",
       "\n",
       "    .dataframe tbody tr th {\n",
       "        vertical-align: top;\n",
       "    }\n",
       "\n",
       "    .dataframe thead th {\n",
       "        text-align: right;\n",
       "    }\n",
       "</style>\n",
       "<table border=\"1\" class=\"dataframe\">\n",
       "  <thead>\n",
       "    <tr style=\"text-align: right;\">\n",
       "      <th>Payment</th>\n",
       "      <th>Cash</th>\n",
       "      <th>Credit card</th>\n",
       "      <th>Ewallet</th>\n",
       "    </tr>\n",
       "    <tr>\n",
       "      <th>Gender</th>\n",
       "      <th></th>\n",
       "      <th></th>\n",
       "      <th></th>\n",
       "    </tr>\n",
       "  </thead>\n",
       "  <tbody>\n",
       "    <tr>\n",
       "      <th>Female</th>\n",
       "      <td>69347.2395</td>\n",
       "      <td>61165.608</td>\n",
       "      <td>64158.990</td>\n",
       "    </tr>\n",
       "    <tr>\n",
       "      <th>Male</th>\n",
       "      <td>42859.3305</td>\n",
       "      <td>39601.464</td>\n",
       "      <td>45834.117</td>\n",
       "    </tr>\n",
       "  </tbody>\n",
       "</table>\n",
       "</div>"
      ],
      "text/plain": [
       "Payment        Cash  Credit card    Ewallet\n",
       "Gender                                     \n",
       "Female   69347.2395    61165.608  64158.990\n",
       "Male     42859.3305    39601.464  45834.117"
      ]
     },
     "execution_count": 288,
     "metadata": {},
     "output_type": "execute_result"
    }
   ],
   "source": [
    "# Q6. Total Sales by Gender and Payment, then unstack to reshape\n",
    "df.groupby([\"Gender\",\"Payment\"])[\"Sales\"].sum().unstack()"
   ]
  },
  {
   "cell_type": "code",
   "execution_count": 293,
   "id": "b20c26d5-8897-431b-9e6f-17e7baafa4f4",
   "metadata": {},
   "outputs": [
    {
     "data": {
      "text/plain": [
       "dtype('<M8[ns]')"
      ]
     },
     "execution_count": 293,
     "metadata": {},
     "output_type": "execute_result"
    }
   ],
   "source": [
    "# Q7. Extract month from Date and get total Sales per Product line per month\n",
    "\n",
    "df[\"Date\"]=pd.to_datetime(df[\"Date\"], errors=\"coerce\")\n",
    "df[\"Date\"].dtype"
   ]
  },
  {
   "cell_type": "code",
   "execution_count": 296,
   "id": "de6b2023-763a-4a3f-8d79-93edb83c03c4",
   "metadata": {},
   "outputs": [
    {
     "name": "stdout",
     "output_type": "stream",
     "text": [
      "datetime64[ns]\n"
     ]
    }
   ],
   "source": [
    "print(df[\"Date\"].dtype)"
   ]
  },
  {
   "cell_type": "code",
   "execution_count": 299,
   "id": "3a69bd17-660a-41cf-8fb8-14aa7bef3bb1",
   "metadata": {},
   "outputs": [],
   "source": [
    "df[\"Month\"]=df[\"Date\"].dt.month_name()"
   ]
  },
  {
   "cell_type": "code",
   "execution_count": 300,
   "id": "a267dfb9-426d-4177-82e1-c508b23f5401",
   "metadata": {},
   "outputs": [
    {
     "data": {
      "text/plain": [
       "0       January\n",
       "1         March\n",
       "2         March\n",
       "3       January\n",
       "4      February\n",
       "         ...   \n",
       "995     January\n",
       "996       March\n",
       "997    February\n",
       "998    February\n",
       "999    February\n",
       "Name: Month, Length: 1000, dtype: object"
      ]
     },
     "execution_count": 300,
     "metadata": {},
     "output_type": "execute_result"
    }
   ],
   "source": [
    "df[\"Month\"]"
   ]
  },
  {
   "cell_type": "code",
   "execution_count": 301,
   "id": "dfa8465f-19e1-4ca8-90f9-99f80505a6b5",
   "metadata": {},
   "outputs": [
    {
     "data": {
      "text/html": [
       "<div>\n",
       "<style scoped>\n",
       "    .dataframe tbody tr th:only-of-type {\n",
       "        vertical-align: middle;\n",
       "    }\n",
       "\n",
       "    .dataframe tbody tr th {\n",
       "        vertical-align: top;\n",
       "    }\n",
       "\n",
       "    .dataframe thead th {\n",
       "        text-align: right;\n",
       "    }\n",
       "</style>\n",
       "<table border=\"1\" class=\"dataframe\">\n",
       "  <thead>\n",
       "    <tr style=\"text-align: right;\">\n",
       "      <th>Product line</th>\n",
       "      <th>Electronic accessories</th>\n",
       "      <th>Fashion accessories</th>\n",
       "      <th>Food and beverages</th>\n",
       "      <th>Health and beauty</th>\n",
       "      <th>Home and lifestyle</th>\n",
       "      <th>Sports and travel</th>\n",
       "    </tr>\n",
       "    <tr>\n",
       "      <th>Month</th>\n",
       "      <th></th>\n",
       "      <th></th>\n",
       "      <th></th>\n",
       "      <th></th>\n",
       "      <th></th>\n",
       "      <th></th>\n",
       "    </tr>\n",
       "  </thead>\n",
       "  <tbody>\n",
       "    <tr>\n",
       "      <th>February</th>\n",
       "      <td>17362.9050</td>\n",
       "      <td>19009.8615</td>\n",
       "      <td>20000.358</td>\n",
       "      <td>14602.2555</td>\n",
       "      <td>12434.3835</td>\n",
       "      <td>13809.6105</td>\n",
       "    </tr>\n",
       "    <tr>\n",
       "      <th>January</th>\n",
       "      <td>18831.2880</td>\n",
       "      <td>19345.1160</td>\n",
       "      <td>19570.530</td>\n",
       "      <td>16383.1710</td>\n",
       "      <td>20494.7400</td>\n",
       "      <td>21667.0230</td>\n",
       "    </tr>\n",
       "    <tr>\n",
       "      <th>March</th>\n",
       "      <td>18143.3385</td>\n",
       "      <td>15950.9175</td>\n",
       "      <td>16573.956</td>\n",
       "      <td>18208.3125</td>\n",
       "      <td>20932.7895</td>\n",
       "      <td>19646.1930</td>\n",
       "    </tr>\n",
       "  </tbody>\n",
       "</table>\n",
       "</div>"
      ],
      "text/plain": [
       "Product line  Electronic accessories  Fashion accessories  Food and beverages  \\\n",
       "Month                                                                           \n",
       "February                  17362.9050           19009.8615           20000.358   \n",
       "January                   18831.2880           19345.1160           19570.530   \n",
       "March                     18143.3385           15950.9175           16573.956   \n",
       "\n",
       "Product line  Health and beauty  Home and lifestyle  Sports and travel  \n",
       "Month                                                                   \n",
       "February             14602.2555          12434.3835         13809.6105  \n",
       "January              16383.1710          20494.7400         21667.0230  \n",
       "March                18208.3125          20932.7895         19646.1930  "
      ]
     },
     "execution_count": 301,
     "metadata": {},
     "output_type": "execute_result"
    }
   ],
   "source": [
    "df.pivot_table(index=\"Month\",columns=\"Product line\", values=\"Sales\", aggfunc=\"sum\")"
   ]
  },
  {
   "cell_type": "code",
   "execution_count": 304,
   "id": "fdb43435-bb16-4f42-a018-662868b3623b",
   "metadata": {},
   "outputs": [
    {
     "data": {
      "text/html": [
       "<div>\n",
       "<style scoped>\n",
       "    .dataframe tbody tr th:only-of-type {\n",
       "        vertical-align: middle;\n",
       "    }\n",
       "\n",
       "    .dataframe tbody tr th {\n",
       "        vertical-align: top;\n",
       "    }\n",
       "\n",
       "    .dataframe thead th {\n",
       "        text-align: right;\n",
       "    }\n",
       "</style>\n",
       "<table border=\"1\" class=\"dataframe\">\n",
       "  <thead>\n",
       "    <tr style=\"text-align: right;\">\n",
       "      <th>Product line</th>\n",
       "      <th>Electronic accessories</th>\n",
       "      <th>Fashion accessories</th>\n",
       "      <th>Food and beverages</th>\n",
       "      <th>Health and beauty</th>\n",
       "      <th>Home and lifestyle</th>\n",
       "      <th>Sports and travel</th>\n",
       "    </tr>\n",
       "    <tr>\n",
       "      <th>Month</th>\n",
       "      <th></th>\n",
       "      <th></th>\n",
       "      <th></th>\n",
       "      <th></th>\n",
       "      <th></th>\n",
       "      <th></th>\n",
       "    </tr>\n",
       "  </thead>\n",
       "  <tbody>\n",
       "    <tr>\n",
       "      <th>February</th>\n",
       "      <td>17362.9050</td>\n",
       "      <td>19009.8615</td>\n",
       "      <td>20000.358</td>\n",
       "      <td>14602.2555</td>\n",
       "      <td>12434.3835</td>\n",
       "      <td>13809.6105</td>\n",
       "    </tr>\n",
       "    <tr>\n",
       "      <th>January</th>\n",
       "      <td>18831.2880</td>\n",
       "      <td>19345.1160</td>\n",
       "      <td>19570.530</td>\n",
       "      <td>16383.1710</td>\n",
       "      <td>20494.7400</td>\n",
       "      <td>21667.0230</td>\n",
       "    </tr>\n",
       "    <tr>\n",
       "      <th>March</th>\n",
       "      <td>18143.3385</td>\n",
       "      <td>15950.9175</td>\n",
       "      <td>16573.956</td>\n",
       "      <td>18208.3125</td>\n",
       "      <td>20932.7895</td>\n",
       "      <td>19646.1930</td>\n",
       "    </tr>\n",
       "  </tbody>\n",
       "</table>\n",
       "</div>"
      ],
      "text/plain": [
       "Product line  Electronic accessories  Fashion accessories  Food and beverages  \\\n",
       "Month                                                                           \n",
       "February                  17362.9050           19009.8615           20000.358   \n",
       "January                   18831.2880           19345.1160           19570.530   \n",
       "March                     18143.3385           15950.9175           16573.956   \n",
       "\n",
       "Product line  Health and beauty  Home and lifestyle  Sports and travel  \n",
       "Month                                                                   \n",
       "February             14602.2555          12434.3835         13809.6105  \n",
       "January              16383.1710          20494.7400         21667.0230  \n",
       "March                18208.3125          20932.7895         19646.1930  "
      ]
     },
     "execution_count": 304,
     "metadata": {},
     "output_type": "execute_result"
    }
   ],
   "source": [
    "unstack=df.groupby([\"Month\",\"Product line\"])[\"Sales\"].sum().unstack()\n",
    "unstack"
   ]
  },
  {
   "cell_type": "code",
   "execution_count": null,
   "id": "a2c3d3ee-a400-4751-a298-a7772de7e4a2",
   "metadata": {},
   "outputs": [],
   "source": []
  }
 ],
 "metadata": {
  "kernelspec": {
   "display_name": "Python 3 (ipykernel)",
   "language": "python",
   "name": "python3"
  },
  "language_info": {
   "codemirror_mode": {
    "name": "ipython",
    "version": 3
   },
   "file_extension": ".py",
   "mimetype": "text/x-python",
   "name": "python",
   "nbconvert_exporter": "python",
   "pygments_lexer": "ipython3",
   "version": "3.10.12"
  }
 },
 "nbformat": 4,
 "nbformat_minor": 5
}
