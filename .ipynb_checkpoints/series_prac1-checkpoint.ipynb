{
 "cells": [
  {
   "cell_type": "code",
   "execution_count": 2,
   "id": "83bfefc3-dc93-4dca-be53-68036a52a6ff",
   "metadata": {},
   "outputs": [],
   "source": [
    "import numpy as np\n",
    "import pandas as pd"
   ]
  },
  {
   "cell_type": "markdown",
   "id": "67aeffbb-1271-461c-936c-267b775870c7",
   "metadata": {},
   "source": [
    "**Series From LIST**"
   ]
  },
  {
   "cell_type": "code",
   "execution_count": 4,
   "id": "9a0db67c-1237-434b-92da-092f1f8e505b",
   "metadata": {},
   "outputs": [
    {
     "data": {
      "text/plain": [
       "0        India\n",
       "1     Srilanka\n",
       "2          USA\n",
       "3    Australia\n",
       "dtype: object"
      ]
     },
     "execution_count": 4,
     "metadata": {},
     "output_type": "execute_result"
    }
   ],
   "source": [
    "country=[\"India\",\"Srilanka\",\"USA\",\"Australia\"]\n",
    "pd.Series(country)"
   ]
  },
  {
   "cell_type": "code",
   "execution_count": 25,
   "id": "a3a6476b-38fa-4c30-bd0a-8f52f0a8b84e",
   "metadata": {},
   "outputs": [
    {
     "data": {
      "text/plain": [
       "0    32\n",
       "1    45\n",
       "2    56\n",
       "3    76\n",
       "4     8\n",
       "5     9\n",
       "dtype: int64"
      ]
     },
     "execution_count": 25,
     "metadata": {},
     "output_type": "execute_result"
    }
   ],
   "source": [
    "#integers\n",
    "runs=[32,45,56,76,8,9]\n",
    "runs_series=pd.Series(runs)\n",
    "runs_series"
   ]
  },
  {
   "cell_type": "code",
   "execution_count": 8,
   "id": "55eb4bd0-fc51-4863-af60-d2d89ddcc858",
   "metadata": {},
   "outputs": [
    {
     "data": {
      "text/plain": [
       "eng      45\n",
       "maths    67\n",
       "tel      89\n",
       "sci      98\n",
       "soc      76\n",
       "dtype: int64"
      ]
     },
     "execution_count": 8,
     "metadata": {},
     "output_type": "execute_result"
    }
   ],
   "source": [
    "#custom index\n",
    "marks=[45,67,89,98,76]\n",
    "subs =[\"eng\",\"maths\",\"tel\",\"sci\",\"soc\"]\n",
    "pd.Series(marks,index=subs)"
   ]
  },
  {
   "cell_type": "code",
   "execution_count": 10,
   "id": "84f46427-775f-44c2-9746-94047e9d9404",
   "metadata": {},
   "outputs": [
    {
     "data": {
      "text/plain": [
       "eng      45\n",
       "maths    67\n",
       "tel      89\n",
       "sci      98\n",
       "soc      76\n",
       "Name: Ravi's marks, dtype: int64"
      ]
     },
     "execution_count": 10,
     "metadata": {},
     "output_type": "execute_result"
    }
   ],
   "source": [
    "#setting a name\n",
    "mark=pd.Series(marks,index=subs, name=\"Ravi's marks\")\n",
    "mark"
   ]
  },
  {
   "cell_type": "markdown",
   "id": "0dfcd36c-e673-44bd-aa20-feab3a8056ed",
   "metadata": {},
   "source": [
    "**Series From dict**"
   ]
  },
  {
   "cell_type": "code",
   "execution_count": 14,
   "id": "35aae476-cebd-418a-b86b-88f9555971a2",
   "metadata": {},
   "outputs": [
    {
     "data": {
      "text/plain": [
       "maths       98\n",
       "eng         99\n",
       "tel        100\n",
       "Science     89\n",
       "Name: Ram's MArks, dtype: int64"
      ]
     },
     "execution_count": 14,
     "metadata": {},
     "output_type": "execute_result"
    }
   ],
   "source": [
    "marks={\n",
    "    \"maths\":98,\n",
    "    \"eng\":99,\n",
    "    \"tel\":100,\n",
    "    \"Science\":89\n",
    "}\n",
    "marks_series= pd.Series(marks,name=\"Ram's MArks\")\n",
    "marks_series"
   ]
  },
  {
   "cell_type": "markdown",
   "id": "5b25de02-2855-4540-b36b-17273e0bbfad",
   "metadata": {},
   "source": [
    "**Series Attributes**"
   ]
  },
  {
   "cell_type": "code",
   "execution_count": 17,
   "id": "463908e1-dfc4-4fa0-a1a8-0660da881b89",
   "metadata": {},
   "outputs": [
    {
     "data": {
      "text/plain": [
       "4"
      ]
     },
     "execution_count": 17,
     "metadata": {},
     "output_type": "execute_result"
    }
   ],
   "source": [
    "#size\n",
    "marks_series\n",
    "marks_series.size"
   ]
  },
  {
   "cell_type": "code",
   "execution_count": 18,
   "id": "a9027617-c760-4626-9efb-b2cc4d2cb089",
   "metadata": {},
   "outputs": [
    {
     "data": {
      "text/plain": [
       "dtype('int64')"
      ]
     },
     "execution_count": 18,
     "metadata": {},
     "output_type": "execute_result"
    }
   ],
   "source": [
    "#dtype\n",
    "marks_series.dtype"
   ]
  },
  {
   "cell_type": "code",
   "execution_count": 19,
   "id": "b0bfc932-fc35-46bd-bbd3-04dabe55d082",
   "metadata": {},
   "outputs": [
    {
     "data": {
      "text/plain": [
       "\"Ram's MArks\""
      ]
     },
     "execution_count": 19,
     "metadata": {},
     "output_type": "execute_result"
    }
   ],
   "source": [
    "#name\n",
    "marks_series.name"
   ]
  },
  {
   "cell_type": "code",
   "execution_count": 20,
   "id": "ed1940ce-a0f2-4745-87ea-20147c695970",
   "metadata": {},
   "outputs": [
    {
     "data": {
      "text/plain": [
       "True"
      ]
     },
     "execution_count": 20,
     "metadata": {},
     "output_type": "execute_result"
    }
   ],
   "source": [
    "#is_unique\n",
    "marks_series.is_unique"
   ]
  },
  {
   "cell_type": "code",
   "execution_count": 21,
   "id": "3c4a03c5-a42a-4f5b-9842-1aeb5a596c32",
   "metadata": {},
   "outputs": [
    {
     "data": {
      "text/plain": [
       "False"
      ]
     },
     "execution_count": 21,
     "metadata": {},
     "output_type": "execute_result"
    }
   ],
   "source": [
    "pd.Series([1,1,2,3,3,43,43]).is_unique"
   ]
  },
  {
   "cell_type": "code",
   "execution_count": 22,
   "id": "75cfa4cf-dd0a-4443-9b31-3f9fc7458d14",
   "metadata": {},
   "outputs": [
    {
     "data": {
      "text/plain": [
       "Index(['maths', 'eng', 'tel', 'Science'], dtype='object')"
      ]
     },
     "execution_count": 22,
     "metadata": {},
     "output_type": "execute_result"
    }
   ],
   "source": [
    "#index\n",
    "marks_series.index"
   ]
  },
  {
   "cell_type": "code",
   "execution_count": 26,
   "id": "74946869-9188-47a8-92f9-848bafdb7ac0",
   "metadata": {},
   "outputs": [
    {
     "data": {
      "text/plain": [
       "RangeIndex(start=0, stop=6, step=1)"
      ]
     },
     "execution_count": 26,
     "metadata": {},
     "output_type": "execute_result"
    }
   ],
   "source": [
    "runs_series.index"
   ]
  },
  {
   "cell_type": "code",
   "execution_count": 27,
   "id": "c0808836-935c-4028-b6e7-427dc2458729",
   "metadata": {},
   "outputs": [
    {
     "data": {
      "text/plain": [
       "array([ 98,  99, 100,  89], dtype=int64)"
      ]
     },
     "execution_count": 27,
     "metadata": {},
     "output_type": "execute_result"
    }
   ],
   "source": [
    "#values\n",
    "marks_series.values"
   ]
  },
  {
   "cell_type": "markdown",
   "id": "336d86bb-e2ab-4f57-ac43-14a1cf3756c8",
   "metadata": {},
   "source": [
    "**Series Using read_csv**"
   ]
  },
  {
   "cell_type": "code",
   "execution_count": 30,
   "id": "5af88011-c20c-4041-8adc-aee4334c9a33",
   "metadata": {},
   "outputs": [
    {
     "data": {
      "text/plain": [
       "pandas.core.frame.DataFrame"
      ]
     },
     "execution_count": 30,
     "metadata": {},
     "output_type": "execute_result"
    }
   ],
   "source": [
    "#with one col\n",
    "type(pd.read_csv(\"subs.csv\"))"
   ]
  },
  {
   "cell_type": "code",
   "execution_count": 31,
   "id": "40fba409-95d3-45e0-b721-4b5b100509d2",
   "metadata": {},
   "outputs": [],
   "source": [
    "df =pd.read_csv(\"subs.csv\")"
   ]
  },
  {
   "cell_type": "code",
   "execution_count": 34,
   "id": "dc8a1d8c-c5fd-4cd9-87c6-f95a2b32eceb",
   "metadata": {},
   "outputs": [],
   "source": [
    "df=df.squeeze()"
   ]
  },
  {
   "cell_type": "code",
   "execution_count": 35,
   "id": "b760a040-1e4c-4d11-afaa-f654f818bd93",
   "metadata": {},
   "outputs": [
    {
     "data": {
      "text/plain": [
       "0       48\n",
       "1       57\n",
       "2       40\n",
       "3       43\n",
       "4       44\n",
       "      ... \n",
       "360    231\n",
       "361    226\n",
       "362    155\n",
       "363    144\n",
       "364    172\n",
       "Name: Subscribers gained, Length: 365, dtype: int64"
      ]
     },
     "execution_count": 35,
     "metadata": {},
     "output_type": "execute_result"
    }
   ],
   "source": [
    "df"
   ]
  },
  {
   "cell_type": "code",
   "execution_count": 65,
   "id": "cf7fbd8c-564d-48e1-9ccf-95de814aae5b",
   "metadata": {},
   "outputs": [],
   "source": [
    "ipl=pd.read_csv(\"kohli_ipl.csv\",index_col=\"match_no\")\n"
   ]
  },
  {
   "cell_type": "code",
   "execution_count": 66,
   "id": "5c0116ba-74e9-4af4-a52f-abf4a2e9352e",
   "metadata": {},
   "outputs": [],
   "source": [
    "ipl=ipl.squeeze()"
   ]
  },
  {
   "cell_type": "code",
   "execution_count": 67,
   "id": "41c7b247-10ad-4add-bf7b-5d3e780d67d5",
   "metadata": {},
   "outputs": [
    {
     "data": {
      "text/plain": [
       "match_no\n",
       "1       1\n",
       "2      23\n",
       "3      13\n",
       "4      12\n",
       "5       1\n",
       "       ..\n",
       "211     0\n",
       "212    20\n",
       "213    73\n",
       "214    25\n",
       "215     7\n",
       "Name: runs, Length: 215, dtype: int64"
      ]
     },
     "execution_count": 67,
     "metadata": {},
     "output_type": "execute_result"
    }
   ],
   "source": [
    "ipl"
   ]
  },
  {
   "cell_type": "code",
   "execution_count": 42,
   "id": "f40eb38c-a93a-4015-8c64-c998c067727d",
   "metadata": {},
   "outputs": [],
   "source": [
    "mvi =pd.read_csv(\"bollywood.csv\",index_col=\"movie\")"
   ]
  },
  {
   "cell_type": "code",
   "execution_count": 43,
   "id": "e1a6736b-d0fd-49f5-812f-85941d187d8e",
   "metadata": {},
   "outputs": [],
   "source": [
    "mvi=mvi.squeeze()"
   ]
  },
  {
   "cell_type": "code",
   "execution_count": 44,
   "id": "acceecb8-833d-40ca-a9ae-3d50a9e46d93",
   "metadata": {},
   "outputs": [
    {
     "data": {
      "text/plain": [
       "movie\n",
       "Uri: The Surgical Strike                   Vicky Kaushal\n",
       "Battalion 609                                Vicky Ahuja\n",
       "The Accidental Prime Minister (film)         Anupam Kher\n",
       "Why Cheat India                            Emraan Hashmi\n",
       "Evening Shadows                         Mona Ambegaonkar\n",
       "                                              ...       \n",
       "Hum Tumhare Hain Sanam                    Shah Rukh Khan\n",
       "Aankhen (2002 film)                     Amitabh Bachchan\n",
       "Saathiya (film)                             Vivek Oberoi\n",
       "Company (film)                                Ajay Devgn\n",
       "Awara Paagal Deewana                        Akshay Kumar\n",
       "Name: lead, Length: 1500, dtype: object"
      ]
     },
     "execution_count": 44,
     "metadata": {},
     "output_type": "execute_result"
    }
   ],
   "source": [
    "mvi"
   ]
  },
  {
   "cell_type": "markdown",
   "id": "a58a3cef-4f2e-45ab-a7eb-f54a122fc33f",
   "metadata": {},
   "source": [
    "**Series MEthods**"
   ]
  },
  {
   "cell_type": "code",
   "execution_count": 46,
   "id": "19455584-e75f-454a-95db-71e050f4f7ad",
   "metadata": {},
   "outputs": [
    {
     "data": {
      "text/plain": [
       "0    48\n",
       "1    57\n",
       "2    40\n",
       "3    43\n",
       "4    44\n",
       "Name: Subscribers gained, dtype: int64"
      ]
     },
     "execution_count": 46,
     "metadata": {},
     "output_type": "execute_result"
    }
   ],
   "source": [
    "#head and tail\n",
    "df.head()"
   ]
  },
  {
   "cell_type": "code",
   "execution_count": 47,
   "id": "86d0bfa9-17fc-4160-bb5e-ea6b1f00c7f0",
   "metadata": {},
   "outputs": [
    {
     "data": {
      "text/plain": [
       "match_no\n",
       "1     1\n",
       "2    23\n",
       "3    13\n",
       "Name: runs, dtype: int64"
      ]
     },
     "execution_count": 47,
     "metadata": {},
     "output_type": "execute_result"
    }
   ],
   "source": [
    "ipl.head(3)"
   ]
  },
  {
   "cell_type": "code",
   "execution_count": 48,
   "id": "21db721a-1197-4643-81ce-b96d0b966a5a",
   "metadata": {},
   "outputs": [
    {
     "data": {
      "text/plain": [
       "movie\n",
       "Aankhen (2002 film)     Amitabh Bachchan\n",
       "Saathiya (film)             Vivek Oberoi\n",
       "Company (film)                Ajay Devgn\n",
       "Awara Paagal Deewana        Akshay Kumar\n",
       "Name: lead, dtype: object"
      ]
     },
     "execution_count": 48,
     "metadata": {},
     "output_type": "execute_result"
    }
   ],
   "source": [
    "mvi.tail(4)"
   ]
  },
  {
   "cell_type": "code",
   "execution_count": 50,
   "id": "01ac50d3-4aa2-47ad-8e49-b87dd3a94bd3",
   "metadata": {},
   "outputs": [
    {
     "data": {
      "text/plain": [
       "movie\n",
       "Mastizaade    Tusshar Kapoor\n",
       "Name: lead, dtype: object"
      ]
     },
     "execution_count": 50,
     "metadata": {},
     "output_type": "execute_result"
    }
   ],
   "source": [
    "#sample\n",
    "mvi.sample()"
   ]
  },
  {
   "cell_type": "code",
   "execution_count": 51,
   "id": "4c435ff7-205d-41a0-8652-68e0492117b9",
   "metadata": {},
   "outputs": [
    {
     "data": {
      "text/plain": [
       "movie\n",
       "Ghayal: Once Again        Sunny Deol\n",
       "Befikre                 Vaani Kapoor\n",
       "Good Boy Bad Boy      Tusshar Kapoor\n",
       "Name: lead, dtype: object"
      ]
     },
     "execution_count": 51,
     "metadata": {},
     "output_type": "execute_result"
    }
   ],
   "source": [
    "mvi.sample(3)"
   ]
  },
  {
   "cell_type": "code",
   "execution_count": 52,
   "id": "577146cf-3538-4859-98f1-c241c39c090c",
   "metadata": {},
   "outputs": [
    {
     "data": {
      "text/plain": [
       "lead\n",
       "Akshay Kumar        48\n",
       "Amitabh Bachchan    45\n",
       "Ajay Devgn          38\n",
       "Salman Khan         31\n",
       "Sanjay Dutt         26\n",
       "                    ..\n",
       "Diganth              1\n",
       "Parveen Kaur         1\n",
       "Seema Azmi           1\n",
       "Akanksha Puri        1\n",
       "Edwin Fernandes      1\n",
       "Name: count, Length: 566, dtype: int64"
      ]
     },
     "execution_count": 52,
     "metadata": {},
     "output_type": "execute_result"
    }
   ],
   "source": [
    "#value_counts\n",
    "mvi.value_counts()"
   ]
  },
  {
   "cell_type": "code",
   "execution_count": 61,
   "id": "ed36ba2b-3a61-495a-b43f-b4ba42526045",
   "metadata": {},
   "outputs": [
    {
     "data": {
      "text/plain": [
       "match_no\n",
       "128    113\n",
       "126    109\n",
       "123    108\n",
       "164    100\n",
       "120    100\n",
       "      ... \n",
       "93       0\n",
       "211      0\n",
       "130      0\n",
       "8        0\n",
       "135      0\n",
       "Name: runs, Length: 215, dtype: int64"
      ]
     },
     "execution_count": 61,
     "metadata": {},
     "output_type": "execute_result"
    }
   ],
   "source": [
    "#sort_values\n",
    "# ipl.sort_values(ascending=False).head(1).values[0]\n",
    "ipl.sort_values(ascending=False)"
   ]
  },
  {
   "cell_type": "code",
   "execution_count": 63,
   "id": "684d63ce-ec86-4035-bb07-89d0813a0669",
   "metadata": {},
   "outputs": [],
   "source": [
    "ipl=ipl.sort_values()"
   ]
  },
  {
   "cell_type": "code",
   "execution_count": 64,
   "id": "162d538d-51c0-4e18-884b-074a73a9f228",
   "metadata": {},
   "outputs": [
    {
     "data": {
      "text/plain": [
       "match_no\n",
       "87       0\n",
       "211      0\n",
       "207      0\n",
       "206      0\n",
       "91       0\n",
       "      ... \n",
       "164    100\n",
       "120    100\n",
       "123    108\n",
       "126    109\n",
       "128    113\n",
       "Name: runs, Length: 215, dtype: int64"
      ]
     },
     "execution_count": 64,
     "metadata": {},
     "output_type": "execute_result"
    }
   ],
   "source": [
    "ipl"
   ]
  },
  {
   "cell_type": "code",
   "execution_count": 70,
   "id": "afdebe31-3693-4881-b208-c3f8c485ad5f",
   "metadata": {},
   "outputs": [
    {
     "data": {
      "text/plain": [
       "movie\n",
       "1920 (film)                   Rajniesh Duggall\n",
       "1920: London                     Sharman Joshi\n",
       "1920: The Evil Returns             Vicky Ahuja\n",
       "1971 (2007 film)                Manoj Bajpayee\n",
       "2 States (2014 film)              Arjun Kapoor\n",
       "                                   ...        \n",
       "Zindagi 50-50                      Veena Malik\n",
       "Zindagi Na Milegi Dobara        Hrithik Roshan\n",
       "Zindagi Tere Naam           Mithun Chakraborty\n",
       "Zokkomon                       Darsheel Safary\n",
       "Zor Lagaa Ke...Haiya!            Meghan Jadhav\n",
       "Name: lead, Length: 1500, dtype: object"
      ]
     },
     "execution_count": 70,
     "metadata": {},
     "output_type": "execute_result"
    }
   ],
   "source": [
    "#sort_index\n",
    "mvi=mvi.sort_index()\n",
    "mvi"
   ]
  },
  {
   "cell_type": "markdown",
   "id": "b8f7ee18-ded9-458e-97a3-2912fee9d64e",
   "metadata": {},
   "source": [
    "**Series Math methods**"
   ]
  },
  {
   "cell_type": "code",
   "execution_count": 71,
   "id": "f535d0b4-458b-4d9c-99f3-ab614836ea45",
   "metadata": {},
   "outputs": [
    {
     "data": {
      "text/plain": [
       "215"
      ]
     },
     "execution_count": 71,
     "metadata": {},
     "output_type": "execute_result"
    }
   ],
   "source": [
    "#count-one diff from size is count doesn't include missing values\n",
    "ipl.count()"
   ]
  },
  {
   "cell_type": "code",
   "execution_count": 73,
   "id": "51e2a20e-741d-4e02-b1dc-0737cb20b315",
   "metadata": {},
   "outputs": [
    {
     "data": {
      "text/plain": [
       "49510"
      ]
     },
     "execution_count": 73,
     "metadata": {},
     "output_type": "execute_result"
    }
   ],
   "source": [
    "#sum->product\n",
    "df.sum()"
   ]
  },
  {
   "cell_type": "code",
   "execution_count": 75,
   "id": "a2b7e6e0-59bf-4190-ae96-caeacf4cc0a3",
   "metadata": {},
   "outputs": [
    {
     "data": {
      "text/plain": [
       "0"
      ]
     },
     "execution_count": 75,
     "metadata": {},
     "output_type": "execute_result"
    }
   ],
   "source": [
    "df.product()"
   ]
  },
  {
   "cell_type": "code",
   "execution_count": 82,
   "id": "e909cd82-fffc-41ca-95e3-3227a6a52c96",
   "metadata": {},
   "outputs": [
    {
     "name": "stdout",
     "output_type": "stream",
     "text": [
      "135.64383561643837\n",
      "123.0\n",
      "0    Akshay Kumar\n",
      "Name: lead, dtype: object\n",
      "62.67502303725269\n",
      "688.0024777222344\n"
     ]
    }
   ],
   "source": [
    "#mean->median->mode->std->var\n",
    "print(df.mean())\n",
    "print(df.median())\n",
    "print(mvi.mode())\n",
    "print(df.std())\n",
    "print(ipl.var())"
   ]
  },
  {
   "cell_type": "code",
   "execution_count": 83,
   "id": "34a28846-aa5a-47e5-a998-1bfbe5b16c3d",
   "metadata": {},
   "outputs": [
    {
     "name": "stdout",
     "output_type": "stream",
     "text": [
      "33\n",
      "396\n"
     ]
    }
   ],
   "source": [
    "#min/max\n",
    "print(df.min())\n",
    "print(df.max())"
   ]
  },
  {
   "cell_type": "code",
   "execution_count": 85,
   "id": "2e35c758-3b01-4689-bb46-e831a6defa85",
   "metadata": {},
   "outputs": [
    {
     "data": {
      "text/plain": [
       "count    365.000000\n",
       "mean     135.643836\n",
       "std       62.675023\n",
       "min       33.000000\n",
       "25%       88.000000\n",
       "50%      123.000000\n",
       "75%      177.000000\n",
       "max      396.000000\n",
       "Name: Subscribers gained, dtype: float64"
      ]
     },
     "execution_count": 85,
     "metadata": {},
     "output_type": "execute_result"
    }
   ],
   "source": [
    "#describe\n",
    "df.describe()"
   ]
  },
  {
   "cell_type": "markdown",
   "id": "ca612976-b65a-441b-8738-15f5560359d1",
   "metadata": {},
   "source": [
    "**Series Indexing**"
   ]
  },
  {
   "cell_type": "code",
   "execution_count": null,
   "id": "3208711e-c80c-4ef1-8dd3-bf7cc71c571f",
   "metadata": {},
   "outputs": [],
   "source": []
  }
 ],
 "metadata": {
  "kernelspec": {
   "display_name": "Python 3 (ipykernel)",
   "language": "python",
   "name": "python3"
  },
  "language_info": {
   "codemirror_mode": {
    "name": "ipython",
    "version": 3
   },
   "file_extension": ".py",
   "mimetype": "text/x-python",
   "name": "python",
   "nbconvert_exporter": "python",
   "pygments_lexer": "ipython3",
   "version": "3.12.4"
  }
 },
 "nbformat": 4,
 "nbformat_minor": 5
}
