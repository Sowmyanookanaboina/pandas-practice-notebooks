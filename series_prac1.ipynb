{
 "cells": [
  {
   "cell_type": "code",
   "execution_count": 2,
   "id": "83bfefc3-dc93-4dca-be53-68036a52a6ff",
   "metadata": {},
   "outputs": [],
   "source": [
    "import numpy as np\n",
    "import pandas as pd"
   ]
  },
  {
   "cell_type": "markdown",
   "id": "67aeffbb-1271-461c-936c-267b775870c7",
   "metadata": {},
   "source": [
    "**Series From LIST**"
   ]
  },
  {
   "cell_type": "code",
   "execution_count": 4,
   "id": "9a0db67c-1237-434b-92da-092f1f8e505b",
   "metadata": {},
   "outputs": [
    {
     "data": {
      "text/plain": [
       "0        India\n",
       "1     Srilanka\n",
       "2          USA\n",
       "3    Australia\n",
       "dtype: object"
      ]
     },
     "execution_count": 4,
     "metadata": {},
     "output_type": "execute_result"
    }
   ],
   "source": [
    "country=[\"India\",\"Srilanka\",\"USA\",\"Australia\"]\n",
    "pd.Series(country)"
   ]
  },
  {
   "cell_type": "code",
   "execution_count": 25,
   "id": "a3a6476b-38fa-4c30-bd0a-8f52f0a8b84e",
   "metadata": {},
   "outputs": [
    {
     "data": {
      "text/plain": [
       "0    32\n",
       "1    45\n",
       "2    56\n",
       "3    76\n",
       "4     8\n",
       "5     9\n",
       "dtype: int64"
      ]
     },
     "execution_count": 25,
     "metadata": {},
     "output_type": "execute_result"
    }
   ],
   "source": [
    "#integers\n",
    "runs=[32,45,56,76,8,9]\n",
    "runs_series=pd.Series(runs)\n",
    "runs_series"
   ]
  },
  {
   "cell_type": "code",
   "execution_count": 8,
   "id": "55eb4bd0-fc51-4863-af60-d2d89ddcc858",
   "metadata": {},
   "outputs": [
    {
     "data": {
      "text/plain": [
       "eng      45\n",
       "maths    67\n",
       "tel      89\n",
       "sci      98\n",
       "soc      76\n",
       "dtype: int64"
      ]
     },
     "execution_count": 8,
     "metadata": {},
     "output_type": "execute_result"
    }
   ],
   "source": [
    "#custom index\n",
    "marks=[45,67,89,98,76]\n",
    "subs =[\"eng\",\"maths\",\"tel\",\"sci\",\"soc\"]\n",
    "pd.Series(marks,index=subs)"
   ]
  },
  {
   "cell_type": "code",
   "execution_count": 10,
   "id": "84f46427-775f-44c2-9746-94047e9d9404",
   "metadata": {},
   "outputs": [
    {
     "data": {
      "text/plain": [
       "eng      45\n",
       "maths    67\n",
       "tel      89\n",
       "sci      98\n",
       "soc      76\n",
       "Name: Ravi's marks, dtype: int64"
      ]
     },
     "execution_count": 10,
     "metadata": {},
     "output_type": "execute_result"
    }
   ],
   "source": [
    "#setting a name\n",
    "mark=pd.Series(marks,index=subs, name=\"Ravi's marks\")\n",
    "mark"
   ]
  },
  {
   "cell_type": "markdown",
   "id": "0dfcd36c-e673-44bd-aa20-feab3a8056ed",
   "metadata": {},
   "source": [
    "**Series From dict**"
   ]
  },
  {
   "cell_type": "code",
   "execution_count": 14,
   "id": "35aae476-cebd-418a-b86b-88f9555971a2",
   "metadata": {},
   "outputs": [
    {
     "data": {
      "text/plain": [
       "maths       98\n",
       "eng         99\n",
       "tel        100\n",
       "Science     89\n",
       "Name: Ram's MArks, dtype: int64"
      ]
     },
     "execution_count": 14,
     "metadata": {},
     "output_type": "execute_result"
    }
   ],
   "source": [
    "marks={\n",
    "    \"maths\":98,\n",
    "    \"eng\":99,\n",
    "    \"tel\":100,\n",
    "    \"Science\":89\n",
    "}\n",
    "marks_series= pd.Series(marks,name=\"Ram's MArks\")\n",
    "marks_series"
   ]
  },
  {
   "cell_type": "markdown",
   "id": "5b25de02-2855-4540-b36b-17273e0bbfad",
   "metadata": {},
   "source": [
    "**Series Attributes**"
   ]
  },
  {
   "cell_type": "code",
   "execution_count": 17,
   "id": "463908e1-dfc4-4fa0-a1a8-0660da881b89",
   "metadata": {},
   "outputs": [
    {
     "data": {
      "text/plain": [
       "4"
      ]
     },
     "execution_count": 17,
     "metadata": {},
     "output_type": "execute_result"
    }
   ],
   "source": [
    "#size\n",
    "marks_series\n",
    "marks_series.size"
   ]
  },
  {
   "cell_type": "code",
   "execution_count": 18,
   "id": "a9027617-c760-4626-9efb-b2cc4d2cb089",
   "metadata": {},
   "outputs": [
    {
     "data": {
      "text/plain": [
       "dtype('int64')"
      ]
     },
     "execution_count": 18,
     "metadata": {},
     "output_type": "execute_result"
    }
   ],
   "source": [
    "#dtype\n",
    "marks_series.dtype"
   ]
  },
  {
   "cell_type": "code",
   "execution_count": 19,
   "id": "b0bfc932-fc35-46bd-bbd3-04dabe55d082",
   "metadata": {},
   "outputs": [
    {
     "data": {
      "text/plain": [
       "\"Ram's MArks\""
      ]
     },
     "execution_count": 19,
     "metadata": {},
     "output_type": "execute_result"
    }
   ],
   "source": [
    "#name\n",
    "marks_series.name"
   ]
  },
  {
   "cell_type": "code",
   "execution_count": 20,
   "id": "ed1940ce-a0f2-4745-87ea-20147c695970",
   "metadata": {},
   "outputs": [
    {
     "data": {
      "text/plain": [
       "True"
      ]
     },
     "execution_count": 20,
     "metadata": {},
     "output_type": "execute_result"
    }
   ],
   "source": [
    "#is_unique\n",
    "marks_series.is_unique"
   ]
  },
  {
   "cell_type": "code",
   "execution_count": 21,
   "id": "3c4a03c5-a42a-4f5b-9842-1aeb5a596c32",
   "metadata": {},
   "outputs": [
    {
     "data": {
      "text/plain": [
       "False"
      ]
     },
     "execution_count": 21,
     "metadata": {},
     "output_type": "execute_result"
    }
   ],
   "source": [
    "pd.Series([1,1,2,3,3,43,43]).is_unique"
   ]
  },
  {
   "cell_type": "code",
   "execution_count": 22,
   "id": "75cfa4cf-dd0a-4443-9b31-3f9fc7458d14",
   "metadata": {},
   "outputs": [
    {
     "data": {
      "text/plain": [
       "Index(['maths', 'eng', 'tel', 'Science'], dtype='object')"
      ]
     },
     "execution_count": 22,
     "metadata": {},
     "output_type": "execute_result"
    }
   ],
   "source": [
    "#index\n",
    "marks_series.index"
   ]
  },
  {
   "cell_type": "code",
   "execution_count": 26,
   "id": "74946869-9188-47a8-92f9-848bafdb7ac0",
   "metadata": {},
   "outputs": [
    {
     "data": {
      "text/plain": [
       "RangeIndex(start=0, stop=6, step=1)"
      ]
     },
     "execution_count": 26,
     "metadata": {},
     "output_type": "execute_result"
    }
   ],
   "source": [
    "runs_series.index"
   ]
  },
  {
   "cell_type": "code",
   "execution_count": 27,
   "id": "c0808836-935c-4028-b6e7-427dc2458729",
   "metadata": {},
   "outputs": [
    {
     "data": {
      "text/plain": [
       "array([ 98,  99, 100,  89], dtype=int64)"
      ]
     },
     "execution_count": 27,
     "metadata": {},
     "output_type": "execute_result"
    }
   ],
   "source": [
    "#values\n",
    "marks_series.values"
   ]
  },
  {
   "cell_type": "markdown",
   "id": "336d86bb-e2ab-4f57-ac43-14a1cf3756c8",
   "metadata": {},
   "source": [
    "**Series Using read_csv**"
   ]
  },
  {
   "cell_type": "code",
   "execution_count": 30,
   "id": "5af88011-c20c-4041-8adc-aee4334c9a33",
   "metadata": {},
   "outputs": [
    {
     "data": {
      "text/plain": [
       "pandas.core.frame.DataFrame"
      ]
     },
     "execution_count": 30,
     "metadata": {},
     "output_type": "execute_result"
    }
   ],
   "source": [
    "#with one col\n",
    "type(pd.read_csv(\"subs.csv\"))"
   ]
  },
  {
   "cell_type": "code",
   "execution_count": 86,
   "id": "40fba409-95d3-45e0-b721-4b5b100509d2",
   "metadata": {},
   "outputs": [],
   "source": [
    "subs =pd.read_csv(\"subs.csv\")"
   ]
  },
  {
   "cell_type": "code",
   "execution_count": 87,
   "id": "dc8a1d8c-c5fd-4cd9-87c6-f95a2b32eceb",
   "metadata": {},
   "outputs": [],
   "source": [
    "subs=subs.squeeze()"
   ]
  },
  {
   "cell_type": "code",
   "execution_count": 88,
   "id": "b760a040-1e4c-4d11-afaa-f654f818bd93",
   "metadata": {},
   "outputs": [
    {
     "data": {
      "text/plain": [
       "0       48\n",
       "1       57\n",
       "2       40\n",
       "3       43\n",
       "4       44\n",
       "      ... \n",
       "360    231\n",
       "361    226\n",
       "362    155\n",
       "363    144\n",
       "364    172\n",
       "Name: Subscribers gained, Length: 365, dtype: int64"
      ]
     },
     "execution_count": 88,
     "metadata": {},
     "output_type": "execute_result"
    }
   ],
   "source": [
    "subs"
   ]
  },
  {
   "cell_type": "code",
   "execution_count": 183,
   "id": "cf7fbd8c-564d-48e1-9ccf-95de814aae5b",
   "metadata": {},
   "outputs": [],
   "source": [
    "ipl=pd.read_csv(r\"Datasets/kohli_ipl.csv\",index_col=\"match_no\")\n"
   ]
  },
  {
   "cell_type": "code",
   "execution_count": 184,
   "id": "5c0116ba-74e9-4af4-a52f-abf4a2e9352e",
   "metadata": {},
   "outputs": [],
   "source": [
    "ipl=ipl.squeeze()"
   ]
  },
  {
   "cell_type": "code",
   "execution_count": 185,
   "id": "41c7b247-10ad-4add-bf7b-5d3e780d67d5",
   "metadata": {},
   "outputs": [
    {
     "data": {
      "text/plain": [
       "match_no\n",
       "1       1\n",
       "2      23\n",
       "3      13\n",
       "4      12\n",
       "5       1\n",
       "       ..\n",
       "211     0\n",
       "212    20\n",
       "213    73\n",
       "214    25\n",
       "215     7\n",
       "Name: runs, Length: 215, dtype: int64"
      ]
     },
     "execution_count": 185,
     "metadata": {},
     "output_type": "execute_result"
    }
   ],
   "source": [
    "ipl"
   ]
  },
  {
   "cell_type": "code",
   "execution_count": 186,
   "id": "f40eb38c-a93a-4015-8c64-c998c067727d",
   "metadata": {},
   "outputs": [],
   "source": [
    "mvi =pd.read_csv(r\"Datasets/bollywood.csv\",index_col=\"movie\")"
   ]
  },
  {
   "cell_type": "code",
   "execution_count": 187,
   "id": "e1a6736b-d0fd-49f5-812f-85941d187d8e",
   "metadata": {},
   "outputs": [],
   "source": [
    "mvi=mvi.squeeze()"
   ]
  },
  {
   "cell_type": "code",
   "execution_count": 188,
   "id": "acceecb8-833d-40ca-a9ae-3d50a9e46d93",
   "metadata": {},
   "outputs": [
    {
     "data": {
      "text/plain": [
       "movie\n",
       "Uri: The Surgical Strike                   Vicky Kaushal\n",
       "Battalion 609                                Vicky Ahuja\n",
       "The Accidental Prime Minister (film)         Anupam Kher\n",
       "Why Cheat India                            Emraan Hashmi\n",
       "Evening Shadows                         Mona Ambegaonkar\n",
       "                                              ...       \n",
       "Hum Tumhare Hain Sanam                    Shah Rukh Khan\n",
       "Aankhen (2002 film)                     Amitabh Bachchan\n",
       "Saathiya (film)                             Vivek Oberoi\n",
       "Company (film)                                Ajay Devgn\n",
       "Awara Paagal Deewana                        Akshay Kumar\n",
       "Name: lead, Length: 1500, dtype: object"
      ]
     },
     "execution_count": 188,
     "metadata": {},
     "output_type": "execute_result"
    }
   ],
   "source": [
    "mvi"
   ]
  },
  {
   "cell_type": "markdown",
   "id": "a58a3cef-4f2e-45ab-a7eb-f54a122fc33f",
   "metadata": {},
   "source": [
    "**Series MEthods**"
   ]
  },
  {
   "cell_type": "code",
   "execution_count": 89,
   "id": "19455584-e75f-454a-95db-71e050f4f7ad",
   "metadata": {},
   "outputs": [
    {
     "data": {
      "text/plain": [
       "0    48\n",
       "1    57\n",
       "2    40\n",
       "3    43\n",
       "4    44\n",
       "Name: Subscribers gained, dtype: int64"
      ]
     },
     "execution_count": 89,
     "metadata": {},
     "output_type": "execute_result"
    }
   ],
   "source": [
    "#head and tail\n",
    "subs.head()"
   ]
  },
  {
   "cell_type": "code",
   "execution_count": 47,
   "id": "86d0bfa9-17fc-4160-bb5e-ea6b1f00c7f0",
   "metadata": {},
   "outputs": [
    {
     "data": {
      "text/plain": [
       "match_no\n",
       "1     1\n",
       "2    23\n",
       "3    13\n",
       "Name: runs, dtype: int64"
      ]
     },
     "execution_count": 47,
     "metadata": {},
     "output_type": "execute_result"
    }
   ],
   "source": [
    "ipl.head(3)"
   ]
  },
  {
   "cell_type": "code",
   "execution_count": 48,
   "id": "21db721a-1197-4643-81ce-b96d0b966a5a",
   "metadata": {},
   "outputs": [
    {
     "data": {
      "text/plain": [
       "movie\n",
       "Aankhen (2002 film)     Amitabh Bachchan\n",
       "Saathiya (film)             Vivek Oberoi\n",
       "Company (film)                Ajay Devgn\n",
       "Awara Paagal Deewana        Akshay Kumar\n",
       "Name: lead, dtype: object"
      ]
     },
     "execution_count": 48,
     "metadata": {},
     "output_type": "execute_result"
    }
   ],
   "source": [
    "mvi.tail(4)"
   ]
  },
  {
   "cell_type": "code",
   "execution_count": 50,
   "id": "01ac50d3-4aa2-47ad-8e49-b87dd3a94bd3",
   "metadata": {},
   "outputs": [
    {
     "data": {
      "text/plain": [
       "movie\n",
       "Mastizaade    Tusshar Kapoor\n",
       "Name: lead, dtype: object"
      ]
     },
     "execution_count": 50,
     "metadata": {},
     "output_type": "execute_result"
    }
   ],
   "source": [
    "#sample\n",
    "mvi.sample()"
   ]
  },
  {
   "cell_type": "code",
   "execution_count": 51,
   "id": "4c435ff7-205d-41a0-8652-68e0492117b9",
   "metadata": {},
   "outputs": [
    {
     "data": {
      "text/plain": [
       "movie\n",
       "Ghayal: Once Again        Sunny Deol\n",
       "Befikre                 Vaani Kapoor\n",
       "Good Boy Bad Boy      Tusshar Kapoor\n",
       "Name: lead, dtype: object"
      ]
     },
     "execution_count": 51,
     "metadata": {},
     "output_type": "execute_result"
    }
   ],
   "source": [
    "mvi.sample(3)"
   ]
  },
  {
   "cell_type": "code",
   "execution_count": 52,
   "id": "577146cf-3538-4859-98f1-c241c39c090c",
   "metadata": {},
   "outputs": [
    {
     "data": {
      "text/plain": [
       "lead\n",
       "Akshay Kumar        48\n",
       "Amitabh Bachchan    45\n",
       "Ajay Devgn          38\n",
       "Salman Khan         31\n",
       "Sanjay Dutt         26\n",
       "                    ..\n",
       "Diganth              1\n",
       "Parveen Kaur         1\n",
       "Seema Azmi           1\n",
       "Akanksha Puri        1\n",
       "Edwin Fernandes      1\n",
       "Name: count, Length: 566, dtype: int64"
      ]
     },
     "execution_count": 52,
     "metadata": {},
     "output_type": "execute_result"
    }
   ],
   "source": [
    "#value_counts\n",
    "mvi.value_counts()"
   ]
  },
  {
   "cell_type": "code",
   "execution_count": 61,
   "id": "ed36ba2b-3a61-495a-b43f-b4ba42526045",
   "metadata": {},
   "outputs": [
    {
     "data": {
      "text/plain": [
       "match_no\n",
       "128    113\n",
       "126    109\n",
       "123    108\n",
       "164    100\n",
       "120    100\n",
       "      ... \n",
       "93       0\n",
       "211      0\n",
       "130      0\n",
       "8        0\n",
       "135      0\n",
       "Name: runs, Length: 215, dtype: int64"
      ]
     },
     "execution_count": 61,
     "metadata": {},
     "output_type": "execute_result"
    }
   ],
   "source": [
    "#sort_values\n",
    "# ipl.sort_values(ascending=False).head(1).values[0]\n",
    "ipl.sort_values(ascending=False)"
   ]
  },
  {
   "cell_type": "code",
   "execution_count": 63,
   "id": "684d63ce-ec86-4035-bb07-89d0813a0669",
   "metadata": {},
   "outputs": [],
   "source": [
    "ipl=ipl.sort_values()"
   ]
  },
  {
   "cell_type": "code",
   "execution_count": 64,
   "id": "162d538d-51c0-4e18-884b-074a73a9f228",
   "metadata": {},
   "outputs": [
    {
     "data": {
      "text/plain": [
       "match_no\n",
       "87       0\n",
       "211      0\n",
       "207      0\n",
       "206      0\n",
       "91       0\n",
       "      ... \n",
       "164    100\n",
       "120    100\n",
       "123    108\n",
       "126    109\n",
       "128    113\n",
       "Name: runs, Length: 215, dtype: int64"
      ]
     },
     "execution_count": 64,
     "metadata": {},
     "output_type": "execute_result"
    }
   ],
   "source": [
    "ipl"
   ]
  },
  {
   "cell_type": "code",
   "execution_count": 70,
   "id": "afdebe31-3693-4881-b208-c3f8c485ad5f",
   "metadata": {},
   "outputs": [
    {
     "data": {
      "text/plain": [
       "movie\n",
       "1920 (film)                   Rajniesh Duggall\n",
       "1920: London                     Sharman Joshi\n",
       "1920: The Evil Returns             Vicky Ahuja\n",
       "1971 (2007 film)                Manoj Bajpayee\n",
       "2 States (2014 film)              Arjun Kapoor\n",
       "                                   ...        \n",
       "Zindagi 50-50                      Veena Malik\n",
       "Zindagi Na Milegi Dobara        Hrithik Roshan\n",
       "Zindagi Tere Naam           Mithun Chakraborty\n",
       "Zokkomon                       Darsheel Safary\n",
       "Zor Lagaa Ke...Haiya!            Meghan Jadhav\n",
       "Name: lead, Length: 1500, dtype: object"
      ]
     },
     "execution_count": 70,
     "metadata": {},
     "output_type": "execute_result"
    }
   ],
   "source": [
    "#sort_index\n",
    "mvi=mvi.sort_index()\n",
    "mvi"
   ]
  },
  {
   "cell_type": "markdown",
   "id": "b8f7ee18-ded9-458e-97a3-2912fee9d64e",
   "metadata": {},
   "source": [
    "**Series Math methods**"
   ]
  },
  {
   "cell_type": "code",
   "execution_count": 71,
   "id": "f535d0b4-458b-4d9c-99f3-ab614836ea45",
   "metadata": {},
   "outputs": [
    {
     "data": {
      "text/plain": [
       "215"
      ]
     },
     "execution_count": 71,
     "metadata": {},
     "output_type": "execute_result"
    }
   ],
   "source": [
    "#count-one diff from size is count doesn't include missing values\n",
    "ipl.count()"
   ]
  },
  {
   "cell_type": "code",
   "execution_count": 90,
   "id": "51e2a20e-741d-4e02-b1dc-0737cb20b315",
   "metadata": {},
   "outputs": [
    {
     "data": {
      "text/plain": [
       "49510"
      ]
     },
     "execution_count": 90,
     "metadata": {},
     "output_type": "execute_result"
    }
   ],
   "source": [
    "#sum->product\n",
    "subs.sum()"
   ]
  },
  {
   "cell_type": "code",
   "execution_count": 91,
   "id": "a2b7e6e0-59bf-4190-ae96-caeacf4cc0a3",
   "metadata": {},
   "outputs": [
    {
     "data": {
      "text/plain": [
       "0"
      ]
     },
     "execution_count": 91,
     "metadata": {},
     "output_type": "execute_result"
    }
   ],
   "source": [
    "subs.product()"
   ]
  },
  {
   "cell_type": "code",
   "execution_count": 92,
   "id": "e909cd82-fffc-41ca-95e3-3227a6a52c96",
   "metadata": {},
   "outputs": [
    {
     "name": "stdout",
     "output_type": "stream",
     "text": [
      "135.64383561643837\n",
      "123.0\n",
      "0    Akshay Kumar\n",
      "Name: lead, dtype: object\n",
      "62.67502303725269\n",
      "688.0024777222344\n"
     ]
    }
   ],
   "source": [
    "#mean->median->mode->std->var\n",
    "print(subs.mean())\n",
    "print(subs.median())\n",
    "print(mvi.mode())\n",
    "print(subs.std())\n",
    "print(ipl.var())"
   ]
  },
  {
   "cell_type": "code",
   "execution_count": 93,
   "id": "34a28846-aa5a-47e5-a998-1bfbe5b16c3d",
   "metadata": {},
   "outputs": [
    {
     "name": "stdout",
     "output_type": "stream",
     "text": [
      "33\n",
      "396\n"
     ]
    }
   ],
   "source": [
    "#min/max\n",
    "print(subs.min())\n",
    "print(subs.max())"
   ]
  },
  {
   "cell_type": "code",
   "execution_count": 94,
   "id": "2e35c758-3b01-4689-bb46-e831a6defa85",
   "metadata": {},
   "outputs": [
    {
     "data": {
      "text/plain": [
       "count    365.000000\n",
       "mean     135.643836\n",
       "std       62.675023\n",
       "min       33.000000\n",
       "25%       88.000000\n",
       "50%      123.000000\n",
       "75%      177.000000\n",
       "max      396.000000\n",
       "Name: Subscribers gained, dtype: float64"
      ]
     },
     "execution_count": 94,
     "metadata": {},
     "output_type": "execute_result"
    }
   ],
   "source": [
    "#describe\n",
    "subs.describe()"
   ]
  },
  {
   "cell_type": "markdown",
   "id": "ca612976-b65a-441b-8738-15f5560359d1",
   "metadata": {},
   "source": [
    "**Series Indexing**"
   ]
  },
  {
   "cell_type": "code",
   "execution_count": 96,
   "id": "3208711e-c80c-4ef1-8dd3-bf7cc71c571f",
   "metadata": {},
   "outputs": [
    {
     "data": {
      "text/plain": [
       "32"
      ]
     },
     "execution_count": 96,
     "metadata": {},
     "output_type": "execute_result"
    }
   ],
   "source": [
    "#integer indexing\n",
    "x=pd.Series([12,13,14,32,4354,65,76,87])\n",
    "x[3]"
   ]
  },
  {
   "cell_type": "code",
   "execution_count": 99,
   "id": "bbb7a022-2ecd-412c-924a-c3dacb5f9fee",
   "metadata": {},
   "outputs": [],
   "source": [
    "#negative indexing doesn't work\n",
    "# x[-1]"
   ]
  },
  {
   "cell_type": "code",
   "execution_count": 101,
   "id": "ff4b0562-8f96-4514-9512-bbe90a5cba92",
   "metadata": {},
   "outputs": [
    {
     "data": {
      "text/plain": [
       "movie\n",
       "1920 (film)                   Rajniesh Duggall\n",
       "1920: London                     Sharman Joshi\n",
       "1920: The Evil Returns             Vicky Ahuja\n",
       "1971 (2007 film)                Manoj Bajpayee\n",
       "2 States (2014 film)              Arjun Kapoor\n",
       "                                   ...        \n",
       "Zindagi 50-50                      Veena Malik\n",
       "Zindagi Na Milegi Dobara        Hrithik Roshan\n",
       "Zindagi Tere Naam           Mithun Chakraborty\n",
       "Zokkomon                       Darsheel Safary\n",
       "Zor Lagaa Ke...Haiya!            Meghan Jadhav\n",
       "Name: lead, Length: 1500, dtype: object"
      ]
     },
     "execution_count": 101,
     "metadata": {},
     "output_type": "execute_result"
    }
   ],
   "source": [
    "mvi"
   ]
  },
  {
   "cell_type": "code",
   "execution_count": 103,
   "id": "5d535e08-e6aa-4ca2-9a2a-8c880ee402a4",
   "metadata": {},
   "outputs": [
    {
     "data": {
      "text/plain": [
       "'Rajniesh Duggall'"
      ]
     },
     "execution_count": 103,
     "metadata": {},
     "output_type": "execute_result"
    }
   ],
   "source": [
    "mvi['1920 (film)']"
   ]
  },
  {
   "cell_type": "code",
   "execution_count": 104,
   "id": "529f870b-609b-4d40-96bc-174db35b6746",
   "metadata": {},
   "outputs": [
    {
     "name": "stderr",
     "output_type": "stream",
     "text": [
      "C:\\Users\\HP\\AppData\\Local\\Temp\\ipykernel_3148\\2122602864.py:1: FutureWarning: Series.__getitem__ treating keys as positions is deprecated. In a future version, integer keys will always be treated as labels (consistent with DataFrame behavior). To access a value by position, use `ser.iloc[pos]`\n",
      "  mvi[0]\n"
     ]
    },
    {
     "data": {
      "text/plain": [
       "'Rajniesh Duggall'"
      ]
     },
     "execution_count": 104,
     "metadata": {},
     "output_type": "execute_result"
    }
   ],
   "source": [
    "mvi[0]"
   ]
  },
  {
   "cell_type": "code",
   "execution_count": 105,
   "id": "5a901f9b-28ca-49cd-b071-3e04b56e87da",
   "metadata": {},
   "outputs": [
    {
     "name": "stderr",
     "output_type": "stream",
     "text": [
      "C:\\Users\\HP\\AppData\\Local\\Temp\\ipykernel_3148\\899454423.py:1: FutureWarning: Series.__getitem__ treating keys as positions is deprecated. In a future version, integer keys will always be treated as labels (consistent with DataFrame behavior). To access a value by position, use `ser.iloc[pos]`\n",
      "  mvi[-1]\n"
     ]
    },
    {
     "data": {
      "text/plain": [
       "'Meghan Jadhav'"
      ]
     },
     "execution_count": 105,
     "metadata": {},
     "output_type": "execute_result"
    }
   ],
   "source": [
    "mvi[-1]"
   ]
  },
  {
   "cell_type": "code",
   "execution_count": 107,
   "id": "a06a43ef-4d38-447c-8ee2-85d5d2cb67bd",
   "metadata": {},
   "outputs": [
    {
     "data": {
      "text/plain": [
       "match_no\n",
       "6      9\n",
       "7     34\n",
       "8      0\n",
       "9     21\n",
       "10     3\n",
       "11    10\n",
       "12    38\n",
       "13     3\n",
       "14    11\n",
       "15    50\n",
       "16     2\n",
       "Name: runs, dtype: int64"
      ]
     },
     "execution_count": 107,
     "metadata": {},
     "output_type": "execute_result"
    }
   ],
   "source": [
    "#slicing\n",
    "ipl[5:16]"
   ]
  },
  {
   "cell_type": "code",
   "execution_count": 108,
   "id": "09551806-d2c7-4fca-ba44-a654a1e571d4",
   "metadata": {},
   "outputs": [
    {
     "data": {
      "text/plain": [
       "match_no\n",
       "211     0\n",
       "212    20\n",
       "213    73\n",
       "214    25\n",
       "215     7\n",
       "Name: runs, dtype: int64"
      ]
     },
     "execution_count": 108,
     "metadata": {},
     "output_type": "execute_result"
    }
   ],
   "source": [
    "#negtive slicing\n",
    "ipl[-5:]"
   ]
  },
  {
   "cell_type": "code",
   "execution_count": 109,
   "id": "c16f205b-e28b-4931-af20-70fe08b5942c",
   "metadata": {},
   "outputs": [
    {
     "data": {
      "text/plain": [
       "movie\n",
       "Zindagi 50-50                      Veena Malik\n",
       "Zindagi Na Milegi Dobara        Hrithik Roshan\n",
       "Zindagi Tere Naam           Mithun Chakraborty\n",
       "Zokkomon                       Darsheel Safary\n",
       "Zor Lagaa Ke...Haiya!            Meghan Jadhav\n",
       "Name: lead, dtype: object"
      ]
     },
     "execution_count": 109,
     "metadata": {},
     "output_type": "execute_result"
    }
   ],
   "source": [
    "mvi[-5:]"
   ]
  },
  {
   "cell_type": "code",
   "execution_count": 110,
   "id": "dcee2488-b9f5-480d-8ec5-6f48f87a65e6",
   "metadata": {},
   "outputs": [
    {
     "data": {
      "text/plain": [
       "match_no\n",
       "1     1\n",
       "3    13\n",
       "4    12\n",
       "5     1\n",
       "Name: runs, dtype: int64"
      ]
     },
     "execution_count": 110,
     "metadata": {},
     "output_type": "execute_result"
    }
   ],
   "source": [
    "#fancy indexing\n",
    "ipl[[1,3,4,5]]"
   ]
  },
  {
   "cell_type": "code",
   "execution_count": 111,
   "id": "29569d65-b92b-4272-91be-aaf24804ec5e",
   "metadata": {},
   "outputs": [
    {
     "data": {
      "text/plain": [
       "movie\n",
       "1920 (film)                   Rajniesh Duggall\n",
       "1920: London                     Sharman Joshi\n",
       "1920: The Evil Returns             Vicky Ahuja\n",
       "1971 (2007 film)                Manoj Bajpayee\n",
       "2 States (2014 film)              Arjun Kapoor\n",
       "                                   ...        \n",
       "Zindagi 50-50                      Veena Malik\n",
       "Zindagi Na Milegi Dobara        Hrithik Roshan\n",
       "Zindagi Tere Naam           Mithun Chakraborty\n",
       "Zokkomon                       Darsheel Safary\n",
       "Zor Lagaa Ke...Haiya!            Meghan Jadhav\n",
       "Name: lead, Length: 1500, dtype: object"
      ]
     },
     "execution_count": 111,
     "metadata": {},
     "output_type": "execute_result"
    }
   ],
   "source": [
    "#indexing with labels ->fancy indexing\n",
    "mvi"
   ]
  },
  {
   "cell_type": "code",
   "execution_count": 114,
   "id": "3468932e-ad16-4f93-9727-f4108ee145ed",
   "metadata": {},
   "outputs": [
    {
     "data": {
      "text/plain": [
       "movie\n",
       "1920 (film)             Rajniesh Duggall\n",
       "2 States (2014 film)        Arjun Kapoor\n",
       "Name: lead, dtype: object"
      ]
     },
     "execution_count": 114,
     "metadata": {},
     "output_type": "execute_result"
    }
   ],
   "source": [
    "mvi[[\"1920 (film)\",\"2 States (2014 film)\"]]"
   ]
  },
  {
   "cell_type": "markdown",
   "id": "079ac87c-6cdc-4ddd-98be-844b4ce87f41",
   "metadata": {},
   "source": [
    "**Editing Series**"
   ]
  },
  {
   "cell_type": "code",
   "execution_count": 115,
   "id": "5f3b92a5-d3e9-4ea8-8591-abc7dc366246",
   "metadata": {},
   "outputs": [
    {
     "data": {
      "text/plain": [
       "maths       98\n",
       "eng         99\n",
       "tel        100\n",
       "Science     89\n",
       "Name: Ram's MArks, dtype: int64"
      ]
     },
     "execution_count": 115,
     "metadata": {},
     "output_type": "execute_result"
    }
   ],
   "source": [
    "#using indexing\n",
    "marks_series"
   ]
  },
  {
   "cell_type": "code",
   "execution_count": 120,
   "id": "27daa55b-e7ca-4c04-bcad-b81be9c391f0",
   "metadata": {},
   "outputs": [],
   "source": [
    "marks_series.iloc[1] =100\n",
    "# marks_series[1]=100"
   ]
  },
  {
   "cell_type": "code",
   "execution_count": 119,
   "id": "e87884d1-6f05-42d2-9ce4-e76c83c374db",
   "metadata": {},
   "outputs": [
    {
     "data": {
      "text/plain": [
       "maths       98\n",
       "eng        100\n",
       "tel        100\n",
       "Science     89\n",
       "Name: Ram's MArks, dtype: int64"
      ]
     },
     "execution_count": 119,
     "metadata": {},
     "output_type": "execute_result"
    }
   ],
   "source": [
    "marks_series"
   ]
  },
  {
   "cell_type": "code",
   "execution_count": 121,
   "id": "6a9c32e8-5468-45a7-a4fd-c5df3eb5c79f",
   "metadata": {},
   "outputs": [],
   "source": [
    "#what if an index does not exist\n",
    "marks_series[\"sst\"]=90"
   ]
  },
  {
   "cell_type": "code",
   "execution_count": 122,
   "id": "4a0227d4-6776-469b-b89f-6af64a48c766",
   "metadata": {},
   "outputs": [
    {
     "data": {
      "text/plain": [
       "maths       98\n",
       "eng        100\n",
       "tel        100\n",
       "Science     89\n",
       "sst         90\n",
       "Name: Ram's MArks, dtype: int64"
      ]
     },
     "execution_count": 122,
     "metadata": {},
     "output_type": "execute_result"
    }
   ],
   "source": [
    "marks_series"
   ]
  },
  {
   "cell_type": "code",
   "execution_count": 123,
   "id": "c3fc32ac-698a-4c62-90e8-c607dbadf0a1",
   "metadata": {},
   "outputs": [
    {
     "data": {
      "text/plain": [
       "0    32\n",
       "1    45\n",
       "2    56\n",
       "3    76\n",
       "4     8\n",
       "5     9\n",
       "dtype: int64"
      ]
     },
     "execution_count": 123,
     "metadata": {},
     "output_type": "execute_result"
    }
   ],
   "source": [
    "#slicing\n",
    "runs_series"
   ]
  },
  {
   "cell_type": "code",
   "execution_count": 125,
   "id": "83b77bdc-575e-4fc3-aae1-2f1349f35ab5",
   "metadata": {},
   "outputs": [],
   "source": [
    "runs_series[2:4] =[100,100]"
   ]
  },
  {
   "cell_type": "code",
   "execution_count": 126,
   "id": "5c87bdba-4cf8-441e-bc76-93ab369cb48e",
   "metadata": {},
   "outputs": [
    {
     "data": {
      "text/plain": [
       "0     32\n",
       "1     45\n",
       "2    100\n",
       "3    100\n",
       "4      8\n",
       "5      9\n",
       "dtype: int64"
      ]
     },
     "execution_count": 126,
     "metadata": {},
     "output_type": "execute_result"
    }
   ],
   "source": [
    "runs_series"
   ]
  },
  {
   "cell_type": "code",
   "execution_count": 127,
   "id": "88b6ce99-3d4b-490b-a438-23b0cefc25e9",
   "metadata": {},
   "outputs": [],
   "source": [
    "#fancy indexing\n",
    "runs_series[[0,3,4]]=[0,0,0]"
   ]
  },
  {
   "cell_type": "code",
   "execution_count": 128,
   "id": "3f7130fc-2d56-4faf-82cd-60a8ca21126b",
   "metadata": {},
   "outputs": [
    {
     "data": {
      "text/plain": [
       "0      0\n",
       "1     45\n",
       "2    100\n",
       "3      0\n",
       "4      0\n",
       "5      9\n",
       "dtype: int64"
      ]
     },
     "execution_count": 128,
     "metadata": {},
     "output_type": "execute_result"
    }
   ],
   "source": [
    "runs_series"
   ]
  },
  {
   "cell_type": "code",
   "execution_count": 129,
   "id": "7b507e72-0641-44db-983a-196ae5ba5973",
   "metadata": {},
   "outputs": [
    {
     "data": {
      "text/plain": [
       "movie\n",
       "1920 (film)                   Rajniesh Duggall\n",
       "1920: London                     Sharman Joshi\n",
       "1920: The Evil Returns             Vicky Ahuja\n",
       "1971 (2007 film)                Manoj Bajpayee\n",
       "2 States (2014 film)              Arjun Kapoor\n",
       "                                   ...        \n",
       "Zindagi 50-50                      Veena Malik\n",
       "Zindagi Na Milegi Dobara        Hrithik Roshan\n",
       "Zindagi Tere Naam           Mithun Chakraborty\n",
       "Zokkomon                       Darsheel Safary\n",
       "Zor Lagaa Ke...Haiya!            Meghan Jadhav\n",
       "Name: lead, Length: 1500, dtype: object"
      ]
     },
     "execution_count": 129,
     "metadata": {},
     "output_type": "execute_result"
    }
   ],
   "source": [
    "mvi"
   ]
  },
  {
   "cell_type": "code",
   "execution_count": 130,
   "id": "2a7a040d-77e8-487a-b6b1-ac45e6a604af",
   "metadata": {},
   "outputs": [],
   "source": [
    "mvi[\"1920 (film)\"] =\"Rajniesh\""
   ]
  },
  {
   "cell_type": "code",
   "execution_count": 131,
   "id": "f3d66bab-6613-41d8-b6b0-3fef155e87d9",
   "metadata": {},
   "outputs": [
    {
     "data": {
      "text/plain": [
       "movie\n",
       "1920 (film)                           Rajniesh\n",
       "1920: London                     Sharman Joshi\n",
       "1920: The Evil Returns             Vicky Ahuja\n",
       "1971 (2007 film)                Manoj Bajpayee\n",
       "2 States (2014 film)              Arjun Kapoor\n",
       "                                   ...        \n",
       "Zindagi 50-50                      Veena Malik\n",
       "Zindagi Na Milegi Dobara        Hrithik Roshan\n",
       "Zindagi Tere Naam           Mithun Chakraborty\n",
       "Zokkomon                       Darsheel Safary\n",
       "Zor Lagaa Ke...Haiya!            Meghan Jadhav\n",
       "Name: lead, Length: 1500, dtype: object"
      ]
     },
     "execution_count": 131,
     "metadata": {},
     "output_type": "execute_result"
    }
   ],
   "source": [
    "mvi"
   ]
  },
  {
   "cell_type": "markdown",
   "id": "8e8ec88a-bb71-4cf2-be2d-f4201e98e0ab",
   "metadata": {},
   "source": [
    "**Series with Python functionalities**"
   ]
  },
  {
   "cell_type": "code",
   "execution_count": 137,
   "id": "87329715-a73a-4a63-8453-381ca2e1cff6",
   "metadata": {},
   "outputs": [
    {
     "name": "stdout",
     "output_type": "stream",
     "text": [
      "365\n",
      "<class 'pandas.core.series.Series'>\n",
      "396\n",
      "33\n"
     ]
    }
   ],
   "source": [
    "#len/type/dir/sorted/max/min\n",
    "print(len(subs))\n",
    "print(type(subs))\n",
    "# print(dir(subs))\n",
    "# print(sorted(subs))\n",
    "print(max(subs))\n",
    "print(min(subs))"
   ]
  },
  {
   "cell_type": "code",
   "execution_count": 138,
   "id": "0db740bd-a336-4f04-a446-4e7553a7fccb",
   "metadata": {},
   "outputs": [
    {
     "data": {
      "text/plain": [
       "maths       98\n",
       "eng        100\n",
       "tel        100\n",
       "Science     89\n",
       "sst         90\n",
       "Name: Ram's MArks, dtype: int64"
      ]
     },
     "execution_count": 138,
     "metadata": {},
     "output_type": "execute_result"
    }
   ],
   "source": [
    "#type conversion\n",
    "marks_series"
   ]
  },
  {
   "cell_type": "code",
   "execution_count": 139,
   "id": "aac7c7b1-3871-4bde-97f3-ced9e3410b17",
   "metadata": {},
   "outputs": [
    {
     "data": {
      "text/plain": [
       "[98, 100, 100, 89, 90]"
      ]
     },
     "execution_count": 139,
     "metadata": {},
     "output_type": "execute_result"
    }
   ],
   "source": [
    "list(marks_series)"
   ]
  },
  {
   "cell_type": "code",
   "execution_count": 140,
   "id": "dfcffad1-a0b6-40cd-b1e9-ecf7e0058c8e",
   "metadata": {},
   "outputs": [
    {
     "data": {
      "text/plain": [
       "{'maths': 98, 'eng': 100, 'tel': 100, 'Science': 89, 'sst': 90}"
      ]
     },
     "execution_count": 140,
     "metadata": {},
     "output_type": "execute_result"
    }
   ],
   "source": [
    "dict(marks_series)"
   ]
  },
  {
   "cell_type": "code",
   "execution_count": 142,
   "id": "d4573b8d-cf38-4cc4-ade5-359fb54dc078",
   "metadata": {},
   "outputs": [
    {
     "data": {
      "text/plain": [
       "True"
      ]
     },
     "execution_count": 142,
     "metadata": {},
     "output_type": "execute_result"
    }
   ],
   "source": [
    "#membership operator\n",
    "mvi\n",
    "\"Zindagi 50-50\" in mvi"
   ]
  },
  {
   "cell_type": "code",
   "execution_count": 145,
   "id": "d16bf697-75ec-4f8e-a6ea-97712b8912fa",
   "metadata": {},
   "outputs": [
    {
     "data": {
      "text/plain": [
       "False"
      ]
     },
     "execution_count": 145,
     "metadata": {},
     "output_type": "execute_result"
    }
   ],
   "source": [
    "mvi #in operator doesn't work with values\n",
    "\"Rajniesh\" in mvi"
   ]
  },
  {
   "cell_type": "code",
   "execution_count": 146,
   "id": "86472989-ee51-44b9-9f65-e87e08b2d054",
   "metadata": {
    "scrolled": true
   },
   "outputs": [
    {
     "name": "stdout",
     "output_type": "stream",
     "text": [
      "Rajniesh\n",
      "Sharman Joshi\n",
      "Vicky Ahuja\n",
      "Manoj Bajpayee\n",
      "Arjun Kapoor\n",
      "Barun Sobti\n",
      "Salil Acharya\n",
      "Naseeruddin Shah\n",
      "Aamir Khan\n",
      "Aisha Ahmed\n",
      "Soha Ali Khan\n",
      "Akshaye Khanna\n",
      "Neil Nitin Mukesh\n",
      "Sara Arjun\n",
      "Nargis Fakhri\n",
      "Mouli Ganguly\n",
      "Vipin Sharma\n",
      "Priyanka Chopra\n",
      "Juhi Chawla\n",
      "Atul Kulkarni\n",
      "Kunal Khemu\n",
      "Shawar Ali\n",
      "Kiran Bhatia\n",
      "Shabana Azmi\n",
      "Jimmy Sheirgill\n",
      "Tiger Shroff\n",
      "Sidharth Malhotra\n",
      "Prabhu Deva\n",
      "Neil Nitin Mukesh\n",
      "Govinda\n",
      "Naveen Bawa\n",
      "Amitabh Bachchan\n",
      "Shreyas Talpade\n",
      "Sudesh Berry\n",
      "Madhuri Dixit\n",
      "Paul Sidhu\n",
      "Ajay Devgn\n",
      "Omkar Das Manikpuri\n",
      "Shatrughan Sinha\n",
      "Arun Bakshi\n",
      "Amitabh Bachchan\n",
      "Himesh Reshammiya\n",
      "Akshaye Khanna\n",
      "Priyanshu Chatterjee\n",
      "Amitabh Bachchan\n",
      "John Abraham\n",
      "Emraan Hashmi\n",
      "Aditya Roy Kapoor\n",
      "Ishaan Manhaas\n",
      "Hrishitaa Bhatt\n",
      "Sachiin Joshi\n",
      "Nana Patekar\n",
      "Amitabh Bachchan\n",
      "Farooq Shaikh\n",
      "Fardeen Khan\n",
      "Prabhas\n",
      "Akshay Kumar\n",
      "Rahul Dev\n",
      "Ranbir Kapoor\n",
      "Amitabh Bachchan\n",
      "Kareena Kapoor\n",
      "Tusshar Kapoor\n",
      "Hrithik Roshan\n",
      "Jimmy Sheirgill\n",
      "Abhay Deol\n",
      "Akshay Kumar\n",
      "Rati Agnihotri\n",
      "Yashpal Sharma\n",
      "Akshay Kumar\n",
      "Sidharth Malhotra\n",
      "Rani Mukerji\n",
      "Jackky Bhagnani\n",
      "Ranbir Kapoor\n",
      "Sushama Deshpande\n",
      "Kartik Aaryan\n",
      "Emraan Hashmi\n",
      "Zareen Khan\n",
      "Amitabh Bachchan\n",
      "Akshay Kapoor\n",
      "Manav Kaul\n",
      "Sukhesh Arora\n",
      "Rishi Kapoor\n",
      "Sanjay Dutt\n",
      "Varun Bhagwat\n",
      "Bipasha Basu\n",
      "Aftab Shivdasani\n",
      "Lillete Dubey\n",
      "Ali Asgar\n",
      "Vir Das\n",
      "Pankaj Tripathi\n",
      "Dino Morea\n",
      "Akshay Kumar\n",
      "Akshay Kumar\n",
      "Ayushmann Khurrana\n",
      "Sumit Arora\n",
      "Priyanka Chopra\n",
      "Manisha Koirala\n",
      "Aftab Shivdasani\n",
      "Sanjay Mishra\n",
      "Kay Kay Menon\n",
      "Shashank Udapurkar\n",
      "Raj Singh Chaudhary\n",
      "Sanjay Dutt\n",
      "Sachin Khedekar\n",
      "Nauheed Cyrusi\n",
      "Ajay Devgn\n",
      "Rohit Roy\n",
      "Irrfan Khan\n",
      "Bobby Darling\n",
      "Dharmendra\n",
      "Diljit Dosanjh\n",
      "Yudhveer Bakoliya\n",
      "Amitabh Bachchan\n",
      "Ayushmann Khurrana\n",
      "Sohail Khan\n",
      "Arjun Rampal\n",
      "Asrani\n",
      "Krishna Abhishek\n",
      "Arjun Kapoor\n",
      "Prakash Belawadi\n",
      "Akshay Kumar\n",
      "Emraan Hashmi\n",
      "Emraan Hashmi\n",
      "Shadab Kamal\n",
      "Mithun Chakraborty\n",
      "Amitabh Bachchan\n",
      "Shraddha Kapoor\n",
      "Tiger Shroff\n",
      "Sidharth Malhotra\n",
      "Anisa Butt\n",
      "Jackie Shroff\n",
      "Radhika Apte\n",
      "Sahil Anand\n",
      "Sudha Chandran\n",
      "Nawazuddin Siddiqui\n",
      "Akshay Kumar\n",
      "Manoj Babani\n",
      "Rekha\n",
      "Ranbir Kapoor\n",
      "Ayushmann Khurrana\n",
      "Amitabh Bachchan\n",
      "Varun Dhawan\n",
      "Annu Kapoor\n",
      "Sidhant Gupta\n",
      "Varun Dhawan\n",
      "Amitabh Bachchan\n",
      "Tusshar Kapoor\n",
      "Ranveer Singh\n",
      "Salman Khan\n",
      "Ayushmann Khurrana\n",
      "Asrani\n",
      "Urmila Matondkar\n",
      "Ranveer Singh\n",
      "Manisha Kelkar\n",
      "Hrithik Roshan\n",
      "Jacqueline Fernandez\n",
      "Riteish Deshmukh\n",
      "Riteish Deshmukh\n",
      "Naseeruddin Shah\n",
      "Bobby Deol\n",
      "Ayushmann Khurrana\n",
      "Ranbir Kapoor\n",
      "Sara Loren\n",
      "Bobby Deol\n",
      "Juhi Chawla\n",
      "Sadashiv Amrapurkar\n",
      "John Abraham\n",
      "Vicky Ahuja\n",
      "Shahid Kapoor\n",
      "Reshmi Ghosh\n",
      "Amitabh Bachchan\n",
      "Vaani Kapoor\n",
      "Amitabh Bachchan\n",
      "Rajkummar Rao\n",
      "Sunny Leone\n",
      "Naseeruddin Shah\n",
      "Anil Kapoor\n",
      "Ayushmann Khurrana\n",
      "Ishaan Khattar\n",
      "Mugdha Godse\n",
      "Kunal Khemu\n",
      "Farhan Akhtar\n",
      "Akshay Kumar\n",
      "Tabu\n",
      "Sunny Deol\n",
      "Shaurya Singh\n",
      "Harshvardhan Kapoor\n",
      "Vinay Pathak\n",
      "Vinay Pathak\n",
      "Ali Asgar\n",
      "Akshay Kumar\n",
      "Sunny Leone\n",
      "Ajay Devgn\n",
      "J.D. Chakravarthi\n",
      "Jackie Shroff\n",
      "Amitabh Bachchan\n",
      "Amitabh Bachchan\n",
      "Mischa Barton\n",
      "Dino Morea\n",
      "Sunny Deol\n",
      "Irrfan Khan\n",
      "Naushaad Abbas\n",
      "Danny Denzongpa\n",
      "Pulkit Samrat\n",
      "Amitabh Bachchan\n",
      "Kay Kay Menon\n",
      "Ajay Devgn\n",
      "Jazzy Doe\n",
      "Manish Chaudhary\n",
      "Akash\n",
      "Akshay Kumar\n",
      "Abhishek Bachchan\n",
      "Vidya Balan\n",
      "Salman Khan\n",
      "Amitabh Bachchan\n",
      "Raima Sen\n",
      "Radhika Apte\n",
      "Rani Mukerji\n",
      "Ranbir Kapoor\n",
      "Shreyas Talpade\n",
      "Sunil Pal\n",
      "Amitabh Bachchan\n",
      "Sanjay Dutt\n",
      "Akshay Kumar\n",
      "Shashank Arora\n",
      "Deepika Padukone\n",
      "Vinay Virmani\n",
      "Arjun Mathur\n",
      "Akshay Kumar\n",
      "Apoorva Arora\n",
      "Mona Ambegaonkar\n",
      "Aanchal Dwivedi\n",
      "Saayli Buva\n",
      "Saif Ali Khan\n",
      "Kavin Dave\n",
      "Atul Kulkarni\n",
      "Seema Azmi\n",
      "Abhishek Bachchan\n",
      "Neil Nitin Mukesh\n",
      "Tusshar Kapoor\n",
      "Hemant Gopal\n",
      "Anil Kapoor\n",
      "Akanksha Puri\n",
      "Ajay Devgn\n",
      "Aryan Vaid\n",
      "Naseeruddin Shah\n",
      "Tusshar Kapoor\n",
      "Soha Ali Khan\n",
      "Shah Rukh Khan\n",
      "Arjun Rampal\n",
      "Asrani\n",
      "Sagar Bhangade\n",
      "Richa Chadha\n",
      "Vickrant Mahajan\n",
      "Vinay Pathak\n",
      "Shah Rukh Khan\n",
      "Kareena Kapoor\n",
      "Bobby Deol\n",
      "Shahid Kapoor\n",
      "Somesh Agarwal\n",
      "Samir Aftab\n",
      "Mithun Chakraborty\n",
      "Jimmy Sheirgill\n",
      "Dev Anand\n",
      "Anuj Saxena\n",
      "Ali Zafar\n",
      "Sanjay Dutt\n",
      "Amitabh Bachchan\n",
      "Saif Ali Khan\n",
      "Bipasha Basu\n",
      "Deepika Padukone\n",
      "Jatin Grewal\n",
      "Jimmy Sheirgill\n",
      "Rupa Bhimani\n",
      "Natalia Janoszek\n",
      "Mohammad Amir Naji\n",
      "Farooq Shaikh\n",
      "Aarav Khanna\n",
      "Parveen Kaur\n",
      "Sushmita Sen\n",
      "Rishi Kapoor\n",
      "Manoj Bajpayee\n",
      "Anil Kapoor\n",
      "Deepak Dobriyal\n",
      "Ajay Devgn\n",
      "Kareena Kapoor\n",
      "Zayed Khan\n",
      "Ashok Banthia\n",
      "Sachin Khedekar\n",
      "Rajkummar Rao\n",
      "Mithun Chakraborty\n",
      "Shreyas Talpade\n",
      "Saif Ali Khan\n",
      "Arjun Mathur\n",
      "Sunil Grover\n",
      "Vidyut Jammwal\n",
      "Vidyut Jammwal\n",
      "Ajay Devgn\n",
      "Adhvik Mahajan\n",
      "Bipasha Basu\n",
      "Vira Sathidar\n",
      "Swanand Kirkire\n",
      "Bipasha Basu\n",
      "Emraan Hashmi\n",
      "Randeep Hooda\n",
      "Rishi Kapoor\n",
      "Yogesh Raj Mishra\n",
      "Aditya Roy Kapoor\n",
      "Salman Khan\n",
      "Salman Khan\n",
      "Salman Khan\n",
      "Arjun Rampal\n",
      "Sunil Shetty\n",
      "Himesh Reshammiya\n",
      "Aamir Khan\n",
      "Karisma Kapoor\n",
      "Fardeen Khan\n",
      "Sameera Reddy\n",
      "Amitabh Bachchan\n",
      "Jimmy Sheirgill\n",
      "Ishrat Ali\n",
      "Neil Nitin Mukesh\n",
      "Vinay Pathak\n",
      "Yash Soni\n",
      "Akshay Kumar\n",
      "Ajay Devgn\n",
      "Aftab Shivdasani\n",
      "Rajit Kapoor\n",
      "Arvind Swamy\n",
      "Raghuvir Yadav\n",
      "Manisha Koirala\n",
      "Alia Bhatt\n",
      "Madhuri Dixit\n",
      "Amitabh Bachchan\n",
      "Akshay Kumar\n",
      "Adhyayan Suman\n",
      "Satish Kaushik\n",
      "Imran Khan\n",
      "Cary Elwes\n",
      "Waheeda Rehman\n",
      "Sanjay Dutt\n",
      "Kamal Rashid Khan\n",
      "Akshay Kumar\n",
      "Sasha Aagha\n",
      "Sushant Singh Rajput\n",
      "Amitabh Bachchan\n",
      "Ram Kapoor\n",
      "Shah Rukh Khan\n",
      "RJ Balaji\n",
      "Ishaan Khattar\n",
      "Sanjay Dutt\n",
      "Krrish Chhabria\n",
      "Naseeruddin Shah\n",
      "Pankaj Kapur\n",
      "Ajay Devgn\n",
      "Prateik\n",
      "Muzamil Ibrahim\n",
      "Sharman Joshi\n",
      "Abhishek Bachchan\n",
      "Hrithik Roshan\n",
      "Aamir Khan\n",
      "Paresh Rawal\n",
      "Om Puri\n",
      "Amar Upadhyaya\n",
      "Sushant Singh Rajput\n",
      "Vikaas Kalantari\n",
      "Shahid Kapoor\n",
      "Anil Kapoor\n",
      "Emraan Hashmi\n",
      "Imaaduddin Shah\n",
      "Amitabh Bachchan\n",
      "Himansh Kohli\n",
      "Taapsee Pannu\n",
      "Arjun Rampal\n",
      "Irrfan Khan\n",
      "Shahid Kapoor\n",
      "Salman Khan\n",
      "Kapil Jhaveri\n",
      "Ajay Devgn\n",
      "Zeenat Aman\n",
      "Ira Dubey\n",
      "Shah Rukh Khan\n",
      "Rajniesh Duggall\n",
      "Anupam Kher\n",
      "Harman Baweja\n",
      "John Abraham\n",
      "Rishi Kapoor\n",
      "Kajal Aggarwal\n",
      "Adil Hussain\n",
      "Jackie Shroff\n",
      "Malaika Arora\n",
      "Shah Rukh Khan\n",
      "Shah Rukh Khan\n",
      "Mithun Chakraborty\n",
      "Rishi Kapoor\n",
      "Ronit Roy\n",
      "Ayesha Takia\n",
      "Abhishek Bachchan\n",
      "Akshay Kumar\n",
      "Ayesha Jhulka\n",
      "Sanjay Dutt\n",
      "Ayushmann Khurrana\n",
      "Aseel Adel\n",
      "Ajay Devgn\n",
      "Jayshree Arora\n",
      "Diwakar Pathak\n",
      "Sushmita Sen\n",
      "Vivek Oberoi\n",
      "Ayushmann Khurrana\n",
      "Abhishek Bachchan\n",
      "Zeenat Aman\n",
      "Sanjay Dutt\n",
      "Arbaaz Khan\n",
      "Raj Tara\n",
      "Amitabh Bachchan\n",
      "Nandita Das\n",
      "Sanjay Dutt\n",
      "Abhay Deol\n",
      "Rahul Bose\n",
      "Shiv Darshan\n",
      "Saif Ali Khan\n",
      "Jimmy Sharma\n",
      "Fardeen Khan\n",
      "Kareena Kapoor\n",
      "Sunny Leone\n",
      "Sunil Shetty\n",
      "Anita\n",
      "Bhushan Agarwal\n",
      "Salman Khan\n",
      "Emraan Hashmi\n",
      "Hema Malini\n",
      "Sidharth Malhotra\n",
      "Isha Koppikar\n",
      "Bobby Deol\n",
      "Prateik\n",
      "Anupam Kher\n",
      "Amitabh Bachchan\n",
      "Arjun Rampal\n",
      "Sunil Shetty\n",
      "Sridevi\n",
      "Akshay Kumar\n",
      "Manisha Koirala\n",
      "Mona Ambegaonkar\n",
      "Arshad Warsi\n",
      "Amitabh Bachchan\n",
      "Jimmy Sheirgill\n",
      "Arjun Rampal\n",
      "Shah Rukh Khan\n",
      "Aamir Khan\n",
      "Shilpa Shetty Kundra\n",
      "Priyanka Chopra\n",
      "Gul Panag\n",
      "Sharman Joshi\n",
      "Rajeev Khandelwal\n",
      "Kareena Kapoor\n",
      "Sunil Shetty\n",
      "Sharib Hashmi\n",
      "Deepika Padukone\n",
      "Inaamulhaq\n",
      "Kapil Sharma\n",
      "Aditya Roy Kapoor\n",
      "Jayesh Raj\n",
      "Reef Karim\n",
      "Shahid Kapoor\n",
      "Aftab Shivdasani\n",
      "John Abraham\n",
      "John Abraham\n",
      "Arjun Rampal\n",
      "Arshad Warsi\n",
      "Nawazuddin Siddiqui\n",
      "Avinash Dhyani\n",
      "Bidita Bag\n",
      "Atmaram Bhende\n",
      "Govinda\n",
      "Shubham\n",
      "Jimmy Sheirgill\n",
      "Pulkit Samrat\n",
      "Pulkit Samrat\n",
      "Siddharth Koirala\n",
      "Rushali Arora\n",
      "Rajveer Ankur Singh\n",
      "Akshay Kumar\n",
      "Akshay Kumar\n",
      "Manoj Bajpayee\n",
      "Abhishek Bachchan\n",
      "Akshaye Khanna\n",
      "Sharman Joshi\n",
      "Ajay Devgn\n",
      "Sarita Joshi\n",
      "Manoj Bajpayee\n",
      "Manoj Bajpayee\n",
      "Kangana Ranaut\n",
      "Akshay Kumar\n",
      "Salman Khan\n",
      "Naresh Sharma\n",
      "Mohan Azaad\n",
      "Tusshar Kapoor\n",
      "Utkarsh Sharma\n",
      "Aamir Khan\n",
      "Vidya Balan\n",
      "Sunny Deol\n",
      "Shiney Ahuja\n",
      "Sanaya Irani\n",
      "Riya Vij\n",
      "Isha Koppikar\n",
      "Pankaj Tripathi\n",
      "Gautam Gupta\n",
      "Saif Ali Khan\n",
      "John Abraham\n",
      "Amitabh Bachchan\n",
      "Akshay Kumar\n",
      "Ranveer Singh\n",
      "Dimple Kapadia\n",
      "Ajay Devgn\n",
      "Ajay Devgn\n",
      "Ajay Devgn\n",
      "Deepika Amin\n",
      "Tusshar Kapoor\n",
      "Akshay Kumar\n",
      "Imran Khan\n",
      "Vinay Pathak\n",
      "Vivek Oberoi\n",
      "Urvashi Rautela\n",
      "Vikram Dasu\n",
      "Kunal Khemu\n",
      "Arshad Warsi\n",
      "Kartik Aaryan\n",
      "Madhuri Dixit\n",
      "Kay Kay Menon\n",
      "Sampat Pal Devi\n",
      "Ranveer Singh\n",
      "Dino Morea\n",
      "Ranveer Singh\n",
      "Mithun Chakraborty\n",
      "Hrithik Roshan\n",
      "Amita Pathak\n",
      "Jimmy Sheirgill\n",
      "Sahil Anand\n",
      "Tabu\n",
      "Shraddha Kapoor\n",
      "Paoli Dam\n",
      "Ajay Devgn\n",
      "Rajkummar Rao\n",
      "Talha Arshad Reshi\n",
      "Mukesh Khanna\n",
      "Diana Penty\n",
      "Saif Ali Khan\n",
      "Anay\n",
      "Shah Rukh Khan\n",
      "Sonakshi Sinha\n",
      "Nawazuddin Siddiqui\n",
      "Jackie Shroff\n",
      "Sidharth Malhotra\n",
      "Shraddha Kapoor\n",
      "Jimmy Sheirgill\n",
      "Nikhil Dwivedi\n",
      "Jay Bhanushali\n",
      "Lee Byford\n",
      "Nana Patekar\n",
      "Akshay Kumar\n",
      "Mimoh Chakraborty\n",
      "Aniket Vishwasrao\n",
      "Tabu\n",
      "Makrand Deshpande\n",
      "Naman Jain\n",
      "Shawar Ali\n",
      "Babbu Mann\n",
      "Kay Kay Menon\n",
      "Adhyayan Suman\n",
      "Kajol\n",
      "Sharman Joshi\n",
      "Gul Panag\n",
      "Bobby Deol\n",
      "Suraj Pancholi\n",
      "Sohail Khan\n",
      "Kareena Kapoor\n",
      "Tiger Shroff\n",
      "Ganesh Acharya\n",
      "Juanna Sanghvi\n",
      "Rani Mukerji\n",
      "Sumeet Vyas\n",
      "Alia Bhatt\n",
      "Ajay Devgn\n",
      "Gurmeet Ram Rahim Singh\n",
      "Irrfan Khan\n",
      "Mallika Sherawat\n",
      "Onjolee Nair\n",
      "Akshay Kumar\n",
      "Vivek Oberoi\n",
      "Ranvir Shorey\n",
      "Zara Sheikh\n",
      "Naseeruddin Shah\n",
      "Karan Kundrra\n",
      "Vatsal Sheth\n",
      "Adil Hussain\n",
      "Akshay Kumar\n",
      "Akshay Kumar\n",
      "Akshay Kumar\n",
      "Akshaye Khanna\n",
      "Prit Kamani\n",
      "Anupam Kher\n",
      "Saif Ali Khan\n",
      "Arshad Warsi\n",
      "Tusshar Kapoor\n",
      "Shah Rukh Khan\n",
      "Karanvir Bohra\n",
      "Akshay Kumar\n",
      "Arjun Rampal\n",
      "Omkar Bhatkar\n",
      "Varun Dhawan\n",
      "Saif Ali Khan\n",
      "Akshaye Khanna\n",
      "Gulshan Devaiah\n",
      "Tisca Chopra\n",
      "Juhi Chawla\n",
      "Gulshan Grover\n",
      "Imran Khan\n",
      "Shakti Anand\n",
      "Sunny Deol\n",
      "Sohail Khan\n",
      "Arjun Rampal\n",
      "Vivek Sudershan\n",
      "Arjun Kapoor\n",
      "Jaz Pandher\n",
      "Kirti Kulhari\n",
      "Arjun Rampal\n",
      "Dino Morea\n",
      "Akshay Kumar\n",
      "Ashmit Patel\n",
      "Manoj Bajpayee\n",
      "Shreyas Talpade\n",
      "Amarjeet\n",
      "Naseeruddin Shah\n",
      "Madhavan\n",
      "Arjun Kapoor\n",
      "Preity Zinta\n",
      "Sara Loren\n",
      "Krishna Chaturvedi\n",
      "Dino Morea\n",
      "Rishi Verma\n",
      "Shahid Kapoor\n",
      "Mimoh Chakraborty\n",
      "Manish Anand\n",
      "Vidya Balan\n",
      "Akshay Oberoi\n",
      "Vinay Pathak\n",
      "Prateik\n",
      "Sanjeev Bhaskar\n",
      "Rina Charaniya\n",
      "Sunny Deol\n",
      "Salman Khan\n",
      "Aftab Shivdasani\n",
      "Priyanka Chopra\n",
      "Akshay Anand\n",
      "Shah Rukh Khan\n",
      "Shah Rukh Khan\n",
      "Shahid Kapoor\n",
      "Sidharth Malhotra\n",
      "Amit Sadh\n",
      "Naseeruddin Shah\n",
      "Ranbir Kapoor\n",
      "Govinda\n",
      "Chiranjeevi\n",
      "Priyanka Chopra\n",
      "Salman Khan\n",
      "Rati Agnihotri\n",
      "Fardeen Khan\n",
      "Manoj Bajpayee\n",
      "Javed Jaffrey\n",
      "Purab Kohli\n",
      "Rhea Chakraborty\n",
      "Harish Chabbra\n",
      "Mohit Ahlawat\n",
      "Feroz Khan\n",
      "Emraan Hashmi\n",
      "Amardeep Insan\n",
      "Emraan Hashmi\n",
      "Vivek Oberoi\n",
      "Aishwarya Rai Bachchan\n",
      "Ravi Kishan\n",
      "Arbaaz Khan\n",
      "Boman Irani\n",
      "Sanjay Suri\n",
      "Abhishek Bachchan\n",
      "John Abraham\n",
      "Rishi Kapoor\n",
      "Richa Chadha\n",
      "Harshvardhan Deo\n",
      "Nassar Abdulla\n",
      "Mimoh Chakraborty\n",
      "Bipasha Basu\n",
      "Sunny Deol\n",
      "Sunny Gill\n",
      "Hrithik Roshan\n",
      "Bipasha Basu\n",
      "Victor Banerjee\n",
      "Naseeruddin Shah\n",
      "Dharmendra\n",
      "Akshay Kumar\n",
      "Arshad Warsi\n",
      "Kangana Ranaut\n",
      "Varun Dhawan\n",
      "Sadhana Singh\n",
      "Neha Dhupia\n",
      "Nishikant Kamat\n",
      "Vidyut Jammwal\n",
      "Pulkit Samrat\n",
      "Kamal Adib\n",
      "Fardeen Khan\n",
      "Hrithik Roshan\n",
      "Vinay Pathak\n",
      "Ajay Devgn\n",
      "Saif Ali Khan\n",
      "Aditya Srivastava\n",
      "Kartik Aaryan\n",
      "Amitabh Bachchan\n",
      "Aishwarya Devan\n",
      "Amitabh Bachchan\n",
      "Shahid Kapoor\n",
      "John Abraham\n",
      "Sanjay Mishra\n",
      "Om Puri\n",
      "Vidya Balan\n",
      "Eesha Agarwal\n",
      "Rajkummar Rao\n",
      "Amit Hingorani\n",
      "Shah Rukh Khan\n",
      "Varun Dhawan\n",
      "Kunal Khemu\n",
      "Shahid Kapoor\n",
      "Sidharth Malhotra\n",
      "John Abraham\n",
      "Mahek Chahal\n",
      "Shiv Darshan\n",
      "Rati Agnihotri\n",
      "Siddhartha Gupta\n",
      "Irrfan Khan\n",
      "Himesh Reshammiya\n",
      "Lucky Ali\n",
      "Juhi Babbar\n",
      "Suhaas Ahuja\n",
      "Raqesh Bapat\n",
      "Kunal Kapoor\n",
      "Shahbaaz Khan\n",
      "Akshay Kumar\n",
      "Vinay Pathak\n",
      "Amitabh Bachchan\n",
      "Kiron Kher\n",
      "Shilpa Shetty Kundra\n",
      "Prabhu Deva\n",
      "Gurmeet Choudhary\n",
      "Rahul Jaiswal\n",
      "Akshay Kumar\n",
      "Hazel Croney\n",
      "Sunny Deol\n",
      "Supriya Pathak\n",
      "Sonam Kapoor\n",
      "Anupam Kher\n",
      "Shiney Ahuja\n",
      "Sunny Deol\n",
      "Fardeen Khan\n",
      "Simer Motiani\n",
      "Himanshu Malik\n",
      "Amitabh Bachchan\n",
      "Salman Khan\n",
      "Ranveer Singh\n",
      "Mallika Sherawat\n",
      "Kapil Sharma\n",
      "Jackie Shroff\n",
      "Bobby Deol\n",
      "Shahid Kapoor\n",
      "Vivek Oberoi\n",
      "Vivek Oberoi\n",
      "Arshad Warsi\n",
      "Hrithik Roshan\n",
      "Sanjay Dutt\n",
      "Aftab Shivdasani\n",
      "Dia Mirza\n",
      "Rekha\n",
      "Kannan Arunachalam\n",
      "Juhi Chawla\n",
      "Manoj Bajpayee\n",
      "Sohail Khan\n",
      "Rekha\n",
      "Shefali Shah\n",
      "Tusshar Kapoor\n",
      "Ram Kapoor\n",
      "Aishwarya Rai Bachchan\n",
      "Geetanjali Thapa\n",
      "Arshad Warsi\n",
      "Rekha\n",
      "Siddharth Gupta\n",
      "Lewis Tan\n",
      "Rajpal Yadav\n",
      "Vijay Raaz\n",
      "Tusshar Kapoor\n",
      "Tusshar Kapoor\n",
      "Tusshar Kapoor\n",
      "Riteish Deshmukh\n",
      "Salman Khan\n",
      "Amitabh Bachchan\n",
      "Sanjay Dutt\n",
      "Rani Mukerji\n",
      "Randeep Hooda\n",
      "Ranveer Singh\n",
      "Neil Nitin Mukesh\n",
      "Sanjay Dutt\n",
      "Farooq Shaikh\n",
      "Avinash Tiwary\n",
      "Sunny Deol\n",
      "Monali Thakur\n",
      "Hrithik Roshan\n",
      "Sanjay Dutt\n",
      "Armaan Jain\n",
      "Rituparna Sengupta\n",
      "Manoj Amarnani\n",
      "Kay Kay Menon\n",
      "Aftab Shivdasani\n",
      "Govinda\n",
      "Dharmendra\n",
      "Aahana Kumra\n",
      "Farooq Shaikh\n",
      "John Abraham\n",
      "Himanshu Bhatt\n",
      "Shabana Azmi\n",
      "Salman Khan\n",
      "Ranveer Singh\n",
      "Saif Ali Khan\n",
      "Zayed Khan\n",
      "Patralekhaa Paul\n",
      "Rishi Kapoor\n",
      "Nushrat Bharucha\n",
      "Anuj Sachdeva\n",
      "Abhishek Bharate\n",
      "Harman Baweja\n",
      "Tusshar Kapoor\n",
      "Joy Mukherjee\n",
      "Vicky Kaushal\n",
      "Girish Taurani\n",
      "Mithun Chakraborty\n",
      "Farhan Akhtar\n",
      "Adhyayan Suman\n",
      "Farhan Akhtar\n",
      "Arvinder Bhatti\n",
      "Salman Khan\n",
      "V. Ravichandran\n",
      "Tanuj Virwani\n",
      "Tom Alter\n",
      "Sushant Singh Rajput\n",
      "Menekka Arora\n",
      "Charanpreet Insan\n",
      "Gurmeet Ram Rahim Singh\n",
      "Ashok Insan\n",
      "Mallika Sherawat\n",
      "Raveena Tandon\n",
      "Sumit Nijhawan\n",
      "Swara Bhaskar\n",
      "Kiara Advani\n",
      "Saahil Prem\n",
      "Irrfan Khan\n",
      "Rajkummar Rao\n",
      "Bipasha Basu\n",
      "John Abraham\n",
      "Sooraj Balaji\n",
      "Asha Bhosle\n",
      "Ajay Devgn\n",
      "Barun Sobti\n",
      "Salman Khan\n",
      "Shah Rukh Khan\n",
      "Smitha Gondkar\n",
      "Juhi Chawla\n",
      "Antara Mali\n",
      "Rajpal Yadav\n",
      "Hrithik Roshan\n",
      "Varun Dhawan\n",
      "Anupam Kher\n",
      "Salman Khan\n",
      "Paresh Rawal\n",
      "Akanksha\n",
      "Aamir Khan\n",
      "Kangana Ranaut\n",
      "Nawazuddin Siddiqui\n",
      "Anjori Alagh\n",
      "Taapsee Pannu\n",
      "Abhay Deol\n",
      "Nawazuddin Siddiqui\n",
      "Rajat Kapoor\n",
      "Irrfan Khan\n",
      "Abhimanyu Dasani\n",
      "Rani Mukerji\n",
      "Rani Mukerji\n",
      "Kalki Koechlin\n",
      "Salman Khan\n",
      "Riteish Deshmukh\n",
      "Manisha Koirala\n",
      "Archana Joglekar\n",
      "Priyanka Chopra\n",
      "Richa Chadha\n",
      "Aftab Shivdasani\n",
      "Tusshar Kapoor\n",
      "Rahul Bagga\n",
      "Imran Khan\n",
      "Tulip Joshi\n",
      "Shahid Kapoor\n",
      "Sonu Sood\n",
      "Tabu\n",
      "Anupam Kher\n",
      "Jaideep Ahlawat\n",
      "Puru Chibber\n",
      "Deepti Naval\n",
      "Prabhu Deva\n",
      "Paresh Rawal\n",
      "Imran Khan\n",
      "Saqib Saleem\n",
      "Sunil Shetty\n",
      "Yash Acharya\n",
      "Akshay Kumar\n",
      "Rasika Agashe\n",
      "Akshay Kumar\n",
      "Ayushmann Khurrana\n",
      "Manish Paul\n",
      "Kareena Kapoor\n",
      "Chirag Paswan\n",
      "Arunoday Singh\n",
      "Harshvardhan Kapoor\n",
      "Rahul Bagga\n",
      "Manoj Bajpayee\n",
      "Vivek Oberoi\n",
      "Akshay Kumar\n",
      "Jackky Bhagnani\n",
      "Hazel Croney\n",
      "Neha Dhupia\n",
      "Sunny Deol\n",
      "Hrithik Roshan\n",
      "Sridevi\n",
      "Govinda\n",
      "Ashutosh Rana\n",
      "Vijay Varma\n",
      "Shabana Azmi\n",
      "Nawazuddin Siddiqui\n",
      "Saurav Chakraborty\n",
      "Dev Anand\n",
      "Anupam Kher\n",
      "Prashant Narayanan\n",
      "Emraan Hashmi\n",
      "Anil Kapoor\n",
      "Prithviraj Kapoor\n",
      "Saqib Saleem\n",
      "Salman Khan\n",
      "Sammir Dattani\n",
      "Viineet Kumar\n",
      "Taapsee Pannu\n",
      "Karanvir Bohra\n",
      "Shakti Kapoor\n",
      "Shiv Panditt\n",
      "Mohsin\n",
      "Rahul Bose\n",
      "Paresh Rawal\n",
      "Linda Arsenio\n",
      "Abhishek Bachchan\n",
      "Alieesa P Badresia\n",
      "Kiron Kher\n",
      "Sanjay Dutt\n",
      "Tiger Shroff\n",
      "Sanjay Singh\n",
      "Mallika Sherawat\n",
      "Emraan Hashmi\n",
      "Randeep Hooda\n",
      "Anil Kapoor\n",
      "Aftab Shivdasani\n",
      "Nora Fatehi\n",
      "Jason Lewis\n",
      "Sanjay Suri\n",
      "Prateik\n",
      "Shah Rukh Khan\n",
      "Anil Kapoor\n",
      "Auroshika Dey\n",
      "Anushka Sharma\n",
      "Om Puri\n",
      "Antara Mali\n",
      "Taapsee Pannu\n",
      "Urmila Matondkar\n",
      "Sunny Deol\n",
      "Arjun Kapoor\n",
      "Akshay Kumar\n",
      "Dwij Yadav\n",
      "Abhay Deol\n",
      "Bobby Deol\n",
      "Poonam Pandey\n",
      "Govinda\n",
      "Ayushmann Khurrana\n",
      "Dharmesh Yelande\n",
      "Vikas Kalantri\n",
      "Uday Chopra\n",
      "Sonam Kapoor\n",
      "Sanjay Dutt\n",
      "Vinay Anand\n",
      "John Abraham\n",
      "Rajkummar Rao\n",
      "Swara Bhaskar\n",
      "Ashmit Patel\n",
      "Amitabh Bachchan\n",
      "Anil Kapoor\n",
      "Rani Mukerji\n",
      "Sanjay Dutt\n",
      "John Abraham\n",
      "Sunny Leone\n",
      "Deepak Dobriyal\n",
      "Zaheer Iqbal\n",
      "Madhavan\n",
      "Pulkit Samrat\n",
      "Paresh Rawal\n",
      "Varun Dhawan\n",
      "Vinay Pathak\n",
      "Shraddha Kapoor\n",
      "Attin Bhalla\n",
      "Shah Rukh Khan\n",
      "Gopi Desai\n",
      "Rajkummar Rao\n",
      "Ajay Devgn\n",
      "Ajay Devgn\n",
      "Akshay Kumar\n",
      "Anupam Kher\n",
      "Tusshar Kapoor\n",
      "Abhay Deol\n",
      "Riteish Deshmukh\n",
      "Abhay Deol\n",
      "Meenakshi Dixit\n",
      "Bhavesh Kumar\n",
      "Aamir Khan\n",
      "Boman Irani\n",
      "Amitabh Bachchan\n",
      "Irrfan Khan\n",
      "Nassar Abdulla\n",
      "John Abraham\n",
      "Nana Patekar\n",
      "Deepika Padukone\n",
      "Sunil Shetty\n",
      "Kriti Kharbanda\n",
      "Konkona Sen Sharma\n",
      "Shah Rukh Khan\n",
      "Manisha Koirala\n",
      "Karan Deol\n",
      "Jackie Shroff\n",
      "Nayna Bandhopadhyay\n",
      "Bipasha Basu\n",
      "Mohinder Gujral\n",
      "Tannishtha Chatterjee\n",
      "Saif Ali Khan\n",
      "John Abraham\n",
      "Salman Khan\n",
      "Ajay Devgn\n",
      "Sanya Malhotra\n",
      "Rishi Kapoor\n",
      "Kartik Aaryan\n",
      "Rishi Kapoor\n",
      "Shreyas Talpade\n",
      "Omkar Das Manikpuri\n",
      "Vinod Khanna\n",
      "Jimmy Sheirgill\n",
      "Saif Ali Khan\n",
      "Rajat Kapoor\n",
      "Shahid Kapoor\n",
      "Rajniesh Duggall\n",
      "Anushka Sharma\n",
      "Akshay Kumar\n",
      "Mithun Chakraborty\n",
      "Salman Khan\n",
      "Radhika Apte\n",
      "Sudeep\n",
      "Nawazuddin Siddiqui\n",
      "Rahul Bagga\n",
      "Deepika Padukone\n",
      "Urmila Matondkar\n",
      "Taapsee Pannu\n",
      "Akshay Oberoi\n",
      "Sanjay Dutt\n",
      "Vinod Khanna\n",
      "Akshay Kumar\n",
      "Sanjay Dutt\n",
      "Akshay Kapoor\n",
      "Sunny Deol\n",
      "Raveena Tandon\n",
      "Chandan Roy Sanyal\n",
      "Rajeev Khandelwal\n",
      "Sanjay Dutt\n",
      "Jeetendra\n",
      "Arbaaz Khan\n",
      "Salman Khan\n",
      "Vivek Oberoi\n",
      "Tanuj Virwani\n",
      "Priyanka Chopra\n",
      "Kartik Aaryan\n",
      "Kartik Aaryan\n",
      "Rahul Bose\n",
      "Rishi Kapoor\n",
      "Fardeen Khan\n",
      "Aadar Jain\n",
      "Irrfan Khan\n",
      "Ajay Devgn\n",
      "Irrfan Khan\n",
      "Kangana Ranaut\n",
      "Rajendra Prasad\n",
      "Shah Rukh Khan\n",
      "Deepika Padukone\n",
      "Kunal Kapoor\n",
      "Dhanush\n",
      "Aamir Bashir\n",
      "Abhishek Bachchan\n",
      "Dino Morea\n",
      "Emraan Hashmi\n",
      "Kangana Ranaut\n",
      "Alia Bhatt\n",
      "Shah Rukh Khan\n",
      "Saif Ali Khan\n",
      "Saif Ali Khan\n",
      "Anil Kapoor\n",
      "Raj Arjun\n",
      "Vijay Raaz\n",
      "Kainaz Motivala\n",
      "Sunny Leone\n",
      "Kay Kay Menon\n",
      "Ajay Devgn\n",
      "Ajay Devgn\n",
      "Sadashiv Amrapurkar\n",
      "Emraan Hashmi\n",
      "Kangana Ranaut\n",
      "Amyra Dastur\n",
      "Sanjay Dutt\n",
      "Julia Datt\n",
      "Sahil Khan\n",
      "Shruti Haasan\n",
      "Nawazuddin Siddiqui\n",
      "Manoj Bajpayee\n",
      "Madhavan\n",
      "Naseeruddin Shah\n",
      "Manish Paul\n",
      "Soundarya Sharma\n",
      "Aamir Khan\n",
      "Randeep Hooda\n",
      "Kangana Ranaut\n",
      "Jackky Bhagnani\n",
      "Amitabh Bachchan\n",
      "Rahul Khanna\n",
      "Ajay Devgn\n",
      "Prince Shah\n",
      "Sunil Shetty\n",
      "Sherlyn Chopra\n",
      "Aftab Shivdasani\n",
      "Kashmira Shah\n",
      "Kangana Ranaut\n",
      "Kalki Koechlin\n",
      "Ankit\n",
      "Sunny Deol\n",
      "Vinod Khanna\n",
      "Garima Agarwal\n",
      "Rajesh Khanna\n",
      "Paresh Rawal\n",
      "Saif Ali Khan\n",
      "Aadil Chahal\n",
      "Farhan Akhtar\n",
      "Arjun Rampal\n",
      "Ranbir Kapoor\n",
      "Ranbir Kapoor\n",
      "John Abraham\n",
      "Irrfan Khan\n",
      "Sunny Deol\n",
      "Tanushree Dutta\n",
      "Tannishtha Chatterjee\n",
      "Arjun Rampal\n",
      "Sanjay Dutt\n",
      "Manoj Bajpayee\n",
      "Tanuja\n",
      "Abhishek Bachchan\n",
      "Arsh Bajwa\n",
      "Emraan Hashmi\n",
      "Ileana D'Cruz\n",
      "Jacqueline Fernandez\n",
      "Taapsee Pannu\n",
      "Tanima Bhattacharya\n",
      "Sonarika Bhadoria\n",
      "Vishwa Mohan Badola\n",
      "Kiron Kher\n",
      "Manoj Bajpayee\n",
      "Vivek Oberoi\n",
      "Salman Khan\n",
      "Rani Mukerji\n",
      "John Abraham\n",
      "Swara Bhaskar\n",
      "Sachin Tendulkar\n",
      "Sarika\n",
      "Karan Sharma\n",
      "Rekha\n",
      "Jimmy Sheirgill\n",
      "Sanjay Dutt\n",
      "Jimmy Sheirgill\n",
      "Anupam Kher\n",
      "Saif Ali Khan\n",
      "Salman Khan\n",
      "Zeenat Aman\n",
      "Sushmita Sen\n",
      "Rajeev Khandelwal\n",
      "Rishi Kapoor\n",
      "Govinda\n",
      "Ranbir Kapoor\n",
      "Kay Kay Menon\n",
      "Boman Irani\n",
      "Randeep Hooda\n",
      "Mahima Chaudhry\n",
      "Amitabh Bachchan\n",
      "Amitabh Bachchan\n",
      "Amitabh Bachchan\n",
      "Suraj Pancholi\n",
      "Sanjay Mishra\n",
      "Raveena Tandon\n",
      "Puneet Singh Ratn\n",
      "Amitabh Bachchan\n",
      "John Abraham\n",
      "Mandar Jadhav\n",
      "Dharmendra\n",
      "Zaira Wasim\n",
      "Akshaye Khanna\n",
      "Arshad Warsi\n",
      "Shreyas Talpade\n",
      "Sanjay Suri\n",
      "Salman Khan\n",
      "Farhan Akhtar\n",
      "Rajkummar Rao\n",
      "Fardeen Khan\n",
      "Akshaye Khanna\n",
      "Shahid Kapoor\n",
      "Aditya Narayan\n",
      "Ashish Bisht\n",
      "Sanjay Dutt\n",
      "Ashutosh Rana\n",
      "Isha Koppikar\n",
      "Nana Patekar\n",
      "Rajkummar Rao\n",
      "Kalki Koechlin\n",
      "Bobby Deol\n",
      "Amitabh Bachchan\n",
      "Emraan Hashmi\n",
      "Zayed Khan\n",
      "Tusshar Kapoor\n",
      "Tarun Arora\n",
      "Neha Dhupia\n",
      "Ajay Devgn\n",
      "Aida Elkashef\n",
      "Freny Bhagat\n",
      "Mohit Ahlawat\n",
      "Ajay Devgn\n",
      "Sanjeev Kumar\n",
      "Amitabh Bachchan\n",
      "Sendhil Ramamurthy\n",
      "Jimmy Sheirgill\n",
      "Neil Nitin Mukesh\n",
      "Jimmy Sheirgill\n",
      "Sanjay Dutt\n",
      "Tushar Jalota\n",
      "Ayushmann Khurrana\n",
      "Sushant Singh Rajput\n",
      "Anupam Kher\n",
      "Rajesh Tailang\n",
      "Parzaan Dastur\n",
      "Tabu\n",
      "Ranveer Singh\n",
      "Kangana Ranaut\n",
      "Akshay Kumar\n",
      "Akshay Kumar\n",
      "Sunny Deol\n",
      "Ajay Devgn\n",
      "Anupam Kher\n",
      "Kay Kay Menon\n",
      "Wamiqa Gabbi\n",
      "Barkha Madan\n",
      "Abhay Deol\n",
      "Ajay Devgn\n",
      "Rhea Chakraborty\n",
      "Sushant Singh Rajput\n",
      "Geetika Vidya Ohlyan\n",
      "Sunidhi Chauhan\n",
      "Kartik Aaryan\n",
      "Tinnu Anand\n",
      "Shabana Azmi\n",
      "Shamim Khan\n",
      "Mahima Chaudhry\n",
      "Rati Agnihotri\n",
      "Akshay Kumar\n",
      "Urmila Matondkar\n",
      "Tanishaa Mukerji\n",
      "Aarti Chhabria\n",
      "Partho A. Gupte\n",
      "Kanika Batra\n",
      "Jahangir Khan\n",
      "Jimmy Sheirgill\n",
      "Rajkummar Rao\n",
      "Siddharth\n",
      "Zeenat Aman\n",
      "Alia Bhatt\n",
      "Tiger Shroff\n",
      "Raveena Tandon\n",
      "Anushka Sharma\n",
      "Gurdas Maan\n",
      "Naveen Kasturia\n",
      "Salman Khan\n",
      "Ahraz Ahmed\n",
      "Ajay Devgn\n",
      "Jaya Bachchan\n",
      "Aftab Shivdasani\n",
      "Hrithik Roshan\n",
      "Ashmit Patel\n",
      "Rekha\n",
      "Shah Rukh Khan\n",
      "Manoj Bajpayee\n",
      "Himansh Kohli\n",
      "Saif Ali Khan\n",
      "Darsheel Safary\n",
      "Vatsal Sheth\n",
      "Paresh Rawal\n",
      "Victor Banerjee\n",
      "Zulfi Sayed\n",
      "Sulabha Arya\n",
      "Aamir Khan\n",
      "Rakhee Gulzar\n",
      "Irrfan Khan\n",
      "Nikhil Dwivedi\n",
      "Ajay Devgn\n",
      "Madhavan\n",
      "Kangana Ranaut\n",
      "Kangana Ranaut\n",
      "Akshay Kumar\n",
      "Sanjay Dutt\n",
      "Nana Patekar\n",
      "Amitabh Bachchan\n",
      "Amitabh Bachchan\n",
      "Om Puri\n",
      "Akshay Kumar\n",
      "Sunny Deol\n",
      "Shabana Azmi\n",
      "Dharmendra\n",
      "Neil Nitin Mukesh\n",
      "Ali Zafar\n",
      "Parthaa Akerkar\n",
      "Vinay Pathak\n",
      "Riteish Deshmukh\n",
      "Salman Khan\n",
      "Shahid Kapoor\n",
      "Arjun Kapoor\n",
      "Anil Kapoor\n",
      "Nawazuddin Siddiqui\n",
      "Akshay Kumar\n",
      "Master Shams\n",
      "Anupam Kher\n",
      "Pankaj Kapur\n",
      "Kartik Elangovan\n",
      "Nawazuddin Siddiqui\n",
      "Vidya Balan\n",
      "Nassar Abdulla\n",
      "Ranvir Shorey\n",
      "Kunaal Roy Kapur\n",
      "Rana Daggubati\n",
      "Sunny Deol\n",
      "Rahul Bose\n",
      "Shakti Kapoor\n",
      "Irrfan Khan\n",
      "Amitabh Bachchan\n",
      "Irrfan Khan\n",
      "Kal Penn\n",
      "Edwin Fernandes\n",
      "Akshay Kumar\n",
      "Mann Bagga\n",
      "Zaira Wasim\n",
      "Kay Kay Menon\n",
      "Naseeruddin Shah\n",
      "Emraan Hashmi\n",
      "Himesh Reshammiya\n",
      "Sonam Kapoor\n",
      "Bhavita Anand\n",
      "Saif Ali Khan\n",
      "Arya Babbar\n",
      "Saahil Chadha\n",
      "Aamir Khan\n",
      "Salman Khan\n",
      "Nawazuddin Siddiqui\n",
      "Nishant Dahiya\n",
      "Tabu\n",
      "Akshay Kumar\n",
      "Rakesh Bedi\n",
      "Ajay Devgn\n",
      "Ajay Devgn\n",
      "Ali Zafar\n",
      "Manoj Bajpayee\n",
      "Kunal Khemu\n",
      "Rajkummar Rao\n",
      "Vikrum Kumar\n",
      "Salman Khan\n",
      "Riteish Deshmukh\n",
      "Manisha Koirala\n",
      "Neha Sharma\n",
      "Emraan Hashmi\n",
      "Nana Patekar\n",
      "Sohum Shah\n",
      "Vidya Balan\n",
      "Emraan Hashmi\n",
      "Gul Panag\n",
      "Ajay Devgn\n",
      "Mikaal\n",
      "Rajat Barmecha\n",
      "Shahid Kapoor\n",
      "Rahul Bhat\n",
      "Sunny Singh Nijjar\n",
      "Jimmy Sheirgill\n",
      "Aishwarya Rai Bachchan\n",
      "Aashish Bhatt\n",
      "Emraan Hashmi\n",
      "Rahul Bhat\n",
      "Russell Geoffrey Banks\n",
      "Vicky Kaushal\n",
      "Vinay Pathak\n",
      "Priyanshu Chatterjee\n",
      "Mohit Baghel\n",
      "Arjun Rampal\n",
      "Bobby Deol\n",
      "Shahid Kapoor\n",
      "Vicky Ahuja\n",
      "Shikhi Gupta\n",
      "Salman Khan\n",
      "Shah Rukh Khan\n",
      "Sachiin Joshi\n",
      "Pulkit Samrat\n",
      "Kay Kay Menon\n",
      "Hugh Bonneville\n",
      "Ayushmann Khurrana\n",
      "Harman Baweja\n",
      "Vikram Aditya\n",
      "Amitabh Bachchan\n",
      "Kamal Haasan\n",
      "Shahid Kapoor\n",
      "Kay Kay Menon\n",
      "Leeza Mangaldas\n",
      "Niharica Raizada\n",
      "Rajesh Khanna\n",
      "Shreyas Talpade\n",
      "Arshad Warsi\n",
      "Naseeruddin Shah\n",
      "Sharman Joshi\n",
      "Elisha Kriis\n",
      "Ranbir Kapoor\n",
      "Salman Khan\n",
      "Amitabh Bachchan\n",
      "Sharman Joshi\n",
      "Gurdas Maan\n",
      "Nana Patekar\n",
      "Diganth\n",
      "Akshay Kumar\n",
      "Arshad Warsi\n",
      "Anil Kapoor\n",
      "Shreyas Talpade\n",
      "Boman Irani\n",
      "Manu Rishi Chadha\n",
      "Harman Baweja\n",
      "Emraan Hashmi\n",
      "Kangana Ranaut\n",
      "Sikander Kher\n",
      "Sharman Joshi\n",
      "Indrapal Ahuja\n",
      "Siddhanth Kapoor\n",
      "Prisha Aneja\n",
      "Arjun Rampal\n",
      "Nafisa Ali\n",
      "Dharmendra\n",
      "Rekha\n",
      "Tusshar Kapoor\n",
      "Deepshika Nagpal\n",
      "Anshuman Jha\n",
      "Gavie Chahal\n",
      "Ranbir Kapoor\n",
      "Anya Anand\n",
      "Shah Rukh Khan\n",
      "Anupam Kher\n",
      "Vardhan Puri\n",
      "Jackky Bhagnani\n",
      "Paresh Rawal\n",
      "Ajay Devgn\n",
      "Salman Khan\n",
      "Jeetendra\n",
      "Ajay Devgn\n",
      "Ajay Devgn\n",
      "Vinod Acharya\n",
      "Emraan Hashmi\n",
      "Shah Rukh Khan\n",
      "Mannara Chopra\n",
      "Vivek Oberoi\n",
      "Sanjay Dutt\n",
      "Sushmita Sen\n",
      "Veena Malik\n",
      "Hrithik Roshan\n",
      "Mithun Chakraborty\n",
      "Darsheel Safary\n",
      "Meghan Jadhav\n"
     ]
    }
   ],
   "source": [
    "#looping\n",
    "# for i in mvi:\n",
    "#     print(i)"
   ]
  },
  {
   "cell_type": "code",
   "execution_count": 147,
   "id": "10bbb6f2-ae4a-4b6d-8bbe-4d2073529e58",
   "metadata": {
    "scrolled": true
   },
   "outputs": [
    {
     "name": "stdout",
     "output_type": "stream",
     "text": [
      "1920 (film)\n",
      "1920: London\n",
      "1920: The Evil Returns\n",
      "1971 (2007 film)\n",
      "2 States (2014 film)\n",
      "22 Yards\n",
      "3 A.M. (2014 film)\n",
      "3 Deewarein\n",
      "3 Idiots\n",
      "3 Storeys\n",
      "31st October (film)\n",
      "36 China Town\n",
      "3G (film)\n",
      "404 (film)\n",
      "5 Weddings\n",
      "68 Pages\n",
      "7 Hours to Go\n",
      "7 Khoon Maaf\n",
      "7½ Phere\n",
      "88 Antop Hill\n",
      "99 (2009 film)\n",
      "99.9 FM (film)\n",
      "?: A Question Mark\n",
      "A Decent Arrangement\n",
      "A Flat (film)\n",
      "A Flying Jatt\n",
      "A Gentleman\n",
      "ABCD 2\n",
      "Aa Dekhen Zara\n",
      "Aa Gaya Hero\n",
      "Aabra Ka Daabra\n",
      "Aag (2007 film)\n",
      "Aagey Se Right\n",
      "Aaj Ka Andha Kanoon\n",
      "Aaja Nachle\n",
      "Aakhari Decision\n",
      "Aakrosh (2010 film)\n",
      "Aalaap (film)\n",
      "Aan: Men at Work\n",
      "Aanch\n",
      "Aankhen (2002 film)\n",
      "Aap Kaa Surroor\n",
      "Aap Ki Khatir (2006 film)\n",
      "Aapko Pehle Bhi Kahin Dekha Hai\n",
      "Aarakshan\n",
      "Aashayein\n",
      "Aashiq Banaya Aapne\n",
      "Aashiqui 2\n",
      "Aashiqui.in\n",
      "Aasma: The Sky Is the Limit\n",
      "Aazaan\n",
      "Ab Tak Chhappan 2\n",
      "Ab Tumhare Hawale Watan Saathiyo\n",
      "Accident on Hill Road\n",
      "Acid Factory\n",
      "Action Jackson (2014 film)\n",
      "Action Replayy\n",
      "Adharm (2006 film)\n",
      "Ae Dil Hai Mushkil\n",
      "Aetbaar\n",
      "Agent Vinod (2012 film)\n",
      "Aggar (film)\n",
      "Agneepath (2012 film)\n",
      "Agnipankh\n",
      "Ahista Ahista (2006 film)\n",
      "Airlift (film)\n",
      "Aisa Kyon Hota Hai?\n",
      "Aisa Yeh Jahaan\n",
      "Aitraaz\n",
      "Aiyaary\n",
      "Aiyyaa\n",
      "Ajab Gazabb Love\n",
      "Ajab Prem Ki Ghazab Kahani\n",
      "Ajji\n",
      "Akaash Vani\n",
      "Aksar\n",
      "Aksar 2\n",
      "Aladin (film)\n",
      "Alag\n",
      "Albert Pinto Ko Gussa Kyun Aata Hai?\n",
      "Aligarh (film)\n",
      "All Is Well (2015 film)\n",
      "All the Best: Fun Begins\n",
      "Allah Ke Banday\n",
      "Alone (2015 Hindi film)\n",
      "Aloo Chaat (film)\n",
      "Always Kabhi Kabhi\n",
      "Amavas\n",
      "Amit Sahni Ki List\n",
      "Anaarkali of Aarah\n",
      "Anamika (2008 film)\n",
      "Andaaz\n",
      "Andaaz\n",
      "Andhadhun\n",
      "Angel (2011 film)\n",
      "Anjaana Anjaani\n",
      "Anjaane (2005 film)\n",
      "Ankahee (2006 film)\n",
      "Ankhon Dekhi\n",
      "Ankur Arora Murder Case\n",
      "Anna (2016 film)\n",
      "Antardwand\n",
      "Anthony Kaun Hai?\n",
      "Anuradha (2014 film)\n",
      "Anwar (2007 film)\n",
      "Apaharan\n",
      "Apartment (film)\n",
      "Apna Asmaan\n",
      "Apna Sapna Money Money\n",
      "Apne\n",
      "Arjun Patiala\n",
      "Arjun: The Warrior Prince\n",
      "Armaan (2003 film)\n",
      "Article 15 (film)\n",
      "Aryan: Unbreakable\n",
      "Asambhav\n",
      "Ata Pata Laapata\n",
      "Aur Pappu Paas Ho Gaya\n",
      "Aurangzeb (film)\n",
      "Aval (2017 film)\n",
      "Awara Paagal Deewana\n",
      "Awarapan\n",
      "Azhar (film)\n",
      "B.A. Pass\n",
      "Baabarr\n",
      "Baabul (2006 film)\n",
      "Baaghi (2016 film)\n",
      "Baaghi 2\n",
      "Baar Baar Dekho\n",
      "Baat Bann Gayi\n",
      "Baaz: A Bird in Danger\n",
      "Baazaar\n",
      "Babloo Happy Hai\n",
      "Babuji Ek Ticket Bambai\n",
      "Babumoshai Bandookbaaz\n",
      "Baby (2015 Hindi film)\n",
      "Bachche Kachche Sachche\n",
      "Bachke Rehna Re Baba\n",
      "Bachna Ae Haseeno\n",
      "Badhaai Ho\n",
      "Badla (2019 film)\n",
      "Badlapur (film)\n",
      "Badlapur Boys\n",
      "Badmashiyaan\n",
      "Badrinath Ki Dulhania\n",
      "Baghban (2003 film)\n",
      "Bajatey Raho\n",
      "Bajirao Mastani\n",
      "Bajrangi Bhaijaan\n",
      "Bala (2019 film)\n",
      "Balwinder Singh Famous Ho Gaya\n",
      "Banaras (2006 film)\n",
      "Band Baaja Baaraat\n",
      "Bandook\n",
      "Bang Bang!\n",
      "Bangistan\n",
      "Banjo (2016 film)\n",
      "Bank Chor\n",
      "Barah Aana\n",
      "Bardaasht\n",
      "Bareilly Ki Barfi\n",
      "Barfi!\n",
      "Barkhaa\n",
      "Barsaat (2005 film)\n",
      "Bas Ek Pal\n",
      "Basti (film)\n",
      "Batla House\n",
      "Battalion 609\n",
      "Batti Gul Meter Chalu\n",
      "Bazaar E Husn\n",
      "Bbuddah... Hoga Terra Baap\n",
      "Befikre\n",
      "Begum Jaan\n",
      "Behen Hogi Teri\n",
      "Beiimaan Love\n",
      "Being Cyrus\n",
      "Bewafaa (2005 film)\n",
      "Bewakoofiyaan\n",
      "Beyond the Clouds (2017 film)\n",
      "Bezubaan Ishq\n",
      "Bhaag Johnny\n",
      "Bhaag Milkha Bhaag\n",
      "Bhagam Bhag\n",
      "Bhagmati (2005 film)\n",
      "Bhaiaji Superhit\n",
      "Bhanwarey\n",
      "Bhavesh Joshi Superhero\n",
      "Bheja Fry (film)\n",
      "Bheja Fry 2\n",
      "Bhola in Bollywood\n",
      "Bhool Bhulaiyaa\n",
      "Bhoomi (film)\n",
      "Bhoot (film)\n",
      "Bhoot Returns\n",
      "Bhoot Unkle\n",
      "Bhoothnath\n",
      "Bhoothnath Returns\n",
      "Bhopal: A Prayer for Rain\n",
      "Bhram\n",
      "Big Brother (2007 film)\n",
      "Billu\n",
      "Bin Bulaye Baraati\n",
      "Bioscopewala\n",
      "Bittoo Boss\n",
      "Black (2005 film)\n",
      "Black Friday (2007 film)\n",
      "Blackmail (2005 film)\n",
      "Blood Brothers (2007 Indian film)\n",
      "Blood Money (2012 film)\n",
      "Bloody Isshq\n",
      "Blue (2009 film)\n",
      "Bluffmaster!\n",
      "Bobby Jasoos\n",
      "Bodyguard (2011 Hindi film)\n",
      "Bol Bachchan\n",
      "Bollywood Diaries\n",
      "Bombairiya\n",
      "Bombay Talkies (film)\n",
      "Bombay Velvet\n",
      "Bombay to Bangkok\n",
      "Bombay to Goa (2007 film)\n",
      "Boom (film)\n",
      "Border (1997 film)\n",
      "Boss (2013 Hindi film)\n",
      "Brahman Naman\n",
      "Break Ke Baad\n",
      "Breakaway (2011 film)\n",
      "Brij Mohan Amar Rahe\n",
      "Brothers (2015 film)\n",
      "Bubble Gum (film)\n",
      "Buddha Mar Gaya\n",
      "Buddha in a Traffic Jam\n",
      "Bullet: Ek Dhamaka\n",
      "Bullett Raja\n",
      "Bumboo\n",
      "Bumm Bumm Bole\n",
      "Bumper Draw\n",
      "Bunty Aur Babli\n",
      "Bypass Road (film)\n",
      "C Kkompany\n",
      "Calapor (film)\n",
      "Calcutta Mail\n",
      "Calendar Girls (2015 film)\n",
      "Cash (2007 film)\n",
      "Chaahat – Ek Nasha\n",
      "Chaalis Chauraasi\n",
      "Chaar Din Ki Chandni\n",
      "Chaarfutiya Chhokare\n",
      "Chak De! India\n",
      "Chakravyuh (2012 film)\n",
      "Chal Chala Chal\n",
      "Chal Pichchur Banate Hain\n",
      "Chalk n Duster\n",
      "Challo Driver\n",
      "Chalo Dilli\n",
      "Chalte Chalte (2003 film)\n",
      "Chameli (film)\n",
      "Chamku\n",
      "Chance Pe Dance\n",
      "Chand Ke Paar Chalo (film)\n",
      "Chand Sa Roshan Chehra\n",
      "Chandni Chowk to China\n",
      "Charas (2004 film)\n",
      "Chargesheet (film)\n",
      "Chase (2010 film)\n",
      "Chashme Baddoor (2013 film)\n",
      "Chatur Singh Two Star\n",
      "Cheeni Kum\n",
      "Chef (2017 film)\n",
      "Chehraa\n",
      "Chennai Express\n",
      "Chetna: The Excitement\n",
      "Chhodon Naa Yaar\n",
      "Chhota Bheem and the Throne of Bali\n",
      "Chicken Curry Law\n",
      "Children of Heaven\n",
      "Children of War (2014 film)\n",
      "Chillar Party\n",
      "Chinar Daastaan-E-Ishq\n",
      "Chingaari\n",
      "Chintu Ji\n",
      "Chittagong (film)\n",
      "Chocolate (2005 film)\n",
      "Chor Chor Super Chor\n",
      "Chori Chori (2003 film)\n",
      "Chup Chup Ke\n",
      "Chura Liyaa Hai Tumne\n",
      "Cigarette Ki Tarah\n",
      "City of Gold (2010 film)\n",
      "CityLights (2014 film)\n",
      "Classic – Dance of Love\n",
      "Click (2010 film)\n",
      "Cocktail (2012 film)\n",
      "Coffee Bloom\n",
      "Coffee with D\n",
      "Commando 3 (film)\n",
      "Commando: A One Man Army\n",
      "Company (film)\n",
      "Contract (2008 film)\n",
      "Corporate (2006 film)\n",
      "Court (film)\n",
      "Crazy Cukkad Family\n",
      "Creature 3D\n",
      "Crook (film)\n",
      "D (film)\n",
      "D-Day (2013 film)\n",
      "Daas Dev\n",
      "Daawat-e-Ishq\n",
      "Dabangg\n",
      "Dabangg 2\n",
      "Dabangg 3\n",
      "Daddy (2017 film)\n",
      "Daddy Cool (2009 Hindi film)\n",
      "Damadamm!\n",
      "Dangal (film)\n",
      "Dangerous Ishhq\n",
      "Darling (2007 Indian film)\n",
      "Darna Mana Hai\n",
      "Darna Zaroori Hai\n",
      "Darr @ the Mall\n",
      "Darwaaza Bandh Rakho\n",
      "Dassehra\n",
      "Dasvidaniya\n",
      "Days of Tafree\n",
      "De Dana Dan\n",
      "De De Pyaar De\n",
      "De Taali\n",
      "Deadline: Sirf 24 Ghante\n",
      "Dear Dad (film)\n",
      "Dear Friend Hitler\n",
      "Dear Maya\n",
      "Dear Zindagi\n",
      "Dedh Ishqiya\n",
      "Deewaar (2004 film)\n",
      "Deewane Huye Paagal\n",
      "Dehraadun Diary\n",
      "Dekh Tamasha Dekh\n",
      "Delhi Belly (film)\n",
      "Delhi Safari\n",
      "Delhi-6\n",
      "Department (film)\n",
      "Deshdrohi\n",
      "Desi Boyz\n",
      "Desi Kattey\n",
      "Detective Byomkesh Bakshy!\n",
      "Dev (2004 film)\n",
      "Devaki (2005 film)\n",
      "Devdas (2002 Hindi film)\n",
      "Devi (2016 film)\n",
      "Dhadak\n",
      "Dhamaal\n",
      "Dhanak\n",
      "Dharam Sankat Mein\n",
      "Dharm (film)\n",
      "Dharti Kahe Pukar Ke (2006 film)\n",
      "Dhobi Ghat (film)\n",
      "Dhokha\n",
      "Dhol (film)\n",
      "Dhoom\n",
      "Dhoom 2\n",
      "Dhoom 3\n",
      "Dhoondte Reh Jaaoge\n",
      "Dhoop\n",
      "Dhund (2003 film)\n",
      "Dil Bechara\n",
      "Dil Bechara Pyaar Ka Maara\n",
      "Dil Bole Hadippa!\n",
      "Dil Dhadakne Do\n",
      "Dil Diya Hai\n",
      "Dil Dosti Etc\n",
      "Dil Jo Bhi Kahey...\n",
      "Dil Jo Na Keh Saka\n",
      "Dil Juunglee\n",
      "Dil Ka Rishta\n",
      "Dil Kabaddi\n",
      "Dil Maange More\n",
      "Dil Ne Jise Apna Kahaa\n",
      "Dil Pardesi Ho Gayaa\n",
      "Dil Toh Baccha Hai Ji\n",
      "Dil Toh Deewana Hai\n",
      "Dilliwali Zaalim Girlfriend\n",
      "Dilwale (2015 film)\n",
      "Direct Ishq\n",
      "Dirty Politics (film)\n",
      "Dishkiyaoon\n",
      "Dishoom\n",
      "Do Dooni Chaar\n",
      "Do Lafzon Ki Kahani (film)\n",
      "Dobaara: See Your Evil\n",
      "Dobara\n",
      "Dolly Ki Doli\n",
      "Don (2006 Hindi film)\n",
      "Don 2\n",
      "Don Muthu Swami\n",
      "Don't Stop Dreaming\n",
      "Dongari Ka Raja\n",
      "Dor (film)\n",
      "Dostana (2008 film)\n",
      "Dosti: Friends Forever\n",
      "Double Cross (2005 film)\n",
      "Double Dhamaal\n",
      "Dream Girl (2019 film)\n",
      "Dreams (2006 film)\n",
      "Drishyam (2015 film)\n",
      "Drona (2008 film)\n",
      "Dude Where's the Party?\n",
      "Dulha Mil Gaya\n",
      "Dum (2003 Hindi film)\n",
      "Dum Laga Ke Haisha\n",
      "Dum Maaro Dum (film)\n",
      "Dunno Y... Na Jaane Kyon\n",
      "Dus\n",
      "Dus Kahaniyaan\n",
      "Eight: The Power of Shani\n",
      "Ek Ajnabee\n",
      "Ek Alag Mausam\n",
      "Ek Aur Ek Gyarah\n",
      "Ek Chalis Ki Last Local\n",
      "Ek Din 24 Ghante\n",
      "Ek Haseena Thi Ek Deewana Tha\n",
      "Ek Hasina Thi (film)\n",
      "Ek Kahani Julie Ki\n",
      "Ek Khiladi Ek Haseena (film)\n",
      "Ek Main Aur Ekk Tu\n",
      "Ek Paheli Leela\n",
      "Ek Se Badhkar Ek (2004 film)\n",
      "Ek Se Bure Do\n",
      "Ek Second... Jo Zindagi Badal De?\n",
      "Ek Tha Tiger\n",
      "Ek Thi Daayan\n",
      "Ek Thi Rani Aisi Bhi\n",
      "Ek Villain\n",
      "Ek Vivaah... Aisa Bhi\n",
      "Ek: The Power of One\n",
      "Ekk Deewana Tha\n",
      "Ekkees Toppon Ki Salaami\n",
      "Eklavya: The Royal Guard\n",
      "Elaan (2005 film)\n",
      "Enemmy\n",
      "English Vinglish\n",
      "Entertainment (2014 film)\n",
      "Escape from Taliban\n",
      "Evening Shadows\n",
      "F.A.L.T.U\n",
      "Family (2006 film)\n",
      "Family of Thakurganj\n",
      "Familywala\n",
      "Fan (film)\n",
      "Fanaa (2006 film)\n",
      "Fareb (2005 film)\n",
      "Fashion (2008 film)\n",
      "Fatso!\n",
      "Ferrari Ki Sawaari\n",
      "Fever (2016 film)\n",
      "Fida\n",
      "Fight Club – Members Only\n",
      "Filmistaan\n",
      "Finding Fanny\n",
      "Firaaq\n",
      "Firangi\n",
      "Fitoor\n",
      "Flat 211\n",
      "Flavors (film)\n",
      "Fool & Final\n",
      "Footpath (2003 film)\n",
      "Force (2011 film)\n",
      "Force 2\n",
      "Fox (film)\n",
      "Fraud Saiyaan\n",
      "Freaky Ali\n",
      "Fredrick (film)\n",
      "From Sydney with Love\n",
      "Fruit and Nut (film)\n",
      "FryDay\n",
      "Fuddu\n",
      "Fugly (film)\n",
      "Fukrey\n",
      "Fukrey Returns\n",
      "Fun – Can Be Dangerous Sometimes\n",
      "Fun2shh... Dudes in the 10th Century\n",
      "G Kutta Se\n",
      "Gabbar Is Back\n",
      "Gabbar Is Back\n",
      "Gali Guleiyan\n",
      "Game (2011 film)\n",
      "Gandhi My Father\n",
      "Gang of Ghosts\n",
      "Gangaajal\n",
      "Gangoobai\n",
      "Gangs of Wasseypur\n",
      "Gangs of Wasseypur – Part 2\n",
      "Gangster (2006 film)\n",
      "Garam Masala (2005 film)\n",
      "Garv: Pride & Honour\n",
      "Gattu\n",
      "Gauri: The Unborn\n",
      "Gayab\n",
      "Genius (2018 Hindi film)\n",
      "Ghajini (2008 film)\n",
      "Ghanchakkar (film)\n",
      "Ghayal: Once Again\n",
      "Ghost (2012 film)\n",
      "Ghost (2019 film)\n",
      "Gippi\n",
      "Girlfriend (2004 film)\n",
      "Global Baba\n",
      "Go (2007 film)\n",
      "Go Goa Gone\n",
      "Goal (2007 Hindi film)\n",
      "God Tussi Great Ho\n",
      "Gold (2018 film)\n",
      "Goliyon Ki Raasleela Ram-Leela\n",
      "Gollu Aur Pappu\n",
      "Golmaal Again\n",
      "Golmaal Returns\n",
      "Golmaal: Fun Unlimited\n",
      "Gone Kesh\n",
      "Good Boy Bad Boy\n",
      "Good Newwz\n",
      "Gori Tere Pyaar Mein\n",
      "Gour Hari Dastaan\n",
      "Grand Masti\n",
      "Great Grand Masti\n",
      "Green Card Fever\n",
      "Guddu Ki Gun\n",
      "Guddu Rangeela\n",
      "Guest iin London\n",
      "Gulaab Gang\n",
      "Gulaal (film)\n",
      "Gulabi Gang (film)\n",
      "Gully Boy\n",
      "Gumnaam – The Mystery\n",
      "Gunday\n",
      "Guru (2007 film)\n",
      "Guzaarish (film)\n",
      "Haal-e-Dil\n",
      "Haasil\n",
      "Hai Apna Dil Toh Awara\n",
      "Haider (film)\n",
      "Half Girlfriend (film)\n",
      "Halkaa\n",
      "Halla Bol\n",
      "Hamari Adhuri Kahani\n",
      "Hamid (film)\n",
      "Hanuman (2005 film)\n",
      "Happy Bhag Jayegi\n",
      "Happy Ending (film)\n",
      "Happy Husbands (2011 film)\n",
      "Happy New Year (2014 film)\n",
      "Happy Phirr Bhag Jayegi\n",
      "Haraamkhor\n",
      "Hari Puttar: A Comedy of Terrors\n",
      "Hasee Toh Phasee\n",
      "Haseena Parkar\n",
      "Hastey Hastey\n",
      "Hate Story\n",
      "Hate Story 2\n",
      "Hate Story 4\n",
      "Hattrick (film)\n",
      "Hatya (2004 film)\n",
      "Haunted – 3D\n",
      "Hava Aney Dey\n",
      "Hawa (film)\n",
      "Hawaa Hawaai\n",
      "Hawaizaada\n",
      "Hawas (2004 film)\n",
      "Hawayein\n",
      "Hazaaron Khwaishein Aisi\n",
      "Heartless (2014 film)\n",
      "Helicopter Eela\n",
      "Hello (2008 film)\n",
      "Hello Darling\n",
      "Help (film)\n",
      "Hero (2015 Hindi film)\n",
      "Heroes (2008 film)\n",
      "Heroine (2012 film)\n",
      "Heropanti\n",
      "Hey Bro\n",
      "Heyy Babyy\n",
      "Hichki\n",
      "High Jack (film)\n",
      "Highway (2014 Hindi film)\n",
      "Himmatwala (2013 film)\n",
      "Hind Ka Napak Ko Jawab: MSG Lion Heart 2\n",
      "Hindi Medium\n",
      "Hisss\n",
      "Holiday (2006 film)\n",
      "Holiday: A Soldier Is Never Off Duty\n",
      "Home Delivery\n",
      "Honeymoon Travels Pvt. Ltd.\n",
      "Honour Killing (film)\n",
      "Hope Aur Hum\n",
      "Horror Story (film)\n",
      "Hostel (2011 film)\n",
      "Hotel Salvation\n",
      "Housefull (2010 film)\n",
      "Housefull 2\n",
      "Housefull 4\n",
      "Hulchul (2004 film)\n",
      "Hum Chaar\n",
      "Hum Hai Raahi Car Ke\n",
      "Hum Tum\n",
      "Hum Tum Aur Ghost\n",
      "Hum Tum Shabana\n",
      "Hum Tumhare Hain Sanam\n",
      "Hume Tumse Pyaar Kitna\n",
      "Humko Deewana Kar Gaye\n",
      "Humko Tumse Pyaar Hai\n",
      "Humne Jeena Seekh Liya\n",
      "Humpty Sharma Ki Dulhania\n",
      "Humshakals\n",
      "Hungama (2003 film)\n",
      "Hunterrr\n",
      "Hyderabad Blues 2\n",
      "I Am (2010 Indian film)\n",
      "I Am Kalam\n",
      "I Hate Luv Storys\n",
      "I Love Desi\n",
      "I Love NY (2015 film)\n",
      "I Proud to Be an Indian\n",
      "I See You (2006 film)\n",
      "Impatient Vivek\n",
      "India's Most Wanted (film)\n",
      "Indian Babu\n",
      "Indu Sarkar\n",
      "Inkaar (2013 film)\n",
      "Insaaf: The Justice\n",
      "Insan\n",
      "Inteha (2003 film)\n",
      "Inteqam: The Perfect Game\n",
      "Iqbal (film)\n",
      "Iqraar by Chance\n",
      "Irada (2017 film)\n",
      "Irudhi Suttru\n",
      "Ishaqzaade\n",
      "Ishkq in Paris\n",
      "Ishq Click\n",
      "Ishq Forever\n",
      "Ishq Hai Tumse\n",
      "Ishq Ke Parindey\n",
      "Ishq Vishk\n",
      "Ishqedarriyaan\n",
      "Ishqeria\n",
      "Ishqiya\n",
      "Isi Life Mein\n",
      "Island City (2015 film)\n",
      "Issaq\n",
      "It's a Wonderful Afterlife\n",
      "JD (film)\n",
      "Jaal: The Trap\n",
      "Jaan-E-Mann\n",
      "Jaane Hoga Kya\n",
      "Jaane Kahan Se Aayi Hai\n",
      "Jaane Kyun De Yaaron\n",
      "Jab Harry Met Sejal\n",
      "Jab Tak Hai Jaan\n",
      "Jab We Met\n",
      "Jabariya Jodi\n",
      "Jack and Dil\n",
      "Jackpot (2013 film)\n",
      "Jagga Jasoos\n",
      "Jahan Jaaeyega Hamen Paaeyega\n",
      "Jai Chiranjeeva\n",
      "Jai Gangaajal\n",
      "Jai Ho (film)\n",
      "Jai Jawaan Jai Kisaan (film)\n",
      "Jai Veeru\n",
      "Jail (2009 film)\n",
      "Jajantaram Mamantaram\n",
      "Jal (film)\n",
      "Jalebi (film)\n",
      "Jalpari: The Desert Mermaid\n",
      "James (2005 film)\n",
      "Janasheen\n",
      "Jannat (film)\n",
      "Jattu Engineer\n",
      "Jawani Diwani: A Youthful Joyride\n",
      "Jayantabhai Ki Luv Story\n",
      "Jazbaa\n",
      "Jeena Hai Toh Thok Daal\n",
      "Jeena Isi Ka Naam Hai (film)\n",
      "Jhalki\n",
      "Jhankaar Beats\n",
      "Jhoom Barabar Jhoom\n",
      "Jhootha Hi Sahi\n",
      "Jhootha Kahin Ka\n",
      "Jia Aur Jia\n",
      "Jigariyaa\n",
      "Jigyaasa\n",
      "Jimmy (2008 film)\n",
      "Jism (2003 film)\n",
      "Jo Bole So Nihaal (film)\n",
      "Jo Hum Chahein\n",
      "Jodhaa Akbar\n",
      "Jodi Breakers\n",
      "Joggers' Park (film)\n",
      "John Day (film)\n",
      "Johnny Gaddaar\n",
      "Joker (2012 film)\n",
      "Jolly LLB\n",
      "Judgementall Hai Kya\n",
      "Judwaa 2\n",
      "Jugni (2016 film)\n",
      "Julie (2004 film)\n",
      "Julie 2\n",
      "Junglee (2019 film)\n",
      "Junooniyat\n",
      "Jurm (2005 film)\n",
      "Just Married (2007 film)\n",
      "Kaabil\n",
      "Kaagaz Ke Fools\n",
      "Kaal (2005 film)\n",
      "Kaalakaandi\n",
      "Kaalo\n",
      "Kaanchi: The Unbreakable\n",
      "Kaante\n",
      "Kaashi in Search of Ganga\n",
      "Kabhi Alvida Naa Kehna\n",
      "Kabir Singh\n",
      "Kabul Express\n",
      "Kadvi Hawa\n",
      "Kagaar: Life on the Edge\n",
      "Kahaani\n",
      "Kahin Hai Mera Pyar\n",
      "Kai Po Che!\n",
      "Kaise Kahoon Ke... Pyaar Hai\n",
      "Kal Ho Naa Ho\n",
      "Kalank\n",
      "Kalyug (2005 film)\n",
      "Kaminey\n",
      "Kapoor & Sons\n",
      "Karam (film)\n",
      "Karar: The Deal\n",
      "Karle Pyaar Karle\n",
      "Karma Aur Holi\n",
      "Karthik Calling Karthik\n",
      "Karwaan\n",
      "Karzzzz\n",
      "Kasak (2005 film)\n",
      "Kash Aap Hamare Hote\n",
      "Katti Batti\n",
      "Kaun Hai Jo Sapno Mein Aaya\n",
      "Kaun Kitne Paani Mein\n",
      "Keep Safe Distance (film)\n",
      "Kesari (film)\n",
      "Khajoor Pe Atke\n",
      "Khakee\n",
      "Khamosh Pani\n",
      "Khamoshh... Khauff Ki Raat\n",
      "Khamoshi (2019 film)\n",
      "Khamoshiyan\n",
      "Khap (film)\n",
      "Khatta Meetha (2010 film)\n",
      "Khel Toh Ab Shuru Hoga\n",
      "Khel – No Ordinary Game\n",
      "Khichdi: The Movie\n",
      "Khoobsurat (2014 film)\n",
      "Khosla Ka Ghosla\n",
      "Khoya Khoya Chand\n",
      "Khuda Kasam\n",
      "Khushi (2003 Hindi film)\n",
      "Khwaabb\n",
      "Khwahish\n",
      "Ki & Ka\n",
      "Kick (2014 film)\n",
      "Kill Dil\n",
      "Kis Kis Ki Kismat\n",
      "Kis Kisko Pyaar Karoon\n",
      "Kisaan\n",
      "Kismat (2004 film)\n",
      "Kismat Konnection\n",
      "Kismat Love Paisa Dilli\n",
      "Kisna: The Warrior Poet\n",
      "Kisse Pyaar Karoon\n",
      "Kites (film)\n",
      "Knock Out (2010 film)\n",
      "Koi Aap Sa\n",
      "Koi Mere Dil Mein Hai\n",
      "Koi... Mil Gaya\n",
      "Koyelaanchal\n",
      "Krazzy 4\n",
      "Krishna Aur Kans\n",
      "Krishna Cottage\n",
      "Krrish\n",
      "Kucch Luv Jaisaa\n",
      "Kucch To Hai\n",
      "Kuch Kuch Locha Hai\n",
      "Kuch Naa Kaho\n",
      "Kuchh Bheege Alfaaz\n",
      "Kuchh Meetha Ho Jaye\n",
      "Kudiyon Ka Hai Zamana\n",
      "Kuku Mathur Ki Jhand Ho Gayi\n",
      "Kurbaan (2009 film)\n",
      "Kushti (film)\n",
      "Kya Dilli Kya Lahore\n",
      "Kya Love Story Hai\n",
      "Kyaa Kool Hai Hum\n",
      "Kyaa Kool Hain Hum 3\n",
      "Kyaa Super Kool Hain Hum\n",
      "Kyon Ki\n",
      "Kyun! Ho Gaya Na...\n",
      "LOC Kargil\n",
      "Laaga Chunari Mein Daag\n",
      "Laal Rang\n",
      "Ladies vs Ricky Bahl\n",
      "Lafangey Parindey\n",
      "Lage Raho Munna Bhai\n",
      "Lahore (film)\n",
      "Laila Majnu (2018 film)\n",
      "Lakeer – Forbidden Lines\n",
      "Lakshmi (2014 film)\n",
      "Lakshya (film)\n",
      "Lamhaa\n",
      "Lekar Hum Deewana Dil\n",
      "Life Express (2010 film)\n",
      "Life Is Beautiful (2014 film)\n",
      "Life Ki Toh Lag Gayi\n",
      "Life Mein Kabhie Kabhiee\n",
      "Life Partner\n",
      "Life in a... Metro\n",
      "Lipstick Under My Burkha\n",
      "Listen... Amaya\n",
      "Little Zizou\n",
      "Login (film)\n",
      "Loins of Punjab Presents\n",
      "London Dreams\n",
      "Lootera\n",
      "Love Aaj Kal\n",
      "Love Breakups Zindagi\n",
      "Love Games (film)\n",
      "Love Ke Chakkar Mein\n",
      "Love Sex Aur Dhokha\n",
      "Love Shagun\n",
      "Love Sonia\n",
      "Love Story 2050\n",
      "Love U...Mr. Kalakaar!\n",
      "Love in Bombay\n",
      "Love per Square Foot\n",
      "Loveshhuda\n",
      "Luck (2009 film)\n",
      "Luck by Chance\n",
      "Luckhnowi Ishq\n",
      "Lucknow Central\n",
      "Lucky Kabootar\n",
      "Lucky: No Time for Love\n",
      "Luv U Alia\n",
      "Luv U Soniyo\n",
      "M Cream\n",
      "M.S. Dhoni: The Untold Story\n",
      "MP3: Mera Pehla Pehla Pyaar\n",
      "MSG-2 The Messenger\n",
      "MSG: The Messenger\n",
      "MSG: The Warrior Lion Heart\n",
      "Maan Gaye Mughal-e-Azam\n",
      "Maatr\n",
      "Maazii\n",
      "Machhli Jal Ki Rani Hai\n",
      "Machine (2017 film)\n",
      "Mad About Dance\n",
      "Madaari\n",
      "Made in China (2019 film)\n",
      "Madhoshi\n",
      "Madras Cafe\n",
      "Magic Magic 3D\n",
      "Mai (2013 film)\n",
      "Main Aisa Hi Hoon\n",
      "Main Aur Mr. Riight\n",
      "Main Aurr Mrs Khanna\n",
      "Main Hoon Na\n",
      "Main Hoon Part-Time Killer\n",
      "Main Krishna Hoon\n",
      "Main Madhuri Dixit Banna Chahti Hoon\n",
      "Main Meri Patni Aur Woh\n",
      "Main Prem Ki Diwani Hoon\n",
      "Main Tera Hero\n",
      "Maine Gandhi Ko Nahin Mara\n",
      "Maine Pyaar Kyun Kiya?\n",
      "Malamaal Weekly\n",
      "Malik Ek\n",
      "Mangal Pandey: The Rising\n",
      "Manikarnika: The Queen of Jhansi\n",
      "Manjhi – The Mountain Man\n",
      "Manjunath (film)\n",
      "Manmarziyaan\n",
      "Manorama Six Feet Under\n",
      "Manto (2018 film)\n",
      "Mantra (2016 film)\n",
      "Maqbool\n",
      "Mard Ko Dard Nahi Hota\n",
      "Mardaani\n",
      "Mardaani 2\n",
      "Margarita with a Straw\n",
      "Marigold (2007 film)\n",
      "Marjaavaan\n",
      "Market (2003 film)\n",
      "Married 2 America\n",
      "Mary Kom (film)\n",
      "Masaan\n",
      "Masti (2004 film)\n",
      "Mastizaade\n",
      "Mastram\n",
      "Matru Ki Bijlee Ka Mandola\n",
      "Matrubhoomi\n",
      "Mausam (2011 film)\n",
      "Maximum (film)\n",
      "Meenaxi: A Tale of Three Cities\n",
      "Meerabai Not Out\n",
      "Meeruthiya Gangsters\n",
      "Meinu Ek Ladki Chaahiye\n",
      "Memories in March\n",
      "Mercury (film)\n",
      "Mere Baap Pehle Aap\n",
      "Mere Brother Ki Dulhan\n",
      "Mere Dad Ki Maruti\n",
      "Mere Dost Picture Abhi Baki Hai\n",
      "Mere Genie Uncle\n",
      "Mere Jeevan Saathi (2006 film)\n",
      "Mere Pyare Prime Minister\n",
      "Meri Biwi Ka Jawaab Nahin\n",
      "Meri Pyaari Bindu\n",
      "Mickey Virus\n",
      "Milenge Milenge\n",
      "Miley Naa Miley Hum\n",
      "Mirch\n",
      "Mirzya (film)\n",
      "Miss Tanakpur Haazir Ho\n",
      "Missing (2018 film)\n",
      "Mission Istaanbul\n",
      "Mission Mangal\n",
      "Mitron\n",
      "Mittal v/s Mittal\n",
      "Moh Maya Money\n",
      "Mohalla Assi\n",
      "Mohenjo Daro (film)\n",
      "Mom (film)\n",
      "Money Hai Toh Honey Hai\n",
      "Monica (film)\n",
      "Monsoon Shootout\n",
      "Morning Raga\n",
      "Motichoor Chaknachoor\n",
      "Motu Patlu: King of Kings\n",
      "Mr Prime Minister\n",
      "Mr. Bhatti on Chutti\n",
      "Mr. Singh Mrs. Mehta\n",
      "Mr. X (2015 film)\n",
      "Mubarakan\n",
      "Mughal-e-Azam\n",
      "Mujhse Fraaandship Karoge\n",
      "Mujhse Shaadi Karogi\n",
      "Mukhbiir\n",
      "Mukkabaaz\n",
      "Mulk (film)\n",
      "Mumbai 125 KM\n",
      "Mumbai Can Dance Saala\n",
      "Mumbai Delhi Mumbai\n",
      "Mumbai Mast Kallander\n",
      "Mumbai Matinee\n",
      "Mumbai Meri Jaan\n",
      "Mumbai Salsa\n",
      "Mumbai Se Aaya Mera Dost\n",
      "Mumbhai Connection\n",
      "Mummy Punjabi\n",
      "Munna Bhai M.B.B.S.\n",
      "Munna Michael\n",
      "Murari the Mad Gentleman\n",
      "Murder (2004 film)\n",
      "Murder 2\n",
      "Murder 3\n",
      "Musafir (2004 film)\n",
      "Muskaan\n",
      "My Birthday Song\n",
      "My Bollywood Bride\n",
      "My Brother…Nikhil\n",
      "My Friend Pinto\n",
      "My Name Is Khan\n",
      "My Wife's Murder\n",
      "NH-8 Road to Nidhivan\n",
      "NH10 (film)\n",
      "Na Ghar Ke Na Ghaat Ke\n",
      "Naach (2004 film)\n",
      "Naam Shabana\n",
      "Naina (2005 film)\n",
      "Naksha\n",
      "Namaste England\n",
      "Namastey London\n",
      "Nanhe Jaisalmer\n",
      "Nanu Ki Jaanu\n",
      "Naqaab\n",
      "Nasha (film)\n",
      "Naughty @ 40\n",
      "Nautanki Saala!\n",
      "Nawabzaade\n",
      "Nayee Padosan\n",
      "Neal 'n' Nikki\n",
      "Neerja\n",
      "Nehlle Pe Dehlla\n",
      "Netaji Subhas Chandra Bose: The Forgotten Hero\n",
      "New York (2009 film)\n",
      "Newton (film)\n",
      "Nil Battey Sannata\n",
      "Nirdosh\n",
      "Nishabd\n",
      "No Entry\n",
      "No One Killed Jessica\n",
      "No Problem (2010 film)\n",
      "No Smoking (2007 film)\n",
      "Noor (film)\n",
      "Not a Love Story (2011 film)\n",
      "Notebook (2019 film)\n",
      "Nothing but Life\n",
      "O Teri\n",
      "OMG – Oh My God!\n",
      "October (2018 film)\n",
      "Oh My God (2008 film)\n",
      "Ok Jaanu\n",
      "Om (2003 film)\n",
      "Om Shanti Om\n",
      "Om-Dar-B-Dar\n",
      "Omerta (film)\n",
      "Omkara (2006 film)\n",
      "Once Upon a Time in Mumbaai\n",
      "Once Upon ay Time in Mumbai Dobaara!\n",
      "One Day: Justice Delivered\n",
      "One Two Three\n",
      "One by Two (2014 film)\n",
      "Out of Control (2003 film)\n",
      "Oye Lucky! Lucky Oye!\n",
      "P Se PM Tak\n",
      "P Se Pyaar F Se Faraar\n",
      "PK (film)\n",
      "PM Narendra Modi\n",
      "Paa (film)\n",
      "Paan Singh Tomar (film)\n",
      "Paanch Ghantey Mien Paanch Crore\n",
      "Paap\n",
      "Paathshaala\n",
      "Padmaavat\n",
      "Padmashree Laloo Prasad Yadav\n",
      "Pagalpanti (2019 film)\n",
      "Page 3 (film)\n",
      "Paheli\n",
      "Paisa Vasool\n",
      "Pal Pal Dil Ke Paas\n",
      "Paltan (film)\n",
      "Panchlait\n",
      "Pankh\n",
      "Paranthe Wali Gali\n",
      "Parched\n",
      "Parineeta (2005 film)\n",
      "Parmanu: The Story of Pokhran\n",
      "Partner (2007 film)\n",
      "Parwana (2003 film)\n",
      "Pataakha\n",
      "Patel Ki Punjabi Shaadi\n",
      "Pati Patni Aur Woh (2019 film)\n",
      "Patiala House (film)\n",
      "Paying Guests\n",
      "Peepli Live\n",
      "Pehchaan: The Face of Truth\n",
      "Phamous\n",
      "Phantom (2015 film)\n",
      "Phas Gaye Re Obama\n",
      "Phata Poster Nikhla Hero\n",
      "Phhir\n",
      "Phillauri (film)\n",
      "Phir Hera Pheri\n",
      "Phir Kabhi\n",
      "Phir Milenge\n",
      "Phobia (2016 film)\n",
      "Phoonk 2\n",
      "Photograph (film)\n",
      "Pihu\n",
      "Piku\n",
      "Pinjar (film)\n",
      "Pink (2016 film)\n",
      "Pizza (2014 film)\n",
      "Plan (film)\n",
      "Players (2012 film)\n",
      "Police Force: An Inside Story\n",
      "Policegiri\n",
      "Popcorn Khao! Mast Ho Jao\n",
      "Poster Boys\n",
      "Praan Jaye Par Shaan Na Jaye\n",
      "Prague (2013 film)\n",
      "Pranaam\n",
      "Prassthanam\n",
      "Prateeksha\n",
      "Prem Kaa Game\n",
      "Prem Ratan Dhan Payo\n",
      "Prince (2010 film)\n",
      "Purani Jeans\n",
      "Pyaar Impossible!\n",
      "Pyaar Ka Punchnama\n",
      "Pyaar Ka Punchnama 2\n",
      "Pyaar Ke Side Effects\n",
      "Pyaar Mein Twist\n",
      "Pyare Mohan\n",
      "Qaidi Band\n",
      "Qarib Qarib Singlle\n",
      "Qayamat: City Under Threat\n",
      "Qissa (film)\n",
      "Queen (2014 film)\n",
      "Quick Gun Murugun\n",
      "Ra.One\n",
      "Raabta (film)\n",
      "Raag Desh (film)\n",
      "Raanjhanaa\n",
      "Raat Gayi Baat Gayi?\n",
      "Raavan\n",
      "Raaz (2002 film)\n",
      "Raaz: Reboot\n",
      "Raaz: The Mystery Continues\n",
      "Raazi\n",
      "Rab Ne Bana Di Jodi\n",
      "Race (2008 film)\n",
      "Race 2\n",
      "Race 3\n",
      "Raees (film)\n",
      "Raghu Romeo\n",
      "Ragini MMS\n",
      "Ragini MMS 2\n",
      "Rahasya\n",
      "Raid (2018 film)\n",
      "Raincoat (film)\n",
      "Raja Bhaiya (film)\n",
      "Raja Natwarlal\n",
      "Rajjo\n",
      "Rajma Chawal\n",
      "Rakht\n",
      "Rakhtbeej\n",
      "Ramaa: The Saviour\n",
      "Ramaiya Vastavaiya\n",
      "Raman Raghav 2.0\n",
      "Ramayana: The Epic\n",
      "Ramji Londonwaley\n",
      "Ramprasad Ki Tehrvi\n",
      "Ranbanka\n",
      "Ranchi Diaries\n",
      "Rang De Basanti\n",
      "Rang Rasiya\n",
      "Rangoon (2017 Hindi film)\n",
      "Rangrezz\n",
      "Rann (film)\n",
      "Raqeeb\n",
      "Rascals (2011 film)\n",
      "Rebellious Flower\n",
      "Red Alert: The War Within\n",
      "Red Swastik\n",
      "Red: The Dark Side\n",
      "Revati (film)\n",
      "Revolver Rani\n",
      "Ribbon (film)\n",
      "Right Here Right Now (film)\n",
      "Right Yaaa Wrong\n",
      "Risk (2007 film)\n",
      "Risknamaa\n",
      "Riyasat (film)\n",
      "Road to Sangam\n",
      "Roadside Romeo\n",
      "Roar: Tigers of the Sundarbans\n",
      "Rock On 2\n",
      "Rock On!!\n",
      "Rocket Singh: Salesman of the Year\n",
      "Rockstar (2011 film)\n",
      "Rocky Handsome\n",
      "Rog\n",
      "Rok Sako To Rok Lo\n",
      "Rokkk\n",
      "Rough Book\n",
      "Roy (film)\n",
      "Rudraksh (film)\n",
      "Rukh (film)\n",
      "Rules: Pyaar Ka Superhit Formula\n",
      "Run (2004 film)\n",
      "Running Shaadi\n",
      "Rush (2012 film)\n",
      "Rustom (film)\n",
      "Saaho\n",
      "Saand Ki Aankh\n",
      "Saankal\n",
      "Saansein\n",
      "Saare Jahaan Se Mehnga\n",
      "Saas Bahu Aur Sensex\n",
      "Saat Uchakkey\n",
      "Saathiya (film)\n",
      "Saawan... The Love Season\n",
      "Saawariya\n",
      "Saaya (2003 film)\n",
      "Sabki Bajegi Band\n",
      "Sachin: A Billion Dreams\n",
      "Sacred Evil – A True Story\n",
      "Sadda Adda\n",
      "Sadiyaan\n",
      "Saheb Biwi Aur Gangster\n",
      "Saheb Biwi Aur Gangster 3\n",
      "Saheb Biwi Aur Gangster Returns\n",
      "Sahi Dhandhe Galat Bande\n",
      "Salaam Namaste\n",
      "Salaam-e-Ishq: A Tribute to Love\n",
      "Sallu Ki Shaadi\n",
      "Samay: When Time Strikes\n",
      "Samrat & Co.\n",
      "Sanam Re\n",
      "Sandwich (2006 film)\n",
      "Sanju\n",
      "Sankat City\n",
      "Santa Banta Pvt Ltd\n",
      "Sarbjit (film)\n",
      "Sarhad Paar\n",
      "Sarkar (2005 film)\n",
      "Sarkar 3\n",
      "Sarkar Raj\n",
      "Satellite Shankar\n",
      "Satrangee Parachute\n",
      "Satta (film)\n",
      "Satya 2\n",
      "Satyagraha (film)\n",
      "Satyameva Jayate (2018 film)\n",
      "Say Salaam India\n",
      "Second Hand Husband\n",
      "Secret Superstar\n",
      "Section 375\n",
      "Sehar\n",
      "Setters (film)\n",
      "Shaadi Ka Laddoo\n",
      "Shaadi Karke Phas Gaya Yaar\n",
      "Shaadi Ke Side Effects\n",
      "Shaadi Mein Zaroor Aana\n",
      "Shaadi No. 1\n",
      "Shaadi Se Pehle\n",
      "Shaandaar\n",
      "Shaapit\n",
      "Shab (film)\n",
      "Shabd (film)\n",
      "Shabnam Mausi\n",
      "Shabri\n",
      "Shagird (2011 film)\n",
      "Shahid (film)\n",
      "Shaitan (film)\n",
      "Shakalaka Boom Boom\n",
      "Shamitabh\n",
      "Shanghai (2012 film)\n",
      "Sharafat Gayi Tel Lene\n",
      "Shart: The Challenge\n",
      "Sheen (film)\n",
      "Sheesha (2005 film)\n",
      "Shikhar (film)\n",
      "Ship of Theseus (film)\n",
      "Shirin Farhad Ki Toh Nikal Padi\n",
      "Shiva (2006 film)\n",
      "Shivaay\n",
      "Sholay\n",
      "Shootout at Lokhandwala\n",
      "Shor in the City\n",
      "Shorgul\n",
      "Shortcut Romeo\n",
      "Shortcut Safari\n",
      "Shortkut\n",
      "Showbiz (film)\n",
      "Shubh Mangal Saavdhan\n",
      "Shuddh Desi Romance\n",
      "Shukriya: Till Death Do Us Apart\n",
      "Siddharth (2013 film)\n",
      "Sikandar (2009 film)\n",
      "Silsiilay\n",
      "Simmba\n",
      "Simran (film)\n",
      "Singh Is Bliing\n",
      "Singh Is Kinng\n",
      "Singh Saab the Great\n",
      "Singham\n",
      "Singham Returns\n",
      "Sirf (film)\n",
      "Sixteen (2013 Indian film)\n",
      "Soch Lo\n",
      "Socha Na Tha\n",
      "Son of Sardaar\n",
      "Sonali Cable\n",
      "Sonchiriya\n",
      "Soni (film)\n",
      "Sons of Ram\n",
      "Sonu Ke Titu Ki Sweety\n",
      "Sooper Se Ooper\n",
      "Sorry Bhai!\n",
      "Sorry Daddy\n",
      "Souten: The Other Woman\n",
      "Spark (2014 film)\n",
      "Special 26\n",
      "Speed (2007 film)\n",
      "Sssshhh...\n",
      "Ssukh\n",
      "Stanley Ka Dabba\n",
      "Station (2014 film)\n",
      "Staying Alive (2012 film)\n",
      "Strangers (2007 Hindi film)\n",
      "Stree (2018 film)\n",
      "Striker (2010 film)\n",
      "Strings of Passion\n",
      "Student of the Year\n",
      "Student of the Year 2\n",
      "Stumped (film)\n",
      "Sui Dhaaga\n",
      "Sukhmani: Hope for Life\n",
      "Sulemani Keeda\n",
      "Sultan (2016 film)\n",
      "Summer 2007\n",
      "Sunday (2008 film)\n",
      "Sunglass (film)\n",
      "Suno Sasurjee\n",
      "Super 30 (film)\n",
      "Super Model (film)\n",
      "Super Nani\n",
      "Swades\n",
      "Swami (2007 film)\n",
      "Sweetiee Weds NRI\n",
      "Ta Ra Rum Pum\n",
      "Taare Zameen Par\n",
      "Taarzan: The Wonder Car\n",
      "Table No. 21\n",
      "Tahaan\n",
      "Taj Mahal: An Eternal Love Story\n",
      "Take It Easy (2015 film)\n",
      "Talaash: The Answer Lies Within\n",
      "Talaash: The Hunt Begins...\n",
      "Talvar (film)\n",
      "Tamanchey\n",
      "Tango Charlie\n",
      "Tanu Weds Manu\n",
      "Tanu Weds Manu: Returns\n",
      "Tanu Weds Manu: Returns\n",
      "Tashan (film)\n",
      "Tathastu\n",
      "Taxi No. 9211\n",
      "Te3n\n",
      "Teen Patti (film)\n",
      "Teen Thay Bhai\n",
      "Tees Maar Khan (2010 film)\n",
      "Teesri Aankh: The Hidden Camera\n",
      "Tehzeeb (2003 film)\n",
      "Tell Me O Kkhuda\n",
      "Tera Kya Hoga Johnny\n",
      "Tere Bin Laden\n",
      "Tere Bin Laden: Dead or Alive\n",
      "Tere Mere Phere\n",
      "Tere Naal Love Ho Gaya\n",
      "Tere Naam\n",
      "Teri Meri Kahaani (film)\n",
      "Tevar\n",
      "Tezz\n",
      "Thackeray (film)\n",
      "Thank You (2011 film)\n",
      "Thanks Maa\n",
      "The Accidental Prime Minister (film)\n",
      "The Blue Umbrella (2005 film)\n",
      "The Blueberry Hunt\n",
      "The Bypass\n",
      "The Dirty Picture\n",
      "The Film\n",
      "The Film Emotional Atyachar\n",
      "The Final Exit\n",
      "The Ghazi Attack\n",
      "The Hero: Love Story of a Spy\n",
      "The Japanese Wife\n",
      "The Journey of Karma\n",
      "The Killer (2006 film)\n",
      "The Last Lear\n",
      "The Lunchbox\n",
      "The Namesake (film)\n",
      "The Pink Mirror\n",
      "The Shaukeens\n",
      "The Silent Heroes\n",
      "The Sky Is Pink\n",
      "The Stoneman Murders\n",
      "The Tashkent Files\n",
      "The Train (2007 film)\n",
      "The Xposé\n",
      "The Zoya Factor (film)\n",
      "Thoda Lutf Thoda Ishq\n",
      "Thoda Pyaar Thoda Magic\n",
      "Thoda Tum Badlo Thoda Hum\n",
      "Thodi Life Thoda Magic\n",
      "Thugs of Hindostan\n",
      "Tiger Zinda Hai\n",
      "Titli (2014 film)\n",
      "Titoo MBA\n",
      "Toh Baat Pakki!\n",
      "Toilet: Ek Prem Katha\n",
      "Tom Dick and Harry (2006 film)\n",
      "Toonpur Ka Super Hero\n",
      "Total Dhamaal\n",
      "Total Siyapaa\n",
      "Traffic (2016 film)\n",
      "Traffic Signal (film)\n",
      "Trapped (2016 Hindi film)\n",
      "Trump Card (film)\n",
      "Tubelight (2017 Hindi film)\n",
      "Tujhe Meri Kasam\n",
      "Tulsi (film)\n",
      "Tum Bin II\n",
      "Tum Mile\n",
      "Tum Milo Toh Sahi\n",
      "Tumbbad\n",
      "Tumhari Sulu\n",
      "Tumsa Nahin Dekha: A Love Story\n",
      "Turning 30\n",
      "U Me Aur Hum\n",
      "U R My Jaan\n",
      "Udaan (2010 film)\n",
      "Udta Punjab\n",
      "Ugly (film)\n",
      "Ujda Chaman\n",
      "Umar (film)\n",
      "Umrao Jaan (2006 film)\n",
      "Umrika\n",
      "Ungli\n",
      "Union Leader (film)\n",
      "United Six\n",
      "Uri: The Surgical Strike\n",
      "Utt Pataang\n",
      "Utthaan\n",
      "Uvaa\n",
      "Vaada (film)\n",
      "Vaada Raha\n",
      "Vaah! Life Ho Toh Aisi!\n",
      "Vaastu Shastra (film)\n",
      "Valentine's Night\n",
      "Veer (2010 film)\n",
      "Veer-Zaara\n",
      "Veerappan (2016 film)\n",
      "Veerey Ki Wedding\n",
      "Via Darjeeling\n",
      "Viceroy's House (film)\n",
      "Vicky Donor\n",
      "Victory (2009 film)\n",
      "Vidyaarthi\n",
      "Viruddh... Family Comes First\n",
      "Vishwaroopam\n",
      "Vivah\n",
      "Vodka Diaries\n",
      "W (2014 film)\n",
      "Waarrior Savitri\n",
      "Wafa: A Deadly Love Story\n",
      "Wah Taj\n",
      "Waisa Bhi Hota Hai Part II\n",
      "Waiting (2015 film)\n",
      "Wajah Tum Ho\n",
      "Wake Up India\n",
      "Wake Up Sid\n",
      "Wanted (2009 film)\n",
      "Waqt: The Race Against Time\n",
      "War Chhod Na Yaar\n",
      "Waris Shah: Ishq Daa Waaris\n",
      "Wedding Anniversary\n",
      "Wedding Pullav\n",
      "Welcome (2007 film)\n",
      "Welcome 2 Karachi\n",
      "Welcome Back (film)\n",
      "Welcome to Sajjanpur\n",
      "Well Done Abba\n",
      "What the Fish\n",
      "What's Your Raashee?\n",
      "Why Cheat India\n",
      "Woh Lamhe...\n",
      "Woodstock Villa\n",
      "Xcuse Me\n",
      "Ya Rab\n",
      "Yaaram (2019 film)\n",
      "Yadvi – The Dignified Princess\n",
      "Yakeen (2005 film)\n",
      "Yamla Pagla Deewana\n",
      "Yamla Pagla Deewana: Phir Se\n",
      "Yatra (2007 film)\n",
      "Yeh Dil\n",
      "Yeh Dooriyan\n",
      "Yeh Hai Bakrapur\n",
      "Yeh Hai India\n",
      "Yeh Jawaani Hai Deewani\n",
      "Yeh Khula Aasmaan\n",
      "Yeh Lamhe Judaai Ke\n",
      "Yeh Mera India\n",
      "Yeh Saali Aashiqui\n",
      "Youngistaan\n",
      "Yun Hota Toh Kya Hota\n",
      "Yuva\n",
      "Yuvvraaj\n",
      "Zamaanat\n",
      "Zameen (2003 film)\n",
      "Zameer: The Fire Within\n",
      "Zed Plus\n",
      "Zeher\n",
      "Zero (2018 film)\n",
      "Zid (2014 film)\n",
      "Zila Ghaziabad\n",
      "Zinda (film)\n",
      "Zindaggi Rocks\n",
      "Zindagi 50-50\n",
      "Zindagi Na Milegi Dobara\n",
      "Zindagi Tere Naam\n",
      "Zokkomon\n",
      "Zor Lagaa Ke...Haiya!\n"
     ]
    }
   ],
   "source": [
    "# for i in mvi.index:\n",
    "#     print(i)"
   ]
  },
  {
   "cell_type": "code",
   "execution_count": 148,
   "id": "b29af2e6-feed-4176-abb7-b1bafb268bcc",
   "metadata": {},
   "outputs": [
    {
     "data": {
      "text/plain": [
       "maths       2\n",
       "eng         0\n",
       "tel         0\n",
       "Science    11\n",
       "sst        10\n",
       "Name: Ram's MArks, dtype: int64"
      ]
     },
     "execution_count": 148,
     "metadata": {},
     "output_type": "execute_result"
    }
   ],
   "source": [
    "#operator\n",
    "#arithmetic\n",
    "100-marks_series"
   ]
  },
  {
   "cell_type": "code",
   "execution_count": 152,
   "id": "9de5ff54-8a2c-465c-974d-d633e1d6f443",
   "metadata": {},
   "outputs": [
    {
     "data": {
      "text/plain": [
       "match_no\n",
       "81      93\n",
       "82      99\n",
       "120    100\n",
       "123    108\n",
       "126    109\n",
       "128    113\n",
       "145     92\n",
       "164    100\n",
       "Name: runs, dtype: int64"
      ]
     },
     "execution_count": 152,
     "metadata": {},
     "output_type": "execute_result"
    }
   ],
   "source": [
    "#relational operators\n",
    "ipl[ipl>90]"
   ]
  },
  {
   "cell_type": "markdown",
   "id": "189ed892-ae2a-4a87-8813-7e9c5a2af24f",
   "metadata": {},
   "source": [
    "**Boolean Indexing On Series**"
   ]
  },
  {
   "cell_type": "code",
   "execution_count": 154,
   "id": "1965db01-02e2-4ce3-8be0-8b1e5d333206",
   "metadata": {},
   "outputs": [
    {
     "data": {
      "text/plain": [
       "50"
      ]
     },
     "execution_count": 154,
     "metadata": {},
     "output_type": "execute_result"
    }
   ],
   "source": [
    "#Find no of 50's and 100's scored by kohli\n",
    "ipl[ipl>=50].size"
   ]
  },
  {
   "cell_type": "code",
   "execution_count": 156,
   "id": "161670fd-2ae3-4bb1-94cb-9595628a6e9c",
   "metadata": {},
   "outputs": [
    {
     "data": {
      "text/plain": [
       "9"
      ]
     },
     "execution_count": 156,
     "metadata": {},
     "output_type": "execute_result"
    }
   ],
   "source": [
    "#find number os duck\n",
    "ipl[ipl==0].size"
   ]
  },
  {
   "cell_type": "code",
   "execution_count": 158,
   "id": "806f8867-5f21-452a-a6d2-7dd48f19ca60",
   "metadata": {},
   "outputs": [
    {
     "data": {
      "text/plain": [
       "59"
      ]
     },
     "execution_count": 158,
     "metadata": {},
     "output_type": "execute_result"
    }
   ],
   "source": [
    "#find the number of days when campusx channel had more than 200 subs a day\n",
    "subs[subs>200].size"
   ]
  },
  {
   "cell_type": "code",
   "execution_count": 164,
   "id": "e3adcc1a-456b-4916-85a7-cea8b7720243",
   "metadata": {},
   "outputs": [],
   "source": [
    "#find actors who have done more than 20 movies\n",
    "num_movies=mvi.value_counts()"
   ]
  },
  {
   "cell_type": "code",
   "execution_count": 165,
   "id": "ee6542e4-caa9-4fa9-92a7-8f87ea8b287f",
   "metadata": {},
   "outputs": [
    {
     "data": {
      "text/plain": [
       "lead\n",
       "Akshay Kumar        48\n",
       "Amitabh Bachchan    45\n",
       "Ajay Devgn          38\n",
       "Salman Khan         31\n",
       "Sanjay Dutt         26\n",
       "                    ..\n",
       "Gautam Gupta         1\n",
       "Riya Vij             1\n",
       "Sanaya Irani         1\n",
       "Utkarsh Sharma       1\n",
       "Meghan Jadhav        1\n",
       "Name: count, Length: 567, dtype: int64"
      ]
     },
     "execution_count": 165,
     "metadata": {},
     "output_type": "execute_result"
    }
   ],
   "source": [
    "num_movies"
   ]
  },
  {
   "cell_type": "code",
   "execution_count": 167,
   "id": "edfc40fa-ff80-4726-926f-f114380f19ab",
   "metadata": {},
   "outputs": [
    {
     "data": {
      "text/plain": [
       "lead\n",
       "Akshay Kumar        48\n",
       "Amitabh Bachchan    45\n",
       "Ajay Devgn          38\n",
       "Salman Khan         31\n",
       "Sanjay Dutt         26\n",
       "Shah Rukh Khan      22\n",
       "Emraan Hashmi       21\n",
       "Name: count, dtype: int64"
      ]
     },
     "execution_count": 167,
     "metadata": {},
     "output_type": "execute_result"
    }
   ],
   "source": [
    "num_movies[num_movies>20]"
   ]
  },
  {
   "cell_type": "markdown",
   "id": "9f7d2f4c-83b5-4ec5-9bfc-fccfe0069b6b",
   "metadata": {},
   "source": [
    "**Plotting Graphs On Series**"
   ]
  },
  {
   "cell_type": "code",
   "execution_count": 168,
   "id": "fbc97c71-ea56-4d46-a1e8-eceb6c6dc411",
   "metadata": {},
   "outputs": [
    {
     "data": {
      "text/plain": [
       "<Axes: >"
      ]
     },
     "execution_count": 168,
     "metadata": {},
     "output_type": "execute_result"
    },
    {
     "data": {
      "image/png": "[encoded data removed]",
      "text/plain": [
       "<Figure size 640x480 with 1 Axes>"
      ]
     },
     "metadata": {},
     "output_type": "display_data"
    }
   ],
   "source": [
    "subs.plot()"
   ]
  },
  {
   "cell_type": "code",
   "execution_count": 176,
   "id": "b393ff39-aefb-46e1-ae2b-c54b03c17f9a",
   "metadata": {},
   "outputs": [
    {
     "data": {
      "text/plain": [
       "<Axes: xlabel='lead'>"
      ]
     },
     "execution_count": 176,
     "metadata": {},
     "output_type": "execute_result"
    },
    {
     "data": {
      "image/png": "[encoded data removed]",
      "text/plain": [
       "<Figure size 640x480 with 1 Axes>"
      ]
     },
     "metadata": {},
     "output_type": "display_data"
    }
   ],
   "source": [
    "mvi.value_counts().head(20).plot(kind=\"bar\")"
   ]
  },
  {
   "cell_type": "markdown",
   "id": "6fdafa39-3657-473e-ab79-4db6d9430ac1",
   "metadata": {},
   "source": [
    "**Some Important Series methods**"
   ]
  },
  {
   "cell_type": "code",
   "execution_count": 177,
   "id": "261bc17e-7a5c-4dc6-b19a-0b5b2685df07",
   "metadata": {},
   "outputs": [],
   "source": [
    "import numpy as np\n",
    "import pandas as pd"
   ]
  },
  {
   "cell_type": "code",
   "execution_count": 179,
   "id": "89d0228b-44a1-4738-833f-a213a0a0b48d",
   "metadata": {},
   "outputs": [],
   "source": [
    "subs=pd.read_csv(r\"Datasets/subs.csv\")\n",
    "subs=subs.squeeze()"
   ]
  },
  {
   "cell_type": "code",
   "execution_count": 180,
   "id": "4950f03b-d1ea-4223-bc59-d694768edbdb",
   "metadata": {},
   "outputs": [
    {
     "data": {
      "text/plain": [
       "0       48\n",
       "1       57\n",
       "2       40\n",
       "3       43\n",
       "4       44\n",
       "      ... \n",
       "360    231\n",
       "361    226\n",
       "362    155\n",
       "363    144\n",
       "364    172\n",
       "Name: Subscribers gained, Length: 365, dtype: int64"
      ]
     },
     "execution_count": 180,
     "metadata": {},
     "output_type": "execute_result"
    }
   ],
   "source": [
    "subs"
   ]
  },
  {
   "cell_type": "code",
   "execution_count": 190,
   "id": "59752fbc-8070-4230-ad30-87d5e158f59d",
   "metadata": {},
   "outputs": [
    {
     "data": {
      "text/plain": [
       "3472"
      ]
     },
     "execution_count": 190,
     "metadata": {},
     "output_type": "execute_result"
    }
   ],
   "source": [
    "#astype\n",
    "import sys\n",
    "sys.getsizeof(ipl)"
   ]
  },
  {
   "cell_type": "code",
   "execution_count": 192,
   "id": "fc4044cc-435d-4862-95de-b309eac13d5a",
   "metadata": {},
   "outputs": [
    {
     "data": {
      "text/plain": [
       "2182"
      ]
     },
     "execution_count": 192,
     "metadata": {},
     "output_type": "execute_result"
    }
   ],
   "source": [
    "sys.getsizeof(ipl.astype(\"int16\"))"
   ]
  },
  {
   "cell_type": "code",
   "execution_count": 195,
   "id": "079a4557-8f7b-4f26-8a9b-e86bf3e26695",
   "metadata": {},
   "outputs": [
    {
     "data": {
      "text/plain": [
       "match_no\n",
       "41     71\n",
       "52     70\n",
       "68     73\n",
       "81     93\n",
       "82     99\n",
       "99     73\n",
       "110    82\n",
       "116    75\n",
       "117    79\n",
       "119    80\n",
       "127    75\n",
       "145    92\n",
       "152    70\n",
       "160    84\n",
       "175    72\n",
       "178    90\n",
       "188    72\n",
       "213    73\n",
       "Name: runs, dtype: int64"
      ]
     },
     "execution_count": 195,
     "metadata": {},
     "output_type": "execute_result"
    }
   ],
   "source": [
    "#between\n",
    "ipl[ipl.between(70,99)]"
   ]
  },
  {
   "cell_type": "code",
   "execution_count": 196,
   "id": "2bec354a-db13-437e-9060-bfe2fbbb4e92",
   "metadata": {},
   "outputs": [
    {
     "data": {
      "text/plain": [
       "18"
      ]
     },
     "execution_count": 196,
     "metadata": {},
     "output_type": "execute_result"
    }
   ],
   "source": [
    "ipl[ipl.between(70,99)].size"
   ]
  },
  {
   "cell_type": "code",
   "execution_count": 197,
   "id": "ba035f32-726c-4384-ad95-7c682ea92e51",
   "metadata": {},
   "outputs": [
    {
     "data": {
      "text/plain": [
       "0      100\n",
       "1      100\n",
       "2      100\n",
       "3      100\n",
       "4      100\n",
       "      ... \n",
       "360    200\n",
       "361    200\n",
       "362    155\n",
       "363    144\n",
       "364    172\n",
       "Name: Subscribers gained, Length: 365, dtype: int64"
      ]
     },
     "execution_count": 197,
     "metadata": {},
     "output_type": "execute_result"
    }
   ],
   "source": [
    "#clip\n",
    "subs.clip(100,200)"
   ]
  },
  {
   "cell_type": "code",
   "execution_count": 198,
   "id": "34ec7275-00cb-40ba-8325-a468c7369753",
   "metadata": {},
   "outputs": [
    {
     "data": {
      "text/plain": [
       "0    1\n",
       "1    1\n",
       "2    2\n",
       "3    2\n",
       "4    3\n",
       "5    3\n",
       "6    4\n",
       "7    4\n",
       "dtype: int64"
      ]
     },
     "execution_count": 198,
     "metadata": {},
     "output_type": "execute_result"
    }
   ],
   "source": [
    "#drop_duplicates\n",
    "temp=pd.Series([1,1,2,2,3,3,4,4])\n",
    "temp"
   ]
  },
  {
   "cell_type": "code",
   "execution_count": 201,
   "id": "6ebc46c5-8242-472c-93bf-4759ecf2e2d4",
   "metadata": {},
   "outputs": [
    {
     "data": {
      "text/plain": [
       "1    1\n",
       "3    2\n",
       "5    3\n",
       "7    4\n",
       "dtype: int64"
      ]
     },
     "execution_count": 201,
     "metadata": {},
     "output_type": "execute_result"
    }
   ],
   "source": [
    "temp.drop_duplicates(keep=\"last\")"
   ]
  },
  {
   "cell_type": "code",
   "execution_count": 205,
   "id": "7d7c905d-ef76-41da-be46-d0ed7067c9ec",
   "metadata": {},
   "outputs": [
    {
     "data": {
      "text/plain": [
       "0    False\n",
       "1     True\n",
       "2    False\n",
       "3     True\n",
       "4    False\n",
       "5     True\n",
       "6    False\n",
       "7     True\n",
       "dtype: bool"
      ]
     },
     "execution_count": 205,
     "metadata": {},
     "output_type": "execute_result"
    }
   ],
   "source": [
    "temp.duplicated()"
   ]
  },
  {
   "cell_type": "code",
   "execution_count": 206,
   "id": "c6d4a2ef-2f5c-4936-93f5-02402c4b0c9a",
   "metadata": {},
   "outputs": [
    {
     "data": {
      "text/plain": [
       "4"
      ]
     },
     "execution_count": 206,
     "metadata": {},
     "output_type": "execute_result"
    }
   ],
   "source": [
    "temp.duplicated().sum()"
   ]
  },
  {
   "cell_type": "code",
   "execution_count": 204,
   "id": "d355e0d9-de19-4943-81e5-094d85786915",
   "metadata": {},
   "outputs": [
    {
     "data": {
      "text/plain": [
       "movie\n",
       "Uri: The Surgical Strike                   Vicky Kaushal\n",
       "Battalion 609                                Vicky Ahuja\n",
       "The Accidental Prime Minister (film)         Anupam Kher\n",
       "Why Cheat India                            Emraan Hashmi\n",
       "Evening Shadows                         Mona Ambegaonkar\n",
       "                                              ...       \n",
       "Sssshhh...                              Tanishaa Mukerji\n",
       "Rules: Pyaar Ka Superhit Formula                  Tanuja\n",
       "Right Here Right Now (film)                        Ankit\n",
       "Talaash: The Hunt Begins...                Rakhee Gulzar\n",
       "The Pink Mirror                          Edwin Fernandes\n",
       "Name: lead, Length: 566, dtype: object"
      ]
     },
     "execution_count": 204,
     "metadata": {},
     "output_type": "execute_result"
    }
   ],
   "source": [
    "mvi.drop_duplicates()"
   ]
  },
  {
   "cell_type": "code",
   "execution_count": 207,
   "id": "892f442a-b3af-478d-a851-19c224e59d29",
   "metadata": {},
   "outputs": [
    {
     "data": {
      "text/plain": [
       "0     1.0\n",
       "1     2.0\n",
       "2     3.0\n",
       "3     NaN\n",
       "4     5.0\n",
       "5     6.0\n",
       "6     NaN\n",
       "7     8.0\n",
       "8     NaN\n",
       "9    10.0\n",
       "dtype: float64"
      ]
     },
     "execution_count": 207,
     "metadata": {},
     "output_type": "execute_result"
    }
   ],
   "source": [
    "#isnull\n",
    "temp=pd.Series([1,2,3,np.nan,5,6,np.nan,8,np.nan,10])\n",
    "temp"
   ]
  },
  {
   "cell_type": "code",
   "execution_count": 210,
   "id": "617c9822-4cec-4d01-964e-d94f26315a18",
   "metadata": {},
   "outputs": [
    {
     "data": {
      "text/plain": [
       "10"
      ]
     },
     "execution_count": 210,
     "metadata": {},
     "output_type": "execute_result"
    }
   ],
   "source": [
    "temp.size"
   ]
  },
  {
   "cell_type": "code",
   "execution_count": 212,
   "id": "290efe5a-cd40-4a86-ad97-70f6b0f2aa02",
   "metadata": {},
   "outputs": [
    {
     "data": {
      "text/plain": [
       "7"
      ]
     },
     "execution_count": 212,
     "metadata": {},
     "output_type": "execute_result"
    }
   ],
   "source": [
    "temp.count()"
   ]
  },
  {
   "cell_type": "code",
   "execution_count": 214,
   "id": "e4fffa4d-4c57-43da-9d72-76f9f70667a1",
   "metadata": {},
   "outputs": [
    {
     "data": {
      "text/plain": [
       "match_no\n",
       "1      False\n",
       "2      False\n",
       "3      False\n",
       "4      False\n",
       "5      False\n",
       "       ...  \n",
       "211    False\n",
       "212    False\n",
       "213    False\n",
       "214    False\n",
       "215    False\n",
       "Name: runs, Length: 215, dtype: bool"
      ]
     },
     "execution_count": 214,
     "metadata": {},
     "output_type": "execute_result"
    }
   ],
   "source": [
    "ipl.isnull()"
   ]
  },
  {
   "cell_type": "code",
   "execution_count": 215,
   "id": "329f343a-6f74-424c-9af9-d75058b90b7b",
   "metadata": {},
   "outputs": [
    {
     "data": {
      "text/plain": [
       "0"
      ]
     },
     "execution_count": 215,
     "metadata": {},
     "output_type": "execute_result"
    }
   ],
   "source": [
    "ipl.isnull().sum()"
   ]
  },
  {
   "cell_type": "code",
   "execution_count": 216,
   "id": "41a1d3ac-e665-450f-a541-51f8f3683d2e",
   "metadata": {},
   "outputs": [
    {
     "data": {
      "text/plain": [
       "0     1.0\n",
       "1     2.0\n",
       "2     3.0\n",
       "4     5.0\n",
       "5     6.0\n",
       "7     8.0\n",
       "9    10.0\n",
       "dtype: float64"
      ]
     },
     "execution_count": 216,
     "metadata": {},
     "output_type": "execute_result"
    }
   ],
   "source": [
    "#dropna\n",
    "temp.dropna()"
   ]
  },
  {
   "cell_type": "code",
   "execution_count": 217,
   "id": "37098700-a458-4c33-893e-38601bdab56b",
   "metadata": {},
   "outputs": [
    {
     "data": {
      "text/plain": [
       "0     1.0\n",
       "1     2.0\n",
       "2     3.0\n",
       "3     0.0\n",
       "4     5.0\n",
       "5     6.0\n",
       "6     0.0\n",
       "7     8.0\n",
       "8     0.0\n",
       "9    10.0\n",
       "dtype: float64"
      ]
     },
     "execution_count": 217,
     "metadata": {},
     "output_type": "execute_result"
    }
   ],
   "source": [
    "#fillna\n",
    "temp.fillna(0)"
   ]
  },
  {
   "cell_type": "code",
   "execution_count": 218,
   "id": "424b396a-730b-4a67-83d8-c6cb3caa508a",
   "metadata": {},
   "outputs": [
    {
     "data": {
      "text/plain": [
       "0     1.0\n",
       "1     2.0\n",
       "2     3.0\n",
       "3     5.0\n",
       "4     5.0\n",
       "5     6.0\n",
       "6     5.0\n",
       "7     8.0\n",
       "8     5.0\n",
       "9    10.0\n",
       "dtype: float64"
      ]
     },
     "execution_count": 218,
     "metadata": {},
     "output_type": "execute_result"
    }
   ],
   "source": [
    "temp.fillna(temp.mean())"
   ]
  },
  {
   "cell_type": "code",
   "execution_count": 219,
   "id": "92f05548-1e14-4aab-8711-30fcc1e783ec",
   "metadata": {},
   "outputs": [
    {
     "data": {
      "text/plain": [
       "match_no\n",
       "82    99\n",
       "86    49\n",
       "Name: runs, dtype: int64"
      ]
     },
     "execution_count": 219,
     "metadata": {},
     "output_type": "execute_result"
    }
   ],
   "source": [
    "#isin\n",
    "ipl[(ipl ==49) |(ipl==99)]"
   ]
  },
  {
   "cell_type": "code",
   "execution_count": 221,
   "id": "2b528190-cae4-4196-b412-95549d862976",
   "metadata": {},
   "outputs": [
    {
     "data": {
      "text/plain": [
       "match_no\n",
       "82    99\n",
       "86    49\n",
       "Name: runs, dtype: int64"
      ]
     },
     "execution_count": 221,
     "metadata": {},
     "output_type": "execute_result"
    }
   ],
   "source": [
    "ipl[ipl.isin([49,99])]"
   ]
  },
  {
   "cell_type": "code",
   "execution_count": 226,
   "id": "3c3b53e8-9f66-4dde-b05a-cde26ba544d6",
   "metadata": {},
   "outputs": [
    {
     "data": {
      "text/plain": [
       "movie\n",
       "Uri: The Surgical Strike                  VICKY\n",
       "Battalion 609                             VICKY\n",
       "The Accidental Prime Minister (film)     ANUPAM\n",
       "Why Cheat India                          EMRAAN\n",
       "Evening Shadows                            MONA\n",
       "                                         ...   \n",
       "Hum Tumhare Hain Sanam                     SHAH\n",
       "Aankhen (2002 film)                     AMITABH\n",
       "Saathiya (film)                           VIVEK\n",
       "Company (film)                             AJAY\n",
       "Awara Paagal Deewana                     AKSHAY\n",
       "Name: lead, Length: 1500, dtype: object"
      ]
     },
     "execution_count": 226,
     "metadata": {},
     "output_type": "execute_result"
    }
   ],
   "source": [
    "#apply\n",
    "mvi.apply(lambda x:x.split()[0].upper())"
   ]
  },
  {
   "cell_type": "code",
   "execution_count": 227,
   "id": "a07e1234-34b7-4de5-8ef6-25f647eb8a53",
   "metadata": {},
   "outputs": [
    {
     "data": {
      "text/plain": [
       "135.64383561643837"
      ]
     },
     "execution_count": 227,
     "metadata": {},
     "output_type": "execute_result"
    }
   ],
   "source": [
    "subs.mean()"
   ]
  },
  {
   "cell_type": "code",
   "execution_count": 228,
   "id": "d67f8aff-78d0-458d-8092-37e7c09a34de",
   "metadata": {},
   "outputs": [
    {
     "data": {
      "text/plain": [
       "0       bad day\n",
       "1       bad day\n",
       "2       bad day\n",
       "3       bad day\n",
       "4       bad day\n",
       "         ...   \n",
       "360    good day\n",
       "361    good day\n",
       "362    good day\n",
       "363    good day\n",
       "364    good day\n",
       "Name: Subscribers gained, Length: 365, dtype: object"
      ]
     },
     "execution_count": 228,
     "metadata": {},
     "output_type": "execute_result"
    }
   ],
   "source": [
    "subs.apply(lambda x:\"good day\" if x>subs.mean() else \"bad day\")"
   ]
  },
  {
   "cell_type": "markdown",
   "id": "9446e907-e5d3-4e72-9456-cf5dd8665c84",
   "metadata": {},
   "source": [
    "**Copy and Views**"
   ]
  },
  {
   "cell_type": "code",
   "execution_count": 230,
   "id": "f659f302-e615-4c4d-bf98-0bfad415f990",
   "metadata": {},
   "outputs": [],
   "source": [
    "new=ipl.head()#view -it is a replica"
   ]
  },
  {
   "cell_type": "code",
   "execution_count": 231,
   "id": "8422be20-d2db-434d-a146-aa3bb8528de5",
   "metadata": {},
   "outputs": [
    {
     "data": {
      "text/plain": [
       "match_no\n",
       "1     1\n",
       "2    23\n",
       "3    13\n",
       "4    12\n",
       "5     1\n",
       "Name: runs, dtype: int64"
      ]
     },
     "execution_count": 231,
     "metadata": {},
     "output_type": "execute_result"
    }
   ],
   "source": [
    "new"
   ]
  },
  {
   "cell_type": "code",
   "execution_count": 232,
   "id": "f155cd48-c241-49f1-b5b3-edcc8cc45dea",
   "metadata": {},
   "outputs": [],
   "source": [
    "new[1]=100"
   ]
  },
  {
   "cell_type": "code",
   "execution_count": 233,
   "id": "214c845a-8cbd-4e9f-8c77-e57c3decd1f4",
   "metadata": {},
   "outputs": [
    {
     "data": {
      "text/plain": [
       "match_no\n",
       "1    100\n",
       "2     23\n",
       "3     13\n",
       "4     12\n",
       "5      1\n",
       "Name: runs, dtype: int64"
      ]
     },
     "execution_count": 233,
     "metadata": {},
     "output_type": "execute_result"
    }
   ],
   "source": [
    "new"
   ]
  },
  {
   "cell_type": "code",
   "execution_count": 234,
   "id": "75d10898-35c6-4280-a0a4-763c43d6b856",
   "metadata": {},
   "outputs": [
    {
     "data": {
      "text/plain": [
       "match_no\n",
       "1      100\n",
       "2       23\n",
       "3       13\n",
       "4       12\n",
       "5        1\n",
       "      ... \n",
       "211      0\n",
       "212     20\n",
       "213     73\n",
       "214     25\n",
       "215      7\n",
       "Name: runs, Length: 215, dtype: int64"
      ]
     },
     "execution_count": 234,
     "metadata": {},
     "output_type": "execute_result"
    }
   ],
   "source": [
    "ipl"
   ]
  },
  {
   "cell_type": "code",
   "execution_count": 235,
   "id": "49b65204-adb4-4a08-880b-173429fe9915",
   "metadata": {},
   "outputs": [],
   "source": [
    "new_1=ipl.head().copy()"
   ]
  },
  {
   "cell_type": "code",
   "execution_count": 236,
   "id": "16f7f112-5a30-4e1a-b23b-c6414a7ba6a8",
   "metadata": {},
   "outputs": [
    {
     "data": {
      "text/plain": [
       "match_no\n",
       "1    100\n",
       "2     23\n",
       "3     13\n",
       "4     12\n",
       "5      1\n",
       "Name: runs, dtype: int64"
      ]
     },
     "execution_count": 236,
     "metadata": {},
     "output_type": "execute_result"
    }
   ],
   "source": [
    "new_1"
   ]
  },
  {
   "cell_type": "code",
   "execution_count": 237,
   "id": "790abe11-3739-43b4-9eeb-f1627eb492c1",
   "metadata": {},
   "outputs": [],
   "source": [
    "new_1[1]=1"
   ]
  },
  {
   "cell_type": "code",
   "execution_count": 238,
   "id": "16d4ad14-3ab2-41c3-8990-c1ebcb1a1455",
   "metadata": {},
   "outputs": [
    {
     "data": {
      "text/plain": [
       "match_no\n",
       "1     1\n",
       "2    23\n",
       "3    13\n",
       "4    12\n",
       "5     1\n",
       "Name: runs, dtype: int64"
      ]
     },
     "execution_count": 238,
     "metadata": {},
     "output_type": "execute_result"
    }
   ],
   "source": [
    "new_1"
   ]
  },
  {
   "cell_type": "code",
   "execution_count": 239,
   "id": "57ece6c8-b768-4f9a-8f9f-ad44641d1c75",
   "metadata": {},
   "outputs": [
    {
     "data": {
      "text/plain": [
       "match_no\n",
       "1    100\n",
       "2     23\n",
       "3     13\n",
       "4     12\n",
       "5      1\n",
       "Name: runs, dtype: int64"
      ]
     },
     "execution_count": 239,
     "metadata": {},
     "output_type": "execute_result"
    }
   ],
   "source": [
    "ipl.head()"
   ]
  },
  {
   "cell_type": "code",
   "execution_count": null,
   "id": "534ccee3-b533-4dfc-b419-af6627be7b1b",
   "metadata": {},
   "outputs": [],
   "source": []
  }
 ],
 "metadata": {
  "kernelspec": {
   "display_name": "Python 3 (ipykernel)",
   "language": "python",
   "name": "python3"
  },
  "language_info": {
   "codemirror_mode": {
    "name": "ipython",
    "version": 3
   },
   "file_extension": ".py",
   "mimetype": "text/x-python",
   "name": "python",
   "nbconvert_exporter": "python",
   "pygments_lexer": "ipython3",
   "version": "3.12.4"
  }
 },
 "nbformat": 4,
 "nbformat_minor": 5
}
